{
 "cells": [
  {
   "cell_type": "code",
   "execution_count": 3,
   "id": "dceb88d5",
   "metadata": {},
   "outputs": [],
   "source": [
    "# !pip install -U flask-cors"
   ]
  },
  {
   "cell_type": "code",
   "execution_count": 1,
   "id": "fb2c14f1",
   "metadata": {},
   "outputs": [],
   "source": [
    "from flask import Flask, render_template, request,jsonify\n",
    "from flask_cors import CORS,cross_origin\n",
    "import requests\n",
    "from bs4 import BeautifulSoup as bs\n",
    "from urllib.request import urlopen as uReq\n",
    "\n",
    "from selenium import webdriver"
   ]
  },
  {
   "cell_type": "code",
   "execution_count": 5,
   "id": "3b82723f",
   "metadata": {},
   "outputs": [],
   "source": [
    "from selenium.webdriver.common.by import By\n"
   ]
  },
  {
   "cell_type": "code",
   "execution_count": 60,
   "id": "6ece455c",
   "metadata": {},
   "outputs": [],
   "source": [
    "# neuron_url = \"https://courses.ineuron.ai/\"\n",
    "neuron_url = \"https://courses.ineuron.ai/Full-Stack-Data-Science-Bootcamp\""
   ]
  },
  {
   "cell_type": "code",
   "execution_count": 2,
   "id": "8d90dd26",
   "metadata": {},
   "outputs": [
    {
     "name": "stderr",
     "output_type": "stream",
     "text": [
      "<ipython-input-2-d3e34ad690d4>:7: DeprecationWarning: executable_path has been deprecated, please pass in a Service object\n",
      "  driver = webdriver.Firefox(executable_path = path)\n"
     ]
    }
   ],
   "source": [
    "from selenium.webdriver import Chrome, Firefox\n",
    "from selenium.webdriver.chrome.options import Options\n",
    "from selenium.webdriver.common.by import By\n",
    "\n",
    "\n",
    "options = Options()\n",
    "options.headless = True\n",
    "path = r'C:\\\\Users\\\\KEERTHI\\\\Downloads\\\\geckodriver'\n",
    "driver = webdriver.Firefox(executable_path = path)\n",
    "\n",
    "url = \"https://courses.ineuron.ai/\"\n",
    "driver.get(url)"
   ]
  },
  {
   "cell_type": "code",
   "execution_count": 117,
   "id": "eb0821a4",
   "metadata": {},
   "outputs": [
    {
     "name": "stderr",
     "output_type": "stream",
     "text": [
      "<ipython-input-117-912ffce403f0>:1: DeprecationWarning: find_element_by_class_name is deprecated. Please use find_element(by=By.CLASS_NAME, value=name) instead\n",
      "  element1 = driver.find_element_by_class_name(\"Course_card__2uWBu\")\n"
     ]
    }
   ],
   "source": [
    "element = driver.find_element_by_class_name(\"Course_card__2uWBu\")\n",
    "# element = driver.find_element(by = By.CLASS_NAME, value=\"Course_course-card__1_V8S Course_card__2uWBu card\")"
   ]
  },
  {
   "cell_type": "code",
   "execution_count": 119,
   "id": "bbaed7db",
   "metadata": {},
   "outputs": [
    {
     "data": {
      "text/plain": [
       "'Full Stack Data Science Bootcamp\\nFull-stack data science course is a live mentor-led job guaranteed certification program with a full-time one-year internship provided by iNeuron, in this course you will learn the entire stack required to work in the data science, data analytics, and big data domain, including machine learning, deep learning, computer vision NLP and Big data including MLOps and cloud infrastructure, along with real-time industry projects and product development with the iNeuron product development team, which will enable you to contribute on various levels.\\nSunny Bhaveen Chandra, Krish Naik, Sudhanshu Kumar\\n₹17700.00'"
      ]
     },
     "execution_count": 119,
     "metadata": {},
     "output_type": "execute_result"
    }
   ],
   "source": [
    "element.text"
   ]
  },
  {
   "cell_type": "code",
   "execution_count": 128,
   "id": "96735f17",
   "metadata": {},
   "outputs": [
    {
     "name": "stdout",
     "output_type": "stream",
     "text": [
      "https://courses.ineuron.ai/Full-Stack-Data-Science-Bootcamp\n"
     ]
    },
    {
     "name": "stderr",
     "output_type": "stream",
     "text": [
      "<ipython-input-128-22973780a599>:1: DeprecationWarning: find_element_by_css_selector is deprecated. Please use find_element(by=By.CSS_SELECTOR, value=css_selector) instead\n",
      "  print(driver.find_element_by_css_selector(\"div.Course_right-area__1XUfi > a\").get_attribute('href'))\n"
     ]
    }
   ],
   "source": [
    "print(driver.find_element_by_css_selector(\"div.Course_right-area__1XUfi > a\").get_attribute('href'))"
   ]
  },
  {
   "cell_type": "code",
   "execution_count": 130,
   "id": "7b2f44d7",
   "metadata": {},
   "outputs": [
    {
     "name": "stderr",
     "output_type": "stream",
     "text": [
      "<ipython-input-130-a60ab3977b40>:1: DeprecationWarning: find_elements_by_css_selector is deprecated. Please use find_elements(by=By.CSS_SELECTOR, value=css_selector) instead\n",
      "  link = driver.find_elements_by_css_selector(\"div.Course_right-area__1XUfi > a\")\n"
     ]
    }
   ],
   "source": [
    "link = driver.find_elements_by_css_selector(\"div.Course_right-area__1XUfi > a\")"
   ]
  },
  {
   "cell_type": "code",
   "execution_count": 136,
   "id": "10130e01",
   "metadata": {},
   "outputs": [
    {
     "name": "stderr",
     "output_type": "stream",
     "text": [
      "<ipython-input-136-290edafb1fe5>:1: DeprecationWarning: find_elements_by_tag_name is deprecated. Please use find_elements(by=By.TAG_NAME, value=name) instead\n",
      "  elems = driver.find_elements_by_tag_name('a')\n"
     ]
    },
    {
     "name": "stdout",
     "output_type": "stream",
     "text": [
      "https://courses.ineuron.ai/\n",
      "https://courses.ineuron.ai/\n",
      "https://courses.ineuron.ai/category/Data-Science\n",
      "https://courses.ineuron.ai/category/Programming\n",
      "https://courses.ineuron.ai/category/Development\n",
      "https://courses.ineuron.ai/category/Cloud\n",
      "https://courses.ineuron.ai/category/Marketing\n",
      "https://courses.ineuron.ai/category/Data-Science\n",
      "https://courses.ineuron.ai/category/Programming\n",
      "https://courses.ineuron.ai/category/Development\n",
      "https://courses.ineuron.ai/category/Cloud\n",
      "https://courses.ineuron.ai/category/Marketing\n",
      "https://courses.ineuron.ai/Full-Stack-Data-Science-Bootcamp\n",
      "https://courses.ineuron.ai/AWS-Data-Engineering\n",
      "https://courses.ineuron.ai/Seminar-in-MMMUT-Community-Event\n",
      "https://courses.ineuron.ai/Big-Data-Live-Class\n",
      "https://courses.ineuron.ai/Full-Stack-Data-Science-Bootcamp\n",
      "https://courses.ineuron.ai/AWS-Data-Engineering\n",
      "https://courses.ineuron.ai/Seminar-in-MMMUT-Community-Event\n",
      "https://courses.ineuron.ai/Big-Data-Live-Class\n",
      "https://courses.ineuron.ai/\n",
      "https://www.facebook.com/ineuronai\n",
      "https://twitter.com/iNeuronAi\n",
      "https://www.linkedin.com/company/ineuron-ai/mycompany/\n",
      "https://www.youtube.com/channel/UCb1GdqUqArXMQ3RS86lqqOw\n",
      "mailto:contact@ineuron.ai\n",
      "https://ineuron.ai/about-us.html\n",
      "https://blog.ineuron.ai/\n",
      "https://ineuron.ai/mentor.html\n",
      "https://affiliate.ineuron.ai/\n",
      "https://ineuron.ai/stories.html\n",
      "https://ineuron.ai/job-guarantee.html\n",
      "https://internship.ineuron.ai/\n",
      "https://ineuronvision.com/\n",
      "https://ineuron.ai/faq.html\n",
      "https://ineuron.ai/contact-us.html\n",
      "https://ineuron.ai/terms.html\n",
      "https://ineuron.ai/policy.html\n"
     ]
    }
   ],
   "source": [
    "elems = driver.find_elements_by_tag_name('a')\n",
    "for elem in elems:\n",
    "    href = elem.get_attribute('href')\n",
    "    if href is not None:\n",
    "        print(href)"
   ]
  },
  {
   "cell_type": "code",
   "execution_count": 139,
   "id": "41684f7d",
   "metadata": {},
   "outputs": [
    {
     "name": "stderr",
     "output_type": "stream",
     "text": [
      "<ipython-input-139-da3f74aeb954>:1: DeprecationWarning: find_elements_by_xpath is deprecated. Please use find_elements(by=By.XPATH, value=xpath) instead\n",
      "  elems = driver.find_elements_by_xpath(\"//a[@href]\")\n"
     ]
    },
    {
     "name": "stdout",
     "output_type": "stream",
     "text": [
      "https://courses.ineuron.ai/\n",
      "https://courses.ineuron.ai/\n",
      "https://courses.ineuron.ai/category/Data-Science\n",
      "https://courses.ineuron.ai/category/Programming\n",
      "https://courses.ineuron.ai/category/Development\n",
      "https://courses.ineuron.ai/category/Cloud\n",
      "https://courses.ineuron.ai/category/Marketing\n",
      "https://courses.ineuron.ai/category/Data-Science\n",
      "https://courses.ineuron.ai/category/Programming\n",
      "https://courses.ineuron.ai/category/Development\n",
      "https://courses.ineuron.ai/category/Cloud\n",
      "https://courses.ineuron.ai/category/Marketing\n",
      "https://courses.ineuron.ai/Full-Stack-Data-Science-Bootcamp\n",
      "https://courses.ineuron.ai/AWS-Data-Engineering\n",
      "https://courses.ineuron.ai/Seminar-in-MMMUT-Community-Event\n",
      "https://courses.ineuron.ai/Big-Data-Live-Class\n",
      "https://courses.ineuron.ai/Full-Stack-Data-Science-Bootcamp\n",
      "https://courses.ineuron.ai/AWS-Data-Engineering\n",
      "https://courses.ineuron.ai/Seminar-in-MMMUT-Community-Event\n",
      "https://courses.ineuron.ai/Big-Data-Live-Class\n",
      "https://courses.ineuron.ai/\n",
      "https://www.facebook.com/ineuronai\n",
      "https://twitter.com/iNeuronAi\n",
      "https://www.linkedin.com/company/ineuron-ai/mycompany/\n",
      "https://www.youtube.com/channel/UCb1GdqUqArXMQ3RS86lqqOw\n",
      "mailto:contact@ineuron.ai\n",
      "https://ineuron.ai/about-us.html\n",
      "https://blog.ineuron.ai/\n",
      "https://ineuron.ai/mentor.html\n",
      "https://affiliate.ineuron.ai/\n",
      "https://ineuron.ai/stories.html\n",
      "https://ineuron.ai/job-guarantee.html\n",
      "https://internship.ineuron.ai/\n",
      "https://ineuronvision.com/\n",
      "https://ineuron.ai/faq.html\n",
      "https://ineuron.ai/contact-us.html\n",
      "https://ineuron.ai/terms.html\n",
      "https://ineuron.ai/policy.html\n"
     ]
    }
   ],
   "source": [
    "elems = driver.find_elements_by_xpath(\"//a[@href]\")\n",
    "for elem in elems:\n",
    "    print(elem.get_attribute(\"href\"))"
   ]
  },
  {
   "cell_type": "code",
   "execution_count": 144,
   "id": "54c924d8",
   "metadata": {},
   "outputs": [
    {
     "name": "stdout",
     "output_type": "stream",
     "text": [
      "https://courses.ineuron.ai/\n",
      "https://courses.ineuron.ai/\n",
      "https://courses.ineuron.ai/category/Data-Science\n",
      "https://courses.ineuron.ai/category/Programming\n",
      "https://courses.ineuron.ai/category/Development\n",
      "https://courses.ineuron.ai/category/Cloud\n",
      "https://courses.ineuron.ai/category/Marketing\n",
      "https://courses.ineuron.ai/category/Data-Science\n",
      "https://courses.ineuron.ai/category/Programming\n",
      "https://courses.ineuron.ai/category/Development\n",
      "https://courses.ineuron.ai/category/Cloud\n",
      "https://courses.ineuron.ai/category/Marketing\n",
      "https://courses.ineuron.ai/Full-Stack-Data-Science-Bootcamp\n",
      "https://courses.ineuron.ai/AWS-Data-Engineering\n",
      "https://courses.ineuron.ai/Seminar-in-MMMUT-Community-Event\n",
      "https://courses.ineuron.ai/Big-Data-Live-Class\n",
      "https://courses.ineuron.ai/Reasoning-Live-Class\n",
      "https://courses.ineuron.ai/Spark-AR-Live-Class\n",
      "https://courses.ineuron.ai/Power-BI-Live-Class\n",
      "https://courses.ineuron.ai/Deep-Learning-Live-Class\n",
      "https://courses.ineuron.ai/Foundations-of-English-Language\n",
      "https://courses.ineuron.ai/Android-Programming-with-Machine-Learning-Apps\n",
      "https://courses.ineuron.ai/Pro-Backend-Developer\n",
      "https://courses.ineuron.ai/Android-Chat-app-with-FireBase\n",
      "https://courses.ineuron.ai/Full-Stack-Data-Science-Bootcamp\n",
      "https://courses.ineuron.ai/AWS-Data-Engineering\n",
      "https://courses.ineuron.ai/Seminar-in-MMMUT-Community-Event\n",
      "https://courses.ineuron.ai/Big-Data-Live-Class\n",
      "https://courses.ineuron.ai/Reasoning-Live-Class\n",
      "https://courses.ineuron.ai/Spark-AR-Live-Class\n",
      "https://courses.ineuron.ai/Power-BI-Live-Class\n",
      "https://courses.ineuron.ai/Deep-Learning-Live-Class\n",
      "https://courses.ineuron.ai/Foundations-of-English-Language\n",
      "https://courses.ineuron.ai/Android-Programming-with-Machine-Learning-Apps\n",
      "https://courses.ineuron.ai/Pro-Backend-Developer\n",
      "https://courses.ineuron.ai/Android-Chat-app-with-FireBase\n",
      "https://courses.ineuron.ai/\n",
      "https://www.facebook.com/ineuronai\n",
      "https://twitter.com/iNeuronAi\n",
      "https://www.linkedin.com/company/ineuron-ai/mycompany/\n",
      "https://www.youtube.com/channel/UCb1GdqUqArXMQ3RS86lqqOw\n",
      "mailto:contact@ineuron.ai\n",
      "https://ineuron.ai/about-us.html\n",
      "https://blog.ineuron.ai/\n",
      "https://ineuron.ai/mentor.html\n",
      "https://affiliate.ineuron.ai/\n",
      "https://ineuron.ai/stories.html\n",
      "https://ineuron.ai/job-guarantee.html\n",
      "https://internship.ineuron.ai/\n",
      "https://ineuronvision.com/\n",
      "https://ineuron.ai/faq.html\n",
      "https://ineuron.ai/contact-us.html\n",
      "https://ineuron.ai/terms.html\n",
      "https://ineuron.ai/policy.html\n"
     ]
    }
   ],
   "source": [
    "from selenium.webdriver.common.by import By\n",
    "\n",
    "link = driver.find_elements(By.TAG_NAME, 'a')\n",
    "for i in link:\n",
    "    print(i.get_attribute(\"href\"))"
   ]
  },
  {
   "cell_type": "code",
   "execution_count": 145,
   "id": "2dc6f02a",
   "metadata": {},
   "outputs": [
    {
     "name": "stderr",
     "output_type": "stream",
     "text": [
      "<ipython-input-145-d889405e16fd>:1: DeprecationWarning: find_elements_by_class_name is deprecated. Please use find_elements(by=By.CLASS_NAME, value=name) instead\n",
      "  elements = driver.find_elements_by_class_name(\"Course_card__2uWBu\")\n"
     ]
    }
   ],
   "source": [
    "elements = driver.find_elements_by_class_name(\"Course_card__2uWBu\")"
   ]
  },
  {
   "cell_type": "code",
   "execution_count": 153,
   "id": "c93ad661",
   "metadata": {},
   "outputs": [
    {
     "name": "stdout",
     "output_type": "stream",
     "text": [
      "['https://courses.ineuron.ai/Full-Stack-Data-Science-Bootcamp', 'https://courses.ineuron.ai/AWS-Data-Engineering', 'https://courses.ineuron.ai/Seminar-in-MMMUT-Community-Event', 'https://courses.ineuron.ai/Big-Data-Live-Class', 'https://courses.ineuron.ai/Reasoning-Live-Class', 'https://courses.ineuron.ai/Spark-AR-Live-Class', 'https://courses.ineuron.ai/Power-BI-Live-Class', 'https://courses.ineuron.ai/Deep-Learning-Live-Class', 'https://courses.ineuron.ai/Foundations-of-English-Language', 'https://courses.ineuron.ai/Android-Programming-with-Machine-Learning-Apps', 'https://courses.ineuron.ai/Pro-Backend-Developer', 'https://courses.ineuron.ai/Android-Chat-app-with-FireBase', 'https://courses.ineuron.ai/Full-Stack-Data-Science-Bootcamp', 'https://courses.ineuron.ai/AWS-Data-Engineering', 'https://courses.ineuron.ai/Seminar-in-MMMUT-Community-Event', 'https://courses.ineuron.ai/Big-Data-Live-Class', 'https://courses.ineuron.ai/Reasoning-Live-Class', 'https://courses.ineuron.ai/Spark-AR-Live-Class', 'https://courses.ineuron.ai/Power-BI-Live-Class', 'https://courses.ineuron.ai/Deep-Learning-Live-Class', 'https://courses.ineuron.ai/Foundations-of-English-Language', 'https://courses.ineuron.ai/Android-Programming-with-Machine-Learning-Apps', 'https://courses.ineuron.ai/Pro-Backend-Developer', 'https://courses.ineuron.ai/Android-Chat-app-with-FireBase']\n"
     ]
    }
   ],
   "source": [
    "res = []\n",
    "for ele in elements:\n",
    "    lnk = ele.find_elements_by_tag_name(\"a\")\n",
    "    for i in lnk:\n",
    "        res.append(i.get_attribute(\"href\"))\n",
    "\n",
    "print(res)"
   ]
  },
  {
   "cell_type": "code",
   "execution_count": 162,
   "id": "ca19b9c2",
   "metadata": {},
   "outputs": [
    {
     "name": "stdout",
     "output_type": "stream",
     "text": [
      "['https://courses.ineuron.ai/Full-Stack-Data-Science-Bootcamp', 'https://courses.ineuron.ai/AWS-Data-Engineering', 'https://courses.ineuron.ai/Seminar-in-MMMUT-Community-Event', 'https://courses.ineuron.ai/Big-Data-Live-Class', 'https://courses.ineuron.ai/Reasoning-Live-Class', 'https://courses.ineuron.ai/Spark-AR-Live-Class', 'https://courses.ineuron.ai/Power-BI-Live-Class', 'https://courses.ineuron.ai/Deep-Learning-Live-Class', 'https://courses.ineuron.ai/Foundations-of-English-Language', 'https://courses.ineuron.ai/Android-Programming-with-Machine-Learning-Apps', 'https://courses.ineuron.ai/Pro-Backend-Developer', 'https://courses.ineuron.ai/Android-Chat-app-with-FireBase', 'https://courses.ineuron.ai/Full-Stack-Data-Science-Bootcamp', 'https://courses.ineuron.ai/AWS-Data-Engineering', 'https://courses.ineuron.ai/Seminar-in-MMMUT-Community-Event', 'https://courses.ineuron.ai/Big-Data-Live-Class', 'https://courses.ineuron.ai/Reasoning-Live-Class', 'https://courses.ineuron.ai/Spark-AR-Live-Class', 'https://courses.ineuron.ai/Power-BI-Live-Class', 'https://courses.ineuron.ai/Deep-Learning-Live-Class', 'https://courses.ineuron.ai/Foundations-of-English-Language', 'https://courses.ineuron.ai/Android-Programming-with-Machine-Learning-Apps', 'https://courses.ineuron.ai/Pro-Backend-Developer', 'https://courses.ineuron.ai/Android-Chat-app-with-FireBase']\n"
     ]
    }
   ],
   "source": [
    "from selenium.webdriver.common.keys import Keys\n",
    "\n",
    "# html = driver.find_element_by_tag_name('html')\n",
    "html = driver.find_element(by=By.TAG_NAME, value='html')\n",
    "html.send_keys(Keys.END)\n",
    "\n",
    "res = []\n",
    "elements = driver.find_elements(by=By.CLASS_NAME, value = \"Course_card__2uWBu\")\n",
    "\n",
    "for ele in elements:\n",
    "    lnk = ele.find_elements(by=By.TAG_NAME, value='a')\n",
    "    for i in lnk:\n",
    "        res.append(i.get_attribute(\"href\"))\n",
    "\n",
    "print(res)"
   ]
  },
  {
   "cell_type": "code",
   "execution_count": null,
   "id": "15ab2959",
   "metadata": {},
   "outputs": [],
   "source": [
    "url = \"https://courses.ineuron.ai/\"\n",
    "driver.get(url)"
   ]
  },
  {
   "cell_type": "code",
   "execution_count": null,
   "id": "0a258c63",
   "metadata": {},
   "outputs": [],
   "source": [
    "path = r'C:\\\\Users\\\\KEERTHI\\\\Downloads\\\\geckodriver'\n",
    "\n",
    "with webdriver.Firefox(executable_path = path) as wd:\n",
    "    fetch_urls(wd=wd, sleep_between_interactions=0.5)"
   ]
  },
  {
   "cell_type": "code",
   "execution_count": null,
   "id": "dbc9f180",
   "metadata": {},
   "outputs": [],
   "source": [
    "def fetch_urls(wd: webdriver, sleep_between_interactions: int = 1):\n",
    "    def scroll_to_end(wd):\n",
    "        wd.execute_script(\"window.scrollTo(0, document.body.scrollHeight);\")\n",
    "        time.sleep(sleep_between_interactions)\n",
    "    \n",
    "    search_url = \"https://courses.ineuron.ai/\"\n",
    "    \n",
    "    # load the page\n",
    "    wd.get(search_url)\n",
    "    \n",
    "    \n"
   ]
  },
  {
   "cell_type": "code",
   "execution_count": 167,
   "id": "4ac0098f",
   "metadata": {},
   "outputs": [],
   "source": [
    "# while driver.find_element_by_tag_name('div'):\n",
    "#     driver.execute_script(\"window.scrollTo(0, document.body.scrollHeight);\")\n",
    "#     Divs=driver.find_element_by_tag_name('div').text\n",
    "#     if 'End of Results' in Divs:\n",
    "#         print('end')\n",
    "#         break\n",
    "#     else:\n",
    "#         continue"
   ]
  },
  {
   "cell_type": "code",
   "execution_count": 203,
   "id": "f25d9ca3",
   "metadata": {},
   "outputs": [],
   "source": [
    "import time \n",
    "\n",
    "SCROLL_PAUSE_TIME = 0.5\n",
    "\n",
    "# Get scroll height\n",
    "last_height = driver.execute_script(\"return document.body.scrollHeight\")\n",
    "\n",
    "while True:\n",
    "    # Scroll down to bottom\n",
    "    driver.execute_script(\"window.scrollTo(0, document.body.scrollHeight);\")\n",
    "\n",
    "    # Wait to load page\n",
    "    time.sleep(SCROLL_PAUSE_TIME)\n",
    "\n",
    "    # Calculate new scroll height and compare with last scroll height\n",
    "    new_height = driver.execute_script(\"return document.body.scrollHeight\")\n",
    "    if new_height == last_height:\n",
    "        break\n",
    "    last_height = new_height"
   ]
  },
  {
   "cell_type": "code",
   "execution_count": 3,
   "id": "d81e01d1",
   "metadata": {},
   "outputs": [],
   "source": [
    "from selenium.webdriver.support.ui import WebDriverWait\n",
    "from selenium.webdriver.support import expected_conditions as EC"
   ]
  },
  {
   "cell_type": "code",
   "execution_count": 17,
   "id": "1b2cf007",
   "metadata": {},
   "outputs": [
    {
     "ename": "WebDriverException",
     "evalue": "Message: Failed to write request to stream\n",
     "output_type": "error",
     "traceback": [
      "Traceback \u001b[1;36m(most recent call last)\u001b[0m:\n",
      "  File \u001b[0;32m\"<ipython-input-17-424ba4887d77>\"\u001b[0m, line \u001b[0;32m4\u001b[0m, in \u001b[0;35m<module>\u001b[0m\n    elements = WebDriverWait(driver, 15).until(EC.visibility_of_any_elements_located((By.CLASS_NAME, 'Course_right-area__1XUfi')))\n",
      "  File \u001b[0;32m\"C:\\ProgramData\\Anaconda3\\lib\\site-packages\\selenium\\webdriver\\support\\wait.py\"\u001b[0m, line \u001b[0;32m78\u001b[0m, in \u001b[0;35muntil\u001b[0m\n    value = method(self._driver)\n",
      "  File \u001b[0;32m\"C:\\ProgramData\\Anaconda3\\lib\\site-packages\\selenium\\webdriver\\support\\expected_conditions.py\"\u001b[0m, line \u001b[0;32m173\u001b[0m, in \u001b[0;35m_predicate\u001b[0m\n    return [element for element in driver.find_elements(*locator) if _element_if_visible(element)]\n",
      "  File \u001b[0;32m\"C:\\ProgramData\\Anaconda3\\lib\\site-packages\\selenium\\webdriver\\remote\\webdriver.py\"\u001b[0m, line \u001b[0;32m1283\u001b[0m, in \u001b[0;35mfind_elements\u001b[0m\n    return self.execute(Command.FIND_ELEMENTS, {\n",
      "  File \u001b[0;32m\"C:\\ProgramData\\Anaconda3\\lib\\site-packages\\selenium\\webdriver\\remote\\webdriver.py\"\u001b[0m, line \u001b[0;32m425\u001b[0m, in \u001b[0;35mexecute\u001b[0m\n    self.error_handler.check_response(response)\n",
      "\u001b[1;36m  File \u001b[1;32m\"C:\\ProgramData\\Anaconda3\\lib\\site-packages\\selenium\\webdriver\\remote\\errorhandler.py\"\u001b[1;36m, line \u001b[1;32m247\u001b[1;36m, in \u001b[1;35mcheck_response\u001b[1;36m\u001b[0m\n\u001b[1;33m    raise exception_class(message, screen, stacktrace)\u001b[0m\n",
      "\u001b[1;31mWebDriverException\u001b[0m\u001b[1;31m:\u001b[0m Failed to write request to stream\n"
     ]
    }
   ],
   "source": [
    "res = []\n",
    "SCROLL_PAUSE_TIME_1 = 1\n",
    "# elements = driver.find_elements(by=By.CSS_SELECTOR, value = \".AllCourses_course-list__36-kz > div:nth-child(1) > div:nth-child(1) > div:nth-child(1)\")\n",
    "elements = WebDriverWait(driver, 15).until(EC.visibility_of_any_elements_located((By.CLASS_NAME, 'Course_right-area__1XUfi')))\n",
    "\n",
    "count = 0\n",
    "for ele in elements:\n",
    "#     lnk = WebDriverWait(driver, 15).until(EC.visibility_of_any_elements_located((By.XPATH, '/html/body/div[8]/div[1]/section[3]/div/div/div[2]/div/div/div[1]/div[3]/div[2]/a')))\n",
    "    lnk = ele.find_elements(by=By.TAG_NAME, value='a')\n",
    "#     lnk = ele.find_elements(by=By.XPATH, value='/html/body/div[8]/div[1]/section[3]/div/div/div[2]/div/div/div[1]/div[3]/div[2]/a')\n",
    "    for i in lnk:\n",
    "        res.append(i.get_attribute(\"href\"))\n",
    "        count += 1\n",
    "        \n",
    "        i.get_attribute(\"href\").click()\n",
    "        time.sleep(3)\n",
    "            \n",
    "#         if count > 2:\n",
    "#             break\n",
    "\n",
    "print(res)"
   ]
  },
  {
   "cell_type": "code",
   "execution_count": 16,
   "id": "fd4a2b6e",
   "metadata": {},
   "outputs": [
    {
     "name": "stdout",
     "output_type": "stream",
     "text": [
      "Exception reporting mode: Plain\n"
     ]
    }
   ],
   "source": [
    "%xmode Plain"
   ]
  },
  {
   "cell_type": "code",
   "execution_count": 14,
   "id": "de9e61e9",
   "metadata": {},
   "outputs": [
    {
     "ename": "ElementNotInteractableException",
     "evalue": "Message: Element <a href=\"/Salesforce-Administrator\"> could not be scrolled into view\nStacktrace:\nWebDriverError@chrome://remote/content/shared/webdriver/Errors.jsm:183:5\nElementNotInteractableError@chrome://remote/content/shared/webdriver/Errors.jsm:293:5\nwebdriverClickElement@chrome://remote/content/marionette/interaction.js:156:11\ninteraction.clickElement@chrome://remote/content/marionette/interaction.js:125:11\nclickElement@chrome://remote/content/marionette/actors/MarionetteCommandsChild.jsm:203:24\nreceiveMessage@chrome://remote/content/marionette/actors/MarionetteCommandsChild.jsm:91:31\n",
     "output_type": "error",
     "traceback": [
      "\u001b[1;31m---------------------------------------------------------------------------\u001b[0m",
      "\u001b[1;31mElementNotInteractableException\u001b[0m           Traceback (most recent call last)",
      "\u001b[1;32m<ipython-input-14-55346d84933d>\u001b[0m in \u001b[0;36m<module>\u001b[1;34m\u001b[0m\n\u001b[0;32m      1\u001b[0m \u001b[0mnew\u001b[0m \u001b[1;33m=\u001b[0m \u001b[0mdriver\u001b[0m\u001b[1;33m.\u001b[0m\u001b[0mfind_element\u001b[0m\u001b[1;33m(\u001b[0m\u001b[0mby\u001b[0m\u001b[1;33m=\u001b[0m\u001b[0mBy\u001b[0m\u001b[1;33m.\u001b[0m\u001b[0mLINK_TEXT\u001b[0m\u001b[1;33m,\u001b[0m \u001b[0mvalue\u001b[0m\u001b[1;33m=\u001b[0m\u001b[1;34m\"Salesforce Administrator\"\u001b[0m\u001b[1;33m)\u001b[0m\u001b[1;33m\u001b[0m\u001b[1;33m\u001b[0m\u001b[0m\n\u001b[1;32m----> 2\u001b[1;33m \u001b[0mnew\u001b[0m\u001b[1;33m.\u001b[0m\u001b[0mclick\u001b[0m\u001b[1;33m(\u001b[0m\u001b[1;33m)\u001b[0m\u001b[1;33m\u001b[0m\u001b[1;33m\u001b[0m\u001b[0m\n\u001b[0m",
      "\u001b[1;32mC:\\ProgramData\\Anaconda3\\lib\\site-packages\\selenium\\webdriver\\remote\\webelement.py\u001b[0m in \u001b[0;36mclick\u001b[1;34m(self)\u001b[0m\n\u001b[0;32m     79\u001b[0m     \u001b[1;32mdef\u001b[0m \u001b[0mclick\u001b[0m\u001b[1;33m(\u001b[0m\u001b[0mself\u001b[0m\u001b[1;33m)\u001b[0m \u001b[1;33m->\u001b[0m \u001b[1;32mNone\u001b[0m\u001b[1;33m:\u001b[0m\u001b[1;33m\u001b[0m\u001b[1;33m\u001b[0m\u001b[0m\n\u001b[0;32m     80\u001b[0m         \u001b[1;34m\"\"\"Clicks the element.\"\"\"\u001b[0m\u001b[1;33m\u001b[0m\u001b[1;33m\u001b[0m\u001b[0m\n\u001b[1;32m---> 81\u001b[1;33m         \u001b[0mself\u001b[0m\u001b[1;33m.\u001b[0m\u001b[0m_execute\u001b[0m\u001b[1;33m(\u001b[0m\u001b[0mCommand\u001b[0m\u001b[1;33m.\u001b[0m\u001b[0mCLICK_ELEMENT\u001b[0m\u001b[1;33m)\u001b[0m\u001b[1;33m\u001b[0m\u001b[1;33m\u001b[0m\u001b[0m\n\u001b[0m\u001b[0;32m     82\u001b[0m \u001b[1;33m\u001b[0m\u001b[0m\n\u001b[0;32m     83\u001b[0m     \u001b[1;32mdef\u001b[0m \u001b[0msubmit\u001b[0m\u001b[1;33m(\u001b[0m\u001b[0mself\u001b[0m\u001b[1;33m)\u001b[0m\u001b[1;33m:\u001b[0m\u001b[1;33m\u001b[0m\u001b[1;33m\u001b[0m\u001b[0m\n",
      "\u001b[1;32mC:\\ProgramData\\Anaconda3\\lib\\site-packages\\selenium\\webdriver\\remote\\webelement.py\u001b[0m in \u001b[0;36m_execute\u001b[1;34m(self, command, params)\u001b[0m\n\u001b[0;32m    708\u001b[0m             \u001b[0mparams\u001b[0m \u001b[1;33m=\u001b[0m \u001b[1;33m{\u001b[0m\u001b[1;33m}\u001b[0m\u001b[1;33m\u001b[0m\u001b[1;33m\u001b[0m\u001b[0m\n\u001b[0;32m    709\u001b[0m         \u001b[0mparams\u001b[0m\u001b[1;33m[\u001b[0m\u001b[1;34m'id'\u001b[0m\u001b[1;33m]\u001b[0m \u001b[1;33m=\u001b[0m \u001b[0mself\u001b[0m\u001b[1;33m.\u001b[0m\u001b[0m_id\u001b[0m\u001b[1;33m\u001b[0m\u001b[1;33m\u001b[0m\u001b[0m\n\u001b[1;32m--> 710\u001b[1;33m         \u001b[1;32mreturn\u001b[0m \u001b[0mself\u001b[0m\u001b[1;33m.\u001b[0m\u001b[0m_parent\u001b[0m\u001b[1;33m.\u001b[0m\u001b[0mexecute\u001b[0m\u001b[1;33m(\u001b[0m\u001b[0mcommand\u001b[0m\u001b[1;33m,\u001b[0m \u001b[0mparams\u001b[0m\u001b[1;33m)\u001b[0m\u001b[1;33m\u001b[0m\u001b[1;33m\u001b[0m\u001b[0m\n\u001b[0m\u001b[0;32m    711\u001b[0m \u001b[1;33m\u001b[0m\u001b[0m\n\u001b[0;32m    712\u001b[0m     \u001b[1;32mdef\u001b[0m \u001b[0mfind_element\u001b[0m\u001b[1;33m(\u001b[0m\u001b[0mself\u001b[0m\u001b[1;33m,\u001b[0m \u001b[0mby\u001b[0m\u001b[1;33m=\u001b[0m\u001b[0mBy\u001b[0m\u001b[1;33m.\u001b[0m\u001b[0mID\u001b[0m\u001b[1;33m,\u001b[0m \u001b[0mvalue\u001b[0m\u001b[1;33m=\u001b[0m\u001b[1;32mNone\u001b[0m\u001b[1;33m)\u001b[0m\u001b[1;33m:\u001b[0m\u001b[1;33m\u001b[0m\u001b[1;33m\u001b[0m\u001b[0m\n",
      "\u001b[1;32mC:\\ProgramData\\Anaconda3\\lib\\site-packages\\selenium\\webdriver\\remote\\webdriver.py\u001b[0m in \u001b[0;36mexecute\u001b[1;34m(self, driver_command, params)\u001b[0m\n\u001b[0;32m    423\u001b[0m         \u001b[0mresponse\u001b[0m \u001b[1;33m=\u001b[0m \u001b[0mself\u001b[0m\u001b[1;33m.\u001b[0m\u001b[0mcommand_executor\u001b[0m\u001b[1;33m.\u001b[0m\u001b[0mexecute\u001b[0m\u001b[1;33m(\u001b[0m\u001b[0mdriver_command\u001b[0m\u001b[1;33m,\u001b[0m \u001b[0mparams\u001b[0m\u001b[1;33m)\u001b[0m\u001b[1;33m\u001b[0m\u001b[1;33m\u001b[0m\u001b[0m\n\u001b[0;32m    424\u001b[0m         \u001b[1;32mif\u001b[0m \u001b[0mresponse\u001b[0m\u001b[1;33m:\u001b[0m\u001b[1;33m\u001b[0m\u001b[1;33m\u001b[0m\u001b[0m\n\u001b[1;32m--> 425\u001b[1;33m             \u001b[0mself\u001b[0m\u001b[1;33m.\u001b[0m\u001b[0merror_handler\u001b[0m\u001b[1;33m.\u001b[0m\u001b[0mcheck_response\u001b[0m\u001b[1;33m(\u001b[0m\u001b[0mresponse\u001b[0m\u001b[1;33m)\u001b[0m\u001b[1;33m\u001b[0m\u001b[1;33m\u001b[0m\u001b[0m\n\u001b[0m\u001b[0;32m    426\u001b[0m             response['value'] = self._unwrap_value(\n\u001b[0;32m    427\u001b[0m                 response.get('value', None))\n",
      "\u001b[1;32mC:\\ProgramData\\Anaconda3\\lib\\site-packages\\selenium\\webdriver\\remote\\errorhandler.py\u001b[0m in \u001b[0;36mcheck_response\u001b[1;34m(self, response)\u001b[0m\n\u001b[0;32m    245\u001b[0m                 \u001b[0malert_text\u001b[0m \u001b[1;33m=\u001b[0m \u001b[0mvalue\u001b[0m\u001b[1;33m[\u001b[0m\u001b[1;34m'alert'\u001b[0m\u001b[1;33m]\u001b[0m\u001b[1;33m.\u001b[0m\u001b[0mget\u001b[0m\u001b[1;33m(\u001b[0m\u001b[1;34m'text'\u001b[0m\u001b[1;33m)\u001b[0m\u001b[1;33m\u001b[0m\u001b[1;33m\u001b[0m\u001b[0m\n\u001b[0;32m    246\u001b[0m             \u001b[1;32mraise\u001b[0m \u001b[0mexception_class\u001b[0m\u001b[1;33m(\u001b[0m\u001b[0mmessage\u001b[0m\u001b[1;33m,\u001b[0m \u001b[0mscreen\u001b[0m\u001b[1;33m,\u001b[0m \u001b[0mstacktrace\u001b[0m\u001b[1;33m,\u001b[0m \u001b[0malert_text\u001b[0m\u001b[1;33m)\u001b[0m  \u001b[1;31m# type: ignore[call-arg]  # mypy is not smart enough here\u001b[0m\u001b[1;33m\u001b[0m\u001b[1;33m\u001b[0m\u001b[0m\n\u001b[1;32m--> 247\u001b[1;33m         \u001b[1;32mraise\u001b[0m \u001b[0mexception_class\u001b[0m\u001b[1;33m(\u001b[0m\u001b[0mmessage\u001b[0m\u001b[1;33m,\u001b[0m \u001b[0mscreen\u001b[0m\u001b[1;33m,\u001b[0m \u001b[0mstacktrace\u001b[0m\u001b[1;33m)\u001b[0m\u001b[1;33m\u001b[0m\u001b[1;33m\u001b[0m\u001b[0m\n\u001b[0m\u001b[0;32m    248\u001b[0m \u001b[1;33m\u001b[0m\u001b[0m\n\u001b[0;32m    249\u001b[0m     \u001b[1;32mdef\u001b[0m \u001b[0m_value_or_default\u001b[0m\u001b[1;33m(\u001b[0m\u001b[0mself\u001b[0m\u001b[1;33m,\u001b[0m \u001b[0mobj\u001b[0m\u001b[1;33m:\u001b[0m \u001b[0mMapping\u001b[0m\u001b[1;33m[\u001b[0m\u001b[0m_KT\u001b[0m\u001b[1;33m,\u001b[0m \u001b[0m_VT\u001b[0m\u001b[1;33m]\u001b[0m\u001b[1;33m,\u001b[0m \u001b[0mkey\u001b[0m\u001b[1;33m:\u001b[0m \u001b[0m_KT\u001b[0m\u001b[1;33m,\u001b[0m \u001b[0mdefault\u001b[0m\u001b[1;33m:\u001b[0m \u001b[0m_VT\u001b[0m\u001b[1;33m)\u001b[0m \u001b[1;33m->\u001b[0m \u001b[0m_VT\u001b[0m\u001b[1;33m:\u001b[0m\u001b[1;33m\u001b[0m\u001b[1;33m\u001b[0m\u001b[0m\n",
      "\u001b[1;31mElementNotInteractableException\u001b[0m: Message: Element <a href=\"/Salesforce-Administrator\"> could not be scrolled into view\nStacktrace:\nWebDriverError@chrome://remote/content/shared/webdriver/Errors.jsm:183:5\nElementNotInteractableError@chrome://remote/content/shared/webdriver/Errors.jsm:293:5\nwebdriverClickElement@chrome://remote/content/marionette/interaction.js:156:11\ninteraction.clickElement@chrome://remote/content/marionette/interaction.js:125:11\nclickElement@chrome://remote/content/marionette/actors/MarionetteCommandsChild.jsm:203:24\nreceiveMessage@chrome://remote/content/marionette/actors/MarionetteCommandsChild.jsm:91:31\n"
     ]
    }
   ],
   "source": [
    "new = driver.find_element(by=By.LINK_TEXT, value=\"Salesforce Administrator\")\n",
    "new.click()"
   ]
  },
  {
   "cell_type": "code",
   "execution_count": null,
   "id": "a996ddda",
   "metadata": {},
   "outputs": [],
   "source": [
    "res = []\n",
    "elements = driver.find_elements(by=By.CLASS_NAME, value = \"Course_card__2uWBu\")\n",
    "\n",
    "for ele in elements:\n",
    "    lnk = ele.find_elements(by=By.TAG_NAME, value='a')\n",
    "    for i in lnk:\n",
    "        res.append(i.get_attribute(\"href\"))\n",
    "\n",
    "print(res)"
   ]
  },
  {
   "cell_type": "code",
   "execution_count": 174,
   "id": "e6abac0d",
   "metadata": {},
   "outputs": [
    {
     "data": {
      "text/plain": [
       "568"
      ]
     },
     "execution_count": 174,
     "metadata": {},
     "output_type": "execute_result"
    }
   ],
   "source": [
    "len(res)"
   ]
  },
  {
   "cell_type": "code",
   "execution_count": 175,
   "id": "de6fa98f",
   "metadata": {},
   "outputs": [],
   "source": [
    "n = set(res)"
   ]
  },
  {
   "cell_type": "code",
   "execution_count": 179,
   "id": "d97d424b",
   "metadata": {},
   "outputs": [
    {
     "data": {
      "text/plain": [
       "292"
      ]
     },
     "execution_count": 179,
     "metadata": {},
     "output_type": "execute_result"
    }
   ],
   "source": [
    "len(n)"
   ]
  },
  {
   "cell_type": "code",
   "execution_count": null,
   "id": "9842a52a",
   "metadata": {},
   "outputs": [],
   "source": []
  },
  {
   "cell_type": "code",
   "execution_count": null,
   "id": "67499bf0",
   "metadata": {},
   "outputs": [],
   "source": []
  },
  {
   "cell_type": "code",
   "execution_count": null,
   "id": "4e0202ce",
   "metadata": {},
   "outputs": [],
   "source": []
  },
  {
   "cell_type": "code",
   "execution_count": null,
   "id": "ac3c90e1",
   "metadata": {},
   "outputs": [],
   "source": []
  }
 ],
 "metadata": {
  "kernelspec": {
   "display_name": "Python 3",
   "language": "python",
   "name": "python3"
  },
  "language_info": {
   "codemirror_mode": {
    "name": "ipython",
    "version": 3
   },
   "file_extension": ".py",
   "mimetype": "text/x-python",
   "name": "python",
   "nbconvert_exporter": "python",
   "pygments_lexer": "ipython3",
   "version": "3.8.8"
  }
 },
 "nbformat": 4,
 "nbformat_minor": 5
}
