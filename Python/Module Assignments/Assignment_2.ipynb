{
 "cells": [
  {
   "cell_type": "markdown",
   "id": "1a3fb841",
   "metadata": {},
   "source": [
    "**1.What are the two values of the Boolean data type? How do you write them?**"
   ]
  },
  {
   "cell_type": "markdown",
   "id": "087edfc8",
   "metadata": {},
   "source": [
    "The boolean value can be of two types only i.e. either **True** or **False** <br>\n",
    "It is case sensitive which means 'T' and 'F' should be in capital letters and the rest should be in lower case."
   ]
  },
  {
   "cell_type": "markdown",
   "id": "e211f3c8",
   "metadata": {},
   "source": [
    "***"
   ]
  },
  {
   "cell_type": "markdown",
   "id": "60cf5566",
   "metadata": {},
   "source": [
    "**2. What are the three different types of Boolean operators?**"
   ]
  },
  {
   "cell_type": "markdown",
   "id": "c91de5b7",
   "metadata": {},
   "source": [
    "AND, OR and NOT"
   ]
  },
  {
   "cell_type": "markdown",
   "id": "930c295e",
   "metadata": {},
   "source": [
    "***"
   ]
  },
  {
   "cell_type": "markdown",
   "id": "c53f623f",
   "metadata": {},
   "source": [
    "**3. Make a list of each Boolean operator&#39;s truth tables (i.e. every possible combination of Boolean values for the operator and what it evaluate).**"
   ]
  },
  {
   "cell_type": "markdown",
   "id": "bb9705ed",
   "metadata": {},
   "source": [
    "    True and True is True.\n",
    "    False and False is False.\n",
    "    True and False is False.\n",
    "    False and True is False.\n",
    "\n",
    "    True or True is True.\n",
    "    False or False is False.\n",
    "    True or False is True.\n",
    "    False or True is True.\n",
    "\n",
    "    not False is True.\n",
    "    not True is False."
   ]
  },
  {
   "cell_type": "markdown",
   "id": "3105c1c7",
   "metadata": {},
   "source": [
    "***"
   ]
  },
  {
   "cell_type": "markdown",
   "id": "4f51587e",
   "metadata": {},
   "source": [
    "**4. What are the values of the following expressions?** \n",
    "\n",
    "        (5 > 4) and (3 == 5)\n",
    "        not (5 > 4)\n",
    "        (5 > 4) or (3 == 5)\n",
    "        not ((5 > 4) or (3 == 5))\n",
    "        (True and True) and (True == False)\n",
    "        (not False) or (not True)"
   ]
  },
  {
   "cell_type": "markdown",
   "id": "c1ff3083",
   "metadata": {},
   "source": [
    "                   (5 > 4) and (3 == 5) -> False\n",
    "                            not (5 > 4) -> False\n",
    "                    (5 > 4) or (3 == 5) -> True\n",
    "              not ((5 > 4) or (3 == 5)) -> False\n",
    "    (True and True) and (True == False) -> False\n",
    "              (not False) or (not True) -> True"
   ]
  },
  {
   "cell_type": "markdown",
   "id": "693883a5",
   "metadata": {},
   "source": [
    "***"
   ]
  },
  {
   "cell_type": "markdown",
   "id": "2dd0d73b",
   "metadata": {},
   "source": [
    "**5. What are the six comparison operators?**"
   ]
  },
  {
   "cell_type": "markdown",
   "id": "ddd33977",
   "metadata": {},
   "source": [
    "    ==\n",
    "    !=\n",
    "    <\n",
    "    >\n",
    "    <=\n",
    "    >="
   ]
  },
  {
   "cell_type": "markdown",
   "id": "c2188e9b",
   "metadata": {},
   "source": [
    "***"
   ]
  },
  {
   "cell_type": "markdown",
   "id": "478fce9a",
   "metadata": {},
   "source": [
    "**6. How do you tell the difference between the equal to and assignment operators? Describe a condition and when you would use one.**"
   ]
  },
  {
   "cell_type": "markdown",
   "id": "becf90b8",
   "metadata": {},
   "source": [
    "'==' is the equal to operator that compares two values and returns a Boolean value, while '=' is the assignment operator that stores a value in a given variable. <br>\n",
    "\n",
    "A condition is an expression used in a control flow that evaluates to a Boolean value that determines which branch will be  executed. The keywords *if, elif, and else* are used for conditional statements."
   ]
  },
  {
   "cell_type": "markdown",
   "id": "124d55cc",
   "metadata": {},
   "source": [
    "***"
   ]
  },
  {
   "cell_type": "markdown",
   "id": "36b60fc7",
   "metadata": {},
   "source": [
    "**7. Identify the three blocks in this code:**\n",
    "\n",
    "        spam = 0\n",
    "        if spam == 10:    \n",
    "            print('eggs')\n",
    "        if spam > 5:\n",
    "            print('bacon')\n",
    "        else:\n",
    "            print('ham')\n",
    "            print('spam')\n",
    "            print('spam')"
   ]
  },
  {
   "cell_type": "markdown",
   "id": "250b1655",
   "metadata": {},
   "source": [
    "The print statements residing in the 'if' and 'else' conditions are the three blocks. <br>\n",
    "\n",
    "    Block 1:\n",
    "        print('eggs')\n",
    "\n",
    "    Block 2:\n",
    "        print('bacon')\n",
    "\n",
    "    Block 3:\n",
    "        print('ham')\n",
    "        print('spam')\n",
    "        print('spam')"
   ]
  },
  {
   "cell_type": "markdown",
   "id": "74279a1d",
   "metadata": {},
   "source": [
    "***"
   ]
  },
  {
   "cell_type": "markdown",
   "id": "131a2e40",
   "metadata": {},
   "source": [
    "**8. Write code that prints Hello if 1 is stored in spam, prints Howdy if 2 is stored in spam, and prints Greetings! if anything else is stored in spam.**"
   ]
  },
  {
   "cell_type": "markdown",
   "id": "9afcb04c",
   "metadata": {},
   "source": [
    "    if spam == 1:\n",
    "        print('Hello')\n",
    "    elif spam == 2:\n",
    "        print('Howdy')\n",
    "    else:\n",
    "        print('Greetings!')"
   ]
  },
  {
   "cell_type": "markdown",
   "id": "36cf6878",
   "metadata": {},
   "source": [
    "***"
   ]
  },
  {
   "cell_type": "markdown",
   "id": "c4f6b00e",
   "metadata": {},
   "source": [
    "**9.If your programme is stuck in an endless loop, what keys you’ll press?**"
   ]
  },
  {
   "cell_type": "markdown",
   "id": "c9c583eb",
   "metadata": {},
   "source": [
    "'CTRL+C' key combination can be used to stop the execution of a program which runs in infinite loop"
   ]
  },
  {
   "cell_type": "markdown",
   "id": "0133701b",
   "metadata": {},
   "source": [
    "***"
   ]
  },
  {
   "cell_type": "markdown",
   "id": "71d1ee2d",
   "metadata": {},
   "source": [
    "**10. How can you tell the difference between break and continue?**"
   ]
  },
  {
   "cell_type": "markdown",
   "id": "ccb413ca",
   "metadata": {},
   "source": [
    "    break:\n",
    "     - stops the loop in which the break statement is placed\n",
    "     - resumes control of program to the end of loop\n",
    "     \n",
    "    continue:\n",
    "     - skips a single iteration in a loop once continue statement is encountered\n",
    "     - resumes the control of the program to next iteration of that loop"
   ]
  },
  {
   "cell_type": "markdown",
   "id": "dbf459bf",
   "metadata": {},
   "source": [
    "***"
   ]
  },
  {
   "cell_type": "markdown",
   "id": "dae66949",
   "metadata": {},
   "source": [
    "**11. In a for loop, what is the difference between range(10), range(0, 10), and range(0, 10, 1)?**"
   ]
  },
  {
   "cell_type": "markdown",
   "id": "9b3312b2",
   "metadata": {},
   "source": [
    "All these range functions does the same thing. <br> \n",
    "\n",
    "    range(10):\n",
    "     - returns ranges from 0 up to (but not including) 10. It means, values from 0 to 9 will be returned.\n",
    "\n",
    "    range(0, 10):\n",
    "     - explicitly tells the loop to start at 0 and ends with 10 (but doesn't include 10).\n",
    "\n",
    "    range(0, 10, 1):\n",
    "     - explicitly tells the loop to increase the variable by 1 on each iteration. This will also return values from 0 to 9."
   ]
  },
  {
   "cell_type": "markdown",
   "id": "61a43b52",
   "metadata": {},
   "source": [
    "***"
   ]
  },
  {
   "cell_type": "markdown",
   "id": "1d035149",
   "metadata": {},
   "source": [
    "**12. Write a short program that prints the numbers 1 to 10 using a for loop. Then write an equivalent program that prints the \n",
    "numbers 1 to 10 using a while loop.**"
   ]
  },
  {
   "cell_type": "markdown",
   "id": "b306039b",
   "metadata": {},
   "source": [
    "    Code 1:\n",
    "        for i in range(1, 11):\n",
    "            print(i)\n",
    "\n",
    "    Code 2: (using while loop)\n",
    "        i = 1\n",
    "        while i <= 10:\n",
    "            print(i)\n",
    "            i = i + 1"
   ]
  },
  {
   "cell_type": "markdown",
   "id": "eb638c36",
   "metadata": {},
   "source": [
    "***"
   ]
  },
  {
   "cell_type": "markdown",
   "id": "d3c0e2e5",
   "metadata": {},
   "source": [
    "**13. If you had a function named bacon() inside a module named spam, how would you call it after importing spam?**"
   ]
  },
  {
   "cell_type": "markdown",
   "id": "cf7a395c",
   "metadata": {},
   "source": [
    "We would need to use spam.bacon() to call this function"
   ]
  },
  {
   "cell_type": "markdown",
   "id": "db014dae",
   "metadata": {},
   "source": [
    "***"
   ]
  }
 ],
 "metadata": {
  "kernelspec": {
   "display_name": "Python 3",
   "language": "python",
   "name": "python3"
  },
  "language_info": {
   "codemirror_mode": {
    "name": "ipython",
    "version": 3
   },
   "file_extension": ".py",
   "mimetype": "text/x-python",
   "name": "python",
   "nbconvert_exporter": "python",
   "pygments_lexer": "ipython3",
   "version": "3.8.8"
  }
 },
 "nbformat": 4,
 "nbformat_minor": 5
}
