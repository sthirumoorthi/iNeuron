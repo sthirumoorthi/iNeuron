{
 "cells": [
  {
   "cell_type": "markdown",
   "id": "2e482370",
   "metadata": {},
   "source": [
    "**1. What exactly is [ ]?**"
   ]
  },
  {
   "cell_type": "markdown",
   "id": "d24efe88",
   "metadata": {},
   "source": [
    "    This represents the empty list (doesn't have any item in it). Sometimes we might use this to initialize the list."
   ]
  },
  {
   "cell_type": "markdown",
   "id": "eba9d3fa",
   "metadata": {},
   "source": [
    "****"
   ]
  },
  {
   "cell_type": "markdown",
   "id": "e626b571",
   "metadata": {},
   "source": [
    "**2. In a list of values stored in a variable called spam, how would you assign the value 'hello' as the third value? (Assume [2,4,6,8,10] are in spam.)**"
   ]
  },
  {
   "cell_type": "markdown",
   "id": "665a1541",
   "metadata": {},
   "source": [
    "It can be achieved using 2 ways.\n",
    "\n",
    "    spam[2] = \"hello\"\n",
    "    or\n",
    "    spam.insert(2, \"hello\")"
   ]
  },
  {
   "cell_type": "markdown",
   "id": "7ecad998",
   "metadata": {},
   "source": [
    "***"
   ]
  },
  {
   "cell_type": "markdown",
   "id": "4c604bbf",
   "metadata": {},
   "source": [
    "**Let's pretend the spam includes the list ['a','b','c','d'] for the next three queries**"
   ]
  },
  {
   "cell_type": "markdown",
   "id": "74348429",
   "metadata": {},
   "source": [
    "**3. What is the value of spam[int(int('3' * 2) / 11)]?**"
   ]
  },
  {
   "cell_type": "markdown",
   "id": "176b5bc3",
   "metadata": {},
   "source": [
    "    'd'\n",
    "Note: '3'*2 represents 33. Diving this number with 11 will give 3.0 which then will be type casted with int(). So the final results would be spam[3] which is holding the string 'd'."
   ]
  },
  {
   "cell_type": "markdown",
   "id": "85284b33",
   "metadata": {},
   "source": [
    "***"
   ]
  },
  {
   "cell_type": "markdown",
   "id": "3a42a979",
   "metadata": {},
   "source": [
    "**4. What is the value of spam[-1]?**"
   ]
  },
  {
   "cell_type": "markdown",
   "id": "0ba76a45",
   "metadata": {},
   "source": [
    "    'd'"
   ]
  },
  {
   "cell_type": "markdown",
   "id": "1018a366",
   "metadata": {},
   "source": [
    "***"
   ]
  },
  {
   "cell_type": "markdown",
   "id": "9a19e29b",
   "metadata": {},
   "source": [
    "**5. What is the value of spam[:2]?**"
   ]
  },
  {
   "cell_type": "markdown",
   "id": "4b59779a",
   "metadata": {},
   "source": [
    "    ['a', 'b']"
   ]
  },
  {
   "cell_type": "markdown",
   "id": "f5d098d5",
   "metadata": {},
   "source": [
    "***"
   ]
  },
  {
   "cell_type": "markdown",
   "id": "23b5358c",
   "metadata": {},
   "source": [
    "**Let's pretend bacon has the list [3.14, 'cat', 11, 'cat', True] for the next three questions.**"
   ]
  },
  {
   "cell_type": "markdown",
   "id": "51651596",
   "metadata": {},
   "source": [
    "**6. What is the value of bacon.index('cat')?**"
   ]
  },
  {
   "cell_type": "markdown",
   "id": "48cca819",
   "metadata": {},
   "source": [
    "    1\n",
    "    \n",
    "    Note: The index function will  always provide the index of the value when it is first occurred."
   ]
  },
  {
   "cell_type": "markdown",
   "id": "03417604",
   "metadata": {},
   "source": [
    "***"
   ]
  },
  {
   "cell_type": "markdown",
   "id": "66a3f3fc",
   "metadata": {},
   "source": [
    "**7. How does bacon.append(99) change the look of the list value in bacon?**"
   ]
  },
  {
   "cell_type": "markdown",
   "id": "ea5aa5e7",
   "metadata": {},
   "source": [
    "    [3.14, 'cat', 11, 'cat', True, 99]\n",
    "    \n",
    "    After executing the append statement, the new item 99 will be added to the end of the list bacon."
   ]
  },
  {
   "cell_type": "markdown",
   "id": "fd88bf88",
   "metadata": {},
   "source": [
    "***"
   ]
  },
  {
   "cell_type": "markdown",
   "id": "944991e2",
   "metadata": {},
   "source": [
    "**8. How does bacon.remove('cat') change the look of the list in bacon?**"
   ]
  },
  {
   "cell_type": "markdown",
   "id": "d73c55e3",
   "metadata": {},
   "source": [
    "    [3.14, 11, 'cat', True]\n",
    "    \n",
    "    This statement will remove the first occurrance of 'cat' in the list (assuming that the list is having [3.14, 'cat', 11, 'cat', True])"
   ]
  },
  {
   "cell_type": "markdown",
   "id": "4060657b",
   "metadata": {},
   "source": [
    "***"
   ]
  },
  {
   "cell_type": "markdown",
   "id": "2b1f8da9",
   "metadata": {},
   "source": [
    "**9. What are the list concatenation and list replication operators?**"
   ]
  },
  {
   "cell_type": "markdown",
   "id": "0eebfe8f",
   "metadata": {},
   "source": [
    "    List concatenation operator ('+') combines multiple lists.\n",
    "\n",
    "    List replication operator ('*') replicates/multiplies the list values (exact copy of the list)."
   ]
  },
  {
   "cell_type": "markdown",
   "id": "d9d79f43",
   "metadata": {},
   "source": [
    "***"
   ]
  },
  {
   "cell_type": "markdown",
   "id": "5eb674ed",
   "metadata": {},
   "source": [
    "**10. What is difference between the list methods append() and insert()?**"
   ]
  },
  {
   "cell_type": "markdown",
   "id": "b08dba8b",
   "metadata": {},
   "source": [
    "       append() - adds the new items to the end of the list\n",
    "       insert() - adds the new items at any specified position"
   ]
  },
  {
   "cell_type": "markdown",
   "id": "064f719b",
   "metadata": {},
   "source": [
    "***"
   ]
  },
  {
   "cell_type": "markdown",
   "id": "45a6047e",
   "metadata": {},
   "source": [
    "**11. What are the two methods for removing items from a list?**"
   ]
  },
  {
   "cell_type": "markdown",
   "id": "3fb2c685",
   "metadata": {},
   "source": [
    "    remove() - removes the specified item from the list\n",
    "    pop() - removes the specified index from the list\n",
    "    \n",
    "    'del' statement can also be used to remove the items from the list"
   ]
  },
  {
   "cell_type": "markdown",
   "id": "8b0894d6",
   "metadata": {},
   "source": [
    "***"
   ]
  },
  {
   "cell_type": "markdown",
   "id": "0727c95f",
   "metadata": {},
   "source": [
    "**12. Describe how list values and string values are identical.**"
   ]
  },
  {
   "cell_type": "markdown",
   "id": "0951f4c3",
   "metadata": {},
   "source": [
    "    - Lists are similar to strings, which are ordered collections of characters, except that the elements of a list can have any type. \n",
    "    - Both of the data types, List and strings, are having indexes and slices which will be used in for loops. \n",
    "    - Both of them are using some common features like concatenation or replication and uses common functions such as len() and count()."
   ]
  },
  {
   "cell_type": "markdown",
   "id": "883fa675",
   "metadata": {},
   "source": [
    "***"
   ]
  },
  {
   "cell_type": "markdown",
   "id": "4e5579fc",
   "metadata": {},
   "source": [
    "**13. What's the difference between tuples and lists?**"
   ]
  },
  {
   "cell_type": "markdown",
   "id": "853164aa",
   "metadata": {},
   "source": [
    "    List:\n",
    "     - Lists are mutable (values can be added, removed, or changed)\n",
    "     - Supports many build-in methods\n",
    "     - Denoted using square brackets \"[ ]\"\n",
    "     \n",
    "    Tuples:\n",
    "     - Tuples are immutable (values can't be added, removed, or changed)\n",
    "     - Doesn't support many build-in methods\n",
    "     - Denoted using the paranthesis \"( )\"\n",
    "     "
   ]
  },
  {
   "cell_type": "markdown",
   "id": "d0a3bd42",
   "metadata": {},
   "source": [
    "***"
   ]
  },
  {
   "cell_type": "markdown",
   "id": "b25d71bb",
   "metadata": {},
   "source": [
    "**14. How do you type a tuple value that only contains the integer 42?**"
   ]
  },
  {
   "cell_type": "markdown",
   "id": "46858391",
   "metadata": {},
   "source": [
    "    tuple((42,))\n",
    "    or \n",
    "    (42,)"
   ]
  },
  {
   "cell_type": "markdown",
   "id": "902e9a53",
   "metadata": {},
   "source": [
    "***"
   ]
  },
  {
   "cell_type": "markdown",
   "id": "9d461802",
   "metadata": {},
   "source": [
    "**15. How do you get a list value's tuple form? How do you get a tuple value's list form?**"
   ]
  },
  {
   "cell_type": "markdown",
   "id": "24a836ef",
   "metadata": {},
   "source": [
    "    tuple() - converts the list values into tuples\n",
    "    list() - converts the tuple values into list"
   ]
  },
  {
   "cell_type": "markdown",
   "id": "997737fc",
   "metadata": {},
   "source": [
    "***"
   ]
  },
  {
   "cell_type": "markdown",
   "id": "f28f7d6f",
   "metadata": {},
   "source": [
    "**16. Variables that \"contain\" list values are not necessarily lists themselves. Instead, what do they contain?**"
   ]
  },
  {
   "cell_type": "markdown",
   "id": "2bc2718d",
   "metadata": {},
   "source": [
    "They might contain the references of those list values as well"
   ]
  },
  {
   "cell_type": "markdown",
   "id": "c2c56209",
   "metadata": {},
   "source": [
    "***"
   ]
  },
  {
   "cell_type": "markdown",
   "id": "d60f7a41",
   "metadata": {},
   "source": [
    "**17. How do you distinguish between copy.copy() and copy.deepcopy()?**"
   ]
  },
  {
   "cell_type": "markdown",
   "id": "6d48eab9",
   "metadata": {},
   "source": [
    "    - copy.copy() will return the shallow copy which means that any changes made to a copy of the object reflects in the original object as well\n",
    "    - copy.deepcopy() will return the deep copy which means that any changes made to a copy of the object do not reflect in the original object"
   ]
  },
  {
   "cell_type": "markdown",
   "id": "2c1cdc46",
   "metadata": {},
   "source": [
    "***"
   ]
  }
 ],
 "metadata": {
  "kernelspec": {
   "display_name": "Python 3",
   "language": "python",
   "name": "python3"
  },
  "language_info": {
   "codemirror_mode": {
    "name": "ipython",
    "version": 3
   },
   "file_extension": ".py",
   "mimetype": "text/x-python",
   "name": "python",
   "nbconvert_exporter": "python",
   "pygments_lexer": "ipython3",
   "version": "3.8.8"
  }
 },
 "nbformat": 4,
 "nbformat_minor": 5
}
