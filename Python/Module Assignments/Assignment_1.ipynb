{
 "cells": [
  {
   "cell_type": "markdown",
   "id": "c2baed81",
   "metadata": {},
   "source": [
    "**1. In the below elements which of them are values or an expression? eg:- values can be integer or string and expressions will be mathematical operators.**<br>\n",
    "*<br>\n",
    "'hello'<br>\n",
    "-87.8<br>\n",
    "-<br>\n",
    "/<br>\n",
    "+<br>\n",
    "6<br>"
   ]
  },
  {
   "cell_type": "markdown",
   "id": "d6f54f87",
   "metadata": {},
   "source": [
    "    (*)       -> Expression\n",
    "    ('hello') -> Value\n",
    "    (-87.8)   -> Value\n",
    "    (-)       -> Expression\n",
    "    (/)       -> Expression\n",
    "    (+)       -> Expression\n",
    "    (6)       -> Value"
   ]
  },
  {
   "cell_type": "markdown",
   "id": "9444eb9c",
   "metadata": {},
   "source": [
    "**2. What is the difference between string and variable?**"
   ]
  },
  {
   "cell_type": "markdown",
   "id": "abd90076",
   "metadata": {},
   "source": [
    "<u>*Variable:*</u>\n",
    " - A variable is a name given to a memory location that holds a value and this value might change at any time based on the user requirements. \n",
    " - Variable name is chosen by the user\n",
    " - It can store everything from strings to numbers\n",
    " \n",
    "<u>*String:*</u>\n",
    " - A string is a sequence of characters (type of value) that can be stored in a variable. \n",
    " - It is represented using single (') or double (\") quotes. "
   ]
  },
  {
   "cell_type": "markdown",
   "id": "931968a9",
   "metadata": {},
   "source": [
    "**3. Describe three different data types.**"
   ]
  },
  {
   "cell_type": "markdown",
   "id": "fa3daf74",
   "metadata": {},
   "source": [
    "Most common data types in Python are,\n",
    "\n",
    "<u>*Integer:*</u>\n",
    " - The integer (or int) data type indicates values that are whole numbers.\n",
    " - Ex: 1, 2, 3, 0, -1, -2, -3\n",
    "\n",
    "<u>*Floating-point numbers:*</u>\n",
    " - Numbers with a decimal point are called floating-point numbers (or float).\n",
    " - Ex: 3.14, 1202.02\n",
    "\n",
    "<u>*String:*</u>\n",
    " - A string (or str) is a sequence of characters which is always surrounded with single (') or double (\") quotes.\n",
    " - Ex: \"Hello\", 'Python'"
   ]
  },
  {
   "cell_type": "markdown",
   "id": "04e674ce",
   "metadata": {},
   "source": [
    "**4. What is an expression made up of? What do all expressions do?**"
   ]
  },
  {
   "cell_type": "markdown",
   "id": "1391eb5c",
   "metadata": {},
   "source": [
    "Expressions consist of values (such as 2), operators (such as +) and containers, and they can always evaluate (that is, reduce) down to a single value. <br>\n",
    "\n",
    "For example,<br> \n",
    "Consider the expression *x = 3 + 6* <br>\n",
    "When this is executed, the resultant value (9) will be stored in the container or variable x."
   ]
  },
  {
   "cell_type": "markdown",
   "id": "d4cfebb1",
   "metadata": {},
   "source": [
    "**5. This assignment statements, like spam = 10. What is the difference between an expression and a statement?**"
   ]
  },
  {
   "cell_type": "markdown",
   "id": "f130ed85",
   "metadata": {},
   "source": [
    "<u>*Expressions:*</u>\n",
    "- Expressions consist of values (such as 2), operators (such as +) and containers, and they can always evaluate (that is, reduce) down to a single value.\n",
    "- Evaluation of an expression will always produces or returns a result value.\n",
    "\n",
    "<u>*Statements:* </u>\n",
    "- An assignment statement consists of a variable name, an equal sign (called the assignment operator), and the value to be stored. \n",
    "- Execution of a statement may or may not produces or displays a result value, it only does whatever the statement says.\n",
    "- The assignment statement spam = 10 has the variable named as spam and it will have the integer value 10 stored in it."
   ]
  },
  {
   "cell_type": "markdown",
   "id": "ac3d816e",
   "metadata": {},
   "source": [
    "**6. After running the following code, what does the variable bacon contain?** <br>\n",
    "bacon = 22 <br>\n",
    "bacon + 1"
   ]
  },
  {
   "cell_type": "markdown",
   "id": "aaf0b416",
   "metadata": {},
   "source": [
    "The variable 'bacon' will still hold the value as '22' because the result of the second statement (increment by 1) is not being stored/updated in this variable. <br> The system will display/print the result as '23' in the console after executing second line but it wouldn't increment or store this new value in variable 'bacon'."
   ]
  },
  {
   "cell_type": "markdown",
   "id": "3111b2e6",
   "metadata": {},
   "source": [
    "**7. What should the values of the following two terms be?** <br>\n",
    "'spam' + 'spamspam' <br>\n",
    "'spam' * 3"
   ]
  },
  {
   "cell_type": "markdown",
   "id": "e5e73f45",
   "metadata": {},
   "source": [
    "Both of the statements will return the result as 'spamspamspam'. <br>\n",
    "The first one is string concatenation and the second one is string multiplication."
   ]
  },
  {
   "cell_type": "markdown",
   "id": "635e4de9",
   "metadata": {},
   "source": [
    "**8. Why is eggs a valid variable name while 100 is invalid?**"
   ]
  },
  {
   "cell_type": "markdown",
   "id": "2424027f",
   "metadata": {},
   "source": [
    "As per the basic rules of Variables, the variable names cannot begin with a number. So 100 is an invalid variable name here."
   ]
  },
  {
   "cell_type": "markdown",
   "id": "146ae066",
   "metadata": {},
   "source": [
    "**9. What three functions can be used to get the integer, floating-point number, or string version of a value?**"
   ]
  },
  {
   "cell_type": "markdown",
   "id": "7f7bba00",
   "metadata": {},
   "source": [
    "The int() , float() and str() functions can be used to get the integer, floating-point number, or string version of a value. "
   ]
  },
  {
   "cell_type": "markdown",
   "id": "ad9fc3bc",
   "metadata": {},
   "source": [
    "**10. Why does this expression cause an error? How can you fix it?** <br>\n",
    "'I have eaten ' + 99 + ' burritos.'"
   ]
  },
  {
   "cell_type": "markdown",
   "id": "38fafb8a",
   "metadata": {},
   "source": [
    "This expression causes an error as 'I have eaten' and 'burritos' are being considered as strings, while 99 is treated as integer. We can't concatenate strings with integer. <br>\n",
    "\n",
    " - One way to fix the issue is to convert the integer to string using (str) function as described below. <br>\n",
    "'I have eaten ' + str(99) + ' burritos.' \n",
    "\n",
    " - The latest version of python supports this concatenation feature using f-string. So the below statement can also be used to fix the issue. <br>\n",
    "f\"I have eaten {99} burritos.\""
   ]
  }
 ],
 "metadata": {
  "kernelspec": {
   "display_name": "Python 3",
   "language": "python",
   "name": "python3"
  },
  "language_info": {
   "codemirror_mode": {
    "name": "ipython",
    "version": 3
   },
   "file_extension": ".py",
   "mimetype": "text/x-python",
   "name": "python",
   "nbconvert_exporter": "python",
   "pygments_lexer": "ipython3",
   "version": "3.8.8"
  }
 },
 "nbformat": 4,
 "nbformat_minor": 5
}
