{
 "cells": [
  {
   "cell_type": "markdown",
   "id": "6bec3f66",
   "metadata": {},
   "source": [
    "**Question1**\n",
    "\n",
    "Create a function that takes three integer arguments (a, b, c) and returns the amount of integers which are of equal value.\n",
    "\n",
    "**Examples:**\n",
    "\n",
    "    equal(3, 4, 3) ➞ 2\n",
    "    equal(1, 1, 1) ➞ 3\n",
    "    equal(3, 4, 1) ➞ 0\n",
    "\n",
    "**Notes:**\n",
    "Your function must return 0, 2 or 3."
   ]
  },
  {
   "cell_type": "code",
   "execution_count": 1,
   "id": "112c630d",
   "metadata": {},
   "outputs": [],
   "source": [
    "def equal(a,b,c):\n",
    "    \"\"\"\n",
    "    This function  takes three integer arguments (a, b, c) and \n",
    "    returns the amount of integers which are of equal value.\n",
    "    \"\"\"\n",
    "    num = 0\n",
    "    if a == b and a == c:   # if all 3 values are equal\n",
    "        num = 3\n",
    "    elif a == b or a == c or b == c:    # if any 2 values are equal\n",
    "        num = 2\n",
    "    else:       # none of them are equal\n",
    "        num = 0\n",
    "    \n",
    "    return num"
   ]
  },
  {
   "cell_type": "code",
   "execution_count": 2,
   "id": "4505810c",
   "metadata": {},
   "outputs": [
    {
     "name": "stdout",
     "output_type": "stream",
     "text": [
      " Enter the first integer: 1\n",
      " Enter the second integer: 1\n",
      " Enter the third integer: 1\n",
      "\n",
      " Result is: 3\n",
      "\n",
      " ***** END *****\n"
     ]
    }
   ],
   "source": [
    "# Result 1\n",
    "try:\n",
    "    x = int(input(\" Enter the first integer: \"))\n",
    "    y = int(input(\" Enter the second integer: \"))\n",
    "    z = int(input(\" Enter the third integer: \"))\n",
    "    result = equal(x, y, z)\n",
    "except Exception as err:\n",
    "    print(err)\n",
    "else:\n",
    "    print(f\"\\n Result is: {result}\")\n",
    "finally:\n",
    "    print(\"\\n ***** END *****\")"
   ]
  },
  {
   "cell_type": "code",
   "execution_count": 3,
   "id": "91404dbd",
   "metadata": {},
   "outputs": [
    {
     "name": "stdout",
     "output_type": "stream",
     "text": [
      " Enter the first integer: 3\n",
      " Enter the second integer: 4\n",
      " Enter the third integer: 3\n",
      "\n",
      " Result is: 2\n",
      "\n",
      " ***** END *****\n"
     ]
    }
   ],
   "source": [
    "# Result 2\n",
    "try:\n",
    "    x = int(input(\" Enter the first integer: \"))\n",
    "    y = int(input(\" Enter the second integer: \"))\n",
    "    z = int(input(\" Enter the third integer: \"))\n",
    "    result = equal(x, y, z)\n",
    "except Exception as err:\n",
    "    print(err)\n",
    "else:\n",
    "    print(f\"\\n Result is: {result}\")\n",
    "finally:\n",
    "    print(\"\\n ***** END *****\")"
   ]
  },
  {
   "cell_type": "code",
   "execution_count": 4,
   "id": "f7d39b84",
   "metadata": {},
   "outputs": [
    {
     "name": "stdout",
     "output_type": "stream",
     "text": [
      " Enter the first integer: 1\n",
      " Enter the second integer: 2\n",
      " Enter the third integer: 3\n",
      "\n",
      " Result is: 0\n",
      "\n",
      " ***** END *****\n"
     ]
    }
   ],
   "source": [
    "# Result 3\n",
    "try:\n",
    "    x = int(input(\" Enter the first integer: \"))\n",
    "    y = int(input(\" Enter the second integer: \"))\n",
    "    z = int(input(\" Enter the third integer: \"))\n",
    "    result = equal(x, y, z)\n",
    "except Exception as err:\n",
    "    print(err)\n",
    "else:\n",
    "    print(f\"\\n Result is: {result}\")\n",
    "finally:\n",
    "    print(\"\\n ***** END *****\")"
   ]
  },
  {
   "cell_type": "markdown",
   "id": "e8a297b0",
   "metadata": {},
   "source": [
    "***"
   ]
  },
  {
   "cell_type": "markdown",
   "id": "b596915d",
   "metadata": {},
   "source": [
    "**Question2**\n",
    "\n",
    "Write a function that converts a dictionary into a list of keys-values tuples.\n",
    "\n",
    "**Examples:**\n",
    "\n",
    "    dict_to_list({\n",
    "            \"D\": 1,\n",
    "            \"B\": 2,\n",
    "            \"C\": 3\n",
    "            }) ➞ [(\"B\", 2), (\"C\", 3), (\"D\", 1)]\n",
    "            \n",
    "    dict_to_list({\n",
    "            \"likes\": 2,\n",
    "            \"dislikes\": 3,\n",
    "            \"followers\": 10\n",
    "            }) ➞ [(\"dislikes\", 3), (\"followers\", 10), (\"likes\", 2)]\n",
    "\n",
    "\n",
    "**Notes:**\n",
    "Return the elements in the list in alphabetical order."
   ]
  },
  {
   "cell_type": "code",
   "execution_count": 5,
   "id": "bda3681a",
   "metadata": {},
   "outputs": [],
   "source": [
    "def dict_to_list(my_dict):\n",
    "    \"\"\"\n",
    "    This function converts a dictionary into a list of keys-values tuples.\n",
    "    \"\"\"\n",
    "    \n",
    "    lst = list(sorted(my_dict.items()))\n",
    "    return lst"
   ]
  },
  {
   "cell_type": "code",
   "execution_count": 6,
   "id": "de568a84",
   "metadata": {},
   "outputs": [
    {
     "name": "stdout",
     "output_type": "stream",
     "text": [
      "Original dictionary: {'D': 1, 'B': 2, 'C': 3}\n",
      "\n",
      " Resultant tuple is: [('B', 2), ('C', 3), ('D', 1)]\n",
      "\n",
      " ***** END *****\n"
     ]
    }
   ],
   "source": [
    "# Result 1\n",
    "try:\n",
    "    my_dict = {\n",
    "        \"D\": 1,\n",
    "        \"B\": 2,\n",
    "        \"C\": 3\n",
    "        }\n",
    "    tupl = dict_to_list(my_dict)\n",
    "except Exception as err:\n",
    "    print(err)\n",
    "else:\n",
    "    print(f\"Original dictionary: {my_dict}\")\n",
    "    print(f\"\\n Resultant tuple is: {tupl}\")\n",
    "finally:\n",
    "    print(\"\\n ***** END *****\")"
   ]
  },
  {
   "cell_type": "code",
   "execution_count": 7,
   "id": "d7d3f523",
   "metadata": {},
   "outputs": [
    {
     "name": "stdout",
     "output_type": "stream",
     "text": [
      "Original dictionary: {'likes': 2, 'dislikes': 3, 'followers': 10}\n",
      "\n",
      " Resultant tuple is: [('dislikes', 3), ('followers', 10), ('likes', 2)]\n",
      "\n",
      " ***** END *****\n"
     ]
    }
   ],
   "source": [
    "# Result 2\n",
    "try:\n",
    "    my_dict = {\n",
    "        \"likes\": 2,\n",
    "        \"dislikes\": 3,\n",
    "        \"followers\": 10\n",
    "        }\n",
    "    tupl = dict_to_list(my_dict)\n",
    "except Exception as err:\n",
    "    print(err)\n",
    "else:\n",
    "    print(f\"Original dictionary: {my_dict}\")\n",
    "    print(f\"\\n Resultant tuple is: {tupl}\")\n",
    "finally:\n",
    "    print(\"\\n ***** END *****\")"
   ]
  },
  {
   "cell_type": "markdown",
   "id": "6444b97e",
   "metadata": {},
   "source": [
    "***"
   ]
  },
  {
   "cell_type": "markdown",
   "id": "5173a73e",
   "metadata": {},
   "source": [
    "**Question3**\n",
    "\n",
    "Write a function that creates a dictionary with each (key, value) pair being the (lower case, upper case) versions of a letter, respectively.\n",
    "\n",
    "**Examples:**\n",
    "\n",
    "    mapping([\"p\", \"s\"]) ➞ { \"p\": \"P\", \"s\": \"S\" }\n",
    "    mapping([\"a\", \"b\", \"c\"]) ➞ { \"a\": \"A\", \"b\": \"B\", \"c\": \"C\" }\n",
    "    mapping([\"a\", \"v\", \"y\", \"z\"]) ➞ { \"a\": \"A\", \"v\": \"V\", \"y\": \"Y\", \"z\": \"Z\" }\n",
    "\n",
    "**Notes:**\n",
    "All of the letters in the input list will always be lowercase."
   ]
  },
  {
   "cell_type": "code",
   "execution_count": 8,
   "id": "7b0b66de",
   "metadata": {},
   "outputs": [],
   "source": [
    "def mapping(my_lst):\n",
    "    \"\"\"\n",
    "    This function that creates a dictionary with each (key, value) pair being \n",
    "    the (lower case, upper case) versions of a letter, respectively.\n",
    "    \"\"\"\n",
    "    \n",
    "    res_dict = { ele : ele.upper() for ele in my_lst}\n",
    "    return res_dict"
   ]
  },
  {
   "cell_type": "code",
   "execution_count": 9,
   "id": "a22f88e0",
   "metadata": {},
   "outputs": [
    {
     "name": "stdout",
     "output_type": "stream",
     "text": [
      " Enter the alphabets in lower case (comma separated): p,q,r\n",
      "\n",
      " Newly created dictionary : {'p': 'P', 'q': 'Q', 'r': 'R'}\n",
      "\n",
      " ***** END *****\n"
     ]
    }
   ],
   "source": [
    "# Result 1\n",
    "try:\n",
    "    lst = list(input(\" Enter the alphabets in lower case (comma separated): \").split(\",\"))\n",
    "    result = mapping(lst)\n",
    "except Exception as err:\n",
    "    print(err)\n",
    "else:\n",
    "    print(f\"\\n Newly created dictionary : {result}\")\n",
    "finally:\n",
    "    print(\"\\n ***** END *****\")"
   ]
  },
  {
   "cell_type": "code",
   "execution_count": 10,
   "id": "eb7855ba",
   "metadata": {},
   "outputs": [
    {
     "name": "stdout",
     "output_type": "stream",
     "text": [
      " Enter the alphabets in lower case (comma separated): a,v,y,z\n",
      "\n",
      " Newly created dictionary : {'a': 'A', 'v': 'V', 'y': 'Y', 'z': 'Z'}\n",
      "\n",
      " ***** END *****\n"
     ]
    }
   ],
   "source": [
    "# Result 2\n",
    "try:\n",
    "    lst = list(input(\" Enter the alphabets in lower case (comma separated): \").split(\",\"))\n",
    "    result = mapping(lst)\n",
    "except Exception as err:\n",
    "    print(err)\n",
    "else:\n",
    "    print(f\"\\n Newly created dictionary : {result}\")\n",
    "finally:\n",
    "    print(\"\\n ***** END *****\")"
   ]
  },
  {
   "cell_type": "markdown",
   "id": "be27a99f",
   "metadata": {},
   "source": [
    "***"
   ]
  },
  {
   "cell_type": "markdown",
   "id": "53cabaa9",
   "metadata": {},
   "source": [
    "**Question4**\n",
    "\n",
    "Write a function, that replaces all vowels in a string with a specified vowel.\n",
    "\n",
    "**Examples:**\n",
    "\n",
    "    vow_replace(\"apples and bananas\", \"u\") ➞ \"upplus und bununus\"\n",
    "    vow_replace(\"cheese casserole\", \"o\") ➞ \"chooso cossorolo\"\n",
    "    vow_replace(\"stuffed jalapeno poppers\", \"e\") ➞ \"steffed jelepene peppers\"\n",
    "\n",
    "**Notes:**\n",
    "All words will be lowercase. Y is not considered a vowel."
   ]
  },
  {
   "cell_type": "code",
   "execution_count": 12,
   "id": "13685678",
   "metadata": {},
   "outputs": [],
   "source": [
    "def vow_replace(inp_str, rep_char):\n",
    "    \"\"\"\n",
    "    This function will replace all the vowels with the char passed in the argument.\n",
    "    \"\"\"\n",
    " \n",
    "    # string of vowels\n",
    "    vowels = 'aeiou'\n",
    " \n",
    "    for ele in vowels:\n",
    "        inp_str = inp_str.replace(ele, rep_char)\n",
    " \n",
    "    return inp_str"
   ]
  },
  {
   "cell_type": "code",
   "execution_count": 14,
   "id": "373a5f0c",
   "metadata": {},
   "outputs": [
    {
     "name": "stdout",
     "output_type": "stream",
     "text": [
      " Enter the string in lower case: \n",
      "apples and bananas\n",
      " Enter the char to replace the vowels: \n",
      "u\n",
      "\n",
      " After replacing vowels with the specified character: \n",
      " upplus und bununus\n",
      "\n",
      " ***** END *****\n"
     ]
    }
   ],
   "source": [
    "# Result 1\n",
    "try:\n",
    "    input_str = input(\" Enter the string in lower case: \\n\")\n",
    "    rep_char = input(\" Enter the char to replace the vowels: \\n\")\n",
    "    result = vow_replace(input_str, rep_char)\n",
    "except Exception as err:\n",
    "    print(err)\n",
    "else:\n",
    "    print(f\"\\n After replacing vowels with the specified character: \\n {result}\")\n",
    "finally:\n",
    "    print(\"\\n ***** END *****\")"
   ]
  },
  {
   "cell_type": "code",
   "execution_count": 15,
   "id": "36934b89",
   "metadata": {},
   "outputs": [
    {
     "name": "stdout",
     "output_type": "stream",
     "text": [
      " Enter the string in lower case: \n",
      "cheese casserole\n",
      " Enter the char to replace the vowels: \n",
      "o\n",
      "\n",
      " After replacing vowels with the specified character: \n",
      " chooso cossorolo\n",
      "\n",
      " ***** END *****\n"
     ]
    }
   ],
   "source": [
    "# Result 2\n",
    "try:\n",
    "    input_str = input(\" Enter the string in lower case: \\n\")\n",
    "    rep_char = input(\" Enter the char to replace the vowels: \\n\")\n",
    "    result = vow_replace(input_str, rep_char)\n",
    "except Exception as err:\n",
    "    print(err)\n",
    "else:\n",
    "    print(f\"\\n After replacing vowels with the specified character: \\n {result}\")\n",
    "finally:\n",
    "    print(\"\\n ***** END *****\")"
   ]
  },
  {
   "cell_type": "code",
   "execution_count": 16,
   "id": "34e81b6a",
   "metadata": {},
   "outputs": [
    {
     "name": "stdout",
     "output_type": "stream",
     "text": [
      " Enter the string in lower case: \n",
      "stuffed jalapeno poppers\n",
      " Enter the char to replace the vowels: \n",
      "e\n",
      "\n",
      " After replacing vowels with the specified character: \n",
      " steffed jelepene peppers\n",
      "\n",
      " ***** END *****\n"
     ]
    }
   ],
   "source": [
    "# Result 3\n",
    "try:\n",
    "    input_str = input(\" Enter the string in lower case: \\n\")\n",
    "    rep_char = input(\" Enter the char to replace the vowels: \\n\")\n",
    "    result = vow_replace(input_str, rep_char)\n",
    "except Exception as err:\n",
    "    print(err)\n",
    "else:\n",
    "    print(f\"\\n After replacing vowels with the specified character: \\n {result}\")\n",
    "finally:\n",
    "    print(\"\\n ***** END *****\")"
   ]
  },
  {
   "cell_type": "markdown",
   "id": "8da0f41a",
   "metadata": {},
   "source": [
    "***"
   ]
  },
  {
   "cell_type": "markdown",
   "id": "2ba3d6b6",
   "metadata": {},
   "source": [
    "**Question5**\n",
    "\n",
    "Create a function that takes a string as input and capitalizes a letter if its ASCII code is even and returns its lower case version if its ASCII code is odd.\n",
    "\n",
    "**Examples:**\n",
    "\n",
    "    ascii_capitalize(\"to be or not to be!\") ➞ \"To Be oR NoT To Be!\"\n",
    "    ascii_capitalize(\"THE LITTLE MERMAID\") ➞ \"THe LiTTLe meRmaiD\"\n",
    "    ascii_capitalize(\"Oh what a beautiful morning.\") ➞ \"oH wHaT a BeauTiFuL moRNiNg.\""
   ]
  },
  {
   "cell_type": "code",
   "execution_count": 17,
   "id": "0cc82b80",
   "metadata": {},
   "outputs": [],
   "source": [
    "def ascii_capitalize(inp_str):\n",
    "    \"\"\"\n",
    "    This function that takes a string as input and capitalizes a letter if its ASCII code is even \n",
    "    and returns its lower case version if its ASCII code is odd.\n",
    "    \"\"\"\n",
    "    \n",
    "    my_str = \"\"\n",
    "    for i in inp_str:\n",
    "        ascii_val = ord(i)\n",
    "        \n",
    "        # if the char is upper or lower case, then process the even/odd logic; else, write the same char\n",
    "        if (ascii_val >= 65 and ascii_val <= 90) or (ascii_val >= 97 and ascii_val <= 122):\n",
    "            if (ascii_val % 2 == 0):    # even ascii val\n",
    "                my_str += i.upper()\n",
    "            elif (ascii_val % 2 != 0):   # odd ascii val\n",
    "                my_str += i.lower()\n",
    "        else:\n",
    "            my_str += i\n",
    "\n",
    "    return my_str"
   ]
  },
  {
   "cell_type": "code",
   "execution_count": 18,
   "id": "d62b475b",
   "metadata": {},
   "outputs": [
    {
     "name": "stdout",
     "output_type": "stream",
     "text": [
      " Enter the sentence: \n",
      "to be or not to be!\n",
      "\n",
      " Sentence after the string manipulation: \n",
      " To Be oR NoT To Be!\n",
      "\n",
      " ***** END *****\n"
     ]
    }
   ],
   "source": [
    "# Result 1\n",
    "try:\n",
    "    input_str = input(\" Enter the sentence: \\n\")\n",
    "    result = ascii_capitalize(input_str)\n",
    "except Exception as err:\n",
    "    print(err)\n",
    "else:\n",
    "    print(f\"\\n Sentence after the string manipulation: \\n {result}\")\n",
    "finally:\n",
    "    print(\"\\n ***** END *****\")"
   ]
  },
  {
   "cell_type": "code",
   "execution_count": 19,
   "id": "72794b2c",
   "metadata": {},
   "outputs": [
    {
     "name": "stdout",
     "output_type": "stream",
     "text": [
      " Enter the sentence: \n",
      "THE LITTLE MERMAID\n",
      "\n",
      " Sentence after the string manipulation: \n",
      " THe LiTTLe meRmaiD\n",
      "\n",
      " ***** END *****\n"
     ]
    }
   ],
   "source": [
    "# Result 2\n",
    "try:\n",
    "    input_str = input(\" Enter the sentence: \\n\")\n",
    "    result = ascii_capitalize(input_str)\n",
    "except Exception as err:\n",
    "    print(err)\n",
    "else:\n",
    "    print(f\"\\n Sentence after the string manipulation: \\n {result}\")\n",
    "finally:\n",
    "    print(\"\\n ***** END *****\")"
   ]
  },
  {
   "cell_type": "code",
   "execution_count": 20,
   "id": "e2b96639",
   "metadata": {},
   "outputs": [
    {
     "name": "stdout",
     "output_type": "stream",
     "text": [
      " Enter the sentence: \n",
      "Oh what a beautiful morning.\n",
      "\n",
      " Sentence after the string manipulation: \n",
      " oH wHaT a BeauTiFuL moRNiNg.\n",
      "\n",
      " ***** END *****\n"
     ]
    }
   ],
   "source": [
    "# Result 3\n",
    "try:\n",
    "    input_str = input(\" Enter the sentence: \\n\")\n",
    "    result = ascii_capitalize(input_str)\n",
    "except Exception as err:\n",
    "    print(err)\n",
    "else:\n",
    "    print(f\"\\n Sentence after the string manipulation: \\n {result}\")\n",
    "finally:\n",
    "    print(\"\\n ***** END *****\")"
   ]
  },
  {
   "cell_type": "markdown",
   "id": "f69b2b28",
   "metadata": {},
   "source": [
    "***"
   ]
  }
 ],
 "metadata": {
  "kernelspec": {
   "display_name": "Python 3",
   "language": "python",
   "name": "python3"
  },
  "language_info": {
   "codemirror_mode": {
    "name": "ipython",
    "version": 3
   },
   "file_extension": ".py",
   "mimetype": "text/x-python",
   "name": "python",
   "nbconvert_exporter": "python",
   "pygments_lexer": "ipython3",
   "version": "3.8.8"
  }
 },
 "nbformat": 4,
 "nbformat_minor": 5
}
