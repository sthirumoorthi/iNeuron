{
 "cells": [
  {
   "cell_type": "markdown",
   "id": "6bec3f66",
   "metadata": {},
   "source": [
    "**1. Write a Python Program to find sum of array?**"
   ]
  },
  {
   "cell_type": "code",
   "execution_count": 1,
   "id": "112c630d",
   "metadata": {},
   "outputs": [
    {
     "name": "stdout",
     "output_type": "stream",
     "text": [
      " Enter array elements: 10 20 30 40 50\n",
      "Sum of the array is: 150\n"
     ]
    }
   ],
   "source": [
    "import array as arr\n",
    "\n",
    "lst = []\n",
    "try:\n",
    "    # dynamic array. It can have any no of integers\n",
    "    lst = list(map(int, input(\" Enter array elements: \").split()))\n",
    "except ValueError as err:\n",
    "    print(f\"{err}. Please enter only positive integer\")\n",
    "except:\n",
    "    print(\"There is an issue in the program. Please troubleshoot and try again\")\n",
    "else:\n",
    "    arr_lst = arr.array('i', lst)     #convert the list into array\n",
    "    print(f\"Sum of the array is: {sum(arr_lst)}\")"
   ]
  },
  {
   "cell_type": "markdown",
   "id": "e8a297b0",
   "metadata": {},
   "source": [
    "***"
   ]
  },
  {
   "cell_type": "markdown",
   "id": "b596915d",
   "metadata": {},
   "source": [
    "**2. Write a Python Program to find largest element in an array?**"
   ]
  },
  {
   "cell_type": "code",
   "execution_count": 3,
   "id": "cb642ed8",
   "metadata": {},
   "outputs": [
    {
     "name": "stdout",
     "output_type": "stream",
     "text": [
      " Enter array elements: 20 10 20 5 100\n",
      "The largest element in the given array is: 100\n"
     ]
    }
   ],
   "source": [
    "## import array as arr\n",
    "import array as arr\n",
    "\n",
    "lst = []\n",
    "try:\n",
    "    # dynamic array. It can have any no of integers\n",
    "    lst = list(map(int, input(\" Enter array elements: \").split()))\n",
    "except ValueError as err:\n",
    "    print(f\"{err}. Please enter only positive integer\")\n",
    "except:\n",
    "    print(\"There is an issue in the program. Please troubleshoot and try again\")\n",
    "else:\n",
    "    arr_lst = arr.array('i', lst)     #convert the list into array\n",
    "    print(f\"The largest element in the given array is: {max(arr_lst)}\")"
   ]
  },
  {
   "cell_type": "markdown",
   "id": "6444b97e",
   "metadata": {},
   "source": [
    "***"
   ]
  },
  {
   "cell_type": "markdown",
   "id": "5173a73e",
   "metadata": {},
   "source": [
    "**3. Write a Python Program for array rotation?**"
   ]
  },
  {
   "cell_type": "code",
   "execution_count": 5,
   "id": "7b0b66de",
   "metadata": {},
   "outputs": [
    {
     "name": "stdout",
     "output_type": "stream",
     "text": [
      " Enter array elements: 10 20 30 40 50 60 70 80 90 100\n",
      "The reverse order of the given array is: \n",
      "100 90 80 70 60 50 40 30 20 10 "
     ]
    }
   ],
   "source": [
    "import array as arr\n",
    "\n",
    "lst = []\n",
    "try:\n",
    "    # dynamic array. It can have any no of integers\n",
    "    lst = list(map(int, input(\" Enter array elements: \").split()))\n",
    "\n",
    "except ValueError as err:\n",
    "    print(f\"{err}. Please enter only positive integer\")\n",
    "\n",
    "except:\n",
    "    print(\"There is an issue in the program. Please troubleshoot and try again\")\n",
    "\n",
    "else:\n",
    "    arr_lst = arr.array('i', lst)     #convert the list into array\n",
    "    \n",
    "    print(\"The reverse order of the given array is: \")\n",
    "    # start the loop with highest index and increment the loop variable by -1 until it reaches 0.\n",
    "    for i in range (len(arr_lst)-1, -1, -1):\n",
    "        print (arr_lst[i], end =\" \")"
   ]
  },
  {
   "cell_type": "markdown",
   "id": "be27a99f",
   "metadata": {},
   "source": [
    "***"
   ]
  },
  {
   "cell_type": "markdown",
   "id": "53cabaa9",
   "metadata": {},
   "source": [
    "**4. Write a Python Program to Split the array and add the first part to the end?**"
   ]
  },
  {
   "cell_type": "code",
   "execution_count": 6,
   "id": "13685678",
   "metadata": {},
   "outputs": [
    {
     "name": "stdout",
     "output_type": "stream",
     "text": [
      " Enter array elements: 1 2 3 4 5 6 7 8\n",
      " Enter the position of array element to split: 2\n",
      "\n",
      " New array elements after the split:\n",
      "3 4 5 6 7 8 1 2 "
     ]
    }
   ],
   "source": [
    "import array as arr\n",
    "\n",
    "lst = []\n",
    "try:\n",
    "    # dynamic array. It can have any no of integers\n",
    "    lst = list(map(int, input(\" Enter array elements: \").split()))\n",
    "    pos = int(input(\" Enter the position of array element to split: \"))\n",
    "\n",
    "except ValueError as err:\n",
    "    print(f\"{err}. Please enter only positive integer\")\n",
    "\n",
    "except:\n",
    "    print(\"There is an issue in the program. Please troubleshoot and try again\")\n",
    "\n",
    "else:\n",
    "    arr_lst = arr.array('i', lst)     \n",
    "    \n",
    "    # find the length of array and use slicing technique to split the array\n",
    "    n=len(arr_lst)    \n",
    "    arr_lst[:] = arr_lst[pos:n] + arr_lst[0:pos]\n",
    "    \n",
    "    # display the new array elements\n",
    "    print(\"\\n New array elements after the split:\")\n",
    "    for i in range (0, n):\n",
    "        print (arr_lst[i], end =\" \")"
   ]
  },
  {
   "cell_type": "markdown",
   "id": "8da0f41a",
   "metadata": {},
   "source": [
    "***"
   ]
  },
  {
   "cell_type": "markdown",
   "id": "2ba3d6b6",
   "metadata": {},
   "source": [
    "**5. Write a Python Program to check if given array is Monotonic?**"
   ]
  },
  {
   "cell_type": "markdown",
   "id": "ffd6d167",
   "metadata": {},
   "source": [
    "    An array is monotonic if and only if it is monotone increasing, or monotone decreasing.\n",
    "    \n",
    "    for all i <= j, A[i] <= A[j]\n",
    "    [1, 2, 3, 4, 7, 10] is monotonic increasing\n",
    "    \n",
    "    for all i <= j, A[i] >= A[j]\n",
    "    [11, 10, 9, 6, 4, 1] is monotonic decreasing"
   ]
  },
  {
   "cell_type": "code",
   "execution_count": 7,
   "id": "0cc82b80",
   "metadata": {},
   "outputs": [],
   "source": [
    "import array as arr\n",
    "\n",
    "def isMonotone(array_items):\n",
    "    \"\"\"\n",
    "    This function checks whether the given array is monotonic increasing or decreasing and \n",
    "    returns True if it satisfies the monotnonic logic\n",
    "    \"\"\"\n",
    "    \n",
    "    n=len(array_items) \n",
    "    if n==1:\n",
    "        return True\n",
    "    else:\n",
    "        #check for monotone behaviour\n",
    "        if (all(array_items[i]>=array_items[i+1] for i in range(0,n-1)) or \n",
    "            all(array_items[i]<=array_items[i+1] for i in range(0,n-1))):\n",
    "            return True\n",
    "        else:\n",
    "            return False"
   ]
  },
  {
   "cell_type": "code",
   "execution_count": 8,
   "id": "69dd858f",
   "metadata": {},
   "outputs": [
    {
     "name": "stdout",
     "output_type": "stream",
     "text": [
      " Enter array elements: 3 6 7 9 12 16 18 20 21 36\n",
      "The input array is Monotonic\n"
     ]
    }
   ],
   "source": [
    "try:\n",
    "    # dynamic array. It can have any no of integers\n",
    "    lst = list(map(int, input(\" Enter array elements: \").split()))\n",
    "    \n",
    "except ValueError as err:\n",
    "    print(f\"{err}. Please enter only positive integer\")\n",
    "\n",
    "except:\n",
    "    print(\"There is an issue in the program. Please troubleshoot and try again\")\n",
    "\n",
    "else:\n",
    "    arr_lst = arr.array('i', lst)     \n",
    "    \n",
    "    if isMonotone(arr_lst): \n",
    "        print(\"The input array is Monotonic\")\n",
    "    else:\n",
    "        print(\"The input array is not Monotonic\")"
   ]
  },
  {
   "cell_type": "markdown",
   "id": "f69b2b28",
   "metadata": {},
   "source": [
    "***"
   ]
  }
 ],
 "metadata": {
  "kernelspec": {
   "display_name": "Python 3",
   "language": "python",
   "name": "python3"
  },
  "language_info": {
   "codemirror_mode": {
    "name": "ipython",
    "version": 3
   },
   "file_extension": ".py",
   "mimetype": "text/x-python",
   "name": "python",
   "nbconvert_exporter": "python",
   "pygments_lexer": "ipython3",
   "version": "3.8.8"
  }
 },
 "nbformat": 4,
 "nbformat_minor": 5
}
