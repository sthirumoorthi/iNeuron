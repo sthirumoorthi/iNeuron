{
 "cells": [
  {
   "cell_type": "markdown",
   "id": "6bec3f66",
   "metadata": {},
   "source": [
    "**Question 1**\n",
    "\n",
    "    Create a function that takes a list of non-negative integers and strings and return a new list without the strings.\n",
    "\n",
    "**Examples:**\n",
    "\n",
    "    filter_list([1, 2, \"a\", \"b\"]) ➞ [1, 2]\n",
    "    filter_list([1, \"a\", \"b\", 0, 15]) ➞ [1, 0, 15]\n",
    "    filter_list([1, 2, \"aasf\", \"1\", \"123\", 123]) ➞ [1, 2, 123]"
   ]
  },
  {
   "cell_type": "code",
   "execution_count": 7,
   "id": "112c630d",
   "metadata": {},
   "outputs": [],
   "source": [
    "def filter_list(my_lst):\n",
    "    \"\"\"\n",
    "    This function takes a list of non-negative integers and strings \n",
    "    and return a new list without the strings\n",
    "    \"\"\"\n",
    "    new_list = []\n",
    "    for ele in my_lst:\n",
    "        if type(ele) == int:\n",
    "            new_list.append(ele)\n",
    "    return new_list"
   ]
  },
  {
   "cell_type": "code",
   "execution_count": 10,
   "id": "998afd04",
   "metadata": {},
   "outputs": [
    {
     "name": "stdout",
     "output_type": "stream",
     "text": [
      "Original list: [1, 2, 'a', 'b']\n",
      "New list without strings: \n",
      " [1, 2]\n",
      "\n",
      " ***** END *****\n"
     ]
    }
   ],
   "source": [
    "# Result 1\n",
    "try:\n",
    "    my_lst = [1, 2, \"a\", \"b\"]\n",
    "    result = filter_list(my_lst)\n",
    "except Exception as err:\n",
    "    print(err)\n",
    "else:\n",
    "    print(f\"Original list: {my_lst}\")\n",
    "    print(f\"New list without strings: \\n {result}\")\n",
    "finally:\n",
    "    print(\"\\n ***** END *****\")"
   ]
  },
  {
   "cell_type": "code",
   "execution_count": 11,
   "id": "8bcac376",
   "metadata": {},
   "outputs": [
    {
     "name": "stdout",
     "output_type": "stream",
     "text": [
      "Original list: [1, 2, 'aasf', '1', '123', 123]\n",
      "New list without strings: \n",
      " [1, 2, 123]\n",
      "\n",
      " ***** END *****\n"
     ]
    }
   ],
   "source": [
    "# Result 2\n",
    "try:\n",
    "    my_lst = [1, 2, \"aasf\", \"1\", \"123\", 123]\n",
    "    result = filter_list(my_lst)\n",
    "except Exception as err:\n",
    "    print(err)\n",
    "else:\n",
    "    print(f\"Original list: {my_lst}\")\n",
    "    print(f\"New list without strings: \\n {result}\")\n",
    "finally:\n",
    "    print(\"\\n ***** END *****\")"
   ]
  },
  {
   "cell_type": "markdown",
   "id": "e8a297b0",
   "metadata": {},
   "source": [
    "***"
   ]
  },
  {
   "cell_type": "markdown",
   "id": "b596915d",
   "metadata": {},
   "source": [
    "**Question 2**\n",
    "    \n",
    "    The \"Reverser\" takes a string as input and returns that string in reverse order, with the opposite case.\n",
    "\n",
    "**Examples:**\n",
    "\n",
    "    reverse(\"Hello World\") ➞ \"DLROw OLLEh\"\n",
    "    reverse(\"ReVeRsE\") ➞ \"eSrEvEr\"\n",
    "    reverse(\"Radar\") ➞ \"RADAr\""
   ]
  },
  {
   "cell_type": "code",
   "execution_count": 26,
   "id": "bda3681a",
   "metadata": {},
   "outputs": [],
   "source": [
    "def reverse(my_str):\n",
    "    new_str = my_str[::-1]\n",
    "    new =\"\"\n",
    "    for char in new_str:\n",
    "        if char.isalpha() and char.islower():\n",
    "            new += char.upper()\n",
    "        elif char.isalpha() and char.isupper():\n",
    "            new += char.lower()\n",
    "        else:\n",
    "            new += char\n",
    "    return new"
   ]
  },
  {
   "cell_type": "code",
   "execution_count": 31,
   "id": "6b236ca1",
   "metadata": {},
   "outputs": [
    {
     "name": "stdout",
     "output_type": "stream",
     "text": [
      "  Enter the string to reverse: Hello World\n",
      "String reversal with opposite case: --> DLROw OLLEh\n",
      "\n",
      " ***** END *****\n"
     ]
    }
   ],
   "source": [
    "# Main driver (Result 1)\n",
    "try:\n",
    "    my_str = input(\"  Enter the string to reverse: \")\n",
    "    result = reverse(my_str)\n",
    "except Exception as err:\n",
    "    print(err)\n",
    "else:\n",
    "    print(f\"String reversal with opposite case: --> {result}\")\n",
    "finally:\n",
    "    print(\"\\n ***** END *****\")"
   ]
  },
  {
   "cell_type": "markdown",
   "id": "6444b97e",
   "metadata": {},
   "source": [
    "***"
   ]
  },
  {
   "cell_type": "markdown",
   "id": "5173a73e",
   "metadata": {},
   "source": [
    "**Question 3**\n",
    "\n",
    "You can assign variables from lists like this:\n",
    "\n",
    "    lst = [1, 2, 3, 4, 5, 6]\n",
    "    first = lst[0]\n",
    "    middle = lst[1:-1]\n",
    "    last = lst[-1]\n",
    "\n",
    "    print(first) ➞ outputs 1\n",
    "    print(middle) ➞ outputs [2, 3, 4, 5]\n",
    "    print(last) ➞ outputs 6\n",
    "\n",
    "With Python 3, you can assign variables from lists in a much more succinct way. Create variables first, middle and last from the given list using destructuring assignment (check the Resources tab for some examples), where:\n",
    "\n",
    "    first ➞ 1\n",
    "    middle ➞ [2, 3, 4, 5]\n",
    "    last ➞ 6\n",
    "\n",
    "Your task is to unpack the list writeyourcodehere into three variables, being first, middle, and last, with middle being everything in between the first and last element. Then print all three variables."
   ]
  },
  {
   "cell_type": "code",
   "execution_count": 32,
   "id": "7b0b66de",
   "metadata": {},
   "outputs": [
    {
     "name": "stdout",
     "output_type": "stream",
     "text": [
      " Enter the list elements: 1, 2, 3, 4, 5, 6\n",
      "First --> 1\n",
      "Middle --> [2, 3, 4, 5]\n",
      "Last --> 6\n",
      "\n",
      " ***** END *****\n"
     ]
    }
   ],
   "source": [
    "try:\n",
    "    my_lst = list(map(int, input(\" Enter the list elements: \").split(\",\")))\n",
    "    first, *middle, last = my_lst\n",
    "except Exception as err:\n",
    "    print(err)\n",
    "else:\n",
    "    print(f\"First --> {first}\")\n",
    "    print(f\"Middle --> {middle}\")\n",
    "    print(f\"Last --> {last}\")\n",
    "finally:\n",
    "    print(\"\\n ***** END *****\")"
   ]
  },
  {
   "cell_type": "markdown",
   "id": "be27a99f",
   "metadata": {},
   "source": [
    "***"
   ]
  },
  {
   "cell_type": "markdown",
   "id": "53cabaa9",
   "metadata": {},
   "source": [
    "**Question 4**\n",
    "\n",
    "    Write a function that calculates the factorial of a number recursively.\n",
    "\n",
    "**Examples:**\n",
    "\n",
    "    factorial(5) ➞ 120\n",
    "    factorial(3) ➞ 6\n",
    "    factorial(1) ➞ 1\n",
    "    factorial(0) ➞ 1"
   ]
  },
  {
   "cell_type": "code",
   "execution_count": 33,
   "id": "13685678",
   "metadata": {},
   "outputs": [],
   "source": [
    "def factorial(n):\n",
    "    \"\"\"\n",
    "    This is a recursive function which will return the factorial of any input integer\n",
    "    \"\"\"\n",
    "    \n",
    "    if n == 1:\n",
    "        return 1\n",
    "    else:\n",
    "        return n * factorial(n-1)"
   ]
  },
  {
   "cell_type": "code",
   "execution_count": 34,
   "id": "43e0d1e5",
   "metadata": {},
   "outputs": [
    {
     "name": "stdout",
     "output_type": "stream",
     "text": [
      "Enter the number to find its factorial: 5\n",
      "\n",
      " The factorial of 5 is: 120\n",
      "\n",
      " ***** END *****\n"
     ]
    }
   ],
   "source": [
    "try:\n",
    "    num = int(input(\"Enter the number to find its factorial: \"))\n",
    "    result = factorial(num)\n",
    "except Exception as err:\n",
    "    print(err)\n",
    "else:\n",
    "    print(f\"\\n The factorial of {num} is: {result}\")\n",
    "finally:\n",
    "    print(\"\\n ***** END *****\")"
   ]
  },
  {
   "cell_type": "markdown",
   "id": "8da0f41a",
   "metadata": {},
   "source": [
    "***"
   ]
  },
  {
   "cell_type": "markdown",
   "id": "2ba3d6b6",
   "metadata": {},
   "source": [
    "**Question 5**\n",
    "\n",
    "Write a function that moves all elements of one type to the end of the list.\n",
    "\n",
    "**Examples:**\n",
    "\n",
    "    move_to_end([1, 3, 2, 4, 4, 1], 1) ➞ [3, 2, 4, 4, 1, 1]\n",
    "    # Move all the 1s to the end of the array.\n",
    "    \n",
    "    move_to_end([7, 8, 9, 1, 2, 3, 4], 9) ➞ [7, 8, 1, 2, 3, 4, 9]\n",
    "    \n",
    "    move_to_end([\"a\", \"a\", \"a\", \"b\"], \"a\") ➞ [\"b\", \"a\", \"a\", \"a\"]"
   ]
  },
  {
   "cell_type": "code",
   "execution_count": 47,
   "id": "0cc82b80",
   "metadata": {},
   "outputs": [],
   "source": [
    "def move_to_end(my_lst, match_str):\n",
    "    \"\"\"\n",
    "    This function will move all elements of one type to the end of the list.\n",
    "    The list values and matching will be passed as an argument.\n",
    "    \"\"\"\n",
    "    \n",
    "    idx = 0\n",
    "    for ele in my_lst:\n",
    "        if ele != match_str:\n",
    "            my_lst[idx] = ele\n",
    "            idx += 1\n",
    "    for i in range(idx, len(my_lst)):\n",
    "        my_lst[i] = match_str\n",
    "        \n",
    "    return my_lst"
   ]
  },
  {
   "cell_type": "code",
   "execution_count": 50,
   "id": "71639c73",
   "metadata": {},
   "outputs": [
    {
     "name": "stdout",
     "output_type": "stream",
     "text": [
      "Original list: [1, 3, 2, 4, 4, 1]\n",
      "New list after the arrangement: \n",
      " [3, 2, 4, 4, 1, 1]\n",
      "\n",
      " ***** END *****\n"
     ]
    }
   ],
   "source": [
    "# Result 1\n",
    "try:\n",
    "    lst = [1, 3, 2, 4, 4, 1]\n",
    "    lst1 = lst.copy()\n",
    "    result = move_to_end(lst1, 1)\n",
    "except Exception as err:\n",
    "    print(err)\n",
    "else:\n",
    "    print(f\"Original list: {lst}\")\n",
    "    print(f\"New list after the arrangement: \\n {result}\")\n",
    "finally:\n",
    "    print(\"\\n ***** END *****\")"
   ]
  },
  {
   "cell_type": "code",
   "execution_count": 51,
   "id": "cf824472",
   "metadata": {},
   "outputs": [
    {
     "name": "stdout",
     "output_type": "stream",
     "text": [
      "Original list: ['a', 'a', 'a', 'b']\n",
      "New list after the arrangement: \n",
      " ['b', 'a', 'a', 'a']\n",
      "\n",
      " ***** END *****\n"
     ]
    }
   ],
   "source": [
    "# Result 2\n",
    "try:\n",
    "    lst = [\"a\", \"a\", \"a\", \"b\"]\n",
    "    lst1 = lst.copy()\n",
    "    result = move_to_end(lst1, \"a\")\n",
    "except Exception as err:\n",
    "    print(err)\n",
    "else:\n",
    "    print(f\"Original list: {lst}\")\n",
    "    print(f\"New list after the arrangement: \\n {result}\")\n",
    "finally:\n",
    "    print(\"\\n ***** END *****\")"
   ]
  },
  {
   "cell_type": "code",
   "execution_count": 52,
   "id": "0281f26a",
   "metadata": {},
   "outputs": [
    {
     "name": "stdout",
     "output_type": "stream",
     "text": [
      "Original list: [7, 8, 9, 1, 2, 3, 4]\n",
      "New list after the arrangement: \n",
      " [7, 8, 1, 2, 3, 4, 9]\n",
      "\n",
      " ***** END *****\n"
     ]
    }
   ],
   "source": [
    "# Result 3\n",
    "try:\n",
    "    lst = [7, 8, 9, 1, 2, 3, 4]\n",
    "    lst1 = lst.copy()\n",
    "    result = move_to_end(lst1, 9)\n",
    "except Exception as err:\n",
    "    print(err)\n",
    "else:\n",
    "    print(f\"Original list: {lst}\")\n",
    "    print(f\"New list after the arrangement: \\n {result}\")\n",
    "finally:\n",
    "    print(\"\\n ***** END *****\")"
   ]
  },
  {
   "cell_type": "markdown",
   "id": "f69b2b28",
   "metadata": {},
   "source": [
    "***"
   ]
  }
 ],
 "metadata": {
  "kernelspec": {
   "display_name": "Python 3",
   "language": "python",
   "name": "python3"
  },
  "language_info": {
   "codemirror_mode": {
    "name": "ipython",
    "version": 3
   },
   "file_extension": ".py",
   "mimetype": "text/x-python",
   "name": "python",
   "nbconvert_exporter": "python",
   "pygments_lexer": "ipython3",
   "version": "3.8.8"
  }
 },
 "nbformat": 4,
 "nbformat_minor": 5
}
