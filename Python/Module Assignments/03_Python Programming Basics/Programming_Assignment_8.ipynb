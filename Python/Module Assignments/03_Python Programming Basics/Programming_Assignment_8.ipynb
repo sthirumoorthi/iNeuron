{
 "cells": [
  {
   "cell_type": "markdown",
   "id": "6bec3f66",
   "metadata": {},
   "source": [
    "**1. Write a Python Program to Add Two Matrices?**"
   ]
  },
  {
   "cell_type": "code",
   "execution_count": 1,
   "id": "b4c4bfd1",
   "metadata": {},
   "outputs": [],
   "source": [
    "def getMatrix():\n",
    "    \"\"\"\n",
    "    This function gets the size and elements of the array from the user.\n",
    "    Returns the row, column and matrix in order.\n",
    "    \"\"\"\n",
    "    try:\n",
    "        row = int(input(\"Enter the Number of rows : \" ))\n",
    "        col = int(input(\"Enter the Number of Columns: \"))\n",
    "        print(\"Enter the elements of the matrix:\")\n",
    "        matrix = [[int(input()) for i in range(col)] for i in range(row)]\n",
    "    except ValueError as err:\n",
    "        print(err)\n",
    "    \n",
    "    return row, col, matrix\n",
    "\n",
    "\n",
    "def dispMatrix(matrix):\n",
    "    \"\"\"\n",
    "    This function will display the matrix in matrix format.\n",
    "    \"\"\"\n",
    "    \n",
    "    for i in matrix:\n",
    "        print(i)"
   ]
  },
  {
   "cell_type": "code",
   "execution_count": 2,
   "id": "112c630d",
   "metadata": {},
   "outputs": [
    {
     "name": "stdout",
     "output_type": "stream",
     "text": [
      " First Matrix:\n",
      "Enter the Number of rows : 3\n",
      "Enter the Number of Columns: 3\n",
      "Enter the elements of the matrix:\n",
      "2\n",
      "4\n",
      "6\n",
      "7\n",
      "2\n",
      "9\n",
      "23\n",
      "12\n",
      "35\n",
      "[2, 4, 6]\n",
      "[7, 2, 9]\n",
      "[23, 12, 35]\n",
      "\n",
      " Second Matrix:\n",
      "Enter the Number of rows : 3\n",
      "Enter the Number of Columns: 3\n",
      "Enter the elements of the matrix:\n",
      "6\n",
      "20\n",
      "10\n",
      "14\n",
      "15\n",
      "28\n",
      "29\n",
      "40\n",
      "11\n",
      "[6, 20, 10]\n",
      "[14, 15, 28]\n",
      "[29, 40, 11]\n",
      "\n",
      " The Sum of Above two Matrices is : \n",
      "[8, 24, 16]\n",
      "[21, 17, 37]\n",
      "[52, 52, 46]\n"
     ]
    }
   ],
   "source": [
    "# Get the first matrix\n",
    "print(\" First Matrix:\")\n",
    "row_1, col_1, matrix_1 = getMatrix()\n",
    "dispMatrix(matrix_1)\n",
    "\n",
    "# Get the second matrix\n",
    "print(\"\\n Second Matrix:\")\n",
    "row_2, col_2, matrix_2 = getMatrix()\n",
    "dispMatrix(matrix_2)\n",
    "\n",
    "# Add the matrices only if the size matches.\n",
    "if (row_1 == row_2) and (col_1 == col_2):\n",
    "    result=[[0 for i in range(col_1)] for i in range(row_1)]\n",
    "\n",
    "    for i in range(row_1):\n",
    "        for j in range(col_1):\n",
    "            result[i][j] = matrix_1[i][j] + matrix_2[i][j]\n",
    "else:\n",
    "    print(\"The size of first and second matrix doesn't match. Please rerun the program with equal dimension\")\n",
    "\n",
    "print(\"\\n The Sum of Above two Matrices is : \")\n",
    "dispMatrix(result)"
   ]
  },
  {
   "cell_type": "markdown",
   "id": "e8a297b0",
   "metadata": {},
   "source": [
    "***"
   ]
  },
  {
   "cell_type": "markdown",
   "id": "b596915d",
   "metadata": {},
   "source": [
    "**2. Write a Python Program to Multiply Two Matrices?**"
   ]
  },
  {
   "cell_type": "markdown",
   "id": "3d61e42d",
   "metadata": {},
   "source": [
    "    Multiplication of Two Matrices Logic\n",
    "\n",
    "    We can perform the multiplication of matrices only if both the matrices follow these 2 criteria:\n",
    "    - The number of columns of the 1st matrix must be equal to the number of rows of the 2nd matrix.\n",
    "    - The result of their multiplication will have the same number of rows as the 1st matrix and the same number of columns as the 2nd matrix"
   ]
  },
  {
   "cell_type": "code",
   "execution_count": 3,
   "id": "bda3681a",
   "metadata": {},
   "outputs": [],
   "source": [
    "def getMatrix():\n",
    "    \"\"\"\n",
    "    This function gets the size and elements of the array from the user.\n",
    "    Returns the row, column and matrix in order.\n",
    "    \"\"\"\n",
    "    try:\n",
    "        row = int(input(\"Enter the Number of rows : \" ))\n",
    "        col = int(input(\"Enter the Number of Columns: \"))\n",
    "        print(\"Enter the elements of the matrix:\")\n",
    "        matrix = [[int(input()) for i in range(col)] for i in range(row)]\n",
    "    except ValueError as err:\n",
    "        print(err)\n",
    "    \n",
    "    return row, col, matrix\n",
    "\n",
    "def dispMatrix(matrix):\n",
    "    \"\"\"\n",
    "    This function will display the matrix in matrix format.\n",
    "    \"\"\"\n",
    "    \n",
    "    for i in matrix:\n",
    "        print(i)"
   ]
  },
  {
   "cell_type": "code",
   "execution_count": 4,
   "id": "7f5e1399",
   "metadata": {},
   "outputs": [
    {
     "name": "stdout",
     "output_type": "stream",
     "text": [
      " First Matrix:\n",
      "Enter the Number of rows : 3\n",
      "Enter the Number of Columns: 3\n",
      "Enter the elements of the matrix:\n",
      "1\n",
      "7\n",
      "3\n",
      "3\n",
      "5\n",
      "6\n",
      "6\n",
      "8\n",
      "9\n",
      "[1, 7, 3]\n",
      "[3, 5, 6]\n",
      "[6, 8, 9]\n",
      "\n",
      " Second Matrix:\n",
      "Enter the Number of rows : 3\n",
      "Enter the Number of Columns: 4\n",
      "Enter the elements of the matrix:\n",
      "1\n",
      "1\n",
      "1\n",
      "2\n",
      "6\n",
      "7\n",
      "3\n",
      "0\n",
      "4\n",
      "5\n",
      "9\n",
      "1\n",
      "[1, 1, 1, 2]\n",
      "[6, 7, 3, 0]\n",
      "[4, 5, 9, 1]\n",
      "\n",
      " The Multiplication of Above two Matrices is : \n",
      "[55, 65, 49, 5]\n",
      "[57, 68, 72, 12]\n",
      "[90, 107, 111, 21]\n"
     ]
    }
   ],
   "source": [
    "# Get the first matrix\n",
    "print(\" First Matrix:\")\n",
    "row_1, col_1, matrix_1 = getMatrix()\n",
    "dispMatrix(matrix_1)\n",
    "\n",
    "# Get the second matrix\n",
    "print(\"\\n Second Matrix:\")\n",
    "row_2, col_2, matrix_2 = getMatrix()\n",
    "dispMatrix(matrix_2)\n",
    "\n",
    "# Multiply the matrices only if the size matches.\n",
    "if (col_1 == row_2):\n",
    "    result=[[0 for i in range(col_2)] for i in range(row_1)]\n",
    "\n",
    "    for i in range(len(matrix_1)):\n",
    "        for j in range(len(matrix_2[0])):\n",
    "            for k in range(len(matrix_2)):\n",
    "                result [i][j] += matrix_1[i][k] * matrix_2[k][j]\n",
    "else:\n",
    "    print(\"The size of first and second matrix doesn't match multiplication rules. Please review the rules and rerun the program\")\n",
    "\n",
    "print(\"\\n The Multiplication of Above two Matrices is : \")\n",
    "dispMatrix(result)"
   ]
  },
  {
   "cell_type": "markdown",
   "id": "6444b97e",
   "metadata": {},
   "source": [
    "***"
   ]
  },
  {
   "cell_type": "markdown",
   "id": "5173a73e",
   "metadata": {},
   "source": [
    "**3. Write a Python Program to Transpose a Matrix?**"
   ]
  },
  {
   "cell_type": "code",
   "execution_count": 5,
   "id": "7b0b66de",
   "metadata": {},
   "outputs": [],
   "source": [
    "def getMatrix():\n",
    "    \"\"\"\n",
    "    This function gets the size and elements of the array from the user.\n",
    "    Returns the row, column and matrix in order.\n",
    "    \"\"\"\n",
    "    try:\n",
    "        row = int(input(\"Enter the Number of rows : \" ))\n",
    "        col = int(input(\"Enter the Number of Columns: \"))\n",
    "        print(\"Enter the elements of the matrix:\")\n",
    "        matrix = [[int(input()) for i in range(col)] for i in range(row)]\n",
    "    except ValueError as err:\n",
    "        print(err)\n",
    "    \n",
    "    return row, col, matrix\n",
    "\n",
    "def dispMatrix(matrix):\n",
    "    \"\"\"\n",
    "    This function will display the matrix in matrix format.\n",
    "    \"\"\"\n",
    "    \n",
    "    for i in matrix:\n",
    "        print(i)"
   ]
  },
  {
   "cell_type": "code",
   "execution_count": 6,
   "id": "6004d321",
   "metadata": {},
   "outputs": [
    {
     "name": "stdout",
     "output_type": "stream",
     "text": [
      "Enter the Number of rows : 3\n",
      "Enter the Number of Columns: 3\n",
      "Enter the elements of the matrix:\n",
      "1\n",
      "2\n",
      "3\n",
      "4\n",
      "5\n",
      "6\n",
      "7\n",
      "8\n",
      "9\n",
      "\n",
      " ---- Original Matrix is ---- \n",
      "[1, 2, 3]\n",
      "[4, 5, 6]\n",
      "[7, 8, 9]\n",
      "\n",
      " ---- Transposed Matrix is ---- \n",
      "[1, 4, 7]\n",
      "[2, 5, 8]\n",
      "[3, 6, 9]\n"
     ]
    }
   ],
   "source": [
    "# Get the matrix\n",
    "row, col, matrix = getMatrix()\n",
    "print(\"\\n ---- Original Matrix is ---- \")\n",
    "dispMatrix(matrix)\n",
    "\n",
    "result=[[0 for i in range(row)] for j in range(col)]\n",
    "\n",
    "for r in range(row):\n",
    "    for c in range(col):\n",
    "        result [c][r] = matrix[r][c]\n",
    "                \n",
    "print(\"\\n ---- Transposed Matrix is ---- \")\n",
    "dispMatrix(result)"
   ]
  },
  {
   "cell_type": "markdown",
   "id": "be27a99f",
   "metadata": {},
   "source": [
    "***"
   ]
  },
  {
   "cell_type": "markdown",
   "id": "53cabaa9",
   "metadata": {},
   "source": [
    "**4. Write a Python Program to Sort Words in Alphabetic Order?**"
   ]
  },
  {
   "cell_type": "code",
   "execution_count": 7,
   "id": "13685678",
   "metadata": {},
   "outputs": [
    {
     "name": "stdout",
     "output_type": "stream",
     "text": [
      "Enter a string: Beautiful is better than ugly and Explicit is better than implicit\n",
      "The sorted words are:\n",
      "and\n",
      "beautiful\n",
      "better\n",
      "better\n",
      "explicit\n",
      "implicit\n",
      "is\n",
      "is\n",
      "than\n",
      "than\n",
      "ugly\n"
     ]
    }
   ],
   "source": [
    "my_str = input(\"Enter a string: \")\n",
    "\n",
    "# breakdown the string into a list of words\n",
    "words = [word.lower() for word in my_str.split()]\n",
    "\n",
    "# sort the list\n",
    "words.sort()\n",
    "\n",
    "# display the sorted words\n",
    "print(\"The sorted words are:\")\n",
    "for word in words:\n",
    "    print(word)\n"
   ]
  },
  {
   "cell_type": "markdown",
   "id": "8da0f41a",
   "metadata": {},
   "source": [
    "***"
   ]
  },
  {
   "cell_type": "markdown",
   "id": "2ba3d6b6",
   "metadata": {},
   "source": [
    "**5. Write a Python Program to Remove Punctuation From a String?**"
   ]
  },
  {
   "cell_type": "code",
   "execution_count": 8,
   "id": "0cc82b80",
   "metadata": {},
   "outputs": [
    {
     "data": {
      "text/plain": [
       "'!\"#$%&\\'()*+,-./:;<=>?@[\\\\]^_`{|}~'"
      ]
     },
     "execution_count": 8,
     "metadata": {},
     "output_type": "execute_result"
    }
   ],
   "source": [
    "import string\n",
    "\n",
    "string.punctuation"
   ]
  },
  {
   "cell_type": "code",
   "execution_count": 9,
   "id": "a3ff9b3d",
   "metadata": {},
   "outputs": [
    {
     "name": "stdout",
     "output_type": "stream",
     "text": [
      " Enter a string: Hello!! %welcome' to @iNeuron< projects\n",
      "\n",
      " After removing the punctuation: \n",
      "  Hello welcome to iNeuron projects\n"
     ]
    }
   ],
   "source": [
    "my_str = input(\" Enter a string: \")\n",
    "\n",
    "text  = \"\".join([char for char in my_str if char not in string.punctuation])\n",
    "print(f\"\\n After removing the punctuation: \\n  {text}\")"
   ]
  },
  {
   "cell_type": "markdown",
   "id": "f69b2b28",
   "metadata": {},
   "source": [
    "***"
   ]
  }
 ],
 "metadata": {
  "kernelspec": {
   "display_name": "Python 3",
   "language": "python",
   "name": "python3"
  },
  "language_info": {
   "codemirror_mode": {
    "name": "ipython",
    "version": 3
   },
   "file_extension": ".py",
   "mimetype": "text/x-python",
   "name": "python",
   "nbconvert_exporter": "python",
   "pygments_lexer": "ipython3",
   "version": "3.8.8"
  }
 },
 "nbformat": 4,
 "nbformat_minor": 5
}
