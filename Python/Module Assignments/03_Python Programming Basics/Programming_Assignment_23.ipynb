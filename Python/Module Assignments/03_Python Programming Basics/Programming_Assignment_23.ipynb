{
 "cells": [
  {
   "cell_type": "markdown",
   "id": "6bec3f66",
   "metadata": {},
   "source": [
    "**Question 1**\n",
    "\n",
    "Create a function that takes a number as an argument and returns True or False depending on whether the number is symmetrical or not. A number is symmetrical when it is the same as its reverse.\n",
    "\n",
    "**Examples:**\n",
    "\n",
    "    is_symmetrical(7227) ➞ True\n",
    "    is_symmetrical(12567) ➞ False\n",
    "    is_symmetrical(44444444) ➞ True\n",
    "    is_symmetrical(9939) ➞ False\n",
    "    is_symmetrical(1112111) ➞ True"
   ]
  },
  {
   "cell_type": "code",
   "execution_count": 1,
   "id": "112c630d",
   "metadata": {},
   "outputs": [],
   "source": [
    "def is_symmetrical(number):\n",
    "    \"\"\"\n",
    "    This function that takes a number as an argument and \n",
    "    returns True or False depending on whether the number is symmetrical or not. \n",
    "    A number is symmetrical when it is the same as its reverse\n",
    "    \"\"\"\n",
    "    \n",
    "    temp = number\n",
    "    reverse_num = 0\n",
    "    while(number > 0):\n",
    "        digit = number % 10\n",
    "        reverse_num = reverse_num *10 + digit\n",
    "        number = number // 10\n",
    "    if(temp == reverse_num):\n",
    "        return True\n",
    "    else:\n",
    "        return False"
   ]
  },
  {
   "cell_type": "code",
   "execution_count": 2,
   "id": "eea672ca",
   "metadata": {},
   "outputs": [
    {
     "name": "stdout",
     "output_type": "stream",
     "text": [
      " Enter any number to check the symmetrical nature:7227\n",
      "True \n",
      " Given number is Symmertrical\n",
      "\n",
      " ***** END *****\n"
     ]
    }
   ],
   "source": [
    "# Result 1\n",
    "try:\n",
    "    my_num = int(input(\" Enter any number to check the symmetrical nature:\"))\n",
    "    result = is_symmetrical(my_num)\n",
    "except Exception as err:\n",
    "    print(err)\n",
    "else:\n",
    "    if result:\n",
    "        print(f\"{result} \\n Given number is Symmertrical\")\n",
    "    else:\n",
    "        print(f\"{result} \\n Given word is not Symmertrical\")\n",
    "finally:\n",
    "    print(\"\\n ***** END *****\")"
   ]
  },
  {
   "cell_type": "code",
   "execution_count": 3,
   "id": "1c00f010",
   "metadata": {},
   "outputs": [
    {
     "name": "stdout",
     "output_type": "stream",
     "text": [
      " Enter any number to check the symmetrical nature:12567\n",
      "False \n",
      " Given word is not Symmertrical\n",
      "\n",
      " ***** END *****\n"
     ]
    }
   ],
   "source": [
    "# Result 2\n",
    "try:\n",
    "    my_num = int(input(\" Enter any number to check the symmetrical nature:\"))\n",
    "    result = is_symmetrical(my_num)\n",
    "except Exception as err:\n",
    "    print(err)\n",
    "else:\n",
    "    if result:\n",
    "        print(f\"{result} \\n Given number is Symmertrical\")\n",
    "    else:\n",
    "        print(f\"{result} \\n Given word is not Symmertrical\")\n",
    "finally:\n",
    "    print(\"\\n ***** END *****\")"
   ]
  },
  {
   "cell_type": "code",
   "execution_count": 4,
   "id": "d2bdb1ae",
   "metadata": {},
   "outputs": [
    {
     "name": "stdout",
     "output_type": "stream",
     "text": [
      " Enter any number to check the symmetrical nature:1112111\n",
      "True \n",
      " Given number is Symmertrical\n",
      "\n",
      " ***** END *****\n"
     ]
    }
   ],
   "source": [
    "# Result 3\n",
    "try:\n",
    "    my_num = int(input(\" Enter any number to check the symmetrical nature:\"))\n",
    "    result = is_symmetrical(my_num)\n",
    "except Exception as err:\n",
    "    print(err)\n",
    "else:\n",
    "    if result:\n",
    "        print(f\"{result} \\n Given number is Symmertrical\")\n",
    "    else:\n",
    "        print(f\"{result} \\n Given word is not Symmertrical\")\n",
    "finally:\n",
    "    print(\"\\n ***** END *****\")"
   ]
  },
  {
   "cell_type": "markdown",
   "id": "e8a297b0",
   "metadata": {},
   "source": [
    "***"
   ]
  },
  {
   "cell_type": "markdown",
   "id": "b596915d",
   "metadata": {},
   "source": [
    "**Question 2**\n",
    "\n",
    "Given a string of numbers separated by a comma and space, return the product of the numbers.\n",
    "\n",
    "**Examples:**\n",
    "\n",
    "    multiply_nums(\"2, 3\") ➞ 6\n",
    "    multiply_nums(\"1, 2, 3, 4\") ➞ 24\n",
    "    multiply_nums(\"54, 75, 453, 0\") ➞ 0\n",
    "    multiply_nums(\"10, -2\") ➞ -20"
   ]
  },
  {
   "cell_type": "code",
   "execution_count": 5,
   "id": "bda3681a",
   "metadata": {},
   "outputs": [],
   "source": [
    "def multiply_nums(my_str):\n",
    "    \"\"\"\n",
    "    This function takes a string of numbers separated by a comma and space and \n",
    "    return the product of the numbers\n",
    "    \"\"\"\n",
    "    \n",
    "    my_str = my_str.split(\",\")\n",
    "    result = 1\n",
    "    for i in my_str:\n",
    "        result *= int(i)\n",
    "    return result"
   ]
  },
  {
   "cell_type": "code",
   "execution_count": 6,
   "id": "7c17aef4",
   "metadata": {},
   "outputs": [
    {
     "name": "stdout",
     "output_type": "stream",
     "text": [
      "Original numbers are: 2, 3\n",
      "\n",
      " Product of all the numbers is: 6\n",
      "\n",
      " ***** END *****\n"
     ]
    }
   ],
   "source": [
    "# Result 1\n",
    "try:\n",
    "    my_num = \"2, 3\"\n",
    "    result = multiply_nums(my_num)\n",
    "except Exception as err:\n",
    "    print(err)\n",
    "else:\n",
    "    print(f\"Original numbers are: {my_num}\")\n",
    "    print(f\"\\n Product of all the numbers is: {result}\")\n",
    "finally:\n",
    "    print(\"\\n ***** END *****\")"
   ]
  },
  {
   "cell_type": "code",
   "execution_count": 7,
   "id": "242c6178",
   "metadata": {},
   "outputs": [
    {
     "name": "stdout",
     "output_type": "stream",
     "text": [
      "Original numbers are: 54, 75, 453, 0\n",
      "\n",
      " Product of all the numbers is: 0\n",
      "\n",
      " ***** END *****\n"
     ]
    }
   ],
   "source": [
    "# Result 2\n",
    "try:\n",
    "    my_num = \"54, 75, 453, 0\"\n",
    "    result = multiply_nums(my_num)\n",
    "except Exception as err:\n",
    "    print(err)\n",
    "else:\n",
    "    print(f\"Original numbers are: {my_num}\")\n",
    "    print(f\"\\n Product of all the numbers is: {result}\")\n",
    "finally:\n",
    "    print(\"\\n ***** END *****\")"
   ]
  },
  {
   "cell_type": "code",
   "execution_count": 8,
   "id": "524eca45",
   "metadata": {},
   "outputs": [
    {
     "name": "stdout",
     "output_type": "stream",
     "text": [
      "Original numbers are: 10, -2\n",
      "\n",
      " Product of all the numbers is: -20\n",
      "\n",
      " ***** END *****\n"
     ]
    }
   ],
   "source": [
    "# Result 3\n",
    "try:\n",
    "    my_num = \"10, -2\"\n",
    "    result = multiply_nums(my_num)\n",
    "except Exception as err:\n",
    "    print(err)\n",
    "else:\n",
    "    print(f\"Original numbers are: {my_num}\")\n",
    "    print(f\"\\n Product of all the numbers is: {result}\")\n",
    "finally:\n",
    "    print(\"\\n ***** END *****\")"
   ]
  },
  {
   "cell_type": "markdown",
   "id": "6444b97e",
   "metadata": {},
   "source": [
    "***"
   ]
  },
  {
   "cell_type": "markdown",
   "id": "5173a73e",
   "metadata": {},
   "source": [
    "**Question 3**\n",
    "\n",
    "Create a function that squares every digit of a number.\n",
    "\n",
    "**Examples:**\n",
    "\n",
    "    square_digits(9119) ➞ 811181\n",
    "    square_digits(2483) ➞ 416649\n",
    "    square_digits(3212) ➞ 9414\n",
    "\n",
    "**Notes:**\n",
    "The function receives an integer and must return an integer."
   ]
  },
  {
   "cell_type": "code",
   "execution_count": 9,
   "id": "7b0b66de",
   "metadata": {},
   "outputs": [],
   "source": [
    "def square_digits(num):\n",
    "    \"\"\"\n",
    "    This function squares every digit of a number.\n",
    "    The function receives an integer and must return an integer\n",
    "    \"\"\"\n",
    "    \n",
    "    result = \"\"\n",
    "    for i in str(num):\n",
    "        sqr = int(i) * int(i)\n",
    "        result += str(sqr) \n",
    "        \n",
    "    return int(result)"
   ]
  },
  {
   "cell_type": "code",
   "execution_count": 11,
   "id": "b2b5ca2d",
   "metadata": {},
   "outputs": [
    {
     "name": "stdout",
     "output_type": "stream",
     "text": [
      " Enter any number: 9119\n",
      "\n",
      " Square of each digit is : 811181\n",
      "\n",
      " ***** END *****\n"
     ]
    }
   ],
   "source": [
    "# Result 1\n",
    "try:\n",
    "    num = int(input(\" Enter any number: \"))\n",
    "    result = square_digits(num)\n",
    "except Exception as err:\n",
    "    print(err)\n",
    "else:\n",
    "    print(f\"\\n Square of each digit is : {result}\")\n",
    "finally:\n",
    "    print(\"\\n ***** END *****\")"
   ]
  },
  {
   "cell_type": "code",
   "execution_count": 12,
   "id": "761fc7c4",
   "metadata": {},
   "outputs": [
    {
     "name": "stdout",
     "output_type": "stream",
     "text": [
      " Enter any number: 3212\n",
      "\n",
      " Square of each digit is : 9414\n",
      "\n",
      " ***** END *****\n"
     ]
    }
   ],
   "source": [
    "# Result 2\n",
    "try:\n",
    "    num = int(input(\" Enter any number: \"))\n",
    "    result = square_digits(num)\n",
    "except Exception as err:\n",
    "    print(err)\n",
    "else:\n",
    "    print(f\"\\n Square of each digit is : {result}\")\n",
    "finally:\n",
    "    print(\"\\n ***** END *****\")"
   ]
  },
  {
   "cell_type": "markdown",
   "id": "be27a99f",
   "metadata": {},
   "source": [
    "***"
   ]
  },
  {
   "cell_type": "markdown",
   "id": "53cabaa9",
   "metadata": {},
   "source": [
    "**Question 4**\n",
    "\n",
    "Create a function that sorts a list and removes all duplicate items from it.\n",
    "\n",
    "**Examples:**\n",
    "\n",
    "    setify([1, 3, 3, 5, 5]) ➞ [1, 3, 5]\n",
    "    setify([4, 4, 4, 4]) ➞ [4]\n",
    "    setify([5, 7, 8, 9, 10, 15]) ➞ [5, 7, 8, 9, 10, 15]\n",
    "    setify([3, 3, 3, 2, 1]) ➞ [1, 2, 3]"
   ]
  },
  {
   "cell_type": "code",
   "execution_count": 15,
   "id": "13685678",
   "metadata": {},
   "outputs": [],
   "source": [
    "def setify(my_lst):\n",
    "    \"\"\"\n",
    "    This function sorts a list and removes all duplicate items from it.\n",
    "    \"\"\"\n",
    "    \n",
    "    return list(sorted(set(my_lst)))"
   ]
  },
  {
   "cell_type": "code",
   "execution_count": 16,
   "id": "b0764463",
   "metadata": {},
   "outputs": [
    {
     "name": "stdout",
     "output_type": "stream",
     "text": [
      " Enter the integers (comma separated): 1, 3, 3, 5, 5\n",
      "\n",
      " List after removing the duplicates : [1, 3, 5]\n",
      "\n",
      " ***** END *****\n"
     ]
    }
   ],
   "source": [
    "# Result 1\n",
    "try:\n",
    "    my_lst = list(map(int, input(\" Enter the integers (comma separated): \").split(\",\")))\n",
    "    result = setify(my_lst)\n",
    "except Exception as err:\n",
    "    print(err)\n",
    "else:\n",
    "    print(f\"\\n List after removing the duplicates : {result}\")\n",
    "finally:\n",
    "    print(\"\\n ***** END *****\")"
   ]
  },
  {
   "cell_type": "code",
   "execution_count": 17,
   "id": "da8faa6a",
   "metadata": {},
   "outputs": [
    {
     "name": "stdout",
     "output_type": "stream",
     "text": [
      " Enter the integers (comma separated): 5, 7, 8, 9, 10, 15\n",
      "\n",
      " List after removing the duplicates : [5, 7, 8, 9, 10, 15]\n",
      "\n",
      " ***** END *****\n"
     ]
    }
   ],
   "source": [
    "# Result 2\n",
    "try:\n",
    "    my_lst = list(map(int, input(\" Enter the integers (comma separated): \").split(\",\")))\n",
    "    result = setify(my_lst)\n",
    "except Exception as err:\n",
    "    print(err)\n",
    "else:\n",
    "    print(f\"\\n List after removing the duplicates : {result}\")\n",
    "finally:\n",
    "    print(\"\\n ***** END *****\")"
   ]
  },
  {
   "cell_type": "code",
   "execution_count": 18,
   "id": "44f55043",
   "metadata": {},
   "outputs": [
    {
     "name": "stdout",
     "output_type": "stream",
     "text": [
      " Enter the integers (comma separated): 3, 3, 3, 2, 1, 4, 6, 5\n",
      "\n",
      " List after removing the duplicates : [1, 2, 3, 4, 5, 6]\n",
      "\n",
      " ***** END *****\n"
     ]
    }
   ],
   "source": [
    "# Result 3\n",
    "try:\n",
    "    my_lst = list(map(int, input(\" Enter the integers (comma separated): \").split(\",\")))\n",
    "    result = setify(my_lst)\n",
    "except Exception as err:\n",
    "    print(err)\n",
    "else:\n",
    "    print(f\"\\n List after removing the duplicates : {result}\")\n",
    "finally:\n",
    "    print(\"\\n ***** END *****\")"
   ]
  },
  {
   "cell_type": "markdown",
   "id": "8da0f41a",
   "metadata": {},
   "source": [
    "***"
   ]
  },
  {
   "cell_type": "markdown",
   "id": "2ba3d6b6",
   "metadata": {},
   "source": [
    "**Question 5**\n",
    "\n",
    "Create a function that returns the mean of all digits.\n",
    "\n",
    "**Examples:**\n",
    "\n",
    "    mean(42) ➞ 3\n",
    "    mean(12345) ➞ 3\n",
    "    mean(666) ➞ 6\n",
    "\n",
    "**Notes:**\n",
    "\n",
    "- The mean of all digits is the sum of digits / how many digits there are (e.g. mean of digits in 512 is (5+1+2)/3(number of digits) = 8/3=2).\n",
    "- The mean will always be an integer."
   ]
  },
  {
   "cell_type": "code",
   "execution_count": 19,
   "id": "0cc82b80",
   "metadata": {},
   "outputs": [],
   "source": [
    "def mean(number):\n",
    "    \"\"\"\n",
    "    This function returns the mean of all digits.\n",
    "    Sums up all the digits and divide it by the no of digits\n",
    "    \"\"\"\n",
    "    \n",
    "    num = 0\n",
    "    count = 0\n",
    "    while(number > 0):\n",
    "        digit = number % 10\n",
    "        count += 1\n",
    "        num = num + digit\n",
    "        number = number // 10\n",
    "    \n",
    "    return (num//count)"
   ]
  },
  {
   "cell_type": "code",
   "execution_count": 20,
   "id": "fb230d91",
   "metadata": {},
   "outputs": [
    {
     "name": "stdout",
     "output_type": "stream",
     "text": [
      " Enter any number: 42\n",
      "\n",
      " Mean of given number is : 3\n",
      "\n",
      " ***** END *****\n"
     ]
    }
   ],
   "source": [
    "# Result 1\n",
    "try:\n",
    "    my_num = int(input(\" Enter any number: \"))\n",
    "    result = mean(my_num)\n",
    "except Exception as err:\n",
    "    print(err)\n",
    "else:\n",
    "    print(f\"\\n Mean of given number is : {result}\")\n",
    "finally:\n",
    "    print(\"\\n ***** END *****\")"
   ]
  },
  {
   "cell_type": "code",
   "execution_count": 21,
   "id": "191f23d8",
   "metadata": {},
   "outputs": [
    {
     "name": "stdout",
     "output_type": "stream",
     "text": [
      " Enter any number: 12345\n",
      "\n",
      " Mean of given number is : 3\n",
      "\n",
      " ***** END *****\n"
     ]
    }
   ],
   "source": [
    "# Result 2\n",
    "try:\n",
    "    my_num = int(input(\" Enter any number: \"))\n",
    "    result = mean(my_num)\n",
    "except Exception as err:\n",
    "    print(err)\n",
    "else:\n",
    "    print(f\"\\n Mean of given number is : {result}\")\n",
    "finally:\n",
    "    print(\"\\n ***** END *****\")"
   ]
  },
  {
   "cell_type": "code",
   "execution_count": 22,
   "id": "fb49bdd4",
   "metadata": {},
   "outputs": [
    {
     "name": "stdout",
     "output_type": "stream",
     "text": [
      " Enter any number: 777\n",
      "\n",
      " Mean of given number is : 7\n",
      "\n",
      " ***** END *****\n"
     ]
    }
   ],
   "source": [
    "# Result 3\n",
    "try:\n",
    "    my_num = int(input(\" Enter any number: \"))\n",
    "    result = mean(my_num)\n",
    "except Exception as err:\n",
    "    print(err)\n",
    "else:\n",
    "    print(f\"\\n Mean of given number is : {result}\")\n",
    "finally:\n",
    "    print(\"\\n ***** END *****\")"
   ]
  },
  {
   "cell_type": "markdown",
   "id": "f69b2b28",
   "metadata": {},
   "source": [
    "***"
   ]
  }
 ],
 "metadata": {
  "kernelspec": {
   "display_name": "Python 3",
   "language": "python",
   "name": "python3"
  },
  "language_info": {
   "codemirror_mode": {
    "name": "ipython",
    "version": 3
   },
   "file_extension": ".py",
   "mimetype": "text/x-python",
   "name": "python",
   "nbconvert_exporter": "python",
   "pygments_lexer": "ipython3",
   "version": "3.8.8"
  }
 },
 "nbformat": 4,
 "nbformat_minor": 5
}
