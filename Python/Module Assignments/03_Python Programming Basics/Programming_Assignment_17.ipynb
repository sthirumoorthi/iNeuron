{
 "cells": [
  {
   "cell_type": "markdown",
   "id": "6bec3f66",
   "metadata": {},
   "source": [
    "**Question1.** \n",
    "    \n",
    "    Create a function that takes three arguments a, b, c and returns the sum of the numbers that are evenly divided by c from the range a, b inclusive.\n",
    "    \n",
    "**Examples:**\n",
    "\n",
    "    evenly_divisible(1, 10, 20) ➞ 0\n",
    "     No number between 1 and 10 can be evenly divided by 20.\n",
    "    evenly_divisible(1, 10, 2) ➞ 30\n",
    "     2 + 4 + 6 + 8 + 10 = 30\n",
    "    evenly_divisible(1, 10, 3) ➞ 18\n",
    "     3 + 6 + 9 = 18"
   ]
  },
  {
   "cell_type": "code",
   "execution_count": 1,
   "id": "112c630d",
   "metadata": {},
   "outputs": [],
   "source": [
    "def evenly_divisible(A, B, C):\n",
    "    \"\"\"\n",
    "    This function takes three arguments a, b, c and \n",
    "    returns the sum of the numbers that are evenly divided by c from the range a, b inclusive\n",
    "    \"\"\"\n",
    " \n",
    "    sum = 0\n",
    " \n",
    "    # Running a loop from A to B and check if any number is divisible by C.\n",
    "    for num in range(A, B+1):\n",
    " \n",
    "        # If the number is divisible, then add it to sum\n",
    "        if (num % C == 0):\n",
    "            sum += num\n",
    " \n",
    "    return sum"
   ]
  },
  {
   "cell_type": "code",
   "execution_count": 4,
   "id": "d6071ecb",
   "metadata": {},
   "outputs": [
    {
     "name": "stdout",
     "output_type": "stream",
     "text": [
      "30\n"
     ]
    }
   ],
   "source": [
    "print(evenly_divisible(1, 10, 2))"
   ]
  },
  {
   "cell_type": "code",
   "execution_count": 10,
   "id": "23cedce6",
   "metadata": {},
   "outputs": [
    {
     "name": "stdout",
     "output_type": "stream",
     "text": [
      "Enter the values of A, B and C: 1 10 20\n",
      "No number between 1 and 10 can be evenly divided by 20.\n",
      "\n",
      " ***** END *****\n"
     ]
    }
   ],
   "source": [
    "# Result 1\n",
    "try:\n",
    "    A, B, C = [int(x) for x in input(\"Enter the values of A, B and C: \").split()]\n",
    "    result = evenly_divisible(A, B, C)\n",
    "except Exception as err:\n",
    "    print(err)\n",
    "else:\n",
    "    if result == 0:\n",
    "        print(f\"No number between {A} and {B} can be evenly divided by {C}.\")\n",
    "    else:\n",
    "        print(f\"Result is: {result}\")\n",
    "finally:\n",
    "    print(\"\\n ***** END *****\")"
   ]
  },
  {
   "cell_type": "code",
   "execution_count": 11,
   "id": "38662558",
   "metadata": {},
   "outputs": [
    {
     "name": "stdout",
     "output_type": "stream",
     "text": [
      "Enter the values of A, B and C: 1 10 3\n",
      "Result is: 18\n",
      "\n",
      " ***** END *****\n"
     ]
    }
   ],
   "source": [
    "# Result 2\n",
    "try:\n",
    "    A, B, C = [int(x) for x in input(\"Enter the values of A, B and C: \").split()]\n",
    "    result = evenly_divisible(A, B, C)\n",
    "except Exception as err:\n",
    "    print(err)\n",
    "else:\n",
    "    if result == 0:\n",
    "        print(f\"No number between {A} and {B} can be evenly divided by {C}.\")\n",
    "    else:\n",
    "        print(f\"Result is: {result}\")\n",
    "finally:\n",
    "    print(\"\\n ***** END *****\")"
   ]
  },
  {
   "cell_type": "markdown",
   "id": "e8a297b0",
   "metadata": {},
   "source": [
    "***"
   ]
  },
  {
   "cell_type": "markdown",
   "id": "b596915d",
   "metadata": {},
   "source": [
    "**Question2.**\n",
    "\n",
    "    Create a function that returns True if a given inequality expression is correct and False otherwise.\n",
    "\n",
    "**Examples:**\n",
    "\n",
    "    correct_signs('3 < 7 < 11') ➞ True\n",
    "    correct_signs('13 > 44 > 33 > 1') ➞ False\n",
    "    correct_signs('1 < 2 < 6 < 9 > 3') ➞ True"
   ]
  },
  {
   "cell_type": "code",
   "execution_count": 13,
   "id": "bda3681a",
   "metadata": {},
   "outputs": [],
   "source": [
    "def correct_signs(my_exp):\n",
    "    \"\"\"\n",
    "    This function takes the expression as an input (str) and evaluates it using eval().\n",
    "    If the expression is correct it returns True; otherwise False\n",
    "    \"\"\"\n",
    "    \n",
    "    exp = eval(my_exp)\n",
    "    if exp:\n",
    "        return True\n",
    "    \n",
    "    return False "
   ]
  },
  {
   "cell_type": "code",
   "execution_count": 14,
   "id": "c35d76b1",
   "metadata": {},
   "outputs": [
    {
     "name": "stdout",
     "output_type": "stream",
     "text": [
      "  Enter the expression to evaluate: 3 < 7 < 11\n",
      "3 < 7 < 11 --> True\n",
      "\n",
      " ***** END *****\n"
     ]
    }
   ],
   "source": [
    "# Main driver (Result 1)\n",
    "try:\n",
    "    my_exp = input(\"  Enter the expression to evaluate: \")\n",
    "    result = correct_signs(my_exp)\n",
    "except Exception as err:\n",
    "    print(err)\n",
    "else:\n",
    "    print(f\"{my_exp} --> {result}\")\n",
    "finally:\n",
    "    print(\"\\n ***** END *****\")"
   ]
  },
  {
   "cell_type": "code",
   "execution_count": 15,
   "id": "b89e2b43",
   "metadata": {},
   "outputs": [
    {
     "name": "stdout",
     "output_type": "stream",
     "text": [
      "  Enter the expression to evaluate: 13 > 44 > 33 > 1\n",
      "13 > 44 > 33 > 1 --> False\n",
      "\n",
      " ***** END *****\n"
     ]
    }
   ],
   "source": [
    "# Main driver (Result 2)\n",
    "try:\n",
    "    my_exp = input(\"  Enter the expression to evaluate: \")\n",
    "    result = correct_signs(my_exp)\n",
    "except Exception as err:\n",
    "    print(err)\n",
    "else:\n",
    "    print(f\"{my_exp} --> {result}\")\n",
    "finally:\n",
    "    print(\"\\n ***** END *****\")"
   ]
  },
  {
   "cell_type": "markdown",
   "id": "6444b97e",
   "metadata": {},
   "source": [
    "***"
   ]
  },
  {
   "cell_type": "markdown",
   "id": "5173a73e",
   "metadata": {},
   "source": [
    "**Question3.**\n",
    "\n",
    "    Create a function that replaces all the vowels in a string with a specified character.\n",
    "\n",
    "**Examples:**\n",
    "\n",
    "    replace_vowels(\"the aardvark\", \"#\") ➞ \"th# ##rdv#rk\"\n",
    "    replace_vowels(\"minnie mouse\", \"?\") ➞ \"m?nn?? m??s?\"\n",
    "    replace_vowels(\"shakespeare\", \"*\") ➞ \"sh*k*sp**r*\""
   ]
  },
  {
   "cell_type": "code",
   "execution_count": 16,
   "id": "7b0b66de",
   "metadata": {},
   "outputs": [],
   "source": [
    "def replace_vowels(inp_str, spl_char):\n",
    "    \"\"\"\n",
    "    This function will replace all the vowels with the special char passed in the argument.\n",
    "    \"\"\"\n",
    " \n",
    "    # string of vowels\n",
    "    vowels = 'AEIOUaeiou'\n",
    " \n",
    "    for ele in vowels:\n",
    "        inp_str = inp_str.replace(ele, spl_char)\n",
    " \n",
    "    return inp_str"
   ]
  },
  {
   "cell_type": "code",
   "execution_count": 19,
   "id": "695847ef",
   "metadata": {},
   "outputs": [
    {
     "name": "stdout",
     "output_type": "stream",
     "text": [
      " Enter the string: \n",
      "the aardvark\n",
      " Enter the special char to replace the vowels: \n",
      "#\n",
      "\n",
      " After replacing vowels with the specified character: \n",
      " th# ##rdv#rk\n",
      "\n",
      " ***** END *****\n"
     ]
    }
   ],
   "source": [
    "try:\n",
    "    input_str = input(\" Enter the string: \\n\")\n",
    "    spl_char = input(\" Enter the special char to replace the vowels: \\n\")\n",
    "    result = replace_vowels(input_str, spl_char)\n",
    "except Exception as err:\n",
    "    print(err)\n",
    "else:\n",
    "    print(f\"\\n After replacing vowels with the specified character: \\n {result}\")\n",
    "finally:\n",
    "    print(\"\\n ***** END *****\")"
   ]
  },
  {
   "cell_type": "markdown",
   "id": "be27a99f",
   "metadata": {},
   "source": [
    "***"
   ]
  },
  {
   "cell_type": "markdown",
   "id": "53cabaa9",
   "metadata": {},
   "source": [
    "**Question4.**\n",
    "    \n",
    "    Write a function that calculates the factorial of a number recursively.\n",
    "\n",
    "**Examples:**\n",
    "\n",
    "    factorial(5) ➞ 120\n",
    "    factorial(3) ➞ 6\n",
    "    factorial(1) ➞ 1\n",
    "    factorial(0) ➞ 1"
   ]
  },
  {
   "cell_type": "code",
   "execution_count": 20,
   "id": "13685678",
   "metadata": {},
   "outputs": [],
   "source": [
    "def factorial(n):\n",
    "    \"\"\"\n",
    "    This is a recursive function which will return the factorial of any input integer\n",
    "    \"\"\"\n",
    "    \n",
    "    if n == 1:\n",
    "        return 1\n",
    "    else:\n",
    "        return n * factorial(n-1)"
   ]
  },
  {
   "cell_type": "code",
   "execution_count": 21,
   "id": "27024f87",
   "metadata": {},
   "outputs": [
    {
     "name": "stdout",
     "output_type": "stream",
     "text": [
      "Enter the number to find its factorial: 5\n",
      "\n",
      " The factorial of 5 is: 120\n",
      "\n",
      " ***** END *****\n"
     ]
    }
   ],
   "source": [
    "try:\n",
    "    num = int(input(\"Enter the number to find its factorial: \"))\n",
    "    result = factorial(num)\n",
    "except Exception as err:\n",
    "    print(err)\n",
    "else:\n",
    "    print(f\"\\n The factorial of {num} is: {result}\")\n",
    "finally:\n",
    "    print(\"\\n ***** END *****\")"
   ]
  },
  {
   "cell_type": "markdown",
   "id": "8da0f41a",
   "metadata": {},
   "source": [
    "***"
   ]
  },
  {
   "cell_type": "markdown",
   "id": "2ba3d6b6",
   "metadata": {},
   "source": [
    "**Question 5.**\n",
    "\n",
    "Hamming distance is the number of characters that differ between two strings.\n",
    "\n",
    "    To illustrate:\n",
    "    String1: \"abcbba\"\n",
    "    String2: \"abcbda\"\n",
    "\n",
    "    Hamming Distance: 1 - \"b\" vs. \"d\" is the only difference.\n",
    "    \n",
    "Create a function that computes the hamming distance between two strings.\n",
    "\n",
    "**Examples:**\n",
    "\n",
    "    hamming_distance(\"abcde\", \"bcdef\") ➞ 5\n",
    "    hamming_distance(\"abcde\", \"abcde\") ➞ 0\n",
    "    hamming_distance(\"strong\", \"strung\") ➞ 1"
   ]
  },
  {
   "cell_type": "code",
   "execution_count": 22,
   "id": "0cc82b80",
   "metadata": {},
   "outputs": [],
   "source": [
    "def hamming_distance(str1, str2):\n",
    "    \"\"\"\n",
    "    This function calculates the hamming distancce between two equal strings.\n",
    "    \"\"\"\n",
    "    i = 0\n",
    "    count = 0\n",
    " \n",
    "    while(i < len(str1)):\n",
    "        if(str1[i] != str2[i]):\n",
    "            count += 1\n",
    "        i += 1\n",
    "    return count"
   ]
  },
  {
   "cell_type": "code",
   "execution_count": 25,
   "id": "b1c33f79",
   "metadata": {},
   "outputs": [
    {
     "name": "stdout",
     "output_type": "stream",
     "text": [
      " Enter the string1: abcde\n",
      " Enter the string2: abcd\n",
      "Please rerun the program with strings of equal length\n",
      "\n",
      " ***** END *****\n"
     ]
    }
   ],
   "source": [
    "# Result 1\n",
    "try:\n",
    "    str1 = input(\" Enter the string1: \")\n",
    "    str2 = input(\" Enter the string2: \")\n",
    "    if len(str1) != len(str2):\n",
    "        raise ValueError(\"Please rerun the program with strings of equal length\")\n",
    "    else:\n",
    "        result = hamming_distance(str1, str2)\n",
    "except ValueError as err1:\n",
    "    print(err1)\n",
    "except Exception as err2:\n",
    "    print(err2)\n",
    "else:\n",
    "    print(f\"\\n Hamming distance - {result}\")\n",
    "finally:\n",
    "    print(\"\\n ***** END *****\")"
   ]
  },
  {
   "cell_type": "code",
   "execution_count": 26,
   "id": "3865b2ef",
   "metadata": {},
   "outputs": [
    {
     "name": "stdout",
     "output_type": "stream",
     "text": [
      " Enter the string1: abcde\n",
      " Enter the string2: bcdef\n",
      "\n",
      " Hamming distance - 5\n",
      "\n",
      " ***** END *****\n"
     ]
    }
   ],
   "source": [
    "# Result 2:\n",
    "try:\n",
    "    str1 = input(\" Enter the string1: \")\n",
    "    str2 = input(\" Enter the string2: \")\n",
    "    if len(str1) != len(str2):\n",
    "        raise ValueError(\"Please rerun the program with strings of equal length\")\n",
    "    else:\n",
    "        result = hamming_distance(str1, str2)\n",
    "except ValueError as err1:\n",
    "    print(err1)\n",
    "except Exception as err2:\n",
    "    print(err2)\n",
    "else:\n",
    "    print(f\"\\n Hamming distance - {result}\")\n",
    "finally:\n",
    "    print(\"\\n ***** END *****\")"
   ]
  },
  {
   "cell_type": "markdown",
   "id": "f69b2b28",
   "metadata": {},
   "source": [
    "***"
   ]
  }
 ],
 "metadata": {
  "kernelspec": {
   "display_name": "Python 3",
   "language": "python",
   "name": "python3"
  },
  "language_info": {
   "codemirror_mode": {
    "name": "ipython",
    "version": 3
   },
   "file_extension": ".py",
   "mimetype": "text/x-python",
   "name": "python",
   "nbconvert_exporter": "python",
   "pygments_lexer": "ipython3",
   "version": "3.8.8"
  }
 },
 "nbformat": 4,
 "nbformat_minor": 5
}
