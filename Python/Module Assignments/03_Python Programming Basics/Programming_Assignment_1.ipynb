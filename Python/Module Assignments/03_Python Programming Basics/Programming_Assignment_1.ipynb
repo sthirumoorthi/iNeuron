{
 "cells": [
  {
   "cell_type": "markdown",
   "id": "d92b0dfc",
   "metadata": {},
   "source": [
    "**1. Write a Python program to print 'Hello Python'?**"
   ]
  },
  {
   "cell_type": "code",
   "execution_count": 1,
   "id": "453f4341",
   "metadata": {},
   "outputs": [
    {
     "name": "stdout",
     "output_type": "stream",
     "text": [
      "Hello Python\n"
     ]
    }
   ],
   "source": [
    "print(\"Hello Python\")"
   ]
  },
  {
   "cell_type": "markdown",
   "id": "43a9a23e",
   "metadata": {},
   "source": [
    "***"
   ]
  },
  {
   "cell_type": "markdown",
   "id": "c446cd6b",
   "metadata": {},
   "source": [
    "**2. Write a Python program to do arithmetical operations addition and division.?**"
   ]
  },
  {
   "cell_type": "code",
   "execution_count": 3,
   "id": "50b7e3be",
   "metadata": {},
   "outputs": [
    {
     "name": "stdout",
     "output_type": "stream",
     "text": [
      " Please Enter the First Value 1: 20\n",
      " Please Enter the Second Value 2: 9\n",
      "Sum of 20.0 and 9.0 is: 29.0\n",
      "Subtraction of 9.0 from 20.0 is: 11.0\n",
      "Multiplication of 20.0 and 9.0 is: 180.0\n",
      "Division of 20.0 and 9.0 is: 2.2222222222222223\n"
     ]
    }
   ],
   "source": [
    "# Get the input numbers and type cast them to float\n",
    "num1 = float(input(\" Please Enter the First Value 1: \"))\n",
    "num2 = float(input(\" Please Enter the Second Value 2: \"))\n",
    "\n",
    "# Add Two Numbers\n",
    "add = num1 + num2\n",
    "\n",
    "# Subtracting num2 from num1\n",
    "sub = num1 - num2\n",
    "\n",
    "# Multiply num1 with num2\n",
    "multi = num1 * num2\n",
    "\n",
    "# Divide num1 by num2\n",
    "div = num1 / num2\n",
    "\n",
    "print(f\"Sum of {num1} and {num2} is: {add}\")\n",
    "print(f\"Subtraction of {num2} from {num1} is: {sub}\")\n",
    "print(f\"Multiplication of {num1} and {num2} is: {multi}\")\n",
    "print(f\"Division of {num1} and {num2} is: {div}\")"
   ]
  },
  {
   "cell_type": "markdown",
   "id": "5a098f98",
   "metadata": {},
   "source": [
    "***"
   ]
  },
  {
   "cell_type": "markdown",
   "id": "9227199e",
   "metadata": {},
   "source": [
    "**3. Write a Python program to find the area of a triangle?**"
   ]
  },
  {
   "cell_type": "code",
   "execution_count": 6,
   "id": "9fa2998e",
   "metadata": {},
   "outputs": [
    {
     "name": "stdout",
     "output_type": "stream",
     "text": [
      "Enter the length of first side: 7\n",
      "Enter  the length of second side: 5\n",
      "Enter  the length of third side: 8\n",
      "The area of the triangle is 17.32\n"
     ]
    }
   ],
   "source": [
    "side1 = float(input('Enter the length of first side: '))  \n",
    "side2 = float(input('Enter  the length of second side: '))  \n",
    "side3 = float(input('Enter  the length of third side: ')) \n",
    "\n",
    "# Calculate the semi-perimeter value s\n",
    "s = (side1 + side2 + side3) / 2  \n",
    "\n",
    "# Calculate the area for triangle\n",
    "area = (s*(s-side1)*(s-side2)*(s-side3)) ** 0.5\n",
    "\n",
    "print(f\"The area of the triangle is {area:.2f}\")"
   ]
  },
  {
   "cell_type": "markdown",
   "id": "74351511",
   "metadata": {},
   "source": [
    "***"
   ]
  },
  {
   "cell_type": "markdown",
   "id": "573ee1af",
   "metadata": {},
   "source": [
    "**4. Write a Python program to swap two variables?**"
   ]
  },
  {
   "cell_type": "code",
   "execution_count": 8,
   "id": "f1225392",
   "metadata": {},
   "outputs": [
    {
     "name": "stdout",
     "output_type": "stream",
     "text": [
      " Enter the First Value x: 10\n",
      " Enter the Second Value y: 20\n",
      "Before Swapping two Number: x = 10 and y = 20\n",
      "After Swapping two Number: x = 20 and y = 10\n"
     ]
    }
   ],
   "source": [
    "x = int(input(\" Enter the First Value x: \"))\n",
    "y = int(input(\" Enter the Second Value y: \"))\n",
    "\n",
    "print(f\"Before Swapping two Number: x = {x} and y = {y}\")\n",
    "\n",
    "temp = x\n",
    "x = y\n",
    "y = temp\n",
    "\n",
    "print(f\"After Swapping two Number: x = {x} and y = {y}\")"
   ]
  },
  {
   "cell_type": "markdown",
   "id": "1bee2361",
   "metadata": {},
   "source": [
    "***"
   ]
  },
  {
   "cell_type": "markdown",
   "id": "630d71e7",
   "metadata": {},
   "source": [
    "**5. Write a Python program to generate a random number?**"
   ]
  },
  {
   "cell_type": "code",
   "execution_count": 11,
   "id": "234e15ed",
   "metadata": {},
   "outputs": [
    {
     "name": "stdout",
     "output_type": "stream",
     "text": [
      "Random number between 0 and 1 is: 0.30945337603085576\n",
      "Random integer between 0 and 100 is: 85\n"
     ]
    }
   ],
   "source": [
    "import random\n",
    "\n",
    "print(f\"Random number between 0 and 1 is: {random.random()}\")\n",
    "print(f\"Random integer between 0 and 100 is: {random.randint(0, 100)}\")"
   ]
  },
  {
   "cell_type": "markdown",
   "id": "581731d7",
   "metadata": {},
   "source": [
    "***"
   ]
  }
 ],
 "metadata": {
  "kernelspec": {
   "display_name": "Python 3",
   "language": "python",
   "name": "python3"
  },
  "language_info": {
   "codemirror_mode": {
    "name": "ipython",
    "version": 3
   },
   "file_extension": ".py",
   "mimetype": "text/x-python",
   "name": "python",
   "nbconvert_exporter": "python",
   "pygments_lexer": "ipython3",
   "version": "3.8.8"
  }
 },
 "nbformat": 4,
 "nbformat_minor": 5
}
