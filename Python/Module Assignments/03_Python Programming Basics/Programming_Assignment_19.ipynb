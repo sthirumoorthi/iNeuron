{
 "cells": [
  {
   "cell_type": "markdown",
   "id": "6bec3f66",
   "metadata": {},
   "source": [
    "**Question1**\n",
    "\n",
    "    Create a function that takes a string and returns a string in which each character is repeated once.\n",
    "\n",
    "**Examples:**\n",
    "\n",
    "    double_char(\"String\") ➞ \"SSttrriinngg\"\n",
    "    double_char(\"Hello World!\") ➞ \"HHeelllloo WWoorrlldd!!\"\n",
    "    double_char(\"1234!_ \") ➞ \"11223344!!__ \""
   ]
  },
  {
   "cell_type": "code",
   "execution_count": 1,
   "id": "112c630d",
   "metadata": {},
   "outputs": [],
   "source": [
    "def double_char(my_str):\n",
    "    \"\"\"\n",
    "    This function will take a string and returns a string in which each character is repeated once\n",
    "    \"\"\"\n",
    "    \n",
    "    new_str = \"\"\n",
    "    for char in my_str:\n",
    "        new_str = new_str + (2 * char)\n",
    "    \n",
    "    return new_str"
   ]
  },
  {
   "cell_type": "code",
   "execution_count": 3,
   "id": "5352782b",
   "metadata": {},
   "outputs": [
    {
     "name": "stdout",
     "output_type": "stream",
     "text": [
      "Enter the string:\n",
      " 1234!_\n",
      "\n",
      " Resultant string: --> 11223344!!__\n",
      "\n",
      " ***** END *****\n"
     ]
    }
   ],
   "source": [
    "# Result 1\n",
    "try:\n",
    "    my_inp = input(\"Enter the string:\\n \")\n",
    "    result = double_char(my_inp)\n",
    "except Exception as err:\n",
    "    print(err)\n",
    "else:\n",
    "    print(f\"\\n Resultant string: --> {result}\")\n",
    "finally:\n",
    "    print(\"\\n ***** END *****\")"
   ]
  },
  {
   "cell_type": "code",
   "execution_count": 4,
   "id": "9966ef4a",
   "metadata": {},
   "outputs": [
    {
     "name": "stdout",
     "output_type": "stream",
     "text": [
      "Enter the string:\n",
      " Hello World!\n",
      "\n",
      " Resultant string: --> HHeelllloo  WWoorrlldd!!\n",
      "\n",
      " ***** END *****\n"
     ]
    }
   ],
   "source": [
    "# Result 2\n",
    "try:\n",
    "    my_inp = input(\"Enter the string:\\n \")\n",
    "    result = double_char(my_inp)\n",
    "except Exception as err:\n",
    "    print(err)\n",
    "else:\n",
    "    print(f\"\\n Resultant string: --> {result}\")\n",
    "finally:\n",
    "    print(\"\\n ***** END *****\")"
   ]
  },
  {
   "cell_type": "markdown",
   "id": "e8a297b0",
   "metadata": {},
   "source": [
    "***"
   ]
  },
  {
   "cell_type": "markdown",
   "id": "b596915d",
   "metadata": {},
   "source": [
    "**Question2**\n",
    "\n",
    "    Create a function that reverses a boolean value and returns the string \"boolean expected\" if another variable type is given.\n",
    "    \n",
    "**Examples:**\n",
    "\n",
    "    reverse(True) ➞ False\n",
    "    reverse(False) ➞ True\n",
    "    reverse(0) ➞ \"boolean expected\"\n",
    "    reverse(None) ➞ \"boolean expected\""
   ]
  },
  {
   "cell_type": "code",
   "execution_count": 6,
   "id": "bda3681a",
   "metadata": {},
   "outputs": [],
   "source": [
    "def reverse(my_inp):\n",
    "    \"\"\"\n",
    "    This function reverses a boolean value and \n",
    "    returns the string \"boolean expected\" if another variable type is given\n",
    "    \"\"\"\n",
    "    \n",
    "    if type(my_inp) == bool:\n",
    "        if my_inp:\n",
    "            res = False\n",
    "        else:\n",
    "            res = True\n",
    "    else:\n",
    "        res = \"boolean expected\"\n",
    "    \n",
    "    return res"
   ]
  },
  {
   "cell_type": "code",
   "execution_count": 7,
   "id": "ca3271ef",
   "metadata": {},
   "outputs": [
    {
     "data": {
      "text/plain": [
       "False"
      ]
     },
     "execution_count": 7,
     "metadata": {},
     "output_type": "execute_result"
    }
   ],
   "source": [
    "reverse(True)"
   ]
  },
  {
   "cell_type": "code",
   "execution_count": 8,
   "id": "588c092d",
   "metadata": {},
   "outputs": [
    {
     "data": {
      "text/plain": [
       "True"
      ]
     },
     "execution_count": 8,
     "metadata": {},
     "output_type": "execute_result"
    }
   ],
   "source": [
    "reverse(False)"
   ]
  },
  {
   "cell_type": "code",
   "execution_count": 9,
   "id": "fecc017e",
   "metadata": {},
   "outputs": [
    {
     "data": {
      "text/plain": [
       "'boolean expected'"
      ]
     },
     "execution_count": 9,
     "metadata": {},
     "output_type": "execute_result"
    }
   ],
   "source": [
    "reverse(0)"
   ]
  },
  {
   "cell_type": "code",
   "execution_count": 10,
   "id": "ebee1cce",
   "metadata": {},
   "outputs": [
    {
     "data": {
      "text/plain": [
       "'boolean expected'"
      ]
     },
     "execution_count": 10,
     "metadata": {},
     "output_type": "execute_result"
    }
   ],
   "source": [
    "reverse(None)"
   ]
  },
  {
   "cell_type": "markdown",
   "id": "6444b97e",
   "metadata": {},
   "source": [
    "***"
   ]
  },
  {
   "cell_type": "markdown",
   "id": "5173a73e",
   "metadata": {},
   "source": [
    "**Question3**\n",
    "\n",
    "    Create a function that returns the thickness (in meters) of a piece of paper after folding it n number of times. The paper starts off with a thickness of 0.5mm.\n",
    "\n",
    "**Examples:**\n",
    "\n",
    "    num_layers(1) ➞ \"0.001m\"\n",
    "     Paper folded once is 1mm (equal to 0.001m)\n",
    "    num_layers(4) ➞ \"0.008m\"\n",
    "     Paper folded 4 times is 8mm (equal to 0.008m)\n",
    "    num_layers(21) ➞ \"1048.576m\"\n",
    "     Paper folded 21 times is 1048576mm (equal to 1048.576m)"
   ]
  },
  {
   "cell_type": "code",
   "execution_count": 17,
   "id": "7b0b66de",
   "metadata": {},
   "outputs": [],
   "source": [
    "def num_layers(num):\n",
    "    \"\"\"\n",
    "    This function returns the thickness (in meters) of a piece of paper after folding it n number of times. \n",
    "    The paper starts off with a thickness of 0.5mm\n",
    "    \"\"\"\n",
    "    \n",
    "    result = 0.5\n",
    "    for _ in range(num):\n",
    "        result *= 2\n",
    "    \n",
    "    return result, result / 1000     #for meters"
   ]
  },
  {
   "cell_type": "code",
   "execution_count": 19,
   "id": "997f820c",
   "metadata": {},
   "outputs": [
    {
     "name": "stdout",
     "output_type": "stream",
     "text": [
      "Enter the number of layers 21\n",
      "\n",
      " Thickness of the layers: --> 1048.576m\n",
      "Paper folded 21 times is 1048576.0mm\n",
      "\n",
      " ***** END *****\n"
     ]
    }
   ],
   "source": [
    "# Result 1\n",
    "try:\n",
    "    my_inp = int(input(\"Enter the number of layers \"))\n",
    "    result_mm, result_m = num_layers(my_inp)\n",
    "except Exception as err:\n",
    "    print(err)\n",
    "else:\n",
    "    print(f\"\\n Thickness of the layers: --> {result_m}m\")\n",
    "    print(f\"Paper folded {my_inp} times is {result_mm}mm\")\n",
    "finally:\n",
    "    print(\"\\n ***** END *****\")"
   ]
  },
  {
   "cell_type": "markdown",
   "id": "be27a99f",
   "metadata": {},
   "source": [
    "***"
   ]
  },
  {
   "cell_type": "markdown",
   "id": "53cabaa9",
   "metadata": {},
   "source": [
    "**Question4**\n",
    "\n",
    "    Create a function that takes a single string as argument and returns an ordered list containing the indices of all capital letters in the string.\n",
    "\n",
    "**Examples:**\n",
    "\n",
    "    index_of_caps(\"eDaBiT\") ➞ [1, 3, 5]\n",
    "    index_of_caps(\"eQuINoX\") ➞ [1, 3, 4, 6]\n",
    "    index_of_caps(\"determine\") ➞ []\n",
    "    index_of_caps(\"STRIKE\") ➞ [0, 1, 2, 3, 4, 5]\n",
    "    index_of_caps(\"sUn\") ➞ [1]"
   ]
  },
  {
   "cell_type": "code",
   "execution_count": 20,
   "id": "13685678",
   "metadata": {},
   "outputs": [],
   "source": [
    "def index_of_caps(my_str):\n",
    "    \"\"\"\n",
    "    This function takes a single string as argument and \n",
    "    returns an ordered list containing the indices of all capital letters in the string.\n",
    "    \"\"\"\n",
    "    \n",
    "    return [idx for idx in range(len(my_str)) if my_str[idx].isupper()]"
   ]
  },
  {
   "cell_type": "code",
   "execution_count": 24,
   "id": "0bd8771f",
   "metadata": {},
   "outputs": [
    {
     "name": "stdout",
     "output_type": "stream",
     "text": [
      "Enter the string:\n",
      " eDaBiT\n",
      "\n",
      " Resultant list: --> [1, 3, 5]\n",
      "\n",
      " ***** END *****\n"
     ]
    }
   ],
   "source": [
    "# Result 1\n",
    "try:\n",
    "    my_inp = input(\"Enter the string:\\n \")\n",
    "    result = index_of_caps(my_inp)\n",
    "except Exception as err:\n",
    "    print(err)\n",
    "else:\n",
    "    print(f\"\\n Resultant list: --> {result}\")\n",
    "finally:\n",
    "    print(\"\\n ***** END *****\")"
   ]
  },
  {
   "cell_type": "code",
   "execution_count": 25,
   "id": "b4c991ba",
   "metadata": {},
   "outputs": [
    {
     "name": "stdout",
     "output_type": "stream",
     "text": [
      "Enter the string:\n",
      " sUn\n",
      "\n",
      " Resultant list: --> [1]\n",
      "\n",
      " ***** END *****\n"
     ]
    }
   ],
   "source": [
    "# Result 2\n",
    "try:\n",
    "    my_inp = input(\"Enter the string:\\n \")\n",
    "    result = index_of_caps(my_inp)\n",
    "except Exception as err:\n",
    "    print(err)\n",
    "else:\n",
    "    print(f\"\\n Resultant list: --> {result}\")\n",
    "finally:\n",
    "    print(\"\\n ***** END *****\")"
   ]
  },
  {
   "cell_type": "markdown",
   "id": "8da0f41a",
   "metadata": {},
   "source": [
    "***"
   ]
  },
  {
   "cell_type": "markdown",
   "id": "2ba3d6b6",
   "metadata": {},
   "source": [
    "**Question5**\n",
    "\n",
    "    Using list comprehensions, create a function that finds all even numbers from 1 to the given number.\n",
    "\n",
    "**Examples:**\n",
    "\n",
    "    find_even_nums(8) ➞ [2, 4, 6, 8]\n",
    "    find_even_nums(4) ➞ [2, 4]\n",
    "    find_even_nums(2) ➞ [2]"
   ]
  },
  {
   "cell_type": "code",
   "execution_count": 30,
   "id": "0cc82b80",
   "metadata": {},
   "outputs": [],
   "source": [
    "def find_even_nums(my_num):\n",
    "    \"\"\"\n",
    "    This function finds all even numbers from 1 to the given number using list comprehensions\n",
    "    returns a list containing all the even numbers.\n",
    "    \"\"\"\n",
    "    \n",
    "    return [num for num in range(1, my_num+1) if num % 2 == 0]"
   ]
  },
  {
   "cell_type": "code",
   "execution_count": 31,
   "id": "24a8ffda",
   "metadata": {},
   "outputs": [
    {
     "name": "stdout",
     "output_type": "stream",
     "text": [
      "Enter the number: 8\n",
      "\n",
      " Even number list for the given range: --> [2, 4, 6, 8]\n",
      "\n",
      " ***** END *****\n"
     ]
    }
   ],
   "source": [
    "# Result 1\n",
    "try:\n",
    "    my_inp = int(input(\"Enter the number: \"))\n",
    "    result = find_even_nums(my_inp)\n",
    "except Exception as err:\n",
    "    print(err)\n",
    "else:\n",
    "    print(f\"\\n Even number list for the given range: --> {result}\")\n",
    "finally:\n",
    "    print(\"\\n ***** END *****\")"
   ]
  },
  {
   "cell_type": "code",
   "execution_count": 32,
   "id": "5d58c96d",
   "metadata": {},
   "outputs": [
    {
     "name": "stdout",
     "output_type": "stream",
     "text": [
      "Enter the number: 2\n",
      "\n",
      " Even number list for the given range: --> [2]\n",
      "\n",
      " ***** END *****\n"
     ]
    }
   ],
   "source": [
    "# Result 2\n",
    "try:\n",
    "    my_inp = int(input(\"Enter the number: \"))\n",
    "    result = find_even_nums(my_inp)\n",
    "except Exception as err:\n",
    "    print(err)\n",
    "else:\n",
    "    print(f\"\\n Even number list for the given range: --> {result}\")\n",
    "finally:\n",
    "    print(\"\\n ***** END *****\")"
   ]
  },
  {
   "cell_type": "markdown",
   "id": "f69b2b28",
   "metadata": {},
   "source": [
    "***"
   ]
  }
 ],
 "metadata": {
  "kernelspec": {
   "display_name": "Python 3",
   "language": "python",
   "name": "python3"
  },
  "language_info": {
   "codemirror_mode": {
    "name": "ipython",
    "version": 3
   },
   "file_extension": ".py",
   "mimetype": "text/x-python",
   "name": "python",
   "nbconvert_exporter": "python",
   "pygments_lexer": "ipython3",
   "version": "3.8.8"
  }
 },
 "nbformat": 4,
 "nbformat_minor": 5
}
