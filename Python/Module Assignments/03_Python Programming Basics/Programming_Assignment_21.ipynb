{
 "cells": [
  {
   "cell_type": "markdown",
   "id": "6bec3f66",
   "metadata": {},
   "source": [
    "**Question1**\n",
    "\n",
    "    Write a function that takes a list and a number as arguments. Add the number to the end of the list, then remove the first element of the list. The function should then return the updated list.\n",
    "\n",
    "**Examples:**\n",
    "\n",
    "    next_in_line([5, 6, 7, 8, 9], 1) ➞ [6, 7, 8, 9, 1]\n",
    "    next_in_line([7, 6, 3, 23, 17], 10) ➞ [6, 3, 23, 17, 10]\n",
    "    next_in_line([1, 10, 20, 42 ], 6) ➞ [10, 20, 42, 6]\n",
    "    next_in_line([], 6) ➞ \"No list has been selected\""
   ]
  },
  {
   "cell_type": "code",
   "execution_count": 9,
   "id": "112c630d",
   "metadata": {},
   "outputs": [],
   "source": [
    "def next_in_line(lst, num):\n",
    "    \"\"\"\n",
    "    This function that takes a list and a number as arguments. \n",
    "    Add the number to the end of the list, then remove the first element of the list. \n",
    "    The function should then return the updated list.\n",
    "    \"\"\"\n",
    "    \n",
    "    my_lst = lst.copy()\n",
    "    if len(my_lst) == 0:\n",
    "        pass\n",
    "    else:\n",
    "        my_lst.append(num)\n",
    "        my_lst.pop(0)\n",
    "    \n",
    "    return my_lst"
   ]
  },
  {
   "cell_type": "code",
   "execution_count": 17,
   "id": "3cb87a13",
   "metadata": {},
   "outputs": [
    {
     "name": "stdout",
     "output_type": "stream",
     "text": [
      "Original list: [5, 6, 7, 8, 9]\n",
      "Number to be added at the end: 1\n",
      "\n",
      " New list after updates: \n",
      " [6, 7, 8, 9, 1]\n",
      "\n",
      " ***** END *****\n"
     ]
    }
   ],
   "source": [
    "# Result 1\n",
    "try:\n",
    "    my_lst = [5, 6, 7, 8, 9]\n",
    "    num = 1\n",
    "    result = next_in_line(my_lst, num)\n",
    "except Exception as err:\n",
    "    print(err)\n",
    "else:\n",
    "    print(f\"Original list: {my_lst}\")\n",
    "    print(f\"Number to be added at the end: {num}\")\n",
    "    if len(result) == 0:\n",
    "        print(\"\\n No list has been selected\")\n",
    "    else:\n",
    "        print(f\"\\n New list after updates: \\n {result}\")\n",
    "finally:\n",
    "    print(\"\\n ***** END *****\")"
   ]
  },
  {
   "cell_type": "code",
   "execution_count": 18,
   "id": "b294ad40",
   "metadata": {},
   "outputs": [
    {
     "name": "stdout",
     "output_type": "stream",
     "text": [
      "Original list: [7, 6, 3, 23, 17]\n",
      "Number to be added at the end: 10\n",
      "\n",
      " New list after updates: \n",
      " [6, 3, 23, 17, 10]\n",
      "\n",
      " ***** END *****\n"
     ]
    }
   ],
   "source": [
    "# Result 2\n",
    "try:\n",
    "    my_lst = [7, 6, 3, 23, 17]\n",
    "    num = 10\n",
    "    result = next_in_line(my_lst, num)\n",
    "except Exception as err:\n",
    "    print(err)\n",
    "else:\n",
    "    print(f\"Original list: {my_lst}\")\n",
    "    print(f\"Number to be added at the end: {num}\")\n",
    "    if len(result) == 0:\n",
    "        print(\"\\n No list has been selected\")\n",
    "    else:\n",
    "        print(f\"\\n New list after updates: \\n {result}\")\n",
    "finally:\n",
    "    print(\"\\n ***** END *****\")"
   ]
  },
  {
   "cell_type": "code",
   "execution_count": 19,
   "id": "63a89fd8",
   "metadata": {},
   "outputs": [
    {
     "name": "stdout",
     "output_type": "stream",
     "text": [
      "Original list: []\n",
      "Number to be added at the end: 1\n",
      "\n",
      " No list has been selected\n",
      "\n",
      " ***** END *****\n"
     ]
    }
   ],
   "source": [
    "# Result 3\n",
    "try:\n",
    "    my_lst = []\n",
    "    num = 1\n",
    "    result = next_in_line(my_lst, num)\n",
    "except Exception as err:\n",
    "    print(err)\n",
    "else:\n",
    "    print(f\"Original list: {my_lst}\")\n",
    "    print(f\"Number to be added at the end: {num}\")\n",
    "    if len(result) == 0:\n",
    "        print(\"\\n No list has been selected\")\n",
    "    else:\n",
    "        print(f\"\\n New list after updates: \\n {result}\")\n",
    "finally:\n",
    "    print(\"\\n ***** END *****\")"
   ]
  },
  {
   "cell_type": "markdown",
   "id": "e8a297b0",
   "metadata": {},
   "source": [
    "***"
   ]
  },
  {
   "cell_type": "markdown",
   "id": "b596915d",
   "metadata": {},
   "source": [
    "**Question2**\n",
    "\n",
    "    Create the function that takes a list of dictionaries and returns the sum of people's budgets.\n",
    "\n",
    "**Examples:**\n",
    "\n",
    "    get_budgets([\n",
    "        {\"name\": \"John\", \"age\": 21, \"budget\": 23000},\n",
    "        {\"name\": \"Steve\", \"age\": 32, \"budget\": 40000},\n",
    "        {\"name\": \"Martin\", \"age\": 16, \"budget\": 2700}\n",
    "    ]) ➞ 65700\n",
    "\n",
    "    get_budgets([\n",
    "        {\"name\": \"John\", \"age\": 21, \"budget\": 29000},\n",
    "        {\"name\": \"Steve\", \"age\": 32, \"budget\": 32000},\n",
    "        {\"name\": \"Martin\", \"age\": 16, \"budget\": 1600}\n",
    "    ]) ➞ 62600"
   ]
  },
  {
   "cell_type": "code",
   "execution_count": 25,
   "id": "bda3681a",
   "metadata": {},
   "outputs": [],
   "source": [
    "def get_budgets(my_lst):\n",
    "    \"\"\"\n",
    "    This function takes a list of dictionaries and returns the sum of people's budgets\n",
    "    \"\"\"\n",
    "    sum = 0\n",
    "    for dict_n in my_lst:\n",
    "        if type(dict_n) == dict:\n",
    "            for key in dict_n.keys():\n",
    "                if key =='budget':\n",
    "                    sum += dict_n[key]\n",
    "    return sum"
   ]
  },
  {
   "cell_type": "code",
   "execution_count": 21,
   "id": "81de41cc",
   "metadata": {},
   "outputs": [],
   "source": [
    "lst1 = [\n",
    "    {\"name\": \"John\", \"age\": 21, \"budget\": 23000},\n",
    "    {\"name\": \"Steve\", \"age\": 32, \"budget\": 40000},\n",
    "    {\"name\": \"Martin\", \"age\": 16, \"budget\": 2700}\n",
    "]"
   ]
  },
  {
   "cell_type": "code",
   "execution_count": 22,
   "id": "5be68b8d",
   "metadata": {},
   "outputs": [],
   "source": [
    "lst2 = [\n",
    "    {\"name\": \"John\", \"age\": 21, \"budget\": 29000},\n",
    "    {\"name\": \"Steve\", \"age\": 32, \"budget\": 32000},\n",
    "    {\"name\": \"Martin\", \"age\": 16, \"budget\": 1600}\n",
    "]"
   ]
  },
  {
   "cell_type": "code",
   "execution_count": 27,
   "id": "be3bc26e",
   "metadata": {},
   "outputs": [
    {
     "name": "stdout",
     "output_type": "stream",
     "text": [
      "Original list: \n",
      " [{'name': 'John', 'age': 21, 'budget': 23000}, {'name': 'Steve', 'age': 32, 'budget': 40000}, {'name': 'Martin', 'age': 16, 'budget': 2700}]\n",
      "\n",
      "Sum of people's budget is: \n",
      " 65700\n",
      "\n",
      " ***** END *****\n"
     ]
    }
   ],
   "source": [
    "# Result 1\n",
    "try:\n",
    "    result = get_budgets(lst1)\n",
    "except Exception as err:\n",
    "    print(err)\n",
    "else:\n",
    "    print(f\"Original list: \\n {lst1}\")\n",
    "    print(f\"\\nSum of people's budget is: \\n {result}\")\n",
    "finally:\n",
    "    print(\"\\n ***** END *****\")"
   ]
  },
  {
   "cell_type": "code",
   "execution_count": 28,
   "id": "494d5082",
   "metadata": {},
   "outputs": [
    {
     "name": "stdout",
     "output_type": "stream",
     "text": [
      "Original list: \n",
      " [{'name': 'John', 'age': 21, 'budget': 29000}, {'name': 'Steve', 'age': 32, 'budget': 32000}, {'name': 'Martin', 'age': 16, 'budget': 1600}]\n",
      "\n",
      "Sum of people's budget is: \n",
      " 62600\n",
      "\n",
      " ***** END *****\n"
     ]
    }
   ],
   "source": [
    "# Result 2\n",
    "try:\n",
    "    result = get_budgets(lst2)\n",
    "except Exception as err:\n",
    "    print(err)\n",
    "else:\n",
    "    print(f\"Original list: \\n {lst2}\")\n",
    "    print(f\"\\nSum of people's budget is: \\n {result}\")\n",
    "finally:\n",
    "    print(\"\\n ***** END *****\")"
   ]
  },
  {
   "cell_type": "markdown",
   "id": "6444b97e",
   "metadata": {},
   "source": [
    "***"
   ]
  },
  {
   "cell_type": "markdown",
   "id": "5173a73e",
   "metadata": {},
   "source": [
    "**Question3:**\n",
    "\n",
    "    Create a function that takes a string and returns a string with its letters in alphabetical order.\n",
    "    \n",
    "**Examples:**\n",
    "\n",
    "    alphabet_soup(\"hello\") ➞ \"ehllo\"\n",
    "    alphabet_soup(\"edabit\") ➞ \"abdeit\"\n",
    "    alphabet_soup(\"hacker\") ➞ \"acehkr\"\n",
    "    alphabet_soup(\"geek\") ➞ \"eegk\"\n",
    "    alphabet_soup(\"javascript\") ➞ \"aacijprstv\""
   ]
  },
  {
   "cell_type": "code",
   "execution_count": 29,
   "id": "7b0b66de",
   "metadata": {},
   "outputs": [],
   "source": [
    "def alphabet_soup(my_str):\n",
    "    \"\"\"\n",
    "    This function takes a string and returns a string with its letters in alphabetical order\n",
    "    \"\"\"\n",
    "    \n",
    "    return ''.join(sorted(my_str))"
   ]
  },
  {
   "cell_type": "code",
   "execution_count": 30,
   "id": "b9ecffe3",
   "metadata": {},
   "outputs": [
    {
     "name": "stdout",
     "output_type": "stream",
     "text": [
      " Enter any string:hello\n",
      "\n",
      " Updated string with alphabetical order: ehllo\n",
      "\n",
      " ***** END *****\n"
     ]
    }
   ],
   "source": [
    "# Result 1\n",
    "try:\n",
    "    string = input(\" Enter any string:\")\n",
    "    result = alphabet_soup(string)\n",
    "except Exception as err:\n",
    "    print(err)\n",
    "else:\n",
    "    print(f\"\\n Updated string with alphabetical order: {result}\")\n",
    "finally:\n",
    "    print(\"\\n ***** END *****\")"
   ]
  },
  {
   "cell_type": "code",
   "execution_count": 31,
   "id": "07e3a619",
   "metadata": {},
   "outputs": [
    {
     "name": "stdout",
     "output_type": "stream",
     "text": [
      " Enter any string:javascript\n",
      "\n",
      " Updated string with alphabetical order: aacijprstv\n",
      "\n",
      " ***** END *****\n"
     ]
    }
   ],
   "source": [
    "# Result 2\n",
    "try:\n",
    "    string = input(\" Enter any string:\")\n",
    "    result = alphabet_soup(string)\n",
    "except Exception as err:\n",
    "    print(err)\n",
    "else:\n",
    "    print(f\"\\n Updated string with alphabetical order: {result}\")\n",
    "finally:\n",
    "    print(\"\\n ***** END *****\")"
   ]
  },
  {
   "cell_type": "markdown",
   "id": "be27a99f",
   "metadata": {},
   "source": [
    "***"
   ]
  },
  {
   "cell_type": "markdown",
   "id": "53cabaa9",
   "metadata": {},
   "source": [
    "**Question4**\n",
    "\n",
    "    Suppose that you invest $10,000 for 10 years at an interest rate of 6% compounded monthly. What will be the value of your investment at the end of the 10 year period?\n",
    "\n",
    "    Create a function that accepts the principal p, the term in years t, the interest rate r, and the number of compounding periods per year n. The function returns the value at the end of term rounded to the nearest cent.\n",
    "\n",
    "    For the example above:\n",
    "        compound_interest(10000, 10, 0.06, 12) ➞ 18193.97\n",
    "\n",
    "    Note that the interest rate is given as a decimal and n=12 because with monthly compounding there are 12 periods per year. Compounding can also be done annually, quarterly, weekly, or daily.\n",
    "\n",
    "**Examples:**\n",
    "\n",
    "    compound_interest(100, 1, 0.05, 1) ➞ 105.0\n",
    "    compound_interest(3500, 15, 0.1, 4) ➞ 15399.26\n",
    "    compound_interest(100000, 20, 0.15, 365) ➞ 2007316.26"
   ]
  },
  {
   "attachments": {
    "image.png": {
     "image/png": "[encoded data removed]"
    }
   },
   "cell_type": "markdown",
   "id": "75fee818",
   "metadata": {},
   "source": [
    "![image.png](attachment:image.png)"
   ]
  },
  {
   "cell_type": "code",
   "execution_count": 32,
   "id": "13685678",
   "metadata": {},
   "outputs": [],
   "source": [
    "def compound_interest(principal, term, rate, compund_per_year):\n",
    "    \"\"\"\n",
    "    This function accepts the principal p, the term in years t, the interest rate r, \n",
    "    and the number of compounding periods per year n. \n",
    "    Return: the value/result at the end of term rounded to the nearest cent\n",
    "    \"\"\"\n",
    "    \n",
    "    amt = principal * (pow((1 + rate / compund_per_year), (compund_per_year * term)))\n",
    "    \n",
    "    return round(amt, 2)"
   ]
  },
  {
   "cell_type": "code",
   "execution_count": 35,
   "id": "9ea460a3",
   "metadata": {},
   "outputs": [
    {
     "name": "stdout",
     "output_type": "stream",
     "text": [
      " Enter the principal amount: 100\n",
      " Enter the terms in years: 1\n",
      " Enter the rate of interest: 0.05\n",
      " Enter the number of compounding periods per year (365/52/4/1): 1\n",
      "\n",
      " Amount with compound interest: 105.0\n",
      "\n",
      " ***** END *****\n"
     ]
    }
   ],
   "source": [
    "# Result 1\n",
    "try:\n",
    "    p = int(input(\" Enter the principal amount: \"))\n",
    "    t = int(input(\" Enter the terms in years: \"))\n",
    "    r = float(input(\" Enter the rate of interest: \"))\n",
    "    n = int(input(\" Enter the number of compounding periods per year (365/52/4/1): \"))\n",
    "    \n",
    "    result = compound_interest(p, t, r, n)\n",
    "except Exception as err:\n",
    "    print(err)\n",
    "else:\n",
    "    print(f\"\\n Amount with compound interest: {result}\")\n",
    "finally:\n",
    "    print(\"\\n ***** END *****\")"
   ]
  },
  {
   "cell_type": "code",
   "execution_count": 36,
   "id": "f78db109",
   "metadata": {},
   "outputs": [
    {
     "name": "stdout",
     "output_type": "stream",
     "text": [
      " Enter the principal amount: 3500\n",
      " Enter the terms in years: 15\n",
      " Enter the rate of interest: 0.1\n",
      " Enter the number of compounding periods per year (365/52/4/1): 4\n",
      "\n",
      " Amount with compound interest: 15399.26\n",
      "\n",
      " ***** END *****\n"
     ]
    }
   ],
   "source": [
    "# Result 2\n",
    "try:\n",
    "    p = int(input(\" Enter the principal amount: \"))\n",
    "    t = int(input(\" Enter the terms in years: \"))\n",
    "    r = float(input(\" Enter the rate of interest: \"))\n",
    "    n = int(input(\" Enter the number of compounding periods per year (365/52/4/1): \"))\n",
    "    \n",
    "    result = compound_interest(p, t, r, n)\n",
    "except Exception as err:\n",
    "    print(err)\n",
    "else:\n",
    "    print(f\"\\n Amount with compound interest: {result}\")\n",
    "finally:\n",
    "    print(\"\\n ***** END *****\")"
   ]
  },
  {
   "cell_type": "code",
   "execution_count": 37,
   "id": "4efd285c",
   "metadata": {},
   "outputs": [
    {
     "name": "stdout",
     "output_type": "stream",
     "text": [
      " Enter the principal amount: 100000\n",
      " Enter the terms in years: 20\n",
      " Enter the rate of interest: 0.15\n",
      " Enter the number of compounding periods per year (365/52/4/1): 365\n",
      "\n",
      " Amount with compound interest: 2007316.26\n",
      "\n",
      " ***** END *****\n"
     ]
    }
   ],
   "source": [
    "# Result 3\n",
    "try:\n",
    "    p = int(input(\" Enter the principal amount: \"))\n",
    "    t = int(input(\" Enter the terms in years: \"))\n",
    "    r = float(input(\" Enter the rate of interest: \"))\n",
    "    n = int(input(\" Enter the number of compounding periods per year (365/52/4/1): \"))\n",
    "    \n",
    "    result = compound_interest(p, t, r, n)\n",
    "except Exception as err:\n",
    "    print(err)\n",
    "else:\n",
    "    print(f\"\\n Amount with compound interest: {result}\")\n",
    "finally:\n",
    "    print(\"\\n ***** END *****\")"
   ]
  },
  {
   "cell_type": "markdown",
   "id": "8da0f41a",
   "metadata": {},
   "source": [
    "***"
   ]
  },
  {
   "cell_type": "markdown",
   "id": "2ba3d6b6",
   "metadata": {},
   "source": [
    "**Question5**\n",
    "\n",
    "    Write a function that takes a list of elements and returns only the integers.\n",
    "    \n",
    "**Examples:**\n",
    "\n",
    "    return_only_integer([9, 2, \"space\", \"car\", \"lion\", 16]) ➞ [9, 2, 16]\n",
    "    return_only_integer([\"hello\", 81, \"basketball\", 123, \"fox\"]) ➞ [81, 123]\n",
    "    return_only_integer([10, \"121\", 56, 20, \"car\", 3, \"lion\"]) ➞ [10, 56, 20, 3]\n",
    "    return_only_integer([\"String\", True, 3.3, 1]) ➞ [1]"
   ]
  },
  {
   "cell_type": "code",
   "execution_count": 38,
   "id": "0cc82b80",
   "metadata": {},
   "outputs": [],
   "source": [
    "def return_only_integer(my_lst):\n",
    "    \"\"\"\n",
    "    This function takes a list of elements and return a new list without the strings\n",
    "    \"\"\"\n",
    "    new_list = []\n",
    "    for ele in my_lst:\n",
    "        if type(ele) == int:\n",
    "            new_list.append(ele)\n",
    "    return new_list"
   ]
  },
  {
   "cell_type": "code",
   "execution_count": 43,
   "id": "c8c68a13",
   "metadata": {},
   "outputs": [
    {
     "name": "stdout",
     "output_type": "stream",
     "text": [
      "Original list: [9, 2, 'space', 'car', 'lion', 16]\n",
      "New list with only integers: \n",
      " [9, 2, 16]\n",
      "\n",
      " ***** END *****\n"
     ]
    }
   ],
   "source": [
    "# Result 1\n",
    "try:\n",
    "    my_lst = [9, 2, \"space\", \"car\", \"lion\", 16]\n",
    "    result = return_only_integer(my_lst)\n",
    "except Exception as err:\n",
    "    print(err)\n",
    "else:\n",
    "    print(f\"Original list: {my_lst}\")\n",
    "    print(f\"New list with only integers: \\n {result}\")\n",
    "finally:\n",
    "    print(\"\\n ***** END *****\")"
   ]
  },
  {
   "cell_type": "code",
   "execution_count": 44,
   "id": "8e20dd34",
   "metadata": {},
   "outputs": [
    {
     "name": "stdout",
     "output_type": "stream",
     "text": [
      "Original list: ['hello', 81, 'basketball', 123, 'fox']\n",
      "New list with only integers: \n",
      " [81, 123]\n",
      "\n",
      " ***** END *****\n"
     ]
    }
   ],
   "source": [
    "# Result 2\n",
    "try:\n",
    "    my_lst = [\"hello\", 81, \"basketball\", 123, \"fox\"]\n",
    "    result = return_only_integer(my_lst)\n",
    "except Exception as err:\n",
    "    print(err)\n",
    "else:\n",
    "    print(f\"Original list: {my_lst}\")\n",
    "    print(f\"New list with only integers: \\n {result}\")\n",
    "finally:\n",
    "    print(\"\\n ***** END *****\")"
   ]
  },
  {
   "cell_type": "code",
   "execution_count": 45,
   "id": "404bcfb5",
   "metadata": {},
   "outputs": [
    {
     "name": "stdout",
     "output_type": "stream",
     "text": [
      "Original list: ['String', True, 3.3, 1]\n",
      "New list with only integers: \n",
      " [1]\n",
      "\n",
      " ***** END *****\n"
     ]
    }
   ],
   "source": [
    "# Result 3\n",
    "try:\n",
    "    my_lst = [\"String\", True, 3.3, 1]\n",
    "    result = return_only_integer(my_lst)\n",
    "except Exception as err:\n",
    "    print(err)\n",
    "else:\n",
    "    print(f\"Original list: {my_lst}\")\n",
    "    print(f\"New list with only integers: \\n {result}\")\n",
    "finally:\n",
    "    print(\"\\n ***** END *****\")"
   ]
  },
  {
   "cell_type": "markdown",
   "id": "f69b2b28",
   "metadata": {},
   "source": [
    "***"
   ]
  }
 ],
 "metadata": {
  "kernelspec": {
   "display_name": "Python 3",
   "language": "python",
   "name": "python3"
  },
  "language_info": {
   "codemirror_mode": {
    "name": "ipython",
    "version": 3
   },
   "file_extension": ".py",
   "mimetype": "text/x-python",
   "name": "python",
   "nbconvert_exporter": "python",
   "pygments_lexer": "ipython3",
   "version": "3.8.8"
  }
 },
 "nbformat": 4,
 "nbformat_minor": 5
}
