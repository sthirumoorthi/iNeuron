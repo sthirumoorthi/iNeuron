{
 "cells": [
  {
   "cell_type": "markdown",
   "id": "6bec3f66",
   "metadata": {},
   "source": [
    "**Question1**\n",
    "\n",
    "    Create a function that takes a list of strings and integers, and filters out the list so that it returns a list of integers only.\n",
    "\n",
    "**Examples:**\n",
    "\n",
    "    filter_list([1, 2, 3, \"a\", \"b\", 4]) ➞ [1, 2, 3, 4]\n",
    "    filter_list([\"A\", 0, \"Edabit\", 1729, \"Python\", \"1729\"]) ➞ [0, 1729]\n",
    "    filter_list([\"Nothing\", \"here\"]) ➞ []"
   ]
  },
  {
   "cell_type": "code",
   "execution_count": 1,
   "id": "112c630d",
   "metadata": {},
   "outputs": [],
   "source": [
    "def filter_list(my_lst):\n",
    "    \"\"\"\n",
    "    This function takes a list of integers and strings \n",
    "    and return a new list without the strings\n",
    "    \"\"\"\n",
    "    new_list = []\n",
    "    for ele in my_lst:\n",
    "        if type(ele) == int:\n",
    "            new_list.append(ele)\n",
    "    return new_list"
   ]
  },
  {
   "cell_type": "code",
   "execution_count": 6,
   "id": "2078ed33",
   "metadata": {},
   "outputs": [
    {
     "name": "stdout",
     "output_type": "stream",
     "text": [
      "Original list: [1, 2, 3, 'a', 'b', 4]\n",
      "New list without strings: \n",
      " [1, 2, 3, 4]\n",
      "\n",
      " ***** END *****\n"
     ]
    }
   ],
   "source": [
    "# Result 1\n",
    "try:\n",
    "    my_lst = [1, 2, 3, \"a\", \"b\", 4]\n",
    "    result = filter_list(my_lst)\n",
    "except Exception as err:\n",
    "    print(err)\n",
    "else:\n",
    "    print(f\"Original list: {my_lst}\")\n",
    "    print(f\"New list without strings: \\n {result}\")\n",
    "finally:\n",
    "    print(\"\\n ***** END *****\")"
   ]
  },
  {
   "cell_type": "code",
   "execution_count": 8,
   "id": "7d58c19e",
   "metadata": {},
   "outputs": [
    {
     "name": "stdout",
     "output_type": "stream",
     "text": [
      "Original list: ['A', 0, 'Edabit', 1729, 'Python', '1729']\n",
      "New list without strings: \n",
      " [0, 1729]\n",
      "\n",
      " ***** END *****\n"
     ]
    }
   ],
   "source": [
    "# Result 2\n",
    "try:\n",
    "    my_lst = [\"A\", 0, \"Edabit\", 1729, \"Python\", \"1729\"]\n",
    "    result = filter_list(my_lst)\n",
    "except Exception as err:\n",
    "    print(err)\n",
    "else:\n",
    "    print(f\"Original list: {my_lst}\")\n",
    "    print(f\"New list without strings: \\n {result}\")\n",
    "finally:\n",
    "    print(\"\\n ***** END *****\")"
   ]
  },
  {
   "cell_type": "markdown",
   "id": "e8a297b0",
   "metadata": {},
   "source": [
    "***"
   ]
  },
  {
   "cell_type": "markdown",
   "id": "b596915d",
   "metadata": {},
   "source": [
    "**Question2**\n",
    "\n",
    "Given a list of numbers, create a function which returns the list but with each element's index in the list added to itself. This means you add 0 to the number at index 0, add 1 to the number at index 1, etc...\n",
    "\n",
    "**Examples:**\n",
    "\n",
    "    add_indexes([0, 0, 0, 0, 0]) ➞ [0, 1, 2, 3, 4]\n",
    "    add_indexes([1, 2, 3, 4, 5]) ➞ [1, 3, 5, 7, 9]\n",
    "    add_indexes([5, 4, 3, 2, 1]) ➞ [5, 5, 5, 5, 5]"
   ]
  },
  {
   "cell_type": "code",
   "execution_count": 9,
   "id": "bda3681a",
   "metadata": {},
   "outputs": [],
   "source": [
    "def add_indexes(my_lst):\n",
    "    \"\"\"\n",
    "    This function will return the list but with each element's index in the list added to itself.\n",
    "    Add 0 to the number at index 0, add 1 to the number at index 1, etc...\n",
    "    \"\"\"\n",
    "    \n",
    "    new_lst = []\n",
    "    for i, item in enumerate(my_lst):\n",
    "        new_lst.append(i + item)\n",
    "    \n",
    "    return new_lst"
   ]
  },
  {
   "cell_type": "code",
   "execution_count": 10,
   "id": "371b6bf2",
   "metadata": {},
   "outputs": [
    {
     "name": "stdout",
     "output_type": "stream",
     "text": [
      " Enter the integer numbers (comma separated):1, 2, 3, 4, 5, 6\n",
      "New list after adding index to its values: \n",
      " [1, 3, 5, 7, 9, 11]\n",
      "\n",
      " ***** END *****\n"
     ]
    }
   ],
   "source": [
    "# Result 1\n",
    "try:\n",
    "    my_lst = list(map(int, input(\" Enter the integer numbers (comma separated):\").split(\",\")))\n",
    "    result = add_indexes(my_lst)\n",
    "except Exception as err:\n",
    "    print(err)\n",
    "else:\n",
    "    print(f\"New list after adding index to its values: \\n {result}\")\n",
    "finally:\n",
    "    print(\"\\n ***** END *****\")"
   ]
  },
  {
   "cell_type": "code",
   "execution_count": 11,
   "id": "4396914b",
   "metadata": {},
   "outputs": [
    {
     "name": "stdout",
     "output_type": "stream",
     "text": [
      " Enter the integer numbers (comma separated):0, 0, 0, 0, 0, 0, 0\n",
      "New list after adding index to its values: \n",
      " [0, 1, 2, 3, 4, 5, 6]\n",
      "\n",
      " ***** END *****\n"
     ]
    }
   ],
   "source": [
    "# Result 2\n",
    "try:\n",
    "    my_lst = list(map(int, input(\" Enter the integer numbers (comma separated):\").split(\",\")))\n",
    "    result = add_indexes(my_lst)\n",
    "except Exception as err:\n",
    "    print(err)\n",
    "else:\n",
    "    print(f\"New list after adding index to its values: \\n {result}\")\n",
    "finally:\n",
    "    print(\"\\n ***** END *****\")"
   ]
  },
  {
   "cell_type": "markdown",
   "id": "6444b97e",
   "metadata": {},
   "source": [
    "***"
   ]
  },
  {
   "attachments": {
    "image.png": {
     "image/png": "[encoded data removed]"
    }
   },
   "cell_type": "markdown",
   "id": "5173a73e",
   "metadata": {},
   "source": [
    "**Question3**\n",
    "\n",
    "    Create a function that takes the height and radius of a cone as arguments and returns the volume of the cone rounded to the nearest hundredth. See the resources tab for the formula.\n",
    "    \n",
    "![image.png](attachment:image.png)\n",
    "\n",
    "**Examples:**\n",
    "\n",
    "    cone_volume(3, 2) ➞ 12.57\n",
    "    cone_volume(15, 6) ➞ 565.49\n",
    "    cone_volume(18, 0) ➞ 0"
   ]
  },
  {
   "cell_type": "code",
   "execution_count": 18,
   "id": "7b0b66de",
   "metadata": {},
   "outputs": [],
   "source": [
    "import math\n",
    "\n",
    "def cone_volume(h, r):\n",
    "    \"\"\"\n",
    "    This function will calculate Volume of Cone\n",
    "    \"\"\"\n",
    "    \n",
    "    return (math.pi * (r*r) * (h/3))"
   ]
  },
  {
   "cell_type": "code",
   "execution_count": 20,
   "id": "fb20c424",
   "metadata": {},
   "outputs": [
    {
     "name": "stdout",
     "output_type": "stream",
     "text": [
      " Enter the height of cone:3\n",
      " Enter the radius of cone:2\n",
      "\n",
      " Volume Of Cone: 12.57\n",
      "\n",
      " ***** END *****\n"
     ]
    }
   ],
   "source": [
    "try:\n",
    "    h = float(input(\" Enter the height of cone:\"))\n",
    "    r = float(input(\" Enter the radius of cone:\"))\n",
    "    result = cone_volume(h, r)\n",
    "except Exception as err:\n",
    "    print(err)\n",
    "else:\n",
    "    print(f\"\\n Volume Of Cone: {result:.2f}\")\n",
    "finally:\n",
    "    print(\"\\n ***** END *****\")"
   ]
  },
  {
   "cell_type": "markdown",
   "id": "be27a99f",
   "metadata": {},
   "source": [
    "***"
   ]
  },
  {
   "cell_type": "markdown",
   "id": "53cabaa9",
   "metadata": {},
   "source": [
    "**Question4**\n",
    "\n",
    "    This Triangular Number Sequence is generated from a pattern of dots that form a triangle. The first 5 numbers of the sequence, or dots, are:\n",
    "        1, 3, 6, 10, 15\n",
    "    \n",
    "    This means that the first triangle has just one dot, the second one has three dots, the third one has 6 dots and so on.\n",
    "    \n",
    "    Write a function that gives the number of dots with its corresponding triangle number of the sequence.\n",
    "\n",
    "**Examples:**\n",
    "\n",
    "    triangle(1) ➞ 1\n",
    "    triangle(6) ➞ 21\n",
    "    triangle(215) ➞ 23220"
   ]
  },
  {
   "attachments": {
    "image-2.png": {
     "image/png": "[encoded data removed]"
    },
    "image.png": {
     "image/png": "[encoded data removed]"
    }
   },
   "cell_type": "markdown",
   "id": "6c2aeba3",
   "metadata": {},
   "source": [
    "![image.png](attachment:image.png)\n",
    "![image-2.png](attachment:image-2.png)"
   ]
  },
  {
   "cell_type": "code",
   "execution_count": 21,
   "id": "13685678",
   "metadata": {},
   "outputs": [],
   "source": [
    "def triangle(n):\n",
    "    \"\"\"\n",
    "    This function will give the number of dots with its corresponding triangle number of the sequence.\n",
    "    \"\"\"\n",
    "    \n",
    "    return (n*(n+1)//2)"
   ]
  },
  {
   "cell_type": "code",
   "execution_count": 22,
   "id": "98e30145",
   "metadata": {
    "scrolled": true
   },
   "outputs": [
    {
     "name": "stdout",
     "output_type": "stream",
     "text": [
      " Enter any number to get the triangle number sequence dots:6\n",
      "\n",
      " Number of dots in the triangle is: 21\n",
      "\n",
      " ***** END *****\n"
     ]
    }
   ],
   "source": [
    "# Result 1\n",
    "try:\n",
    "    n = int(input(\" Enter any number to get the triangle number sequence dots:\"))\n",
    "    result = triangle(n)\n",
    "except Exception as err:\n",
    "    print(err)\n",
    "else:\n",
    "    print(f\"\\n Number of dots in the triangle is: {result}\")\n",
    "finally:\n",
    "    print(\"\\n ***** END *****\")"
   ]
  },
  {
   "cell_type": "code",
   "execution_count": 23,
   "id": "0b637a89",
   "metadata": {},
   "outputs": [
    {
     "name": "stdout",
     "output_type": "stream",
     "text": [
      " Enter any number to get the triangle number sequence dots:215\n",
      "\n",
      " Number of dots in the triangle is: 23220\n",
      "\n",
      " ***** END *****\n"
     ]
    }
   ],
   "source": [
    "# Result 2\n",
    "try:\n",
    "    n = int(input(\" Enter any number to get the triangle number sequence dots:\"))\n",
    "    result = triangle(n)\n",
    "except Exception as err:\n",
    "    print(err)\n",
    "else:\n",
    "    print(f\"\\n Number of dots in the triangle is: {result}\")\n",
    "finally:\n",
    "    print(\"\\n ***** END *****\")"
   ]
  },
  {
   "cell_type": "markdown",
   "id": "8da0f41a",
   "metadata": {},
   "source": [
    "***"
   ]
  },
  {
   "cell_type": "markdown",
   "id": "2ba3d6b6",
   "metadata": {},
   "source": [
    "**Question5**\n",
    "\n",
    "    Create a function that takes a list of numbers between 1 and 10 (excluding one number) and returns the missing number.\n",
    "\n",
    "**Examples:**\n",
    "\n",
    "    missing_num([1, 2, 3, 4, 6, 7, 8, 9, 10]) ➞ 5\n",
    "    missing_num([7, 2, 3, 6, 5, 9, 1, 4, 8]) ➞ 10\n",
    "    missing_num([10, 5, 1, 2, 4, 6, 8, 3, 9]) ➞ 7"
   ]
  },
  {
   "cell_type": "code",
   "execution_count": 26,
   "id": "0cc82b80",
   "metadata": {},
   "outputs": [],
   "source": [
    "def missing_num(lst):\n",
    "    \"\"\"\n",
    "    This function takes a list of numbers between 1 and 10 (excluding one number) and returns the missing number\n",
    "    \"\"\"\n",
    "    \n",
    "    miss_n = 0\n",
    "    for n in range(1,11):\n",
    "        if n not in lst:\n",
    "            miss_n = n            \n",
    "    \n",
    "    return miss_n"
   ]
  },
  {
   "cell_type": "code",
   "execution_count": 27,
   "id": "fbf47980",
   "metadata": {},
   "outputs": [
    {
     "name": "stdout",
     "output_type": "stream",
     "text": [
      " Enter the numbers between 1 and 10 (exclude 1 number & comma separated):1, 2, 3, 4, 6, 7, 8, 9, 10\n",
      "Missing number from the list is: \n",
      " 5\n",
      "\n",
      " ***** END *****\n"
     ]
    }
   ],
   "source": [
    "# Result 1\n",
    "try:\n",
    "    my_lst = list(map(int, input(\" Enter the numbers between 1 and 10 (exclude 1 number & comma separated):\").split(\",\")))\n",
    "    result = missing_num(my_lst)\n",
    "except Exception as err:\n",
    "    print(err)\n",
    "else:\n",
    "    print(f\"Missing number from the list is: \\n {result}\")\n",
    "finally:\n",
    "    print(\"\\n ***** END *****\")"
   ]
  },
  {
   "cell_type": "code",
   "execution_count": 28,
   "id": "7d396fc7",
   "metadata": {},
   "outputs": [
    {
     "name": "stdout",
     "output_type": "stream",
     "text": [
      " Enter the numbers between 1 and 10 (exclude 1 number & comma separated):10, 5, 1, 2, 4, 6, 8, 3, 9\n",
      "Missing number from the list is: \n",
      " 7\n",
      "\n",
      " ***** END *****\n"
     ]
    }
   ],
   "source": [
    "# Result 2\n",
    "try:\n",
    "    my_lst = list(map(int, input(\" Enter the numbers between 1 and 10 (exclude 1 number & comma separated):\").split(\",\")))\n",
    "    result = missing_num(my_lst)\n",
    "except Exception as err:\n",
    "    print(err)\n",
    "else:\n",
    "    print(f\"Missing number from the list is: \\n {result}\")\n",
    "finally:\n",
    "    print(\"\\n ***** END *****\")"
   ]
  },
  {
   "cell_type": "markdown",
   "id": "f69b2b28",
   "metadata": {},
   "source": [
    "***"
   ]
  }
 ],
 "metadata": {
  "kernelspec": {
   "display_name": "Python 3",
   "language": "python",
   "name": "python3"
  },
  "language_info": {
   "codemirror_mode": {
    "name": "ipython",
    "version": 3
   },
   "file_extension": ".py",
   "mimetype": "text/x-python",
   "name": "python",
   "nbconvert_exporter": "python",
   "pygments_lexer": "ipython3",
   "version": "3.8.8"
  }
 },
 "nbformat": 4,
 "nbformat_minor": 5
}
