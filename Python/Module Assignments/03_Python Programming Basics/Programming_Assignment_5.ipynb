{
 "cells": [
  {
   "cell_type": "markdown",
   "id": "d92b0dfc",
   "metadata": {},
   "source": [
    "**1. Write a Python Program to Find LCM?**"
   ]
  },
  {
   "cell_type": "markdown",
   "id": "57b0c592",
   "metadata": {},
   "source": [
    "    The Least Common Multiple (LCM) of two or more integers is the smallest positive integer that is perfectly divisible by the given integer values without the remainder. For example, the LCM value of integer 2 and 3 is 12 because 12 is the smallest positive integer that is divisible by both 2 and 3 (the remainder is 0)."
   ]
  },
  {
   "cell_type": "code",
   "execution_count": 4,
   "id": "453f4341",
   "metadata": {},
   "outputs": [],
   "source": [
    "def calculateLCM(x, y):\n",
    "    \"\"\"\n",
    "    This function returns the LCM of two integers. \n",
    "    LCM is the smallest positive integer that is perfectly divisible by the given integer values without the remainder.\n",
    "    \"\"\"\n",
    "    \n",
    "    # choose the greater number\n",
    "    if x > y:\n",
    "        max_no = x\n",
    "    else:\n",
    "        max_no = y\n",
    "    \n",
    "    while(True):\n",
    "        if((max_no % x == 0) and (max_no % y == 0)):\n",
    "            lcm = max_no\n",
    "            break\n",
    "        max_no += 1\n",
    "    return lcm"
   ]
  },
  {
   "cell_type": "code",
   "execution_count": 6,
   "id": "d08bab85",
   "metadata": {},
   "outputs": [
    {
     "name": "stdout",
     "output_type": "stream",
     "text": [
      " Enter the First Value: 15\n",
      " Enter the Second Value: 25\n",
      "The L.C.M. of 15 and 25 is: 75\n"
     ]
    }
   ],
   "source": [
    "num1 = int(input(\" Enter the First Value: \"))\n",
    "num2 = int(input(\" Enter the Second Value: \"))\n",
    "\n",
    "if num1 == 0 or num2 == 0:\n",
    "    print(\"One or both the numbers are having zero. Please rerun the program with positive numbers\")\n",
    "else:\n",
    "    print(f\"The L.C.M. of {num1} and {num2} is: {calculateLCM(num1, num2)}\")"
   ]
  },
  {
   "cell_type": "markdown",
   "id": "43a9a23e",
   "metadata": {},
   "source": [
    "***"
   ]
  },
  {
   "cell_type": "markdown",
   "id": "c446cd6b",
   "metadata": {},
   "source": [
    "**2. Write a Python Program to Find HCF?**"
   ]
  },
  {
   "cell_type": "markdown",
   "id": "83d0444a",
   "metadata": {},
   "source": [
    "    The highest common factor (H.C.F) or greatest common divisor (G.C.D) of two numbers is the largest positive integer that perfectly divides the two given numbers. For example, the H.C.F of 12 and 14 is 2."
   ]
  },
  {
   "cell_type": "code",
   "execution_count": 7,
   "id": "50b7e3be",
   "metadata": {},
   "outputs": [],
   "source": [
    "def calculateHCF(x, y):\n",
    "    \"\"\"\n",
    "    This function returns the HCF of two numbers x and y.\n",
    "    The Highest Common Factor of two numbers is the greatest common factor of the two numbers.\n",
    "    \"\"\"\n",
    "\n",
    "    # choose the smaller number\n",
    "    if x > y:\n",
    "        min_no = y\n",
    "    else:\n",
    "        min_no = x\n",
    "    for i in range(1, min_no+1):\n",
    "        if((x % i == 0) and (y % i == 0)):\n",
    "            hcf = i \n",
    "    return hcf"
   ]
  },
  {
   "cell_type": "code",
   "execution_count": 9,
   "id": "7820544f",
   "metadata": {},
   "outputs": [
    {
     "name": "stdout",
     "output_type": "stream",
     "text": [
      " Enter the First Value: 54\n",
      " Enter the Second Value: 24\n",
      "The H.C.F. of 54 and 24 is: 6\n"
     ]
    }
   ],
   "source": [
    "num1 = int(input(\" Enter the First Value: \"))\n",
    "num2 = int(input(\" Enter the Second Value: \"))\n",
    "\n",
    "if num1 == 0 or num2 == 0:\n",
    "    print(\"One or both the numbers are having zero. Please rerun the program with positive numbers\")\n",
    "else:\n",
    "    print(f\"The H.C.F. of {num1} and {num2} is: {calculateHCF(num1, num2)}\")"
   ]
  },
  {
   "cell_type": "markdown",
   "id": "5a098f98",
   "metadata": {},
   "source": [
    "***"
   ]
  },
  {
   "cell_type": "markdown",
   "id": "9227199e",
   "metadata": {},
   "source": [
    "**3. Write a Python Program to Convert Decimal to Binary, Octal and Hexadecimal?**"
   ]
  },
  {
   "cell_type": "markdown",
   "id": "1e865b44",
   "metadata": {},
   "source": [
    "    Convert decimal to binary using bin() function. In converted binary form 0b is present at the beginning.\n",
    "    Convert decimal to octal using oct() function. In converted octal form 0o is present at the beginning.\n",
    "    Convert decimal to hexadecimal using hex() function. In converted hexadecimal form 0x is present at the beginning."
   ]
  },
  {
   "cell_type": "code",
   "execution_count": 14,
   "id": "9fa2998e",
   "metadata": {},
   "outputs": [
    {
     "name": "stdout",
     "output_type": "stream",
     "text": [
      "  Enter a decimal number: 11\n",
      "Respective Binary number is 0b1011\n",
      "Respective Octal number is 0o13\n",
      "Respective Hexadecimal number is 0xb\n",
      "\n",
      "  After formatting the results:\n",
      "Binary form of 11 is: 1011\n",
      "Octal form of 11 is: 13\n",
      "Hexadecimal form of 11 is: B\n"
     ]
    }
   ],
   "source": [
    "num = int(input(\"  Enter a decimal number: \"))\n",
    " \n",
    "print(f\"Respective Binary number is {bin(num)}\")\n",
    "print(f\"Respective Octal number is {oct(num)}\")\n",
    "print(f\"Respective Hexadecimal number is {hex(num)}\")\n",
    "\n",
    "print(\"\\n  After formatting the results:\")\n",
    "print(f\"Binary form of {num} is: {bin(num)[2:]}\")\n",
    "print(f\"Octal form of {num} is: {oct(num)[2:]}\")\n",
    "print(f\"Hexadecimal form of {num} is: {hex(num)[2:].upper()}\")"
   ]
  },
  {
   "cell_type": "markdown",
   "id": "74351511",
   "metadata": {},
   "source": [
    "***"
   ]
  },
  {
   "cell_type": "markdown",
   "id": "573ee1af",
   "metadata": {},
   "source": [
    "**4. Write a Python Program To Find ASCII value of a character?**"
   ]
  },
  {
   "cell_type": "code",
   "execution_count": 17,
   "id": "0c9eac86",
   "metadata": {},
   "outputs": [
    {
     "name": "stdout",
     "output_type": "stream",
     "text": [
      " Enter any character: g\n",
      "The ASCII value of char g is: 103\n"
     ]
    }
   ],
   "source": [
    "char = input(\" Enter any character: \")\n",
    "\n",
    "print(f\"The ASCII value of char {char} is: {ord(char)}\")"
   ]
  },
  {
   "cell_type": "markdown",
   "id": "1bee2361",
   "metadata": {},
   "source": [
    "***"
   ]
  },
  {
   "cell_type": "markdown",
   "id": "630d71e7",
   "metadata": {},
   "source": [
    "**5. Write a Python Program to Make a Simple Calculator with 4 basic mathematical operations?**"
   ]
  },
  {
   "cell_type": "code",
   "execution_count": 21,
   "id": "234e15ed",
   "metadata": {},
   "outputs": [
    {
     "name": "stdout",
     "output_type": "stream",
     "text": [
      "Select operation.\n",
      "   1.Add\n",
      "   2.Subtract\n",
      "   3.Multiply\n",
      "   4.Divide\n",
      "Enter choice(1/2/3/4): 1\n",
      "Enter first number: 18\n",
      "Enter second number: 2\n",
      "18.0 + 2.0 = 20.0\n",
      "\n",
      "Let's do next calculation? (yes/no): yes\n",
      "Select operation.\n",
      "   1.Add\n",
      "   2.Subtract\n",
      "   3.Multiply\n",
      "   4.Divide\n",
      "Enter choice(1/2/3/4): 4\n",
      "Enter first number: 18\n",
      "Enter second number: 9\n",
      "18.0 / 9.0 = 2.0\n",
      "\n",
      "Let's do next calculation? (yes/no): yes\n",
      "Select operation.\n",
      "   1.Add\n",
      "   2.Subtract\n",
      "   3.Multiply\n",
      "   4.Divide\n",
      "Enter choice(1/2/3/4): 2\n",
      "Enter first number: 18\n",
      "Enter second number: 16\n",
      "18.0 - 16.0 = 2.0\n",
      "\n",
      "Let's do next calculation? (yes/no): no\n",
      "   ***END OF PROGRAM***    \n"
     ]
    }
   ],
   "source": [
    "# Program make a simple calculator\n",
    "\n",
    "def add(x, y):\n",
    "    \"\"\" This function adds two numbers \"\"\"\n",
    "    return x + y\n",
    "\n",
    "def subtract(x, y):\n",
    "    \"\"\" This function subtracts two numbers \"\"\"\n",
    "    return x - y\n",
    "\n",
    "def multiply(x, y):\n",
    "    \"\"\" This function multiplies two numbers \"\"\"\n",
    "    return x * y\n",
    "\n",
    "def divide(x, y):\n",
    "    \"\"\" This function divides two numbers \"\"\"\n",
    "    return x / y\n",
    "\n",
    "while True:\n",
    "    print(\"Select operation.\")\n",
    "    print(\"   1.Add\")\n",
    "    print(\"   2.Subtract\")\n",
    "    print(\"   3.Multiply\")\n",
    "    print(\"   4.Divide\")\n",
    "    \n",
    "    choice = input(\"Enter choice(1/2/3/4): \")\n",
    "\n",
    "    if choice in ('1', '2', '3', '4'):\n",
    "        num1 = float(input(\"Enter first number: \"))\n",
    "        num2 = float(input(\"Enter second number: \"))\n",
    "\n",
    "        if choice == '1':\n",
    "            print(f\"{num1} + {num2} = {add(num1, num2)}\")\n",
    "\n",
    "        elif choice == '2':\n",
    "            print(f\"{num1} - {num2} = {subtract(num1, num2)}\")\n",
    "\n",
    "        elif choice == '3':\n",
    "            print(f\"{num1} * {num2} = {multiply(num1, num2)}\")\n",
    "\n",
    "        elif choice == '4':\n",
    "            print(f\"{num1} / {num2} = {divide(num1, num2)}\")\n",
    "        \n",
    "        # check if user wants another calculation\n",
    "        # break the while loop if answer is no\n",
    "        next_calculation = input(\"\\nLet's do next calculation? (yes/no): \")\n",
    "        if next_calculation == \"no\":\n",
    "            print(\"   ***END OF PROGRAM***    \")\n",
    "            break\n",
    "    \n",
    "    else:\n",
    "        print(\"Invalid Input.\")"
   ]
  },
  {
   "cell_type": "markdown",
   "id": "581731d7",
   "metadata": {},
   "source": [
    "***"
   ]
  }
 ],
 "metadata": {
  "kernelspec": {
   "display_name": "Python 3",
   "language": "python",
   "name": "python3"
  },
  "language_info": {
   "codemirror_mode": {
    "name": "ipython",
    "version": 3
   },
   "file_extension": ".py",
   "mimetype": "text/x-python",
   "name": "python",
   "nbconvert_exporter": "python",
   "pygments_lexer": "ipython3",
   "version": "3.8.8"
  }
 },
 "nbformat": 4,
 "nbformat_minor": 5
}
