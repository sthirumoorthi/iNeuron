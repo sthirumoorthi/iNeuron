{
 "cells": [
  {
   "cell_type": "markdown",
   "id": "6bec3f66",
   "metadata": {},
   "source": [
    "**Question1**\n",
    "\n",
    "    Create a function that takes three parameters where:\n",
    "         x is the start of the range (inclusive).\n",
    "         y is the end of the range (inclusive).\n",
    "         n is the divisor to be checked against.\n",
    "\n",
    "Return an ordered list with numbers in the range that are divisible by the third parameter n.\n",
    "\n",
    "Return an empty list if there are no numbers that are divisible by n.\n",
    "\n",
    "**Examples:**\n",
    "\n",
    "    list_operation(1, 10, 3) ➞ [3, 6, 9]\n",
    "    list_operation(7, 9, 2) ➞ [8]\n",
    "    list_operation(15, 20, 7) ➞ []"
   ]
  },
  {
   "cell_type": "code",
   "execution_count": 1,
   "id": "112c630d",
   "metadata": {},
   "outputs": [],
   "source": [
    "def list_operation(x, y, n):\n",
    "    \"\"\"\n",
    "    This function takes three parameters where x & y are the start & end of the ranges and\n",
    "    n is the divisor to be checked against. \n",
    "    Return: an ordered list with numbers in the range that are divisible by the third parameter n\n",
    "    \"\"\"\n",
    "    \n",
    "    new_lst = []\n",
    "    for i in range(x, y+1):\n",
    "        if i % n == 0:\n",
    "            new_lst.append(i)\n",
    "    return new_lst"
   ]
  },
  {
   "cell_type": "code",
   "execution_count": 2,
   "id": "6c6bde79",
   "metadata": {},
   "outputs": [
    {
     "name": "stdout",
     "output_type": "stream",
     "text": [
      " Enter the start of the range: 1\n",
      " Enter the end of the range 10\n",
      " Enter the divisor to be checked against: 3\n",
      "\n",
      " Divisible numbers are : [3, 6, 9]\n",
      "\n",
      " ***** END *****\n"
     ]
    }
   ],
   "source": [
    "# Result 1\n",
    "try:\n",
    "    x = int(input(\" Enter the start of the range: \"))\n",
    "    y = int(input(\" Enter the end of the range \"))\n",
    "    n = int(input(\" Enter the divisor to be checked against: \"))\n",
    "    result = list_operation(x, y, n)\n",
    "except Exception as err:\n",
    "    print(err)\n",
    "else:\n",
    "    print(f\"\\n Divisible numbers are : {result}\")\n",
    "finally:\n",
    "    print(\"\\n ***** END *****\")"
   ]
  },
  {
   "cell_type": "code",
   "execution_count": 3,
   "id": "0e198dfd",
   "metadata": {},
   "outputs": [
    {
     "name": "stdout",
     "output_type": "stream",
     "text": [
      " Enter the start of the range: 7\n",
      " Enter the end of the range 9\n",
      " Enter the divisor to be checked against: 2\n",
      "\n",
      " Divisible numbers are : [8]\n",
      "\n",
      " ***** END *****\n"
     ]
    }
   ],
   "source": [
    "# Result 2\n",
    "try:\n",
    "    x = int(input(\" Enter the start of the range: \"))\n",
    "    y = int(input(\" Enter the end of the range \"))\n",
    "    n = int(input(\" Enter the divisor to be checked against: \"))\n",
    "    result = list_operation(x, y, n)\n",
    "except Exception as err:\n",
    "    print(err)\n",
    "else:\n",
    "    print(f\"\\n Divisible numbers are : {result}\")\n",
    "finally:\n",
    "    print(\"\\n ***** END *****\")"
   ]
  },
  {
   "cell_type": "code",
   "execution_count": 4,
   "id": "8799898c",
   "metadata": {},
   "outputs": [
    {
     "name": "stdout",
     "output_type": "stream",
     "text": [
      " Enter the start of the range: 15\n",
      " Enter the end of the range 20\n",
      " Enter the divisor to be checked against: 7\n",
      "\n",
      " Divisible numbers are : []\n",
      "\n",
      " ***** END *****\n"
     ]
    }
   ],
   "source": [
    "# Result 3\n",
    "try:\n",
    "    x = int(input(\" Enter the start of the range: \"))\n",
    "    y = int(input(\" Enter the end of the range \"))\n",
    "    n = int(input(\" Enter the divisor to be checked against: \"))\n",
    "    result = list_operation(x, y, n)\n",
    "except Exception as err:\n",
    "    print(err)\n",
    "else:\n",
    "    print(f\"\\n Divisible numbers are : {result}\")\n",
    "finally:\n",
    "    print(\"\\n ***** END *****\")"
   ]
  },
  {
   "cell_type": "markdown",
   "id": "e8a297b0",
   "metadata": {},
   "source": [
    "***"
   ]
  },
  {
   "cell_type": "markdown",
   "id": "b596915d",
   "metadata": {},
   "source": [
    "**Question2**\n",
    "\n",
    "    Create a function that takes in two lists and returns True if the second list follows the first list by one element, and False otherwise. In other words, determine if the second list is the first list shifted to the right by 1.\n",
    "\n",
    "**Examples:**\n",
    "\n",
    "    simon_says([1, 2], [5, 1]) ➞ True\n",
    "    simon_says([1, 2], [5, 5]) ➞ False\n",
    "    simon_says([1, 2, 3, 4, 5], [0, 1, 2, 3, 4]) ➞ True\n",
    "    simon_says([1, 2, 3, 4, 5], [5, 5, 1, 2, 3]) ➞ False\n",
    "\n",
    "**Notes:**\n",
    "\n",
    " Both input lists will be of the same length, and will have a minimum length of 2.\n",
    "\n",
    " The values of the 0-indexed element in the second list and the n-1th indexed element in the first list do not matter."
   ]
  },
  {
   "cell_type": "code",
   "execution_count": 5,
   "id": "bda3681a",
   "metadata": {},
   "outputs": [],
   "source": [
    "def simon_says(list1, list2):\n",
    "    \"\"\"\n",
    "    This function takes in two lists and \n",
    "    returns True if the second list follows the first list by one element, and False otherwise\n",
    "    logic: remove last element from list1 and first element from list2 and compare them.\n",
    "    \"\"\"\n",
    "    \n",
    "    return list1[:-1] == list2[1:]"
   ]
  },
  {
   "cell_type": "code",
   "execution_count": 6,
   "id": "3fdc0657",
   "metadata": {},
   "outputs": [
    {
     "name": "stdout",
     "output_type": "stream",
     "text": [
      " Enter the elements for list1: 1,2\n",
      " Enter the elements for list2: 5,1\n",
      "\n",
      " Comparision result : True\n",
      "\n",
      " ***** END *****\n"
     ]
    }
   ],
   "source": [
    "# Result 1\n",
    "try:\n",
    "    list1 = list(map(int, input(\" Enter the elements for list1: \").split(\",\")))\n",
    "    list2 = list(map(int, input(\" Enter the elements for list2: \").split(\",\")))\n",
    "    result = simon_says(list1, list2)\n",
    "except Exception as err:\n",
    "    print(err)\n",
    "else:\n",
    "    print(f\"\\n Comparision result : {result}\")\n",
    "finally:\n",
    "    print(\"\\n ***** END *****\")"
   ]
  },
  {
   "cell_type": "code",
   "execution_count": 7,
   "id": "ff2e9339",
   "metadata": {},
   "outputs": [
    {
     "name": "stdout",
     "output_type": "stream",
     "text": [
      " Enter the elements for list1: 1,2\n",
      " Enter the elements for list2: 5,5\n",
      "\n",
      " Comparision result : False\n",
      "\n",
      " ***** END *****\n"
     ]
    }
   ],
   "source": [
    "# Result 2\n",
    "try:\n",
    "    list1 = list(map(int, input(\" Enter the elements for list1: \").split(\",\")))\n",
    "    list2 = list(map(int, input(\" Enter the elements for list2: \").split(\",\")))\n",
    "    result = simon_says(list1, list2)\n",
    "except Exception as err:\n",
    "    print(err)\n",
    "else:\n",
    "    print(f\"\\n Comparision result : {result}\")\n",
    "finally:\n",
    "    print(\"\\n ***** END *****\")"
   ]
  },
  {
   "cell_type": "code",
   "execution_count": 8,
   "id": "3ccd68ad",
   "metadata": {},
   "outputs": [
    {
     "name": "stdout",
     "output_type": "stream",
     "text": [
      " Enter the elements for list1: 1,2,3,4,5\n",
      " Enter the elements for list2: 0,1,2,3,4\n",
      "\n",
      " Comparision result : True\n",
      "\n",
      " ***** END *****\n"
     ]
    }
   ],
   "source": [
    "# Result 3\n",
    "try:\n",
    "    list1 = list(map(int, input(\" Enter the elements for list1: \").split(\",\")))\n",
    "    list2 = list(map(int, input(\" Enter the elements for list2: \").split(\",\")))\n",
    "    result = simon_says(list1, list2)\n",
    "except Exception as err:\n",
    "    print(err)\n",
    "else:\n",
    "    print(f\"\\n Comparision result : {result}\")\n",
    "finally:\n",
    "    print(\"\\n ***** END *****\")"
   ]
  },
  {
   "cell_type": "code",
   "execution_count": 9,
   "id": "675c7fe8",
   "metadata": {},
   "outputs": [
    {
     "name": "stdout",
     "output_type": "stream",
     "text": [
      " Enter the elements for list1: 1,2,3,4,5\n",
      " Enter the elements for list2: 5,5,1,2,3\n",
      "\n",
      " Comparision result : False\n",
      "\n",
      " ***** END *****\n"
     ]
    }
   ],
   "source": [
    "# Result 4\n",
    "try:\n",
    "    list1 = list(map(int, input(\" Enter the elements for list1: \").split(\",\")))\n",
    "    list2 = list(map(int, input(\" Enter the elements for list2: \").split(\",\")))\n",
    "    result = simon_says(list1, list2)\n",
    "except Exception as err:\n",
    "    print(err)\n",
    "else:\n",
    "    print(f\"\\n Comparision result : {result}\")\n",
    "finally:\n",
    "    print(\"\\n ***** END *****\")"
   ]
  },
  {
   "cell_type": "markdown",
   "id": "6444b97e",
   "metadata": {},
   "source": [
    "***"
   ]
  },
  {
   "cell_type": "markdown",
   "id": "5173a73e",
   "metadata": {},
   "source": [
    "**Question3**\n",
    "\n",
    "    A group of friends have decided to start a secret society. The name will be the first letter of each of their names, sorted in alphabetical order. Create a function that takes in a list of names and returns the name of the secret society.\n",
    "\n",
    "**Examples:**\n",
    "\n",
    "    society_name([\"Adam\", \"Sarah\", \"Malcolm\"]) ➞ \"AMS\"\n",
    "    society_name([\"Harry\", \"Newt\", \"Luna\", \"Cho\"]) ➞ \"CHLN\"\n",
    "    society_name([\"Phoebe\", \"Chandler\", \"Rachel\", \"Ross\", \"Monica\", \"Joey\"])"
   ]
  },
  {
   "cell_type": "code",
   "execution_count": 10,
   "id": "7b0b66de",
   "metadata": {},
   "outputs": [],
   "source": [
    "def society_name(my_str):\n",
    "    \"\"\"\n",
    "    This function takes in a list of names as input and \n",
    "    returns the name (first char of each name) of the secret society\n",
    "    \"\"\"\n",
    "    \n",
    "    res = \"\"\n",
    "    for i in my_str:\n",
    "        res += i[0]\n",
    "    \n",
    "    return ''.join(sorted(res))"
   ]
  },
  {
   "cell_type": "code",
   "execution_count": 13,
   "id": "57f94bb1",
   "metadata": {},
   "outputs": [
    {
     "name": "stdout",
     "output_type": "stream",
     "text": [
      " Enter the names of secret society members (comma separated): Adam,Sarah,Malcolm\n",
      "\n",
      " Secret Society name is :\n",
      "AMS\n",
      "\n",
      " ***** END *****\n"
     ]
    }
   ],
   "source": [
    "# Result 1\n",
    "try:\n",
    "    list1 = list(input(\" Enter the names of secret society members (comma separated): \").split(\",\"))\n",
    "    result = society_name(list1)\n",
    "except Exception as err:\n",
    "    print(err)\n",
    "else:\n",
    "    print(f\"\\n Secret Society name is :\\n{result}\")\n",
    "finally:\n",
    "    print(\"\\n ***** END *****\")"
   ]
  },
  {
   "cell_type": "code",
   "execution_count": 14,
   "id": "08a908d6",
   "metadata": {},
   "outputs": [
    {
     "name": "stdout",
     "output_type": "stream",
     "text": [
      " Enter the names of secret society members (comma separated): Harry,Newt,Luna,Cho\n",
      "\n",
      " Secret Society name is :\n",
      "CHLN\n",
      "\n",
      " ***** END *****\n"
     ]
    }
   ],
   "source": [
    "# Result 2\n",
    "try:\n",
    "    list1 = list(input(\" Enter the names of secret society members (comma separated): \").split(\",\"))\n",
    "    result = society_name(list1)\n",
    "except Exception as err:\n",
    "    print(err)\n",
    "else:\n",
    "    print(f\"\\n Secret Society name is :\\n{result}\")\n",
    "finally:\n",
    "    print(\"\\n ***** END *****\")"
   ]
  },
  {
   "cell_type": "code",
   "execution_count": 15,
   "id": "a522ff79",
   "metadata": {},
   "outputs": [
    {
     "name": "stdout",
     "output_type": "stream",
     "text": [
      " Enter the names of secret society members (comma separated): Phoebe,Chandler,Rachel,Ross,Monica,Joey\n",
      "\n",
      " Secret Society name is :\n",
      "CJMPRR\n",
      "\n",
      " ***** END *****\n"
     ]
    }
   ],
   "source": [
    "# Result 3\n",
    "try:\n",
    "    list1 = list(input(\" Enter the names of secret society members (comma separated): \").split(\",\"))\n",
    "    result = society_name(list1)\n",
    "except Exception as err:\n",
    "    print(err)\n",
    "else:\n",
    "    print(f\"\\n Secret Society name is :\\n{result}\")\n",
    "finally:\n",
    "    print(\"\\n ***** END *****\")"
   ]
  },
  {
   "cell_type": "markdown",
   "id": "be27a99f",
   "metadata": {},
   "source": [
    "***"
   ]
  },
  {
   "cell_type": "markdown",
   "id": "53cabaa9",
   "metadata": {},
   "source": [
    "**Question4**\n",
    "\n",
    "An isogram is a word that has no duplicate letters. Create a function that takes a string and returns either True or False depending on whether or not it's an \"isogram\".\n",
    "\n",
    "**Examples:**\n",
    "\n",
    "    is_isogram(\"Algorism\") ➞ True\n",
    "    is_isogram(\"PasSword\") ➞ False\n",
    "    # Not case sensitive.\n",
    "    is_isogram(\"Consecutive\") ➞ False\n",
    "\n",
    "**Notes:**\n",
    "\n",
    " Ignore letter case (should not be case sensitive).\n",
    "\n",
    " All test cases contain valid one word strings."
   ]
  },
  {
   "cell_type": "code",
   "execution_count": 16,
   "id": "13685678",
   "metadata": {},
   "outputs": [],
   "source": [
    "def is_isogram(word):\n",
    "    \"\"\"\n",
    "    This function takes a string and returns either True or False depending on whether or not it's an \"isogram\"\n",
    "    \"\"\"\n",
    " \n",
    "    clean_word = word.lower()\n",
    "    letter_list = []\n",
    " \n",
    "    for letter in clean_word:\n",
    "        if letter.isalpha():\n",
    "            if letter in letter_list:\n",
    "                return False\n",
    "            letter_list.append(letter)\n",
    " \n",
    "    return True"
   ]
  },
  {
   "cell_type": "code",
   "execution_count": 17,
   "id": "f15ca696",
   "metadata": {},
   "outputs": [
    {
     "name": "stdout",
     "output_type": "stream",
     "text": [
      " Enter any word to check isogram:Algorism\n",
      "True \n",
      " Given word is a isogram\n",
      "\n",
      " ***** END *****\n"
     ]
    }
   ],
   "source": [
    "# Result 1\n",
    "try:\n",
    "    my_str = input(\" Enter any word to check isogram:\")\n",
    "    result = is_isogram(my_str)\n",
    "except Exception as err:\n",
    "    print(err)\n",
    "else:\n",
    "    if result:\n",
    "        print(f\"{result} \\n Given word is a isogram\")\n",
    "    else:\n",
    "        print(f\"{result} \\n Given word is not a isogram\")\n",
    "finally:\n",
    "    print(\"\\n ***** END *****\")"
   ]
  },
  {
   "cell_type": "code",
   "execution_count": 18,
   "id": "2a3347aa",
   "metadata": {},
   "outputs": [
    {
     "name": "stdout",
     "output_type": "stream",
     "text": [
      " Enter any word to check isogram:PasSword\n",
      "False \n",
      " Given word is not a isogram\n",
      "\n",
      " ***** END *****\n"
     ]
    }
   ],
   "source": [
    "# Result 2\n",
    "try:\n",
    "    my_str = input(\" Enter any word to check isogram:\")\n",
    "    result = is_isogram(my_str)\n",
    "except Exception as err:\n",
    "    print(err)\n",
    "else:\n",
    "    if result:\n",
    "        print(f\"{result} \\n Given word is a isogram\")\n",
    "    else:\n",
    "        print(f\"{result} \\n Given word is not a isogram\")\n",
    "finally:\n",
    "    print(\"\\n ***** END *****\")"
   ]
  },
  {
   "cell_type": "code",
   "execution_count": 19,
   "id": "7e34edbc",
   "metadata": {},
   "outputs": [
    {
     "name": "stdout",
     "output_type": "stream",
     "text": [
      " Enter any word to check isogram:Consecutive\n",
      "False \n",
      " Given word is not a isogram\n",
      "\n",
      " ***** END *****\n"
     ]
    }
   ],
   "source": [
    "# Result 3\n",
    "try:\n",
    "    my_str = input(\" Enter any word to check isogram:\")\n",
    "    result = is_isogram(my_str)\n",
    "except Exception as err:\n",
    "    print(err)\n",
    "else:\n",
    "    if result:\n",
    "        print(f\"{result} \\n Given word is a isogram\")\n",
    "    else:\n",
    "        print(f\"{result} \\n Given word is not a isogram\")\n",
    "finally:\n",
    "    print(\"\\n ***** END *****\")"
   ]
  },
  {
   "cell_type": "markdown",
   "id": "8da0f41a",
   "metadata": {},
   "source": [
    "***"
   ]
  },
  {
   "cell_type": "markdown",
   "id": "2ba3d6b6",
   "metadata": {},
   "source": [
    "**Question5**\n",
    "\n",
    "Create a function that takes a string and returns True or False, depending on whether the characters are in order or not.\n",
    "\n",
    "**Examples:**\n",
    "\n",
    "    is_in_order(\"abc\") ➞ True\n",
    "    is_in_order(\"edabit\") ➞ False\n",
    "    is_in_order(\"123\") ➞ True\n",
    "    is_in_order(\"xyzz\") ➞ True\n",
    "\n",
    "**Notes:**\n",
    "You don't have to handle empty strings."
   ]
  },
  {
   "cell_type": "code",
   "execution_count": 20,
   "id": "0cc82b80",
   "metadata": {},
   "outputs": [],
   "source": [
    "def is_in_order(my_str):\n",
    "    \"\"\"\n",
    "    This function takes a string and returns True or False, \n",
    "    depending on whether the characters are in order or not\n",
    "    \"\"\"\n",
    " \n",
    "    n = len(my_str)\n",
    "    for i in range(1, n): \n",
    "        # if element at index 'i' is less than the element at index 'i-1'\n",
    "        # then the string is not sorted\n",
    "        if (my_str[i] < my_str[i - 1]) :\n",
    "            return False\n",
    " \n",
    "    return True"
   ]
  },
  {
   "cell_type": "code",
   "execution_count": 21,
   "id": "368e3878",
   "metadata": {},
   "outputs": [
    {
     "name": "stdout",
     "output_type": "stream",
     "text": [
      " Enter any word to check the order: abc\n",
      "True \n",
      " Given word is in order\n",
      "\n",
      " ***** END *****\n"
     ]
    }
   ],
   "source": [
    "# Result 1\n",
    "try:\n",
    "    my_str = input(\" Enter any word to check the order: \")\n",
    "    result = is_in_order(my_str)\n",
    "except Exception as err:\n",
    "    print(err)\n",
    "else:\n",
    "    if result:\n",
    "        print(f\"{result} \\n Given word is in order\")\n",
    "    else:\n",
    "        print(f\"{result} \\n Given word is not in order\")\n",
    "finally:\n",
    "    print(\"\\n ***** END *****\")"
   ]
  },
  {
   "cell_type": "code",
   "execution_count": 22,
   "id": "a89cc5f8",
   "metadata": {},
   "outputs": [
    {
     "name": "stdout",
     "output_type": "stream",
     "text": [
      " Enter any word to check the order: edabit\n",
      "False \n",
      " Given word is not in order\n",
      "\n",
      " ***** END *****\n"
     ]
    }
   ],
   "source": [
    "# Result 2\n",
    "try:\n",
    "    my_str = input(\" Enter any word to check the order: \")\n",
    "    result = is_in_order(my_str)\n",
    "except Exception as err:\n",
    "    print(err)\n",
    "else:\n",
    "    if result:\n",
    "        print(f\"{result} \\n Given word is in order\")\n",
    "    else:\n",
    "        print(f\"{result} \\n Given word is not in order\")\n",
    "finally:\n",
    "    print(\"\\n ***** END *****\")"
   ]
  },
  {
   "cell_type": "code",
   "execution_count": 23,
   "id": "86785fcc",
   "metadata": {},
   "outputs": [
    {
     "name": "stdout",
     "output_type": "stream",
     "text": [
      " Enter any word to check the order: 123\n",
      "True \n",
      " Given word is in order\n",
      "\n",
      " ***** END *****\n"
     ]
    }
   ],
   "source": [
    "# Result 3\n",
    "try:\n",
    "    my_str = input(\" Enter any word to check the order: \")\n",
    "    result = is_in_order(my_str)\n",
    "except Exception as err:\n",
    "    print(err)\n",
    "else:\n",
    "    if result:\n",
    "        print(f\"{result} \\n Given word is in order\")\n",
    "    else:\n",
    "        print(f\"{result} \\n Given word is not in order\")\n",
    "finally:\n",
    "    print(\"\\n ***** END *****\")"
   ]
  },
  {
   "cell_type": "code",
   "execution_count": 24,
   "id": "cad53906",
   "metadata": {},
   "outputs": [
    {
     "name": "stdout",
     "output_type": "stream",
     "text": [
      " Enter any word to check the order: xyzzz\n",
      "True \n",
      " Given word is in order\n",
      "\n",
      " ***** END *****\n"
     ]
    }
   ],
   "source": [
    "# Result 4\n",
    "try:\n",
    "    my_str = input(\" Enter any word to check the order: \")\n",
    "    result = is_in_order(my_str)\n",
    "except Exception as err:\n",
    "    print(err)\n",
    "else:\n",
    "    if result:\n",
    "        print(f\"{result} \\n Given word is in order\")\n",
    "    else:\n",
    "        print(f\"{result} \\n Given word is not in order\")\n",
    "finally:\n",
    "    print(\"\\n ***** END *****\")"
   ]
  },
  {
   "cell_type": "markdown",
   "id": "f69b2b28",
   "metadata": {},
   "source": [
    "***"
   ]
  }
 ],
 "metadata": {
  "kernelspec": {
   "display_name": "Python 3",
   "language": "python",
   "name": "python3"
  },
  "language_info": {
   "codemirror_mode": {
    "name": "ipython",
    "version": 3
   },
   "file_extension": ".py",
   "mimetype": "text/x-python",
   "name": "python",
   "nbconvert_exporter": "python",
   "pygments_lexer": "ipython3",
   "version": "3.8.8"
  }
 },
 "nbformat": 4,
 "nbformat_minor": 5
}
