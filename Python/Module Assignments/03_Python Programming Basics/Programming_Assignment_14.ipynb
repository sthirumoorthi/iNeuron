{
 "cells": [
  {
   "cell_type": "markdown",
   "id": "6bec3f66",
   "metadata": {},
   "source": [
    "**Question 1:**\n",
    "\n",
    "**Define a class with a generator which can iterate the numbers, which are divisible by 7, between a given range 0 and n.**"
   ]
  },
  {
   "cell_type": "code",
   "execution_count": 1,
   "id": "112c630d",
   "metadata": {},
   "outputs": [],
   "source": [
    "class divChecker:\n",
    "    def __init__(self, n):\n",
    "        self.n = n\n",
    "        \n",
    "    def putNumbers(self):\n",
    "        i = 0\n",
    "        while i < self.n:\n",
    "            j=i\n",
    "            i=i+1\n",
    "            if j % 7 == 0:\n",
    "                yield j"
   ]
  },
  {
   "cell_type": "code",
   "execution_count": 3,
   "id": "05fb2546",
   "metadata": {},
   "outputs": [
    {
     "name": "stdout",
     "output_type": "stream",
     "text": [
      "0\n",
      "7\n",
      "14\n",
      "21\n",
      "28\n",
      "35\n",
      "42\n",
      "49\n",
      "56\n",
      "63\n",
      "70\n",
      "77\n",
      "84\n",
      "91\n",
      "98\n"
     ]
    }
   ],
   "source": [
    "check1 = divChecker(100)\n",
    "for i in check1.putNumbers():\n",
    "    print(i)"
   ]
  },
  {
   "cell_type": "markdown",
   "id": "85b75f1c",
   "metadata": {},
   "source": [
    "    The yield statement is used to define generators, replacing the return of a function to provide a result to its caller without destroying local variables. Unlike a function, where on each call it starts with new set of variables, a generator will resume the execution where it was left off."
   ]
  },
  {
   "cell_type": "markdown",
   "id": "e8a297b0",
   "metadata": {},
   "source": [
    "***"
   ]
  },
  {
   "cell_type": "markdown",
   "id": "b596915d",
   "metadata": {},
   "source": [
    "**Question 2:**\n",
    "\n",
    "**Write a program to compute the frequency of the words from the input. The output should output after sorting the key alphanumerically.**"
   ]
  },
  {
   "cell_type": "markdown",
   "id": "823954f2",
   "metadata": {},
   "source": [
    "    Suppose the following input is supplied to the program:\n",
    "        New to Python or choosing between Python 2 and Python 3? Read Python 2 or Python 3.\n",
    "    \n",
    "    Then, the output should be:\n",
    "        2:2\n",
    "        3.:1\n",
    "        3?:1\n",
    "        New:1\n",
    "        Python:5\n",
    "        Read:1\n",
    "        and:1\n",
    "        between:1\n",
    "        choosing:1\n",
    "        or:2\n",
    "        to:1"
   ]
  },
  {
   "cell_type": "code",
   "execution_count": 13,
   "id": "bda3681a",
   "metadata": {},
   "outputs": [],
   "source": [
    "def freq_count(my_str):\n",
    "    \"\"\"\n",
    "    This function splits the input string by spaces and removes the duplicate words using set.\n",
    "    Prints the count of every unique words in ascending order using the actual input string.\n",
    "    \"\"\"\n",
    "    \n",
    "    try:\n",
    "        # break the string into list of words\n",
    "        str_list = my_str.split()\n",
    "        \n",
    "        # gives set of unique words\n",
    "        unique_words = sorted(set(str_list))\n",
    "        print(\"\\n Count of unique words:\")\n",
    "        for word in unique_words :\n",
    "            print(f\"{word} : {str_list.count(word)}\")\n",
    "    except Exception as err:\n",
    "        print(err)"
   ]
  },
  {
   "cell_type": "code",
   "execution_count": 14,
   "id": "ebf1b315",
   "metadata": {},
   "outputs": [
    {
     "name": "stdout",
     "output_type": "stream",
     "text": [
      "Enter the string:\n",
      " New to Python or choosing between Python 2 and Python 3? Read Python 2 or Python 3.\n",
      "\n",
      " Count of unique words:\n",
      "2 : 2\n",
      "3. : 1\n",
      "3? : 1\n",
      "New : 1\n",
      "Python : 5\n",
      "Read : 1\n",
      "and : 1\n",
      "between : 1\n",
      "choosing : 1\n",
      "or : 2\n",
      "to : 1\n"
     ]
    }
   ],
   "source": [
    "my_inp = input(\"Enter the string:\\n \")\n",
    "freq_count(my_inp)"
   ]
  },
  {
   "cell_type": "markdown",
   "id": "6444b97e",
   "metadata": {},
   "source": [
    "***"
   ]
  },
  {
   "cell_type": "markdown",
   "id": "5173a73e",
   "metadata": {},
   "source": [
    "**Question 3:**\n",
    "\n",
    "**Define a class Person and its two child classes: Male and Female. All classes have a method &quot;getGender&quot; which can print &quot;Male&quot; for Male class and &quot;Female&quot; for Female class.**"
   ]
  },
  {
   "cell_type": "code",
   "execution_count": 2,
   "id": "7b0b66de",
   "metadata": {},
   "outputs": [
    {
     "name": "stdout",
     "output_type": "stream",
     "text": [
      "Male\n",
      "Female\n"
     ]
    }
   ],
   "source": [
    "class Person:\n",
    "    def getGender(self):\n",
    "        return \"Unknown\"\n",
    "\n",
    "class Male(Person):\n",
    "    def getGender(self):\n",
    "        return \"Male\"\n",
    "\n",
    "class Female(Person):\n",
    "    def getGender(self):\n",
    "        return \"Female\"\n",
    "\n",
    "thiru = Male()\n",
    "kirthi= Female()\n",
    "print(thiru.getGender())\n",
    "print(kirthi.getGender())"
   ]
  },
  {
   "cell_type": "markdown",
   "id": "be27a99f",
   "metadata": {},
   "source": [
    "***"
   ]
  },
  {
   "cell_type": "markdown",
   "id": "53cabaa9",
   "metadata": {},
   "source": [
    "**Question 4:**\n",
    "\n",
    "**Please write a program to generate all sentences where subject is in [&quot;I&quot;, &quot;You&quot;] and verb is in [&quot;Play&quot;, &quot;Love&quot;] and the object is in [&quot;Hockey&quot;,&quot;Football&quot;].**"
   ]
  },
  {
   "cell_type": "code",
   "execution_count": 3,
   "id": "13685678",
   "metadata": {},
   "outputs": [
    {
     "name": "stdout",
     "output_type": "stream",
     "text": [
      "I Play Hockey\n",
      "I Play Football\n",
      "I Love Hockey\n",
      "I Love Football\n",
      "You Play Hockey\n",
      "You Play Football\n",
      "You Love Hockey\n",
      "You Love Football\n"
     ]
    }
   ],
   "source": [
    "subjects=[\"I\", \"You\"]\n",
    "verbs=[\"Play\", \"Love\"]\n",
    "objects=[\"Hockey\",\"Football\"]\n",
    "\n",
    "for sub in subjects:\n",
    "    for verb in verbs:\n",
    "        for obj in objects:\n",
    "            print(f\"{sub} {verb} {obj}\")"
   ]
  },
  {
   "cell_type": "markdown",
   "id": "8da0f41a",
   "metadata": {},
   "source": [
    "***"
   ]
  },
  {
   "cell_type": "markdown",
   "id": "2ba3d6b6",
   "metadata": {},
   "source": [
    "**Question 5:**\n",
    "\n",
    "**Please write a program to compress and decompress the string &quot;hello world!hello world!hello world!hello world!&quot;.**"
   ]
  },
  {
   "cell_type": "code",
   "execution_count": 6,
   "id": "0cc82b80",
   "metadata": {},
   "outputs": [
    {
     "name": "stdout",
     "output_type": "stream",
     "text": [
      " Compressed string is: \n",
      " b'x\\x9c\\xcbH\\xcd\\xc9\\xc9W(\\xcf/\\xcaIQ\\xcc \\x82\\r\\x00\\xbd[\\x11\\xf5'\n",
      " Decompressed string is: \n",
      " b'hello world!hello world!hello world!hello world!'\n",
      "\n",
      " ***** END *****\n"
     ]
    }
   ],
   "source": [
    "import zlib\n",
    "\n",
    "try:\n",
    "    my_str = 'hello world!hello world!hello world!hello world!'\n",
    "    byt_str = bytes(my_str, 'utf-8')\n",
    "    cmp_str = zlib.compress(byt_str)\n",
    "    dcmp_str = zlib.decompress(cmp_str)\n",
    "except Exception as err:\n",
    "    print(err)\n",
    "else:\n",
    "    print(f\" Compressed string is: \\n {cmp_str}\")\n",
    "    print(f\" Decompressed string is: \\n {dcmp_str}\")\n",
    "finally:\n",
    "    print(\"\\n ***** END *****\")"
   ]
  },
  {
   "cell_type": "markdown",
   "id": "f69b2b28",
   "metadata": {},
   "source": [
    "***"
   ]
  },
  {
   "cell_type": "markdown",
   "id": "138cb708",
   "metadata": {},
   "source": [
    "**Question 6:**\n",
    "\n",
    "**Please write a binary search function which searches an item in a sorted list. The function should return the index of element to be searched in the list.**"
   ]
  },
  {
   "cell_type": "code",
   "execution_count": 8,
   "id": "059c0c68",
   "metadata": {},
   "outputs": [],
   "source": [
    "import math\n",
    "\n",
    "def binary_search(my_lst, element):\n",
    "    \"\"\"\n",
    "    Binary Search is a searching algorithm used in a sorted list by repeatedly dividing the search interval in half.\n",
    "    This function will return -1 in case of no match found.\n",
    "    \"\"\"\n",
    "    \n",
    "    bottom = 0\n",
    "    top = len(my_lst)-1\n",
    "    index = -1\n",
    "    \n",
    "    while top>=bottom and index==-1:\n",
    "        mid = int(math.floor((top+bottom)/2.0))\n",
    "        if my_lst[mid]==element:\n",
    "            index = mid\n",
    "        elif my_lst[mid]>element:\n",
    "            top = mid-1\n",
    "        else:\n",
    "            bottom = mid+1\n",
    "\n",
    "    return index"
   ]
  },
  {
   "cell_type": "code",
   "execution_count": 11,
   "id": "767ce673",
   "metadata": {},
   "outputs": [
    {
     "name": "stdout",
     "output_type": "stream",
     "text": [
      " Enter array elements: 2,5,7,9,11,17,222\n",
      " Enter the number to find the index: 11\n",
      "The Value 11 was found at Index: 4\n",
      "\n",
      " ***** END *****\n"
     ]
    }
   ],
   "source": [
    "my_lst = []\n",
    "\n",
    "try:\n",
    "    # dynamic array. It can have any no of integers\n",
    "    my_lst = list(map(int, input(\" Enter array elements: \").split(\",\")))\n",
    "    num = int(input(\" Enter the number to find the index: \"))\n",
    "    indx = binary_search(my_lst, num)\n",
    "\n",
    "except ValueError as err:\n",
    "    print(f\"{err}. Please enter only positive integer\")\n",
    "\n",
    "except:\n",
    "    print(\"There is an issue in the program. Please troubleshoot and try again\")\n",
    "\n",
    "else:\n",
    "    if indx == -1:\n",
    "        print(\"No match found in the binary search\")\n",
    "    else:\n",
    "        print(f\"The Value {num} was found at Index: {indx}\")\n",
    "\n",
    "finally:\n",
    "    print(\"\\n ***** END *****\")"
   ]
  },
  {
   "cell_type": "markdown",
   "id": "503ed5da",
   "metadata": {},
   "source": [
    "***"
   ]
  }
 ],
 "metadata": {
  "kernelspec": {
   "display_name": "Python 3",
   "language": "python",
   "name": "python3"
  },
  "language_info": {
   "codemirror_mode": {
    "name": "ipython",
    "version": 3
   },
   "file_extension": ".py",
   "mimetype": "text/x-python",
   "name": "python",
   "nbconvert_exporter": "python",
   "pygments_lexer": "ipython3",
   "version": "3.8.8"
  }
 },
 "nbformat": 4,
 "nbformat_minor": 5
}
