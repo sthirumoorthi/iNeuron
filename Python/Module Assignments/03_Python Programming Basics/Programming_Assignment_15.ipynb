{
 "cells": [
  {
   "cell_type": "markdown",
   "id": "6bec3f66",
   "metadata": {},
   "source": [
    "**Question 1:\n",
    "Please write a program using generator to print the numbers which can be divisible by 5 and 7 between 0 and n in comma separated form while n is input by console.**\n",
    "\n",
    "    Example:\n",
    "    If the following n is given as input to the program:\n",
    "    100\n",
    "\n",
    "    Then, the output of the program should be:\n",
    "    0,35,70"
   ]
  },
  {
   "cell_type": "code",
   "execution_count": 2,
   "id": "112c630d",
   "metadata": {},
   "outputs": [
    {
     "name": "stdout",
     "output_type": "stream",
     "text": [
      " Enter any number: 100\n",
      "\n",
      " Output is:\n",
      "0,35,70\n",
      "\n",
      " ***** END *****\n"
     ]
    }
   ],
   "source": [
    "def generate(n):\n",
    "    \"\"\"\n",
    "    This generator function will yield the result when the input number is divisible for 5 and 7\n",
    "    \"\"\"\n",
    "    for i in range(n + 1):\n",
    "        if i%5==0 and i%7==0:\n",
    "            yield i\n",
    "\n",
    "try:\n",
    "    num = int(input(\" Enter any number: \"))\n",
    "    result = [str(i) for i in generate(num)]\n",
    "except Exception as err:\n",
    "    print(err)\n",
    "else:\n",
    "    print(\"\\n Output is:\")\n",
    "    print(*result, sep=\",\")\n",
    "finally:\n",
    "    print(\"\\n ***** END *****\")"
   ]
  },
  {
   "cell_type": "markdown",
   "id": "e8a297b0",
   "metadata": {},
   "source": [
    "***"
   ]
  },
  {
   "cell_type": "markdown",
   "id": "b596915d",
   "metadata": {},
   "source": [
    "**Question 2:\n",
    "Please write a program using generator to print the even numbers between 0 and n in comma separated form while n is input by console.**\n",
    "\n",
    "    Example:\n",
    "    If the following n is given as input to the program:\n",
    "    10\n",
    "    \n",
    "    Then, the output of the program should be:\n",
    "    0,2,4,6,8,10"
   ]
  },
  {
   "cell_type": "code",
   "execution_count": 4,
   "id": "bda3681a",
   "metadata": {},
   "outputs": [
    {
     "name": "stdout",
     "output_type": "stream",
     "text": [
      " Enter any number: 10\n",
      "\n",
      " Even numbers between 0 and 10 are:\n",
      "0,2,4,6,8,10\n",
      "\n",
      " ***** END *****\n"
     ]
    }
   ],
   "source": [
    "def generate(n):\n",
    "    \"\"\"\n",
    "    This generator function will yield all the even numbers between 0 and n.\n",
    "    \"\"\"\n",
    "    for i in range(n + 1):\n",
    "        if i%2==0:\n",
    "            yield i\n",
    "\n",
    "try:\n",
    "    num = int(input(\" Enter any number: \"))\n",
    "    result = [str(i) for i in generate(num)]\n",
    "except Exception as err:\n",
    "    print(err)\n",
    "else:\n",
    "    print(f\"\\n Even numbers between 0 and {num} are:\")\n",
    "    print(*result, sep=\",\")\n",
    "finally:\n",
    "    print(\"\\n ***** END *****\")"
   ]
  },
  {
   "cell_type": "markdown",
   "id": "6444b97e",
   "metadata": {},
   "source": [
    "***"
   ]
  },
  {
   "cell_type": "markdown",
   "id": "5173a73e",
   "metadata": {},
   "source": [
    "**Question 3:\n",
    "The Fibonacci Sequence is computed based on the following formula:**\n",
    "\n",
    "    f(n)=0 if n=0\n",
    "    f(n)=1 if n=1\n",
    "    f(n)=f(n-1)+f(n-2) if n&gt;1\n",
    "**Please write a program using list comprehension to print the Fibonacci Sequence in comma separated form with a given n input by console.**\n",
    "\n",
    "    Example:\n",
    "    If the following n is given as input to the program:\n",
    "    7\n",
    "\n",
    "    Then, the output of the program should be:\n",
    "    0,1,1,2,3,5,8,13"
   ]
  },
  {
   "cell_type": "code",
   "execution_count": 10,
   "id": "7b0b66de",
   "metadata": {},
   "outputs": [
    {
     "name": "stdout",
     "output_type": "stream",
     "text": [
      " Enter any number to find the Fibonacci sequence: 7\n",
      "\n",
      " Fibonacci sequence is: \n",
      "0,1,1,2,3,5,8,13\n",
      "\n",
      " ***** END *****\n"
     ]
    }
   ],
   "source": [
    "try:\n",
    "    # get the n value\n",
    "    num = int(input(\" Enter any number to find the Fibonacci sequence: \"))\n",
    "    \n",
    "    # define the function\n",
    "    fun = lambda x: 0 if x == 0 else 1 if x == 1 else fun(x-1)+fun(x-2)\n",
    "    \n",
    "    # list comprehension to call the function\n",
    "    result = [str(fun(x)) for x in range(0, num+1)]\n",
    "except Exception as err:\n",
    "    print(err)\n",
    "else:\n",
    "    print(\"\\n Fibonacci sequence is: \")\n",
    "    print(*result, sep=\",\")\n",
    "finally:\n",
    "    print(\"\\n ***** END *****\")"
   ]
  },
  {
   "cell_type": "markdown",
   "id": "be27a99f",
   "metadata": {},
   "source": [
    "***"
   ]
  },
  {
   "cell_type": "markdown",
   "id": "53cabaa9",
   "metadata": {},
   "source": [
    "**Question 4:\n",
    "Assuming that we have some email addresses in the &quot;username@companyname.com&quot; format, please write program to print the user name of a given email address. Both user names and company names are composed of letters only.**\n",
    "\n",
    "    Example:\n",
    "    If the following email address is given as input to the program:\n",
    "    john@google.com\n",
    "    Then, the output of the program should be:\n",
    "    john"
   ]
  },
  {
   "cell_type": "code",
   "execution_count": 11,
   "id": "13685678",
   "metadata": {},
   "outputs": [
    {
     "name": "stdout",
     "output_type": "stream",
     "text": [
      " Enter any email address: john@google.com\n",
      "\n",
      " User name for this email address is: john\n",
      "\n",
      " ***** END *****\n"
     ]
    }
   ],
   "source": [
    "try:\n",
    "    # get the email address\n",
    "    email = input(\" Enter any email address: \")\n",
    "    \n",
    "    # split the email address using split function\n",
    "    user = email.split('@')\n",
    "    \n",
    "except Exception as err:\n",
    "    print(err)\n",
    "else:\n",
    "    print(f\"\\n User name for this email address is: {user[0]}\")\n",
    "finally:\n",
    "    print(\"\\n ***** END *****\")"
   ]
  },
  {
   "cell_type": "markdown",
   "id": "8da0f41a",
   "metadata": {},
   "source": [
    "***"
   ]
  },
  {
   "cell_type": "markdown",
   "id": "2ba3d6b6",
   "metadata": {},
   "source": [
    "**Question 5:\n",
    "Define a class named Shape and its subclass Square. The Square class has an init function which takes a length as argument. Both classes have a area function which can print the area of the shape where Shape&#39;s area is 0 by default.**"
   ]
  },
  {
   "cell_type": "code",
   "execution_count": 13,
   "id": "0cc82b80",
   "metadata": {},
   "outputs": [
    {
     "name": "stdout",
     "output_type": "stream",
     "text": [
      "Area of square with length 5 is: 25\n",
      "Default area for the Square class is 0\n"
     ]
    }
   ],
   "source": [
    "class Shape:\n",
    "    def __init__(self):\n",
    "        pass\n",
    "\n",
    "    def area(self):\n",
    "        return 0\n",
    "\n",
    "class Square(Shape):\n",
    "    def __init__(self,length = 0):\n",
    "        Shape.__init__(self)\n",
    "        self.length = length\n",
    "\n",
    "    def area(self):\n",
    "        return self.length*self.length\n",
    "\n",
    "a_sqr = Square(5)\n",
    "print(f\"Area of square with length {a_sqr.length} is: {a_sqr.area()}\")\n",
    "\n",
    "print(f\"Default area for the Square class is {Square().area()}\")"
   ]
  },
  {
   "cell_type": "markdown",
   "id": "f69b2b28",
   "metadata": {},
   "source": [
    "***"
   ]
  }
 ],
 "metadata": {
  "kernelspec": {
   "display_name": "Python 3",
   "language": "python",
   "name": "python3"
  },
  "language_info": {
   "codemirror_mode": {
    "name": "ipython",
    "version": 3
   },
   "file_extension": ".py",
   "mimetype": "text/x-python",
   "name": "python",
   "nbconvert_exporter": "python",
   "pygments_lexer": "ipython3",
   "version": "3.8.8"
  }
 },
 "nbformat": 4,
 "nbformat_minor": 5
}
