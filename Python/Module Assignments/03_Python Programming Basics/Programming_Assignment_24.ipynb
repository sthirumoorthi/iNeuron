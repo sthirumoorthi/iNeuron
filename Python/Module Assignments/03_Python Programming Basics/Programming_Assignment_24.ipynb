{
 "cells": [
  {
   "cell_type": "markdown",
   "id": "6bec3f66",
   "metadata": {},
   "source": [
    "**Question1**\n",
    "\n",
    "Create a function that takes an integer and returns a list from 1 to the given number, where:\n",
    "\n",
    "1. If the number can be divided evenly by 4, amplify it by 10 (i.e. return 10 times the number).\n",
    "2. If the number cannot be divided evenly by 4, simply return the number.\n",
    "\n",
    "**Examples:**\n",
    "\n",
    "    amplify(4) ➞ [1, 2, 3, 40]\n",
    "    amplify(3) ➞ [1, 2, 3]\n",
    "    amplify(25) ➞ [1, 2, 3, 40, 5, 6, 7, 80, 9, 10, 11, 120, 13, 14, 15, 160, 17, 18, 19, 200, 21, 22, 23, 240, 25]\n",
    "\n",
    "**Notes:**\n",
    "\n",
    "- The given integer will always be equal to or greater than 1.\n",
    "- Include the number (see example above).\n",
    "- To perform this problem with its intended purpose, try doing it with list comprehensions. If that's too difficult, just solve the challenge any way you can."
   ]
  },
  {
   "cell_type": "code",
   "execution_count": 1,
   "id": "112c630d",
   "metadata": {},
   "outputs": [],
   "source": [
    "def amplify(num):\n",
    "    \"\"\"\n",
    "    This function that takes an integer and returns a list from 1 to the given number, where\n",
    "        - If the number can be divided evenly by 4, amplify it by 10 (i.e. return 10 times the number).\n",
    "        - If the number cannot be divided evenly by 4, simply return the number.\n",
    "    \"\"\"\n",
    "    \n",
    "    res = [i*10 if i%4==0 else i for i in range(1, num+1)]\n",
    "    return res"
   ]
  },
  {
   "cell_type": "code",
   "execution_count": 2,
   "id": "d0b3a5ce",
   "metadata": {},
   "outputs": [
    {
     "name": "stdout",
     "output_type": "stream",
     "text": [
      " Enter any number: 4\n",
      "Resultant list: [1, 2, 3, 40]\n",
      "\n",
      " ***** END *****\n"
     ]
    }
   ],
   "source": [
    "# Result 1\n",
    "try:\n",
    "    my_num = int(input(\" Enter any number: \"))\n",
    "    if my_num >= 1:\n",
    "        result = amplify(my_num)\n",
    "    else:\n",
    "        raise ValueError(\"Error. Rerun the program with number greater than or equal to 1\")\n",
    "except Exception as er1:\n",
    "    print(er1)\n",
    "except Exception as err:\n",
    "    print(err)\n",
    "else:\n",
    "    print(f\"Resultant list: {result}\")\n",
    "finally:\n",
    "    print(\"\\n ***** END *****\")"
   ]
  },
  {
   "cell_type": "code",
   "execution_count": 3,
   "id": "9eac3ed1",
   "metadata": {},
   "outputs": [
    {
     "name": "stdout",
     "output_type": "stream",
     "text": [
      " Enter any number: 0\n",
      "Error. Rerun the program with number greater than or equal to 1\n",
      "\n",
      " ***** END *****\n"
     ]
    }
   ],
   "source": [
    "# Result 2\n",
    "try:\n",
    "    my_num = int(input(\" Enter any number: \"))\n",
    "    if my_num >= 1:\n",
    "        result = amplify(my_num)\n",
    "    else:\n",
    "        raise ValueError(\"Error. Rerun the program with number greater than or equal to 1\")\n",
    "except Exception as er1:\n",
    "    print(er1)\n",
    "except Exception as err:\n",
    "    print(err)\n",
    "else:\n",
    "    print(f\"Resultant list: {result}\")\n",
    "finally:\n",
    "    print(\"\\n ***** END *****\")"
   ]
  },
  {
   "cell_type": "code",
   "execution_count": 6,
   "id": "813ef5be",
   "metadata": {},
   "outputs": [
    {
     "name": "stdout",
     "output_type": "stream",
     "text": [
      " Enter any number: 25\n",
      "Resultant list: [1, 2, 3, 40, 5, 6, 7, 80, 9, 10, 11, 120, 13, 14, 15, 160, 17, 18, 19, 200, 21, 22, 23, 240, 25]\n",
      "\n",
      " ***** END *****\n"
     ]
    }
   ],
   "source": [
    "# Result 3\n",
    "try:\n",
    "    my_num = int(input(\" Enter any number: \"))\n",
    "    if my_num >= 1:\n",
    "        result = amplify(my_num)\n",
    "    else:\n",
    "        raise ValueError(\"Error. Rerun the program with number greater than or equal to 1\")\n",
    "except Exception as er1:\n",
    "    print(er1)\n",
    "except Exception as err:\n",
    "    print(err)\n",
    "else:\n",
    "    print(f\"Resultant list: {result}\")\n",
    "finally:\n",
    "    print(\"\\n ***** END *****\")"
   ]
  },
  {
   "cell_type": "code",
   "execution_count": 5,
   "id": "163ff02d",
   "metadata": {},
   "outputs": [
    {
     "name": "stdout",
     "output_type": "stream",
     "text": [
      " Enter any number: 3\n",
      "Resultant list: [1, 2, 3]\n",
      "\n",
      " ***** END *****\n"
     ]
    }
   ],
   "source": [
    "# Result 4\n",
    "try:\n",
    "    my_num = int(input(\" Enter any number: \"))\n",
    "    if my_num >= 1:\n",
    "        result = amplify(my_num)\n",
    "    else:\n",
    "        raise ValueError(\"Error. Rerun the program with number greater than or equal to 1\")\n",
    "except Exception as er1:\n",
    "    print(er1)\n",
    "except Exception as err:\n",
    "    print(err)\n",
    "else:\n",
    "    print(f\"Resultant list: {result}\")\n",
    "finally:\n",
    "    print(\"\\n ***** END *****\")"
   ]
  },
  {
   "cell_type": "markdown",
   "id": "e8a297b0",
   "metadata": {},
   "source": [
    "***"
   ]
  },
  {
   "cell_type": "markdown",
   "id": "b596915d",
   "metadata": {},
   "source": [
    "**Question2**\n",
    "\n",
    "Create a function that takes a list of numbers and return the number that's unique.\n",
    "\n",
    "**Examples:**\n",
    "\n",
    "    unique([3, 3, 3, 7, 3, 3]) ➞ 7\n",
    "    unique([0, 0, 0.77, 0, 0]) ➞ 0.77\n",
    "    unique([0, 1, 1, 1, 1, 1, 1, 1]) ➞ 0\n",
    "\n",
    "**Notes:**\n",
    "\n",
    "Test cases will always have exactly one unique number while all others are the same."
   ]
  },
  {
   "cell_type": "code",
   "execution_count": 7,
   "id": "bda3681a",
   "metadata": {},
   "outputs": [],
   "source": [
    "def unique(my_lst):\n",
    "    \"\"\"\n",
    "    This function takes a list of numbers and return the number that's unique.\n",
    "    \"\"\"\n",
    "    unique_list = list(set(my_lst)) #unique list to reduce the no of iterations in loop\n",
    "    res = 0\n",
    "    for i in unique_list:\n",
    "        if my_lst.count(i) == 1:\n",
    "            res = i\n",
    "            \n",
    "    return res"
   ]
  },
  {
   "cell_type": "code",
   "execution_count": 10,
   "id": "2c39697c",
   "metadata": {},
   "outputs": [
    {
     "name": "stdout",
     "output_type": "stream",
     "text": [
      " Enter the elements (comma separated): 3, 3, 3, 7, 3, 3\n",
      "\n",
      " Non unique number from the list is : 7\n",
      "\n",
      " ***** END *****\n"
     ]
    }
   ],
   "source": [
    "# Result 1\n",
    "try:\n",
    "    list1 = list(eval(input(\" Enter the elements (comma separated): \")))\n",
    "    result = unique(list1)\n",
    "except Exception as err:\n",
    "    print(err)\n",
    "else:\n",
    "    print(f\"\\n Non unique number from the list is : {result}\")\n",
    "finally:\n",
    "    print(\"\\n ***** END *****\")"
   ]
  },
  {
   "cell_type": "code",
   "execution_count": 11,
   "id": "030c9195",
   "metadata": {},
   "outputs": [
    {
     "name": "stdout",
     "output_type": "stream",
     "text": [
      " Enter the elements (comma separated): 0, 0, 0.77, 0, 0\n",
      "\n",
      " Non unique number from the list is : 0.77\n",
      "\n",
      " ***** END *****\n"
     ]
    }
   ],
   "source": [
    "# Result 2\n",
    "try:\n",
    "    list1 = list(eval(input(\" Enter the elements (comma separated): \")))\n",
    "    result = unique(list1)\n",
    "except Exception as err:\n",
    "    print(err)\n",
    "else:\n",
    "    print(f\"\\n Non unique number from the list is : {result}\")\n",
    "finally:\n",
    "    print(\"\\n ***** END *****\")"
   ]
  },
  {
   "cell_type": "code",
   "execution_count": 12,
   "id": "2278427a",
   "metadata": {},
   "outputs": [
    {
     "name": "stdout",
     "output_type": "stream",
     "text": [
      " Enter the elements (comma separated): 0, 1, 1, 1, 1, 1, 1, 1\n",
      "\n",
      " Non unique number from the list is : 0\n",
      "\n",
      " ***** END *****\n"
     ]
    }
   ],
   "source": [
    "# Result 3\n",
    "try:\n",
    "    list1 = list(eval(input(\" Enter the elements (comma separated): \")))\n",
    "    result = unique(list1)\n",
    "except Exception as err:\n",
    "    print(err)\n",
    "else:\n",
    "    print(f\"\\n Non unique number from the list is : {result}\")\n",
    "finally:\n",
    "    print(\"\\n ***** END *****\")"
   ]
  },
  {
   "cell_type": "markdown",
   "id": "6444b97e",
   "metadata": {},
   "source": [
    "***"
   ]
  },
  {
   "cell_type": "markdown",
   "id": "5173a73e",
   "metadata": {},
   "source": [
    "**Question3**\n",
    "\n",
    "    Your task is to create a Circle constructor that creates a circle with a radius provided by an argument. The circles constructed must have two getters getArea() (PIr^2) and getPerimeter() (2PI*r) which give both respective areas and perimeter (circumference).\n",
    "\n",
    "For help with this class, I have provided you with a Rectangle constructor which you can use as a base example.\n",
    "\n",
    "**Examples:**\n",
    "\n",
    "    circy = Circle(11)\n",
    "    circy.getArea()\n",
    "    # Should return 380.132711084365\n",
    "    circy = Circle(4.44)\n",
    "    circy.getPerimeter()\n",
    "    # Should return 27.897342763877365\n",
    "\n",
    "**Notes:**\n",
    "\n",
    "Round results up to the nearest integer."
   ]
  },
  {
   "cell_type": "code",
   "execution_count": 13,
   "id": "7b0b66de",
   "metadata": {},
   "outputs": [],
   "source": [
    "import math\n",
    "\n",
    "class Circle:\n",
    "    def __init__(self, radius):\n",
    "        self.radius = radius\n",
    "        \n",
    "    def getArea(self):\n",
    "        \"\"\" Returns the area of circle pi.r^2\"\"\"\n",
    "        return (math.pi * self.radius * self.radius)\n",
    "    \n",
    "    def getPerimeter(self):\n",
    "        \"\"\" Returns the Perimeter of circle 2*pi.r\"\"\"\n",
    "        return (2 * math.pi * self.radius)"
   ]
  },
  {
   "cell_type": "code",
   "execution_count": 14,
   "id": "f8ccf765",
   "metadata": {},
   "outputs": [
    {
     "name": "stdout",
     "output_type": "stream",
     "text": [
      "Area of circle: 380.1327110843649\n",
      "  Rounded to nearest integer: 380\n",
      "Perimeter of circle: 69.11503837897544\n",
      "  Rounded to nearest integer: 69\n"
     ]
    }
   ],
   "source": [
    "# Result 1\n",
    "circy = Circle(11)\n",
    "print(f\"Area of circle: {circy.getArea()}\")\n",
    "print(f\"  Rounded to nearest integer: {round(circy.getArea())}\")\n",
    "print(f\"Perimeter of circle: {circy.getPerimeter()}\")\n",
    "print(f\"  Rounded to nearest integer: {round(circy.getPerimeter())}\")"
   ]
  },
  {
   "cell_type": "code",
   "execution_count": 15,
   "id": "321c1ba8",
   "metadata": {},
   "outputs": [
    {
     "name": "stdout",
     "output_type": "stream",
     "text": [
      "Area of circle: 61.93210093580775\n",
      "  Rounded to nearest integer: 62\n",
      "Perimeter of circle: 27.897342763877365\n",
      "  Rounded to nearest integer: 28\n"
     ]
    }
   ],
   "source": [
    "# Result 2\n",
    "circx = Circle(4.44)\n",
    "print(f\"Area of circle: {circx.getArea()}\")\n",
    "print(f\"  Rounded to nearest integer: {round(circx.getArea())}\")\n",
    "print(f\"Perimeter of circle: {circx.getPerimeter()}\")\n",
    "print(f\"  Rounded to nearest integer: {round(circx.getPerimeter())}\")"
   ]
  },
  {
   "cell_type": "markdown",
   "id": "be27a99f",
   "metadata": {},
   "source": [
    "***"
   ]
  },
  {
   "cell_type": "markdown",
   "id": "53cabaa9",
   "metadata": {},
   "source": [
    "**Question4**\n",
    "\n",
    "Create a function that takes a list of strings and return a list, sorted from shortest to longest.\n",
    "\n",
    "**Examples**\n",
    "\n",
    "    sort_by_length([\"Google\", \"Apple\", \"Microsoft\"]) ➞ [\"Apple\", \"Google\", \"Microsoft\"]\n",
    "    sort_by_length([\"Leonardo\", \"Michelangelo\", \"Raphael\", \"Donatello\"]) ➞ [\"Raphael\", \"Leonardo\", \"Donatello\", \"Michelangelo\"]\n",
    "    sort_by_length([\"Turing\", \"Einstein\", \"Jung\"]) ➞ [\"Jung\", \"Turing\", \"Einstein\"]\n",
    "\n",
    "**Notes**\n",
    "\n",
    "All test cases contain lists with strings of different lengths, so you won't have to deal with multiple strings of the same length."
   ]
  },
  {
   "cell_type": "code",
   "execution_count": 16,
   "id": "13685678",
   "metadata": {},
   "outputs": [],
   "source": [
    "def sort_by_length(my_lst):\n",
    "    \"\"\"\n",
    "    This function takes a list of strings and return a list, sorted from shortest to longest.\n",
    "    \"\"\"\n",
    "    \n",
    "    return sorted(my_lst, key=len)"
   ]
  },
  {
   "cell_type": "code",
   "execution_count": 17,
   "id": "e77e9fc9",
   "metadata": {},
   "outputs": [
    {
     "name": "stdout",
     "output_type": "stream",
     "text": [
      " Enter the elements (comma separated): Google,Apple,Microsoft\n",
      "\n",
      " Sorted list by its length : ['Apple', 'Google', 'Microsoft']\n",
      "\n",
      " ***** END *****\n"
     ]
    }
   ],
   "source": [
    "# Result 1\n",
    "try:\n",
    "    lst = list(input(\" Enter the elements (comma separated): \").split(\",\"))\n",
    "    result = sort_by_length(lst)\n",
    "except Exception as err:\n",
    "    print(err)\n",
    "else:\n",
    "    print(f\"\\n Sorted list by its length : {result}\")\n",
    "finally:\n",
    "    print(\"\\n ***** END *****\")"
   ]
  },
  {
   "cell_type": "code",
   "execution_count": 19,
   "id": "76e9f414",
   "metadata": {},
   "outputs": [
    {
     "name": "stdout",
     "output_type": "stream",
     "text": [
      " Enter the elements (comma separated): Leonardo,Michelangelo,Raphael,Donatello\n",
      "\n",
      " Sorted list by its length : ['Raphael', 'Leonardo', 'Donatello', 'Michelangelo']\n",
      "\n",
      " ***** END *****\n"
     ]
    }
   ],
   "source": [
    "# Result 2\n",
    "try:\n",
    "    lst = list(input(\" Enter the elements (comma separated): \").split(\",\"))\n",
    "    result = sort_by_length(lst)\n",
    "except Exception as err:\n",
    "    print(err)\n",
    "else:\n",
    "    print(f\"\\n Sorted list by its length : {result}\")\n",
    "finally:\n",
    "    print(\"\\n ***** END *****\")"
   ]
  },
  {
   "cell_type": "code",
   "execution_count": 20,
   "id": "66a3f321",
   "metadata": {},
   "outputs": [
    {
     "name": "stdout",
     "output_type": "stream",
     "text": [
      " Enter the elements (comma separated): Turing,Einstein,Jung\n",
      "\n",
      " Sorted list by its length : ['Jung', 'Turing', 'Einstein']\n",
      "\n",
      " ***** END *****\n"
     ]
    }
   ],
   "source": [
    "# Result 3\n",
    "try:\n",
    "    lst = list(input(\" Enter the elements (comma separated): \").split(\",\"))\n",
    "    result = sort_by_length(lst)\n",
    "except Exception as err:\n",
    "    print(err)\n",
    "else:\n",
    "    print(f\"\\n Sorted list by its length : {result}\")\n",
    "finally:\n",
    "    print(\"\\n ***** END *****\")"
   ]
  },
  {
   "cell_type": "markdown",
   "id": "8da0f41a",
   "metadata": {},
   "source": [
    "***"
   ]
  },
  {
   "cell_type": "markdown",
   "id": "2ba3d6b6",
   "metadata": {},
   "source": [
    "**Question5**\n",
    "\n",
    "Create a function that validates whether three given integers form a Pythagorean triplet. The sum of the squares of the two smallest integers must equal the square of the largest number to be validated.\n",
    "\n",
    "**Examples**\n",
    "\n",
    "    is_triplet(3, 4, 5) ➞ True\n",
    "    # 3² + 4² = 25\n",
    "    # 5² = 25\n",
    "    is_triplet(13, 5, 12) ➞ True\n",
    "    # 5² + 12² = 169\n",
    "    # 13² = 169\n",
    "    is_triplet(1, 2, 3) ➞ False\n",
    "    # 1² + 2² = 5\n",
    "    # 3² = 9\n",
    "\n",
    "**Notes:**\n",
    "\n",
    "Numbers may not be given in a sorted order."
   ]
  },
  {
   "attachments": {
    "image.png": {
     "image/png": "[encoded data removed]"
    }
   },
   "cell_type": "markdown",
   "id": "0ebcc5d2",
   "metadata": {},
   "source": [
    "![image.png](attachment:image.png)"
   ]
  },
  {
   "cell_type": "code",
   "execution_count": 21,
   "id": "0cc82b80",
   "metadata": {},
   "outputs": [],
   "source": [
    "def is_triplet(a, b, c):\n",
    "    \"\"\"\n",
    "    This function validates whether three given integers form a Pythagorean triplet. \n",
    "    The sum of the squares of the two smallest integers must equal the square of the largest number to be validated.\n",
    "    \"\"\"\n",
    "    \n",
    "    my_lst = sorted([a, b, c])\n",
    "    \n",
    "    if (pow(my_lst[2], 2) == pow(my_lst[0], 2) + pow(my_lst[1], 2)):\n",
    "        return True\n",
    "    else:\n",
    "        return False"
   ]
  },
  {
   "cell_type": "code",
   "execution_count": 24,
   "id": "cbde4052",
   "metadata": {},
   "outputs": [
    {
     "name": "stdout",
     "output_type": "stream",
     "text": [
      " Enter the first integer: 3\n",
      " Enter the second integer: 4\n",
      " Enter the third integer: 5\n",
      "\n",
      "True\n",
      " Given numbers are Pythagorean triplet.\n",
      "\n",
      " ***** END *****\n"
     ]
    }
   ],
   "source": [
    "# Result 1\n",
    "try:\n",
    "    x = int(input(\" Enter the first integer: \"))\n",
    "    y = int(input(\" Enter the second integer: \"))\n",
    "    z = int(input(\" Enter the third integer: \"))\n",
    "    result = is_triplet(x, y, z)\n",
    "except Exception as err:\n",
    "    print(err)\n",
    "else:\n",
    "    if result:\n",
    "        print(f\"\\n{result}\\n Given numbers are Pythagorean triplet.\")\n",
    "    else:\n",
    "        print(f\"\\n{result}\\n Given numbers are not Pythagorean triplet.\")\n",
    "finally:\n",
    "    print(\"\\n ***** END *****\")"
   ]
  },
  {
   "cell_type": "code",
   "execution_count": 25,
   "id": "c61287ad",
   "metadata": {},
   "outputs": [
    {
     "name": "stdout",
     "output_type": "stream",
     "text": [
      " Enter the first integer: 13\n",
      " Enter the second integer: 5\n",
      " Enter the third integer: 12\n",
      "\n",
      "True\n",
      " Given numbers are Pythagorean triplet.\n",
      "\n",
      " ***** END *****\n"
     ]
    }
   ],
   "source": [
    "# Result 2\n",
    "try:\n",
    "    x = int(input(\" Enter the first integer: \"))\n",
    "    y = int(input(\" Enter the second integer: \"))\n",
    "    z = int(input(\" Enter the third integer: \"))\n",
    "    result = is_triplet(x, y, z)\n",
    "except Exception as err:\n",
    "    print(err)\n",
    "else:\n",
    "    if result:\n",
    "        print(f\"\\n{result}\\n Given numbers are Pythagorean triplet.\")\n",
    "    else:\n",
    "        print(f\"\\n{result}\\n Given numbers are not Pythagorean triplet.\")\n",
    "finally:\n",
    "    print(\"\\n ***** END *****\")"
   ]
  },
  {
   "cell_type": "code",
   "execution_count": 26,
   "id": "17ea699b",
   "metadata": {},
   "outputs": [
    {
     "name": "stdout",
     "output_type": "stream",
     "text": [
      " Enter the first integer: 1\n",
      " Enter the second integer: 2\n",
      " Enter the third integer: 3\n",
      "\n",
      "False\n",
      " Given numbers are not Pythagorean triplet.\n",
      "\n",
      " ***** END *****\n"
     ]
    }
   ],
   "source": [
    "# Result 3\n",
    "try:\n",
    "    x = int(input(\" Enter the first integer: \"))\n",
    "    y = int(input(\" Enter the second integer: \"))\n",
    "    z = int(input(\" Enter the third integer: \"))\n",
    "    result = is_triplet(x, y, z)\n",
    "except Exception as err:\n",
    "    print(err)\n",
    "else:\n",
    "    if result:\n",
    "        print(f\"\\n{result}\\n Given numbers are Pythagorean triplet.\")\n",
    "    else:\n",
    "        print(f\"\\n{result}\\n Given numbers are not Pythagorean triplet.\")\n",
    "finally:\n",
    "    print(\"\\n ***** END *****\")"
   ]
  },
  {
   "cell_type": "markdown",
   "id": "f69b2b28",
   "metadata": {},
   "source": [
    "***"
   ]
  }
 ],
 "metadata": {
  "kernelspec": {
   "display_name": "Python 3",
   "language": "python",
   "name": "python3"
  },
  "language_info": {
   "codemirror_mode": {
    "name": "ipython",
    "version": 3
   },
   "file_extension": ".py",
   "mimetype": "text/x-python",
   "name": "python",
   "nbconvert_exporter": "python",
   "pygments_lexer": "ipython3",
   "version": "3.8.8"
  }
 },
 "nbformat": 4,
 "nbformat_minor": 5
}
