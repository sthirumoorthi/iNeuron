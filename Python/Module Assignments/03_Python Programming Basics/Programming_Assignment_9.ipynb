{
 "cells": [
  {
   "cell_type": "markdown",
   "id": "6bec3f66",
   "metadata": {},
   "source": [
    "**1. Write a Python program to check if the given number is a Disarium Number?**"
   ]
  },
  {
   "cell_type": "markdown",
   "id": "33d73437",
   "metadata": {},
   "source": [
    "    A number is a Disarium number if the sum of each digit raised to the power of their respective positions is equal to the original number.\n",
    "\n",
    "    Disarium Number definition is : abcd…(n-digits) = a^1 + b^2 + c^3 + d^4 + . . . . . and so on"
   ]
  },
  {
   "cell_type": "code",
   "execution_count": 28,
   "id": "112c630d",
   "metadata": {},
   "outputs": [
    {
     "name": "stdout",
     "output_type": "stream",
     "text": [
      " Enter a number to check if it is Disarium: 89\n",
      "89 is a Disarium Number\n"
     ]
    }
   ],
   "source": [
    "def isDisarium(n):\n",
    "    \"\"\"\n",
    "    This function returns True (1) if the passed argument is a Disarium number\n",
    "    \"\"\"\n",
    "\n",
    "    # Count digits in n\n",
    "    count_digits = len(str(n))\n",
    "     \n",
    "    sum = 0   \n",
    "    act_num = n        # Copy the number which can be used for comparision\n",
    "    while (act_num!=0) :\n",
    "\n",
    "        # Get the rightmost digit\n",
    "        r = act_num % 10\n",
    "         \n",
    "        # Sum the digits by powering according to their positions\n",
    "        sum = (int) (sum + (r ** count_digits))\n",
    "        count_digits = count_digits - 1\n",
    "        act_num = act_num//10\n",
    "       \n",
    "    # If sum is same as number, then number is\n",
    "    if sum == n :\n",
    "        return 1\n",
    "    else :\n",
    "        return 0\n",
    "      \n",
    "# ---- Main ----\n",
    "n = int(input(\" Enter a number to check if it is Disarium: \"))\n",
    "if (isDisarium(n) == 1) :\n",
    "    print(f\"{n} is a Disarium Number\")\n",
    "else :\n",
    "    print(f\"{n} is not a Disarium Number\")"
   ]
  },
  {
   "cell_type": "markdown",
   "id": "e8a297b0",
   "metadata": {},
   "source": [
    "***"
   ]
  },
  {
   "cell_type": "markdown",
   "id": "b596915d",
   "metadata": {},
   "source": [
    "**2. Write a Python program to print all disarium numbers between 1 to 100?**"
   ]
  },
  {
   "cell_type": "code",
   "execution_count": 12,
   "id": "bda3681a",
   "metadata": {},
   "outputs": [
    {
     "name": "stdout",
     "output_type": "stream",
     "text": [
      " Enter the lower limit: 1\n",
      " Enter the upper limit: 100\n",
      "The disarium numbers in the given range 1 and 100 are: \n",
      "1\n",
      "2\n",
      "3\n",
      "4\n",
      "5\n",
      "6\n",
      "7\n",
      "8\n",
      "9\n",
      "89\n"
     ]
    }
   ],
   "source": [
    "def isDisarium(n) :\n",
    "    \"\"\"\n",
    "    This function returns True (1) if the passed argument is a Disarium number\n",
    "    \"\"\"\n",
    "\n",
    "    # Count digits in n\n",
    "    count_digits = len(str(n))\n",
    "     \n",
    "    sum = 0   \n",
    "    act_num = n        # Copy the number which can be used for comparision\n",
    "    while (act_num!=0) :\n",
    "\n",
    "        # Get the rightmost digit\n",
    "        r = act_num % 10\n",
    "         \n",
    "        # Sum the digits by powering according to their positions\n",
    "        sum = (int) (sum + (r ** count_digits))\n",
    "        count_digits = count_digits - 1\n",
    "        act_num = act_num//10\n",
    "       \n",
    "    # If sum is same as number, then number is\n",
    "    if sum == n :\n",
    "        return 1\n",
    "    else :\n",
    "        return 0\n",
    "\n",
    "# ---- Main ----\n",
    "lower = int(input(\" Enter the lower limit: \"))\n",
    "upper = int(input(\" Enter the upper limit: \"))\n",
    "print(f\"The disarium numbers in the given range {lower} and {upper} are: \")\n",
    "for i in range(lower, upper + 1):\n",
    "    if isDisarium(i) == 1:\n",
    "        print(i)"
   ]
  },
  {
   "cell_type": "markdown",
   "id": "6444b97e",
   "metadata": {},
   "source": [
    "***"
   ]
  },
  {
   "cell_type": "markdown",
   "id": "5173a73e",
   "metadata": {},
   "source": [
    "**3. Write a Python program to check if the given number is Happy Number?**"
   ]
  },
  {
   "cell_type": "markdown",
   "id": "b8e3b564",
   "metadata": {},
   "source": [
    "    A number is called happy if it leads to 1 after a sequence of steps wherein each step number is replaced by the sum of squares of its digit that is if we start with Happy Number and keep replacing it with digits square sum, we reach 1. \n",
    "\n",
    "        Example:\n",
    "\n",
    "        Input: n = 19\n",
    "        Output: True\n",
    "        19 is Happy Number,\n",
    "        1^2 + 9^2 = 82\n",
    "        8^2 + 2^2 = 68\n",
    "        6^2 + 8^2 = 100\n",
    "        1^2 + 0^2 + 0^2 = 1\n",
    "        As we reached to 1, 19 is a Happy Number."
   ]
  },
  {
   "cell_type": "code",
   "execution_count": 15,
   "id": "7b0b66de",
   "metadata": {},
   "outputs": [
    {
     "name": "stdout",
     "output_type": "stream",
     "text": [
      " Enter a number: 86\n",
      "The number is being checked..\n",
      "86 is a happy number\n"
     ]
    }
   ],
   "source": [
    "def isHappyNumber(my_num):\n",
    "    \"\"\"\n",
    "    This function will return the sum of the squares if each digit in the user input.\n",
    "    \"\"\"\n",
    "    \n",
    "    remaining = sum_val = 0\n",
    "    while(my_num > 0):\n",
    "        remaining = my_num%10\n",
    "        sum_val = sum_val + (remaining*remaining)\n",
    "        my_num = my_num//10\n",
    "    return sum_val\n",
    "\n",
    "# ---- Main ----\n",
    "my_num = int(input(\" Enter a number: \"))\n",
    "my_result = my_num\n",
    "while(my_result != 1 and my_result != 4):\n",
    "    my_result = isHappyNumber(my_result)\n",
    "\n",
    "print(\"The number is being checked..\")\n",
    "if(my_result == 1):\n",
    "    print(f\"{my_num} is a happy number\")\n",
    "elif(my_result == 4):\n",
    "    print(f\"{my_num} isn't a happy number\")"
   ]
  },
  {
   "cell_type": "markdown",
   "id": "be27a99f",
   "metadata": {},
   "source": [
    "***"
   ]
  },
  {
   "cell_type": "markdown",
   "id": "53cabaa9",
   "metadata": {},
   "source": [
    "**4. Write a Python program to print all happy numbers between 1 and 100?**"
   ]
  },
  {
   "cell_type": "code",
   "execution_count": 16,
   "id": "13685678",
   "metadata": {},
   "outputs": [
    {
     "name": "stdout",
     "output_type": "stream",
     "text": [
      " Enter the lower limit: 1\n",
      " Enter the upper limit: 100\n",
      "The list of happy numbers between 1 and 100 are: \n",
      "1\n",
      "7\n",
      "10\n",
      "13\n",
      "19\n",
      "23\n",
      "28\n",
      "31\n",
      "32\n",
      "44\n",
      "49\n",
      "68\n",
      "70\n",
      "79\n",
      "82\n",
      "86\n",
      "91\n",
      "94\n",
      "97\n",
      "100\n"
     ]
    }
   ],
   "source": [
    "def isHappyNumber(my_num):\n",
    "    \"\"\"\n",
    "    This function will return the sum of the squares if each digit in the user input.\n",
    "    \"\"\"\n",
    "    \n",
    "    remaining = sum_val = 0\n",
    "    while(my_num > 0):\n",
    "        remaining = my_num%10\n",
    "        sum_val = sum_val + (remaining*remaining)\n",
    "        my_num = my_num//10\n",
    "    return sum_val\n",
    "\n",
    "# ---- Main ----\n",
    "lower = int(input(\" Enter the lower limit: \"))\n",
    "upper = int(input(\" Enter the upper limit: \"))\n",
    "print(f\"The list of happy numbers between {lower} and {upper} are: \")\n",
    "for i in range(lower, upper + 1):\n",
    "    my_result = i\n",
    "    while(my_result != 1 and my_result != 4):\n",
    "        my_result = isHappyNumber(my_result)\n",
    "        \n",
    "    if(my_result == 1):\n",
    "        print(i)"
   ]
  },
  {
   "cell_type": "markdown",
   "id": "8da0f41a",
   "metadata": {},
   "source": [
    "***"
   ]
  },
  {
   "cell_type": "markdown",
   "id": "2ba3d6b6",
   "metadata": {},
   "source": [
    "**5. Write a Python program to determine whether the given number is a Harshad Number?**"
   ]
  },
  {
   "cell_type": "markdown",
   "id": "93355276",
   "metadata": {},
   "source": [
    "    A number is said to be Harshad number if it is divisible by the sum of its digits.\n",
    "\n",
    "    Harshad number examples: 153, 156, 24 etc.\n",
    "\n",
    "        Example:\n",
    "        153 is Harshad number becuase it is divisible by 1+5+3=9 i.e. 153/(1+5+3) = 153/9 = 17"
   ]
  },
  {
   "cell_type": "code",
   "execution_count": 20,
   "id": "0cc82b80",
   "metadata": {},
   "outputs": [
    {
     "name": "stdout",
     "output_type": "stream",
     "text": [
      " Enter a number: 18\n",
      "18 is a Harshad number\n"
     ]
    }
   ],
   "source": [
    "def isHarshad(num):\n",
    "    \"\"\"\n",
    "    This function returns True if the passed argument is a Harshad number.\n",
    "    \"\"\"\n",
    "    \n",
    "    sum = 0\n",
    "    temp = num\n",
    "    while temp > 0 :\n",
    "        sum = sum + temp % 10\n",
    "        temp = temp // 10\n",
    "    # Return true if sum of digits is multiple of n\n",
    "    return num % sum == 0\n",
    " \n",
    "my_num = int(input(\" Enter a number: \"))\n",
    "if(isHarshad(my_num)): \n",
    "    print(f\"{my_num} is a Harshad number\")\n",
    "else: \n",
    "    print(f\"{my_num} isn't a Harshad number\")"
   ]
  },
  {
   "cell_type": "markdown",
   "id": "f69b2b28",
   "metadata": {},
   "source": [
    "***"
   ]
  },
  {
   "cell_type": "markdown",
   "id": "c0f80b86",
   "metadata": {},
   "source": [
    "**6. Write a Python program to print all pronic numbers between 1 and 100?**"
   ]
  },
  {
   "cell_type": "markdown",
   "id": "9e149b42",
   "metadata": {},
   "source": [
    "    The pronic number is a product of two consecutive integers of the form: n(n+1).\n",
    "\n",
    "        For example:\n",
    "        6 = 2(2+1)= n(n+1),\n",
    "        72 =8(8+1) = n(n+1)\n",
    "\n",
    "    Some pronic numbers are: 0, 2, 6, 12, 20, 30, 42, 56 etc"
   ]
  },
  {
   "cell_type": "code",
   "execution_count": 23,
   "id": "d766f088",
   "metadata": {},
   "outputs": [
    {
     "name": "stdout",
     "output_type": "stream",
     "text": [
      " Enter the lower limit: 1\n",
      " Enter the upper limit: 100\n",
      "The list of Pronic numbers between 1 and 100 are: \n",
      "2\n",
      "6\n",
      "12\n",
      "20\n",
      "30\n",
      "42\n",
      "56\n",
      "72\n",
      "90\n"
     ]
    }
   ],
   "source": [
    "def isPronicNumber(num):\n",
    "    \"\"\"\n",
    "    This function returns True if the passed argument is a Pronic Number.\n",
    "    \"\"\"\n",
    "\n",
    "    for j in range(1, num+1):\n",
    "        #Checks for pronic number by multiplying consecutive numbers  \n",
    "        if((j*(j+1)) == num):\n",
    "            return True\n",
    "    return False\n",
    "\n",
    "\n",
    "# ---- Main ----\n",
    "lower = int(input(\" Enter the lower limit: \"))\n",
    "upper = int(input(\" Enter the upper limit: \"))\n",
    "print(f\"The list of Pronic numbers between {lower} and {upper} are: \")\n",
    "\n",
    "for i in range(lower, upper+1):\n",
    "    if(isPronicNumber(i)):\n",
    "        print(i)"
   ]
  },
  {
   "cell_type": "markdown",
   "id": "53acbf26",
   "metadata": {},
   "source": [
    "***"
   ]
  }
 ],
 "metadata": {
  "kernelspec": {
   "display_name": "Python 3",
   "language": "python",
   "name": "python3"
  },
  "language_info": {
   "codemirror_mode": {
    "name": "ipython",
    "version": 3
   },
   "file_extension": ".py",
   "mimetype": "text/x-python",
   "name": "python",
   "nbconvert_exporter": "python",
   "pygments_lexer": "ipython3",
   "version": "3.8.8"
  }
 },
 "nbformat": 4,
 "nbformat_minor": 5
}
