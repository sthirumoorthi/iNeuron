{
 "cells": [
  {
   "cell_type": "markdown",
   "id": "6bec3f66",
   "metadata": {},
   "source": [
    "**1. Write a Python program to Extract Unique values dictionary values?**"
   ]
  },
  {
   "cell_type": "code",
   "execution_count": 4,
   "id": "112c630d",
   "metadata": {},
   "outputs": [
    {
     "name": "stdout",
     "output_type": "stream",
     "text": [
      "The original dictionary is :  {'A': [1, 3, 5, 4], 'B': [4, 6, 8, 10], 'C': [6, 12, 4, 8], 'D': [5, 7, 2, 3]}\n",
      "The unique values list is :  [1, 2, 3, 4, 5, 6, 7, 8, 10, 12]\n"
     ]
    }
   ],
   "source": [
    "dict1 = {\n",
    "    'A' : [1, 3, 5, 4],\n",
    "    'B' : [4, 6, 8, 10],\n",
    "    'C' : [6, 12, 4 ,8],\n",
    "    'D' : [5, 7, 2, 3]\n",
    "        }\n",
    "\n",
    "print(\"The original dictionary is : \" ,dict1)\n",
    "\n",
    "try:\n",
    "    # Using list comprehension, values() and sorted()\n",
    "    res = list(sorted({item for val in dict1.values() for item in val}))\n",
    "except Exception as err:\n",
    "    print(err)\n",
    "    \n",
    "# print result \n",
    "print(\"The unique values list is : \" , res) "
   ]
  },
  {
   "cell_type": "markdown",
   "id": "e8a297b0",
   "metadata": {},
   "source": [
    "***"
   ]
  },
  {
   "cell_type": "markdown",
   "id": "b596915d",
   "metadata": {},
   "source": [
    "**2. Write a Python program to find the sum of all items in a dictionary?**"
   ]
  },
  {
   "cell_type": "code",
   "execution_count": 18,
   "id": "bda3681a",
   "metadata": {},
   "outputs": [
    {
     "name": "stdout",
     "output_type": "stream",
     "text": [
      " Enter the number of key & value pairs: 3\n",
      "  Key & int value pair separated by ':' \n",
      "Python:70\n",
      "  Key & int value pair separated by ':' \n",
      "Stats:80\n",
      "  Key & int value pair separated by ':' \n",
      "ML:90\n",
      "\n",
      "The original dictionary is : {'Python': 70, 'Stats': 80, 'ML': 90}\n",
      "Sum of all the values in the dictionary is : 240\n",
      "*** END ***\n"
     ]
    }
   ],
   "source": [
    "try:\n",
    "    n = int(input(\" Enter the number of key & value pairs: \"))           \n",
    "    dict2 ={}                     \n",
    "    for i in range(n):        \n",
    "        text = input(\"  Key & int value pair separated by ':' \\n\").split(':')\n",
    "        dict2[text[0]] = int(text[1])\n",
    "except Exception as err:\n",
    "    print(err)\n",
    "else:\n",
    "    print(f\"\\nThe original dictionary is : {dict2}\")\n",
    "    print(f\"Sum of all the values in the dictionary is : {sum(dict2.values())}\") \n",
    "finally:\n",
    "    print(\"*** END ***\")"
   ]
  },
  {
   "cell_type": "markdown",
   "id": "6444b97e",
   "metadata": {},
   "source": [
    "***"
   ]
  },
  {
   "cell_type": "markdown",
   "id": "5173a73e",
   "metadata": {},
   "source": [
    "**3. Write a Python program to Merging two Dictionaries?**"
   ]
  },
  {
   "cell_type": "code",
   "execution_count": 8,
   "id": "7b0b66de",
   "metadata": {},
   "outputs": [
    {
     "name": "stdout",
     "output_type": "stream",
     "text": [
      " Dict_1: Enter the number of key & value pairs: 2\n",
      "  Key & int value pair separated by ':' \n",
      "Thiru:70\n",
      "  Key & int value pair separated by ':' \n",
      "Moorthi:75\n",
      "\n",
      " Dict_2: Enter the number of key & value pairs: 3\n",
      "  Key & int value pair separated by ':' \n",
      "Kirthi:80\n",
      "  Key & int value pair separated by ':' \n",
      "Nihith:85\n",
      "  Key & int value pair separated by ':' \n",
      "Suhiti:80\n",
      "\n",
      "Merged dictionary is : {'Thiru': 70, 'Moorthi': 75, 'Kirthi': 80, 'Nihith': 85, 'Suhiti': 80}\n",
      "*** END ***\n"
     ]
    }
   ],
   "source": [
    "try:\n",
    "    n = int(input(\" Dict_1: Enter the number of key & value pairs: \"))           \n",
    "    dict1 ={}                     \n",
    "    for i in range(n):        \n",
    "        text = input(\"  Key & int value pair separated by ':' \\n\").split(':')\n",
    "        dict1[text[0]] = int(text[1])\n",
    "    m = int(input(\"\\n Dict_2: Enter the number of key & value pairs: \"))           \n",
    "    dict2 ={}                     \n",
    "    for i in range(m):        \n",
    "        text = input(\"  Key & int value pair separated by ':' \\n\").split(':')\n",
    "        dict2[text[0]] = int(text[1])\n",
    "    merge_dict = {**dict1, **dict2}\n",
    "    #merge_dict = (dict1 | dict2)  alternate option to merge dict\n",
    "\n",
    "except Exception as err:\n",
    "    print(err)\n",
    "else:\n",
    "    print(f\"\\nMerged dictionary is : {merge_dict}\") \n",
    "finally:\n",
    "    print(\"*** END ***\")"
   ]
  },
  {
   "cell_type": "markdown",
   "id": "be27a99f",
   "metadata": {},
   "source": [
    "***"
   ]
  },
  {
   "cell_type": "markdown",
   "id": "53cabaa9",
   "metadata": {},
   "source": [
    "**4. Write a Python program to convert key-values list to flat dictionary?**"
   ]
  },
  {
   "cell_type": "code",
   "execution_count": 10,
   "id": "13685678",
   "metadata": {},
   "outputs": [
    {
     "name": "stdout",
     "output_type": "stream",
     "text": [
      " The original dictionary is: \n",
      " {'day': [1, 2, 3, 4, 5], 'name': ['Mon', 'Tues', 'Wed', 'Thu', 'Fri']}\n",
      "\n",
      " Flattened dictionary : \n",
      " {1: 'Mon', 2: 'Tues', 3: 'Wed', 4: 'Thu', 5: 'Fri'}\n",
      "*** END ***\n"
     ]
    }
   ],
   "source": [
    "try:\n",
    "    dic= { \"day\": [1, 2, 3, 4, 5], \"name\": ['Mon', 'Tues', 'Wed', 'Thu', 'Fri' ] }\n",
    "    # convert to flat dictionary\n",
    "    f_dic= dict(zip(dic[\"day\"], dic[\"name\"]))\n",
    "except Exception as err:\n",
    "    print(err)\n",
    "else:\n",
    "    print(f\" The original dictionary is: \\n {dic}\")\n",
    "    print(f\"\\n Flattened dictionary : \\n {f_dic}\")\n",
    "finally:\n",
    "    print('*** END ***')"
   ]
  },
  {
   "cell_type": "markdown",
   "id": "8da0f41a",
   "metadata": {},
   "source": [
    "***"
   ]
  },
  {
   "cell_type": "markdown",
   "id": "2ba3d6b6",
   "metadata": {},
   "source": [
    "**5. Write a Python program to insertion at the beginning in OrderedDict?**"
   ]
  },
  {
   "cell_type": "code",
   "execution_count": 14,
   "id": "0cc82b80",
   "metadata": {},
   "outputs": [
    {
     "name": "stdout",
     "output_type": "stream",
     "text": [
      "Original Dictionary : \n",
      " OrderedDict([('Jan', '100'), ('Feb', '200'), ('Mar', '300')])\n",
      "Item to be added: \n",
      " {'Apr': '400'}\n",
      "\n",
      "Resultant Dictionary : \n",
      "OrderedDict([('Apr', '400'), ('Jan', '100'), ('Feb', '200'), ('Mar', '300')])\n",
      "*** END ***\n"
     ]
    }
   ],
   "source": [
    "from collections import OrderedDict  \n",
    "\n",
    "try:\n",
    "    my_dict = OrderedDict([('Jan', '100'), ('Feb', '200'), ('Mar', '300')])\n",
    "    print(f\"Original Dictionary : \\n {my_dict}\")\n",
    "    print(\"Item to be added: \\n {'Apr': '400'}\")\n",
    "    my_dict.update({\"Apr\": '400'})\n",
    "    my_dict.move_to_end(\"Apr\", last=False)\n",
    "except Exception as err:\n",
    "    print(err)\n",
    "else:\n",
    "    print(f\"\\nResultant Dictionary : \\n{my_dict}\")\n",
    "finally:\n",
    "    print('*** END ***')"
   ]
  },
  {
   "cell_type": "markdown",
   "id": "f69b2b28",
   "metadata": {},
   "source": [
    "***"
   ]
  },
  {
   "cell_type": "markdown",
   "id": "cd6056ad",
   "metadata": {},
   "source": [
    "**6. Write a Python program to check order of character in string using OrderedDict()?**"
   ]
  },
  {
   "cell_type": "code",
   "execution_count": 24,
   "id": "f3ab38c0",
   "metadata": {},
   "outputs": [
    {
     "name": "stdout",
     "output_type": "stream",
     "text": [
      "  Enter the input string: iNeuron Python\n",
      "  Enter the pattern string: Pyt\n",
      "Ordered Dictionary is: \n",
      " OrderedDict([('i', None), ('N', None), ('e', None), ('u', None), ('r', None), ('o', None), ('n', None), (' ', None), ('P', None), ('y', None), ('t', None), ('h', None)])\n",
      "\n",
      "The order of pattern is matching\n"
     ]
    }
   ],
   "source": [
    "from collections import OrderedDict\n",
    "\n",
    "def check_order(my_input, my_pattern):\n",
    "    \"\"\"\n",
    "    This function will scan the input string using OrderedDict and \n",
    "    check if the input pattern is matching with the actual string\n",
    "    \"\"\"\n",
    "    \n",
    "    try:\n",
    "        my_dict = OrderedDict.fromkeys(my_input)\n",
    "        print(f\"Ordered Dictionary is: \\n {my_dict}\\n\")\n",
    "        \n",
    "        pattern_length = 0\n",
    "        for key,value in my_dict.items():\n",
    "            # traverse the Ordered Dict with pattern string to check if the order of the char is matching\n",
    "            if (key == my_pattern[pattern_length]):\n",
    "                pattern_length = pattern_length + 1\n",
    "\n",
    "            # Check the completion of the traverse\n",
    "            if (pattern_length == (len(my_pattern))):\n",
    "                return True\n",
    "    except Exception as err:\n",
    "        print(err)\n",
    "        \n",
    "    return False\n",
    "\n",
    "my_input = input(\"  Enter the input string: \")\n",
    "input_pattern = input(\"  Enter the pattern string: \")\n",
    "\n",
    "if check_order(my_input,input_pattern):\n",
    "    print(\"The order of pattern is matching\")\n",
    "else:\n",
    "    print(\"The order of pattern is not matching\")"
   ]
  },
  {
   "cell_type": "markdown",
   "id": "5f72a9a6",
   "metadata": {},
   "source": [
    "***"
   ]
  },
  {
   "cell_type": "markdown",
   "id": "4f0a8e06",
   "metadata": {},
   "source": [
    "**7. Write a Python program to sort Python Dictionaries by Key or Value?**"
   ]
  },
  {
   "cell_type": "code",
   "execution_count": 29,
   "id": "980deceb",
   "metadata": {},
   "outputs": [
    {
     "name": "stdout",
     "output_type": "stream",
     "text": [
      " Enter the number of key & value pairs: 5\n",
      "  Key & int value pair separated by ':' \n",
      "c:12\n",
      "  Key & int value pair separated by ':' \n",
      "e:50\n",
      "  Key & int value pair separated by ':' \n",
      "a:18\n",
      "  Key & int value pair separated by ':' \n",
      "d:20\n",
      "  Key & int value pair separated by ':' \n",
      "b:16\n",
      "\n",
      " Sort the dictionary by key: {'a': 18, 'b': 16, 'c': 12, 'd': 20, 'e': 50}\n",
      "\n",
      " Sort the dictionary by value: {'c': 12, 'b': 16, 'a': 18, 'd': 20, 'e': 50}\n"
     ]
    }
   ],
   "source": [
    "def sort_by_key(my_dict):\n",
    "    \"\"\"\n",
    "    This function will sort the input dictionary by its keys and \n",
    "    returns the new dictionary\n",
    "    \"\"\"\n",
    "    new_dict = {key:my_dict[key] for key in sorted(my_dict.keys())}\n",
    "    return new_dict\n",
    "\n",
    "def sort_by_value(my_dict):\n",
    "    \"\"\"\n",
    "    This function will sort the input dictionary by its values and \n",
    "    returns the new dictionary\n",
    "    \"\"\"\n",
    "    new_dict = {key:value for key, value in sorted(my_dict.items(), key=lambda item: item[1])}\n",
    "    return new_dict\n",
    "\n",
    "try:\n",
    "    n = int(input(\" Enter the number of key & value pairs: \"))           \n",
    "    dict3 ={}                     \n",
    "    for i in range(n):        \n",
    "        text = input(\"  Key & int value pair separated by ':' \\n\").split(':')\n",
    "        dict3[text[0]] = int(text[1])\n",
    "    print(f\"\\n Sort the dictionary by key: {sort_by_key(dict3)}\")\n",
    "    print(f\"\\n Sort the dictionary by value: {sort_by_value(dict3)}\")\n",
    "except Exception as err:\n",
    "    print(err)"
   ]
  },
  {
   "cell_type": "markdown",
   "id": "18b1c9e6",
   "metadata": {},
   "source": [
    "***"
   ]
  }
 ],
 "metadata": {
  "kernelspec": {
   "display_name": "Python 3",
   "language": "python",
   "name": "python3"
  },
  "language_info": {
   "codemirror_mode": {
    "name": "ipython",
    "version": 3
   },
   "file_extension": ".py",
   "mimetype": "text/x-python",
   "name": "python",
   "nbconvert_exporter": "python",
   "pygments_lexer": "ipython3",
   "version": "3.8.8"
  }
 },
 "nbformat": 4,
 "nbformat_minor": 5
}
