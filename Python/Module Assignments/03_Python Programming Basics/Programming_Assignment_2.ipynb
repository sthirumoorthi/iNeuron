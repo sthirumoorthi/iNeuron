{
 "cells": [
  {
   "cell_type": "markdown",
   "id": "d92b0dfc",
   "metadata": {},
   "source": [
    "**1. Write a Python program to convert kilometers to miles?**"
   ]
  },
  {
   "cell_type": "code",
   "execution_count": 1,
   "id": "453f4341",
   "metadata": {},
   "outputs": [
    {
     "name": "stdout",
     "output_type": "stream",
     "text": [
      "Enter the value in kilometers: 18\n",
      "The entered value in Miles:  11.184678\n"
     ]
    }
   ],
   "source": [
    "# Get the input in kilometers\n",
    "km = float(input(\"Enter the value in kilometers: \"))\n",
    "\n",
    "# 1 Kilometre = 0.621371 Mile\n",
    "conversion_ratio = 0.621371\n",
    "\n",
    "# Converting km to mi.\n",
    "mi = km * conversion_ratio\n",
    "\n",
    "print(\"The entered value in Miles: \", mi)"
   ]
  },
  {
   "cell_type": "markdown",
   "id": "43a9a23e",
   "metadata": {},
   "source": [
    "***"
   ]
  },
  {
   "cell_type": "markdown",
   "id": "c446cd6b",
   "metadata": {},
   "source": [
    "**2. Write a Python program to convert Celsius to Fahrenheit?**"
   ]
  },
  {
   "cell_type": "code",
   "execution_count": 3,
   "id": "50b7e3be",
   "metadata": {},
   "outputs": [
    {
     "name": "stdout",
     "output_type": "stream",
     "text": [
      "Enter temperature in celsius: 36.5\n",
      "36.50 Celsius is: 97.70 Fahrenheit\n"
     ]
    }
   ],
   "source": [
    "# Get the input value in celsius\n",
    "celsius = float(input(\"Enter temperature in celsius: \"))\n",
    "\n",
    "# fahrenheit conversion - formulae\n",
    "    # Celsius = (Fahrenheit – 32) * 5/9\n",
    "    # Fahrenheit = (Celsius * 9/5) + 32\n",
    "    \n",
    "fahrenheit = (celsius * 9/5) + 32\n",
    "\n",
    "print(f\"{celsius:.2f} Celsius is: {fahrenheit:.2f} Fahrenheit\")"
   ]
  },
  {
   "cell_type": "markdown",
   "id": "5a098f98",
   "metadata": {},
   "source": [
    "***"
   ]
  },
  {
   "cell_type": "markdown",
   "id": "9227199e",
   "metadata": {},
   "source": [
    "**3. Write a Python program to display calendar?**"
   ]
  },
  {
   "cell_type": "code",
   "execution_count": 4,
   "id": "9fa2998e",
   "metadata": {},
   "outputs": [
    {
     "name": "stdout",
     "output_type": "stream",
     "text": [
      "Enter Year: 2022\n",
      "Enter Month Number (1-12): 1\n",
      "\n",
      "     January 2022\n",
      "Mo Tu We Th Fr Sa Su\n",
      "                1  2\n",
      " 3  4  5  6  7  8  9\n",
      "10 11 12 13 14 15 16\n",
      "17 18 19 20 21 22 23\n",
      "24 25 26 27 28 29 30\n",
      "31\n",
      "\n"
     ]
    }
   ],
   "source": [
    "import calendar\n",
    "\n",
    "yyyy = int(input(\"Enter Year: \"))\n",
    "mm = int(input(\"Enter Month Number (1-12): \"))\n",
    "\n",
    "print(\"\\n\", calendar.month(yyyy, mm))"
   ]
  },
  {
   "cell_type": "markdown",
   "id": "74351511",
   "metadata": {},
   "source": [
    "***"
   ]
  },
  {
   "cell_type": "markdown",
   "id": "573ee1af",
   "metadata": {},
   "source": [
    "**4. Write a Python program to solve quadratic equation?**"
   ]
  },
  {
   "attachments": {
    "image-3.png": {
     "image/png": "[encoded data removed]"
    }
   },
   "cell_type": "markdown",
   "id": "cf452c81",
   "metadata": {},
   "source": [
    "![image-3.png](attachment:image-3.png)"
   ]
  },
  {
   "cell_type": "code",
   "execution_count": 5,
   "id": "0c9eac86",
   "metadata": {},
   "outputs": [
    {
     "name": "stdout",
     "output_type": "stream",
     "text": [
      "Enter the value of a: 2\n",
      "Enter the value of b: 3\n",
      "Enter the value of c: 7\n",
      "The roots are (-0.75-1.713913650100261j) and (-0.75+1.713913650100261j)\n"
     ]
    }
   ],
   "source": [
    "# import complex math-module\n",
    "import cmath  \n",
    "\n",
    "# allow inputs\n",
    "a = float(input('Enter the value of a: '))\n",
    "b = float(input('Enter the value of b: '))\n",
    "c = float(input('Enter the value of c: '))\n",
    "\n",
    "# calculate discriminant\n",
    "dis = (b**2) - (4*a*c)\n",
    "\n",
    "# find roots of quadratic equation\n",
    "root1 = (-b-cmath.sqrt(dis))/(2*a)\n",
    "root2 = (-b+cmath.sqrt(dis))/(2*a)\n",
    "\n",
    "# display result\n",
    "print(f\"The roots are {root1} and {root2}\")"
   ]
  },
  {
   "cell_type": "markdown",
   "id": "1bee2361",
   "metadata": {},
   "source": [
    "***"
   ]
  },
  {
   "cell_type": "markdown",
   "id": "630d71e7",
   "metadata": {},
   "source": [
    "**5. Write a Python program to swap two variables without temp variable?**"
   ]
  },
  {
   "cell_type": "code",
   "execution_count": 6,
   "id": "234e15ed",
   "metadata": {},
   "outputs": [
    {
     "name": "stdout",
     "output_type": "stream",
     "text": [
      " Enter the First Value x: 10\n",
      " Enter the Second Value y: 20\n",
      "Before Swapping two Number: x = 10 and y = 20\n",
      "After Swapping two Number: x = 20 and y = 10\n"
     ]
    }
   ],
   "source": [
    "x = int(input(\" Enter the First Value x: \"))\n",
    "y = int(input(\" Enter the Second Value y: \"))\n",
    "\n",
    "print(f\"Before Swapping two Number: x = {x} and y = {y}\")\n",
    "\n",
    "x, y = y, x\n",
    "\n",
    "print(f\"After Swapping two Number: x = {x} and y = {y}\")"
   ]
  },
  {
   "cell_type": "markdown",
   "id": "581731d7",
   "metadata": {},
   "source": [
    "***"
   ]
  }
 ],
 "metadata": {
  "kernelspec": {
   "display_name": "Python 3",
   "language": "python",
   "name": "python3"
  },
  "language_info": {
   "codemirror_mode": {
    "name": "ipython",
    "version": 3
   },
   "file_extension": ".py",
   "mimetype": "text/x-python",
   "name": "python",
   "nbconvert_exporter": "python",
   "pygments_lexer": "ipython3",
   "version": "3.8.8"
  }
 },
 "nbformat": 4,
 "nbformat_minor": 5
}
