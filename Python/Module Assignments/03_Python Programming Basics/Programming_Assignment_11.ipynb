{
 "cells": [
  {
   "cell_type": "markdown",
   "id": "6bec3f66",
   "metadata": {},
   "source": [
    "**1. Write a Python program to find words which are greater than given length k?**"
   ]
  },
  {
   "cell_type": "code",
   "execution_count": 17,
   "id": "112c630d",
   "metadata": {},
   "outputs": [
    {
     "name": "stdout",
     "output_type": "stream",
     "text": [
      " Please enter the list of strings: \n",
      "thiru, Moorthi, Python, ML, iNeuron, text\n",
      " Enter filter length: 5\n",
      "\n",
      "List after removing the words which are greater than length 5 is: \n",
      "['Moorthi', 'Python', 'iNeuron']\n",
      "\n",
      "*** END ***\n"
     ]
    }
   ],
   "source": [
    "try:\n",
    "    print(\" Please enter the list of strings: \")\n",
    "    my_list = [i for i in input().split(\", \")]\n",
    "    n = int(input(\" Enter filter length: \"))\n",
    "    result = [x for x in my_list if len(x) > n]\n",
    "except Exception as err:\n",
    "    print(err)\n",
    "else:\n",
    "    print(f\"\\nList after removing the words which are greater than length {n} is: \\n{result}\")\n",
    "finally:\n",
    "    print(\"\\n*** END ***\")"
   ]
  },
  {
   "cell_type": "markdown",
   "id": "e8a297b0",
   "metadata": {},
   "source": [
    "***"
   ]
  },
  {
   "cell_type": "markdown",
   "id": "b596915d",
   "metadata": {},
   "source": [
    "**2. Write a Python program for removing i-th character from a string?**"
   ]
  },
  {
   "cell_type": "code",
   "execution_count": 18,
   "id": "bda3681a",
   "metadata": {},
   "outputs": [
    {
     "name": "stdout",
     "output_type": "stream",
     "text": [
      " Enter any string: Thiru Moorthi\n",
      " Enter the position of character to be removed from the string (from 1 to 13): 6\n",
      "\n",
      "New string after removing the character in position 6 is: \n",
      "ThiruMoorthi\n"
     ]
    }
   ],
   "source": [
    "try:\n",
    "    string = input(\" Enter any string: \")\n",
    "    position = int(input(f\" Enter the position of character to be removed from the string (from 1 to {len(string)}): \"))\n",
    "    if position < len(string):\n",
    "        result_str = string[:position-1] + string[position:]\n",
    "    else:\n",
    "        raise Exception(\"Invalid Position\")\n",
    "except ValueError as err1:\n",
    "    print(f\"{err1}. Please enter only integer values\")\n",
    "except Exception as err2:\n",
    "    print(f\"{err2}. Maximum allowed value: {len(string)}\")\n",
    "else:\n",
    "    print(f\"\\nNew string after removing the character in position {position} is: \\n{result_str}\")"
   ]
  },
  {
   "cell_type": "markdown",
   "id": "6444b97e",
   "metadata": {},
   "source": [
    "***"
   ]
  },
  {
   "cell_type": "markdown",
   "id": "5173a73e",
   "metadata": {},
   "source": [
    "**3. Write a Python program to split and join a string?**"
   ]
  },
  {
   "cell_type": "code",
   "execution_count": 22,
   "id": "7b0b66de",
   "metadata": {},
   "outputs": [
    {
     "name": "stdout",
     "output_type": "stream",
     "text": [
      " Enter the sentence:this is a string\n",
      "\n",
      " After splitting the strings using space: \n",
      "['this', 'is', 'a', 'string']\n",
      "\n",
      " After joining the strings using '-' operator: \n",
      "this-is-a-string\n"
     ]
    }
   ],
   "source": [
    "try:\n",
    "    line = input(\" Enter the sentence:\")\n",
    "    line = line.split(\" \")\n",
    "    result = \"-\".join(line)\n",
    "except Exception as err:\n",
    "    print(err)\n",
    "else:\n",
    "    print(f\"\\n After splitting the strings using space: \\n{line}\")\n",
    "    print(f\"\\n After joining the strings using '-' operator: \\n{result}\")"
   ]
  },
  {
   "cell_type": "markdown",
   "id": "be27a99f",
   "metadata": {},
   "source": [
    "***"
   ]
  },
  {
   "cell_type": "markdown",
   "id": "53cabaa9",
   "metadata": {},
   "source": [
    "**4. Write a Python to check if a given string is binary string or not?**"
   ]
  },
  {
   "cell_type": "code",
   "execution_count": 36,
   "id": "13685678",
   "metadata": {},
   "outputs": [
    {
     "name": "stdout",
     "output_type": "stream",
     "text": [
      " Enter the string (str or binary format): 101010000111\n",
      "101010000111 is a binary string.\n"
     ]
    }
   ],
   "source": [
    "string = input(\" Enter the string (str or binary format): \")\n",
    "my_set = set(string)\n",
    "\n",
    "# when the string is converted into set, the duplicate values will be dropped and \n",
    "# we would have only below possible combinations.\n",
    "if my_set == {'0','1'} or my_set == {'1','0'} or my_set == {'0'} or my_set == {'1'}:\n",
    "    print(f\"{string} is a binary string.\")\n",
    "else:\n",
    "    print(f\"{string} is not a binary string.\")"
   ]
  },
  {
   "cell_type": "markdown",
   "id": "8da0f41a",
   "metadata": {},
   "source": [
    "***"
   ]
  },
  {
   "cell_type": "markdown",
   "id": "2ba3d6b6",
   "metadata": {},
   "source": [
    "**5. Write a Python program to find uncommon words from two Strings?**"
   ]
  },
  {
   "cell_type": "code",
   "execution_count": 5,
   "id": "0cc82b80",
   "metadata": {},
   "outputs": [
    {
     "name": "stdout",
     "output_type": "stream",
     "text": [
      " Enter the first sentence: Learning from iNeuron\n",
      " Enter the second sentence: Learning Python programming\n",
      "\n",
      "Uncommon words in both these sentences are: ['from', 'iNeuron', 'Python', 'programming']\n"
     ]
    }
   ],
   "source": [
    "sent1 = input(\" Enter the first sentence: \")\n",
    "sent2 = input(\" Enter the second sentence: \")\n",
    "\n",
    "uncommon = []\n",
    "for word in sent1.split():\n",
    "    if word not in sent2.split():\n",
    "        uncommon.append(word)\n",
    "    \n",
    "for word in sent2.split():\n",
    "    if word not in sent1.split():\n",
    "        uncommon.append(word)\n",
    "\n",
    "print(f\"\\nUncommon words in both these sentences are: {uncommon}\")"
   ]
  },
  {
   "cell_type": "markdown",
   "id": "f69b2b28",
   "metadata": {},
   "source": [
    "***"
   ]
  },
  {
   "cell_type": "markdown",
   "id": "0bf543a1",
   "metadata": {},
   "source": [
    "**6. Write a Python to find all duplicate characters in string?**"
   ]
  },
  {
   "cell_type": "code",
   "execution_count": 8,
   "id": "ad5f42c1",
   "metadata": {},
   "outputs": [
    {
     "name": "stdout",
     "output_type": "stream",
     "text": [
      " Enter a string:hellopython\n",
      "\n",
      "Duplicate characters in hellopython are: ['h', 'l', 'o']\n"
     ]
    }
   ],
   "source": [
    "string = input(\" Enter a string:\")\n",
    "dupl_lst = []\n",
    "\n",
    "for char in string:\n",
    "    if (string.count(char) > 1) and (char not in dupl_lst):\n",
    "        dupl_lst.append(char)\n",
    "\n",
    "print(f\"\\nDuplicate characters in {string} are: {dupl_lst}\")"
   ]
  },
  {
   "cell_type": "markdown",
   "id": "f214eaf2",
   "metadata": {},
   "source": [
    "***"
   ]
  },
  {
   "cell_type": "markdown",
   "id": "f2af9953",
   "metadata": {},
   "source": [
    "**7. Write a Python Program to check if a string contains any special character?**"
   ]
  },
  {
   "cell_type": "code",
   "execution_count": 10,
   "id": "f8c98521",
   "metadata": {},
   "outputs": [
    {
     "data": {
      "text/plain": [
       "'!\"#$%&\\'()*+,-./:;<=>?@[\\\\]^_`{|}~'"
      ]
     },
     "execution_count": 10,
     "metadata": {},
     "output_type": "execute_result"
    }
   ],
   "source": [
    "import string\n",
    "\n",
    "string.punctuation"
   ]
  },
  {
   "cell_type": "code",
   "execution_count": 15,
   "id": "45fd39d3",
   "metadata": {},
   "outputs": [
    {
     "name": "stdout",
     "output_type": "stream",
     "text": [
      " Enter any string: hello!!\n",
      "\n",
      "The string hello!! contains special characters.\n"
     ]
    }
   ],
   "source": [
    "import string\n",
    "\n",
    "spl_char = string.punctuation\n",
    "string = input(\" Enter any string: \")\n",
    "\n",
    "# For each character in the string verify if it is special character.\n",
    "if any(char in spl_char for char in string):\n",
    "    print(f\"\\nThe string {string} contains special characters.\")\n",
    "else:\n",
    "    print(f\"\\nThe string {string} doesn't have special characters.\")"
   ]
  },
  {
   "cell_type": "markdown",
   "id": "49f93aab",
   "metadata": {},
   "source": [
    "***"
   ]
  }
 ],
 "metadata": {
  "kernelspec": {
   "display_name": "Python 3",
   "language": "python",
   "name": "python3"
  },
  "language_info": {
   "codemirror_mode": {
    "name": "ipython",
    "version": 3
   },
   "file_extension": ".py",
   "mimetype": "text/x-python",
   "name": "python",
   "nbconvert_exporter": "python",
   "pygments_lexer": "ipython3",
   "version": "3.8.8"
  }
 },
 "nbformat": 4,
 "nbformat_minor": 5
}
