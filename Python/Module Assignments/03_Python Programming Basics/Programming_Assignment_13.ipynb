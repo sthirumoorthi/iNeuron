{
 "cells": [
  {
   "cell_type": "markdown",
   "id": "67a629ef",
   "metadata": {},
   "source": [
    "**Question 1:**"
   ]
  },
  {
   "cell_type": "markdown",
   "id": "6bec3f66",
   "metadata": {},
   "source": [
    "    Write a program that calculates and prints the value according to the given formula:\n",
    "    Q = Square root of [(2 * C * D)/H]\n",
    "    Following are the fixed values of C and H:    C is 50. H is 30.\n",
    "    D is the variable whose values should be input to your program in a comma-separated sequence.\n",
    "    \n",
    "    Example:\n",
    "    Let us assume the following comma separated input sequence is given to the program:\n",
    "    100,150,180\n",
    "    The output of the program should be:\n",
    "    18,22,24"
   ]
  },
  {
   "cell_type": "code",
   "execution_count": 12,
   "id": "112c630d",
   "metadata": {},
   "outputs": [
    {
     "name": "stdout",
     "output_type": "stream",
     "text": [
      " Please enter the list of integers: \n",
      "100,150,180\n",
      "\n",
      " Output:\n",
      "18,22,24\n",
      "\n",
      "*** END ***\n"
     ]
    }
   ],
   "source": [
    "import math\n",
    "\n",
    "try:\n",
    "    C = 50\n",
    "    H = 30\n",
    "    print(\" Please enter the list of integers: \")\n",
    "    my_list = list(map(int, input().split(\",\")))    # receive the inputs in list\n",
    "    \n",
    "    result = [round(math.sqrt((2 * C * item) / H)) for item in my_list]    # calculation\n",
    "        \n",
    "except Exception as err:\n",
    "    print(err)\n",
    "else:\n",
    "    print(\"\\n Output:\")\n",
    "    print(*result, sep=',')         # print the elements in list\n",
    "finally:\n",
    "    print(\"\\n*** END ***\")"
   ]
  },
  {
   "cell_type": "markdown",
   "id": "e8a297b0",
   "metadata": {},
   "source": [
    "***"
   ]
  },
  {
   "cell_type": "markdown",
   "id": "e634d959",
   "metadata": {},
   "source": [
    "**Question 2:**"
   ]
  },
  {
   "cell_type": "markdown",
   "id": "b596915d",
   "metadata": {},
   "source": [
    "    Write a program which takes 2 digits, X,Y as input and generates a 2-dimensional array. The element value in the i-th row and j-th column of the array should be i*j.\n",
    "    Note: i=0,1.., X-1; j=0,1,¡Y-1.\n",
    "    \n",
    "    Example:\n",
    "    Suppose the following inputs are given to the program:\n",
    "    3,5\n",
    "    Then, the output of the program should be:\n",
    "    [[0, 0, 0, 0, 0], [0, 1, 2, 3, 4], [0, 2, 4, 6, 8]]"
   ]
  },
  {
   "cell_type": "code",
   "execution_count": 16,
   "id": "bda3681a",
   "metadata": {},
   "outputs": [
    {
     "name": "stdout",
     "output_type": "stream",
     "text": [
      "Enter the Number of rows : 3\n",
      "Enter the Number of Columns: 5\n",
      "\n",
      " Generated Matrix is:\n",
      "[[0, 0, 0, 0, 0], [0, 1, 2, 3, 4], [0, 2, 4, 6, 8]]\n",
      "\n",
      "*** END ***\n"
     ]
    }
   ],
   "source": [
    "try:\n",
    "    row = int(input(\"Enter the Number of rows : \" ))\n",
    "    col = int(input(\"Enter the Number of Columns: \"))\n",
    "    result=[[i*j for i in range(col)] for j in range(row)]\n",
    "except Exception as err:\n",
    "    print(err)\n",
    "else:\n",
    "    print(\"\\n Generated Matrix is:\")\n",
    "    print(result)         # print the elements in list\n",
    "finally:\n",
    "    print(\"\\n*** END ***\")"
   ]
  },
  {
   "cell_type": "markdown",
   "id": "6444b97e",
   "metadata": {},
   "source": [
    "***"
   ]
  },
  {
   "cell_type": "markdown",
   "id": "ef2ac817",
   "metadata": {},
   "source": [
    "**Question 3:**"
   ]
  },
  {
   "cell_type": "markdown",
   "id": "5173a73e",
   "metadata": {},
   "source": [
    "    Write a program that accepts a comma separated sequence of words as input and prints the words in a comma-separated sequence after sorting them alphabetically.\n",
    "    \n",
    "    Suppose the following input is supplied to the program:    \n",
    "        without,hello,bag,world\n",
    "    Then, the output should be:        \n",
    "        bag,hello,without,world"
   ]
  },
  {
   "cell_type": "code",
   "execution_count": 20,
   "id": "7b0b66de",
   "metadata": {},
   "outputs": [
    {
     "name": "stdout",
     "output_type": "stream",
     "text": [
      " Please enter the list of strings: \n",
      "without,hello,bag,world\n",
      "\n",
      " Strings after the sort\n",
      "bag,hello,without,world\n",
      "\n",
      "*** END ***\n"
     ]
    }
   ],
   "source": [
    "try:\n",
    "    print(\" Please enter the list of strings: \")\n",
    "    my_list = [i for i in input().split(\",\")]\n",
    "\n",
    "    result = sorted(list(my_list))\n",
    "except Exception as err:\n",
    "    print(err)\n",
    "else:\n",
    "    print(\"\\n Strings after the sort\")\n",
    "    print(*result, sep=\",\")\n",
    "finally:\n",
    "    print(\"\\n*** END ***\")"
   ]
  },
  {
   "cell_type": "markdown",
   "id": "be27a99f",
   "metadata": {},
   "source": [
    "***"
   ]
  },
  {
   "cell_type": "markdown",
   "id": "393a5089",
   "metadata": {},
   "source": [
    "**Question 4:**"
   ]
  },
  {
   "cell_type": "markdown",
   "id": "53cabaa9",
   "metadata": {},
   "source": [
    "    Write a program that accepts a sequence of whitespace separated words as input and prints the words after removing all duplicate words and sorting them alphanumerically.\n",
    "    \n",
    "    Suppose the following input is supplied to the program:\n",
    "        hello world and practice makes perfect and hello world again\n",
    "    Then, the output should be:\n",
    "        again and hello makes perfect practice world"
   ]
  },
  {
   "cell_type": "code",
   "execution_count": 23,
   "id": "13685678",
   "metadata": {},
   "outputs": [
    {
     "name": "stdout",
     "output_type": "stream",
     "text": [
      " Please enter the list of strings: \n",
      "hello world and practice makes perfect and hello world again\n",
      "\n",
      " Strings after removing the duplicates:\n",
      "again and hello makes perfect practice world\n",
      "\n",
      "*** END ***\n"
     ]
    }
   ],
   "source": [
    "try:\n",
    "    print(\" Please enter the list of strings: \")\n",
    "    my_list = [i for i in input().split(\" \")]\n",
    "\n",
    "    result = sorted(list(set(my_list)))\n",
    "except Exception as err:\n",
    "    print(err)\n",
    "else:\n",
    "    print(\"\\n Strings after removing the duplicates:\")\n",
    "    print(*result, sep=\" \")\n",
    "finally:\n",
    "    print(\"\\n*** END ***\")"
   ]
  },
  {
   "cell_type": "markdown",
   "id": "8da0f41a",
   "metadata": {},
   "source": [
    "***"
   ]
  },
  {
   "cell_type": "markdown",
   "id": "3bafb78d",
   "metadata": {},
   "source": [
    "**Question 5:**"
   ]
  },
  {
   "cell_type": "markdown",
   "id": "2ba3d6b6",
   "metadata": {},
   "source": [
    "    Write a program that accepts a sentence and calculate the number of letters and digits.\n",
    "    \n",
    "    Suppose the following input is supplied to the program:\n",
    "        hello world! 123\n",
    "    Then, the output should be:\n",
    "        LETTERS 10\n",
    "        DIGITS 3"
   ]
  },
  {
   "cell_type": "code",
   "execution_count": 29,
   "id": "0cc82b80",
   "metadata": {},
   "outputs": [
    {
     "name": "stdout",
     "output_type": "stream",
     "text": [
      " Please enter the sentence: hello world! 123\n",
      "LETTERS 10\n",
      "DIGITS 3\n",
      "\n",
      "*** END ***\n"
     ]
    }
   ],
   "source": [
    "try:\n",
    "    my_str = input(\" Please enter the sentence: \")\n",
    "    alpha = 0\n",
    "    digit = 0\n",
    "    for char in my_str:\n",
    "        if char.isalpha():\n",
    "            alpha += 1\n",
    "        if char.isdigit():\n",
    "            digit += 1\n",
    "\n",
    "except Exception as err:\n",
    "    print(err)\n",
    "else:\n",
    "    print(f\"LETTERS {alpha}\")\n",
    "    print(f\"DIGITS {digit}\")\n",
    "finally:\n",
    "    print(\"\\n*** END ***\")"
   ]
  },
  {
   "cell_type": "markdown",
   "id": "f69b2b28",
   "metadata": {},
   "source": [
    "***"
   ]
  },
  {
   "cell_type": "markdown",
   "id": "86fd25fb",
   "metadata": {},
   "source": [
    "**Question 6:**"
   ]
  },
  {
   "cell_type": "markdown",
   "id": "d04f6764",
   "metadata": {},
   "source": [
    "    A website requires the users to input username and password to register. Write a program to check the validity of password input by users.\n",
    "    \n",
    "    Following are the criteria for checking the password:\n",
    "        1. At least 1 letter between [a-z]\n",
    "        2. At least 1 number between [0-9]\n",
    "        1. At least 1 letter between [A-Z]\n",
    "        3. At least 1 character from [$#@]\n",
    "        4. Minimum length of transaction password: 6\n",
    "        5. Maximum length of transaction password: 12\n",
    "    \n",
    "    Your program should accept a sequence of comma separated passwords and will check them according to the above criteria. Passwords that match the criteria are to be printed, each separated by a comma.\n",
    "    \n",
    "    Example\n",
    "    If the following passwords are given as input to the program:\n",
    "        ABd1234@1,a F1#,2w3E*,2We3345\n",
    "    Then, the output of the program should be:\n",
    "        ABd1234@1"
   ]
  },
  {
   "cell_type": "code",
   "execution_count": 60,
   "id": "da4925c9",
   "metadata": {},
   "outputs": [],
   "source": [
    "def check_pass(my_str):\n",
    "    \"\"\"\n",
    "    This function validates the password rules for any input string/password \n",
    "    and returns True if it satisfies the policy requirements\n",
    "    \"\"\"\n",
    "    \n",
    "    alpha_lower = False\n",
    "    alpha_upper = False\n",
    "    digit = False\n",
    "    \n",
    "    for char in my_str:\n",
    "        # bypass the validation in case of any space in the password\n",
    "        if char == ' ':\n",
    "            return False\n",
    "        # check if there is any lower case letter\n",
    "        elif char.isalpha() and char.islower() and (not alpha_lower):\n",
    "            alpha_lower = True\n",
    "            continue\n",
    "        # check if there is any digit\n",
    "        elif char.isdigit() and (not digit):\n",
    "            digit = True\n",
    "            continue\n",
    "        # check if there is any upper case letter\n",
    "        elif char.isalpha() and char.isupper() and (not alpha_upper):\n",
    "            alpha_upper = True\n",
    "            continue\n",
    "    if (alpha_lower and alpha_upper and digit and len(my_str) >= 8 and len(my_str) < 12):\n",
    "        return True\n",
    "        \n",
    "    return False"
   ]
  },
  {
   "cell_type": "code",
   "execution_count": 62,
   "id": "0cba5b2a",
   "metadata": {},
   "outputs": [
    {
     "name": "stdout",
     "output_type": "stream",
     "text": [
      " Please enter the list of strings (comma separated): \n",
      "ABd1234@1,a F1#,2w3E*,2We3345\n",
      "\n",
      " Below passwords satisfy the policy requirements:\n",
      "ABd1234@1\n",
      "\n",
      "*** END ***\n"
     ]
    }
   ],
   "source": [
    "try:\n",
    "    print(\" Please enter the list of strings (comma separated): \")\n",
    "    my_list = [i for i in input().split(\",\")]\n",
    "    result = []\n",
    "    for item in my_list:\n",
    "        if check_pass(item):\n",
    "            result.append(item)\n",
    "except Exception as err:\n",
    "    print(err)\n",
    "else:\n",
    "    print(\"\\n Below passwords satisfy the policy requirements:\")\n",
    "    print(*result, sep=\",\")\n",
    "finally:\n",
    "    print(\"\\n*** END ***\")"
   ]
  },
  {
   "cell_type": "markdown",
   "id": "4ef6a682",
   "metadata": {},
   "source": [
    "***"
   ]
  }
 ],
 "metadata": {
  "kernelspec": {
   "display_name": "Python 3",
   "language": "python",
   "name": "python3"
  },
  "language_info": {
   "codemirror_mode": {
    "name": "ipython",
    "version": 3
   },
   "file_extension": ".py",
   "mimetype": "text/x-python",
   "name": "python",
   "nbconvert_exporter": "python",
   "pygments_lexer": "ipython3",
   "version": "3.8.8"
  }
 },
 "nbformat": 4,
 "nbformat_minor": 5
}
