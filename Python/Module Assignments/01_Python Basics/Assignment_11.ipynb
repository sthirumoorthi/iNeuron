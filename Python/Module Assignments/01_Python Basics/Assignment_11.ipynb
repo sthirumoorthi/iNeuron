{
 "cells": [
  {
   "cell_type": "markdown",
   "id": "5fde4e1c",
   "metadata": {},
   "source": [
    "**1. Create an assert statement that throws an AssertionError if the variable spam is a negative integer.**"
   ]
  },
  {
   "cell_type": "markdown",
   "id": "131bf04d",
   "metadata": {},
   "source": [
    "    assert spam < 0, 'The spam variable is a negative integer'"
   ]
  },
  {
   "cell_type": "markdown",
   "id": "6662e829",
   "metadata": {},
   "source": [
    "***"
   ]
  },
  {
   "cell_type": "markdown",
   "id": "f2570e3b",
   "metadata": {},
   "source": [
    "**2. Write an assert statement that triggers an AssertionError if the variables eggs and bacon contain strings that are the same as each other, even if their cases are different (that is, 'hello' and 'hello' are considered the same, and 'goodbye' and 'GOODbye' are also considered the same).**"
   ]
  },
  {
   "cell_type": "markdown",
   "id": "7e785e62",
   "metadata": {},
   "source": [
    "    assert eggs.lower() != bacon.lower(), 'The eggs and bacon variables are the same!'"
   ]
  },
  {
   "cell_type": "markdown",
   "id": "654c4115",
   "metadata": {},
   "source": [
    "***"
   ]
  },
  {
   "cell_type": "markdown",
   "id": "a053c34c",
   "metadata": {},
   "source": [
    "**3. Create an assert statement that throws an AssertionError every time.**"
   ]
  },
  {
   "cell_type": "markdown",
   "id": "5e80ac48",
   "metadata": {},
   "source": [
    "    assert False, 'Assertion everytime.'"
   ]
  },
  {
   "cell_type": "markdown",
   "id": "01852126",
   "metadata": {},
   "source": [
    "***"
   ]
  },
  {
   "cell_type": "markdown",
   "id": "b103db3d",
   "metadata": {},
   "source": [
    "**4. What are the two lines that must be present in your software in order to call logging.debug()?**"
   ]
  },
  {
   "cell_type": "markdown",
   "id": "0733e055",
   "metadata": {},
   "source": [
    "    import logging\n",
    "    logging.basicConfig(level=logging.DEBUG, format=' %(asctime)s -%(levelname)s - %(message)s')\n",
    "    \n",
    "- We need to specifu the filename to capture the logging data"
   ]
  },
  {
   "cell_type": "markdown",
   "id": "08158435",
   "metadata": {},
   "source": [
    "***"
   ]
  },
  {
   "cell_type": "markdown",
   "id": "4dc183d6",
   "metadata": {},
   "source": [
    "**5. What are the two lines that your program must have in order to have logging.debug() send a logging message to a file named programLog.txt?**"
   ]
  },
  {
   "cell_type": "markdown",
   "id": "e4324e66",
   "metadata": {},
   "source": [
    "    import logging\n",
    "    logging.basicConfig(filename='programLog.txt', level=logging.DEBUG, format=' %(asctime)s - %(levelname)s - %(message)s')"
   ]
  },
  {
   "cell_type": "markdown",
   "id": "d2340d5a",
   "metadata": {},
   "source": [
    "***"
   ]
  },
  {
   "cell_type": "markdown",
   "id": "b31c3e23",
   "metadata": {},
   "source": [
    "**6. What are the five levels of logging?**"
   ]
  },
  {
   "cell_type": "markdown",
   "id": "1ae96f1f",
   "metadata": {},
   "source": [
    "    DEBUG\n",
    "    INFO\n",
    "    WARNING\n",
    "    ERROR\n",
    "    CRITICAL"
   ]
  },
  {
   "cell_type": "markdown",
   "id": "327741db",
   "metadata": {},
   "source": [
    "***"
   ]
  },
  {
   "cell_type": "markdown",
   "id": "80e366db",
   "metadata": {},
   "source": [
    "**7. What line of code would you add to your software to disable all logging messages?**"
   ]
  },
  {
   "cell_type": "markdown",
   "id": "a66d54e4",
   "metadata": {},
   "source": [
    "    logging.disable(logging.CRITICAL)"
   ]
  },
  {
   "cell_type": "markdown",
   "id": "855dec58",
   "metadata": {},
   "source": [
    "***"
   ]
  },
  {
   "cell_type": "markdown",
   "id": "aa3bebae",
   "metadata": {},
   "source": [
    "**8.Why is using logging messages better than using print() to display the same message?**"
   ]
  },
  {
   "cell_type": "markdown",
   "id": "a0dac011",
   "metadata": {},
   "source": [
    "    - We can disable logging messages without removing the logging function calls using disable command.\n",
    "    - In some cases we can selectively disable lower-level logging messages. \n",
    "    - We can create logging messages and it can be written in a separate file.\n",
    "    - Logging messages provides a timestamp which could be used for tracking or troubleshooting purposes"
   ]
  },
  {
   "cell_type": "markdown",
   "id": "f4fa1110",
   "metadata": {},
   "source": [
    "***"
   ]
  },
  {
   "cell_type": "markdown",
   "id": "7533173c",
   "metadata": {},
   "source": [
    "**9. What are the differences between the Step Over, Step In, and Step Out buttons in the debugger?**"
   ]
  },
  {
   "cell_type": "markdown",
   "id": "27ea80c9",
   "metadata": {},
   "source": [
    "    - Step In button will move the debugger into a function call. \n",
    "    - Step Over button will quickly execute the function call without stepping into it. \n",
    "    - Step Out button will quickly execute the rest of the code until it steps out of the function it currently is in"
   ]
  },
  {
   "cell_type": "markdown",
   "id": "e70c8240",
   "metadata": {},
   "source": [
    "***"
   ]
  },
  {
   "cell_type": "markdown",
   "id": "5c93a793",
   "metadata": {},
   "source": [
    "**10. After you click Continue, when will the debugger stop ?**"
   ]
  },
  {
   "cell_type": "markdown",
   "id": "58cbdbcc",
   "metadata": {},
   "source": [
    "    After we click Continue, the debugger will stop when it has reached the end of the program or a line with a breakpoint"
   ]
  },
  {
   "cell_type": "markdown",
   "id": "d533da2c",
   "metadata": {},
   "source": [
    "***"
   ]
  },
  {
   "cell_type": "markdown",
   "id": "0643e1d5",
   "metadata": {},
   "source": [
    "**11. What is the concept of a breakpoint?**"
   ]
  },
  {
   "cell_type": "markdown",
   "id": "256ba549",
   "metadata": {},
   "source": [
    "    A breakpoint is a setting on a line of code that causes the debugger to pause when the program execution reaches the line"
   ]
  },
  {
   "cell_type": "markdown",
   "id": "04d6a745",
   "metadata": {},
   "source": [
    "***"
   ]
  }
 ],
 "metadata": {
  "kernelspec": {
   "display_name": "Python 3",
   "language": "python",
   "name": "python3"
  },
  "language_info": {
   "codemirror_mode": {
    "name": "ipython",
    "version": 3
   },
   "file_extension": ".py",
   "mimetype": "text/x-python",
   "name": "python",
   "nbconvert_exporter": "python",
   "pygments_lexer": "ipython3",
   "version": "3.8.8"
  }
 },
 "nbformat": 4,
 "nbformat_minor": 5
}
