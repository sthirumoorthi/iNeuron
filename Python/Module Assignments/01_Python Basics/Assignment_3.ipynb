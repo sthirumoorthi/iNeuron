{
 "cells": [
  {
   "cell_type": "markdown",
   "id": "e50cd6de",
   "metadata": {},
   "source": [
    "**1. Why are functions advantageous to have in your programs?**"
   ]
  },
  {
   "cell_type": "markdown",
   "id": "f8576999",
   "metadata": {},
   "source": [
    "Functions reduce the need for rewriting same logic/code again and again in a program. This makes programs shorter, easier to read, and easier to update. Thus, it will enhance the readability of a program"
   ]
  },
  {
   "cell_type": "markdown",
   "id": "341519dd",
   "metadata": {},
   "source": [
    "***"
   ]
  },
  {
   "cell_type": "markdown",
   "id": "c314b639",
   "metadata": {},
   "source": [
    "**2. When does the code in a function run: when it's specified or when it's called?**"
   ]
  },
  {
   "cell_type": "markdown",
   "id": "eebc0858",
   "metadata": {},
   "source": [
    "The code in a function will get executed when the function is called, not when the function is specified/defined."
   ]
  },
  {
   "cell_type": "markdown",
   "id": "fc646844",
   "metadata": {},
   "source": [
    "***"
   ]
  },
  {
   "cell_type": "markdown",
   "id": "3f007404",
   "metadata": {},
   "source": [
    "**3. What statement creates a function?**"
   ]
  },
  {
   "cell_type": "markdown",
   "id": "f8bd7073",
   "metadata": {},
   "source": [
    "The def statement defines or created a function."
   ]
  },
  {
   "cell_type": "markdown",
   "id": "f5317fce",
   "metadata": {},
   "source": [
    "***"
   ]
  },
  {
   "cell_type": "markdown",
   "id": "1fc9f2d9",
   "metadata": {},
   "source": [
    "**4. What is the difference between a function and a function call?**"
   ]
  },
  {
   "cell_type": "markdown",
   "id": "de194233",
   "metadata": {},
   "source": [
    "    Function: \n",
    "     - It is a block of code that does a particular operation and may return the result. \n",
    "     - It should start with the def keyword and the code in its def clause.\n",
    "     - It usually accepts inputs as parameters. The parameters are not mandatory\n",
    "     - It should have semicolon at the end of function name.\n",
    "\n",
    "    Function call:\n",
    "    - It is the code used to pass control to a function.\n",
    "    - It doesn't have any keyword like def.\n",
    "    - It can also pass the input as parameters but they are not mandatory.\n",
    "    - It doesn't have semicolon in its structure."
   ]
  },
  {
   "cell_type": "markdown",
   "id": "2c735f47",
   "metadata": {},
   "source": [
    "***"
   ]
  },
  {
   "cell_type": "markdown",
   "id": "e642b007",
   "metadata": {},
   "source": [
    "**5. How many global scopes are there in a Python program? How many local scopes?**"
   ]
  },
  {
   "cell_type": "markdown",
   "id": "fe588851",
   "metadata": {},
   "source": [
    "There is one global scope. This scope remains in existence until the program terminates and all its names are forgotten. \n",
    "\n",
    "A local scope is created whenever a function is called and it will remain active until the function returns value back to function call."
   ]
  },
  {
   "cell_type": "markdown",
   "id": "5c060ea8",
   "metadata": {},
   "source": [
    "***"
   ]
  },
  {
   "cell_type": "markdown",
   "id": "8a3ae56e",
   "metadata": {},
   "source": [
    "**6. What happens to variables in a local scope when the function call returns?**"
   ]
  },
  {
   "cell_type": "markdown",
   "id": "bd849bac",
   "metadata": {},
   "source": [
    "The local scope will be destroyed when a function returns the result (or return values), and all the variables inside the function will become obsolete or invalid."
   ]
  },
  {
   "cell_type": "markdown",
   "id": "97107522",
   "metadata": {},
   "source": [
    "***"
   ]
  },
  {
   "cell_type": "markdown",
   "id": "7b30d10e",
   "metadata": {},
   "source": [
    "**7. What is the concept of a return value? Is it possible to have a return value in an expression?**"
   ]
  },
  {
   "cell_type": "markdown",
   "id": "b7488ba3",
   "metadata": {},
   "source": [
    "A return value is the value which the function call expects from the function. A return statement is used to end the execution of the function call and “returns” the result (or return value) back to the caller.\n",
    "\n",
    "A return value can be used as part of an expression."
   ]
  },
  {
   "cell_type": "markdown",
   "id": "6f5b961f",
   "metadata": {},
   "source": [
    "***"
   ]
  },
  {
   "cell_type": "markdown",
   "id": "a8301123",
   "metadata": {},
   "source": [
    "**8. If a function does not have a return statement, what is the return value of a call to that function?**"
   ]
  },
  {
   "cell_type": "markdown",
   "id": "5ef57694",
   "metadata": {},
   "source": [
    "The function will return \"None\" if there is no return statement for any function."
   ]
  },
  {
   "cell_type": "markdown",
   "id": "ef4190bb",
   "metadata": {},
   "source": [
    "***"
   ]
  },
  {
   "cell_type": "markdown",
   "id": "55070ba4",
   "metadata": {},
   "source": [
    "**9. How do you make a function variable refer to the global variable?**"
   ]
  },
  {
   "cell_type": "markdown",
   "id": "674adff4",
   "metadata": {},
   "source": [
    "If we need to refer the global variable in a function, we will have to use the global keyword to declare those variables which are global"
   ]
  },
  {
   "cell_type": "markdown",
   "id": "4178556d",
   "metadata": {},
   "source": [
    "***"
   ]
  },
  {
   "cell_type": "markdown",
   "id": "1d0bb13e",
   "metadata": {},
   "source": [
    "**10. What is the data type of None?**"
   ]
  },
  {
   "cell_type": "markdown",
   "id": "a0f04c8a",
   "metadata": {},
   "source": [
    "NoneType"
   ]
  },
  {
   "cell_type": "markdown",
   "id": "5c1f22ed",
   "metadata": {},
   "source": [
    "***"
   ]
  },
  {
   "cell_type": "markdown",
   "id": "2117c5bf",
   "metadata": {},
   "source": [
    "**11. What does the sentence import areallyourpetsnamederic do?**"
   ]
  },
  {
   "cell_type": "markdown",
   "id": "861b16a1",
   "metadata": {},
   "source": [
    "This import statement imports a module named \"areallyourpetsnamederic\". I believe, this is an invalid package."
   ]
  },
  {
   "cell_type": "markdown",
   "id": "f12687f2",
   "metadata": {},
   "source": [
    "***"
   ]
  },
  {
   "cell_type": "markdown",
   "id": "8cb658f8",
   "metadata": {},
   "source": [
    "**12. If you had a bacon() feature in a spam module, what would you call it after importing spam?**"
   ]
  },
  {
   "cell_type": "markdown",
   "id": "c4be65e8",
   "metadata": {},
   "source": [
    "The function can be called with spam.bacon()."
   ]
  },
  {
   "cell_type": "markdown",
   "id": "940e4d20",
   "metadata": {},
   "source": [
    "***"
   ]
  },
  {
   "cell_type": "markdown",
   "id": "83125c46",
   "metadata": {},
   "source": [
    "**13. What can you do to save a programme from crashing if it encounters an error?**"
   ]
  },
  {
   "cell_type": "markdown",
   "id": "d030c054",
   "metadata": {},
   "source": [
    "We would need to use the \"Try.. Except\" feature to overcome this situation. The piece of code which might cause issue, will have to be written inside the \"Try\" block and respective errors can be handled in \"Except\" block."
   ]
  },
  {
   "cell_type": "markdown",
   "id": "4a7e5eff",
   "metadata": {},
   "source": [
    "***"
   ]
  },
  {
   "cell_type": "markdown",
   "id": "ac125c88",
   "metadata": {},
   "source": [
    "**14. What is the purpose of the try clause? What is the purpose of the except clause?**"
   ]
  },
  {
   "cell_type": "markdown",
   "id": "bec26fd5",
   "metadata": {},
   "source": [
    "The piece of code which might cause an error, will have to be captured in the \"Try\" clause.\n",
    "\n",
    "The piece of code will get executed when an error happens, will have to be captured in \"Except\" clause."
   ]
  },
  {
   "cell_type": "markdown",
   "id": "93b25a0f",
   "metadata": {},
   "source": [
    "***"
   ]
  }
 ],
 "metadata": {
  "kernelspec": {
   "display_name": "Python 3",
   "language": "python",
   "name": "python3"
  },
  "language_info": {
   "codemirror_mode": {
    "name": "ipython",
    "version": 3
   },
   "file_extension": ".py",
   "mimetype": "text/x-python",
   "name": "python",
   "nbconvert_exporter": "python",
   "pygments_lexer": "ipython3",
   "version": "3.8.8"
  }
 },
 "nbformat": 4,
 "nbformat_minor": 5
}
