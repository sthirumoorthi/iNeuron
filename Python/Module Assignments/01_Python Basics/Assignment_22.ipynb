{
 "cells": [
  {
   "cell_type": "markdown",
   "id": "5fde4e1c",
   "metadata": {},
   "source": [
    "**1. What is the result of the code, and explain?**\n",
    "\n",
    "    >>> X = 'iNeuron'\n",
    "    >>> def func():\n",
    "            print(X)\n",
    "\n",
    "    >>> func()"
   ]
  },
  {
   "cell_type": "code",
   "execution_count": 1,
   "id": "e2557386",
   "metadata": {},
   "outputs": [
    {
     "name": "stdout",
     "output_type": "stream",
     "text": [
      "iNeuron\n"
     ]
    }
   ],
   "source": [
    "X = 'iNeuron'\n",
    "def func():\n",
    "    print(X)\n",
    "func()"
   ]
  },
  {
   "cell_type": "markdown",
   "id": "131bf04d",
   "metadata": {},
   "source": [
    "    Since the variable 'X' is defined outside of the function, it can be accessed inside or outside of this function. Hence, we are able to print it in side the function solution : 'iNeuron'"
   ]
  },
  {
   "cell_type": "markdown",
   "id": "6662e829",
   "metadata": {},
   "source": [
    "***"
   ]
  },
  {
   "cell_type": "markdown",
   "id": "f2570e3b",
   "metadata": {},
   "source": [
    "**2. What is the result of the code, and explain?**\n",
    "\n",
    "    >>> X = 'iNeuron'\n",
    "    >>> def func():\n",
    "            X = 'NI!'\n",
    "\n",
    "    >>> func()\n",
    "    >>> print(X)"
   ]
  },
  {
   "cell_type": "code",
   "execution_count": 2,
   "id": "815ee182",
   "metadata": {},
   "outputs": [
    {
     "name": "stdout",
     "output_type": "stream",
     "text": [
      "iNeuron\n"
     ]
    }
   ],
   "source": [
    "X = 'iNeuron'\n",
    "def func():\n",
    "    X = 'NI!'\n",
    "\n",
    "func()\n",
    "print(X)"
   ]
  },
  {
   "cell_type": "markdown",
   "id": "7e785e62",
   "metadata": {},
   "source": [
    "    Though the variable 'X' is override inside the function, the scope ends within the function itself. That means, the override doesn't work here. Hence, when we try to print the function outside of the function, it prints the value as 'iNeuron'."
   ]
  },
  {
   "cell_type": "markdown",
   "id": "654c4115",
   "metadata": {},
   "source": [
    "***"
   ]
  },
  {
   "cell_type": "markdown",
   "id": "a053c34c",
   "metadata": {},
   "source": [
    "**3. What does this code print, and why?**\n",
    "\n",
    "    >>> X = 'iNeuron'\n",
    "    >>> def func():\n",
    "            X = 'NI'\n",
    "            print(X)\n",
    "\n",
    "    >>> func()\n",
    "    >>> print(X)"
   ]
  },
  {
   "cell_type": "code",
   "execution_count": 3,
   "id": "6b582bbd",
   "metadata": {},
   "outputs": [
    {
     "name": "stdout",
     "output_type": "stream",
     "text": [
      "NI!\n",
      "iNeuron\n"
     ]
    }
   ],
   "source": [
    "X = 'iNeuron'\n",
    "def func():\n",
    "    X = 'NI!'\n",
    "    print(X)\n",
    "\n",
    "func()\n",
    "print(X)"
   ]
  },
  {
   "cell_type": "markdown",
   "id": "5e80ac48",
   "metadata": {},
   "source": [
    "    1. The variable 'X' has been override and printed within the function. Hence the value 'NI!' has been displayed. However, the scope ends here itself which means the variable 'X' will not hold the same value 'NI!' outside of the function\n",
    "    2. Since the print function was issued outside of the function, it acts like a global variable and displayed 'iNeuron'."
   ]
  },
  {
   "cell_type": "markdown",
   "id": "01852126",
   "metadata": {},
   "source": [
    "***"
   ]
  },
  {
   "cell_type": "markdown",
   "id": "b103db3d",
   "metadata": {},
   "source": [
    "**4. What output does this code produce? Why?**\n",
    "\n",
    "    >>> X = 'iNeuron'\n",
    "    >>> def func():\n",
    "            global X\n",
    "            X = 'NI'\n",
    "\n",
    "    >>> func()\n",
    "    >>> print(X)"
   ]
  },
  {
   "cell_type": "code",
   "execution_count": 4,
   "id": "85160926",
   "metadata": {},
   "outputs": [
    {
     "name": "stdout",
     "output_type": "stream",
     "text": [
      "NI!\n",
      "NI!\n"
     ]
    }
   ],
   "source": [
    "X = 'iNeuron'\n",
    "def func():\n",
    "    global X\n",
    "    X = 'NI!'\n",
    "    print(X)\n",
    "\n",
    "func()\n",
    "print(X)"
   ]
  },
  {
   "cell_type": "markdown",
   "id": "0733e055",
   "metadata": {},
   "source": [
    "    During the initial assignment, the variable 'X' will hold the value as 'iNeuron'. However, the function 'func' has issued the global variable assignment which makes the variable 'X' as global variable. So any updates to this global variable will be reflected throughout the entire program. \n",
    "    Hence, the print statement inside and outside the function will have the same value 'NI!'."
   ]
  },
  {
   "cell_type": "markdown",
   "id": "08158435",
   "metadata": {},
   "source": [
    "***"
   ]
  },
  {
   "cell_type": "markdown",
   "id": "4dc183d6",
   "metadata": {},
   "source": [
    "**5. What about this code—what’s the output, and why?**\n",
    "\n",
    "    >>> X = 'iNeuron'\n",
    "    >>> def func():\n",
    "            X = 'NI'\n",
    "            def nested():\n",
    "                print(X)\n",
    "            nested()\n",
    "    >>> func()\n",
    "    >>> X"
   ]
  },
  {
   "cell_type": "code",
   "execution_count": 6,
   "id": "80fe7bf2",
   "metadata": {},
   "outputs": [
    {
     "name": "stdout",
     "output_type": "stream",
     "text": [
      "NI\n"
     ]
    },
    {
     "data": {
      "text/plain": [
       "'iNeuron'"
      ]
     },
     "execution_count": 6,
     "metadata": {},
     "output_type": "execute_result"
    }
   ],
   "source": [
    "X = 'iNeuron'\n",
    "def func():\n",
    "    X = 'NI'\n",
    "    def nested():\n",
    "        print(X)\n",
    "    nested()\n",
    "    \n",
    "func()\n",
    "X"
   ]
  },
  {
   "cell_type": "markdown",
   "id": "e4324e66",
   "metadata": {},
   "source": [
    "    The variable 'X' was override inside the function 'func' and has the value as 'NI!'. That means, the scope of this variable/value will remain same until the function ends. Since the function nested() was defined and variable 'X' was accessed within the 'func', the first print statement will issue 'NI!'.\n",
    "    \n",
    "    The second print statement was issued outside of 'func'. So it displays the value as 'iNeuron'."
   ]
  },
  {
   "cell_type": "markdown",
   "id": "d2340d5a",
   "metadata": {},
   "source": [
    "***"
   ]
  },
  {
   "cell_type": "markdown",
   "id": "b31c3e23",
   "metadata": {},
   "source": [
    "**6. How about this code: what is its output in Python 3, and explain?**\n",
    "\n",
    "    >>> def func():\n",
    "            X = 'NI'\n",
    "            def nested():\n",
    "                nonlocal X\n",
    "                X = 'Spam'\n",
    "            nested()\n",
    "            print(X)\n",
    "\n",
    "    >>> func()"
   ]
  },
  {
   "cell_type": "code",
   "execution_count": 7,
   "id": "e8eb8ff1",
   "metadata": {},
   "outputs": [
    {
     "name": "stdout",
     "output_type": "stream",
     "text": [
      "spam\n"
     ]
    }
   ],
   "source": [
    "def func():\n",
    "    X = 'NI'\n",
    "    def nested():\n",
    "        nonlocal X\n",
    "        X = 'spam'\n",
    "    nested()\n",
    "    print(X)\n",
    "\n",
    "func()"
   ]
  },
  {
   "cell_type": "markdown",
   "id": "1ae96f1f",
   "metadata": {},
   "source": [
    "    Nonlocal variables are used in nested functions whose local scope is not defined. \n",
    "    This means that the variable can be neither in the local nor the global scope. it print the updated value from nested \n",
    "    function"
   ]
  },
  {
   "cell_type": "markdown",
   "id": "d87a4f1c",
   "metadata": {},
   "source": [
    "***"
   ]
  }
 ],
 "metadata": {
  "kernelspec": {
   "display_name": "Python 3",
   "language": "python",
   "name": "python3"
  },
  "language_info": {
   "codemirror_mode": {
    "name": "ipython",
    "version": 3
   },
   "file_extension": ".py",
   "mimetype": "text/x-python",
   "name": "python",
   "nbconvert_exporter": "python",
   "pygments_lexer": "ipython3",
   "version": "3.8.8"
  }
 },
 "nbformat": 4,
 "nbformat_minor": 5
}
