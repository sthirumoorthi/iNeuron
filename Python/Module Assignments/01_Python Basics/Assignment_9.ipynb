{
 "cells": [
  {
   "cell_type": "markdown",
   "id": "4915ba56",
   "metadata": {},
   "source": [
    "**1. To what does a relative path refer?**"
   ]
  },
  {
   "cell_type": "markdown",
   "id": "83a27026",
   "metadata": {},
   "source": [
    "    The relative path is the path to a file with respect to the current working directory (PWD). \n",
    "         PWD + relative path = absolute path\n",
    "    \n",
    "    For example: Absolute path: C:/users/admin/docs/stuff.txt. \n",
    "    If the PWD is C:/users/admin/ , then the relative path to stuff.txt would be: 'docs/stuff.txt' "
   ]
  },
  {
   "cell_type": "markdown",
   "id": "6662e829",
   "metadata": {},
   "source": [
    "***"
   ]
  },
  {
   "cell_type": "markdown",
   "id": "87d0fe22",
   "metadata": {},
   "source": [
    "**2. What does an absolute path start with your operating system?**"
   ]
  },
  {
   "cell_type": "markdown",
   "id": "35aa1e42",
   "metadata": {},
   "source": [
    "    Absolute paths start with the root folder ( / or C:\\\\ )"
   ]
  },
  {
   "cell_type": "markdown",
   "id": "654c4115",
   "metadata": {},
   "source": [
    "***"
   ]
  },
  {
   "cell_type": "markdown",
   "id": "f1c3b51b",
   "metadata": {},
   "source": [
    "**3. What do the functions os.getcwd() and os.chdir() do?**"
   ]
  },
  {
   "cell_type": "markdown",
   "id": "1a33671b",
   "metadata": {},
   "source": [
    "    os.getcwd() function returns the current working directory. \n",
    "    os.chdir() function changes the current working directory"
   ]
  },
  {
   "cell_type": "markdown",
   "id": "01852126",
   "metadata": {},
   "source": [
    "***"
   ]
  },
  {
   "cell_type": "markdown",
   "id": "110620cc",
   "metadata": {},
   "source": [
    "**4. What are the . and .. folders?**"
   ]
  },
  {
   "cell_type": "markdown",
   "id": "051b7d8b",
   "metadata": {},
   "source": [
    "    . folder refers to the current folder\n",
    "    .. folder refers to the parent folder"
   ]
  },
  {
   "cell_type": "markdown",
   "id": "08158435",
   "metadata": {},
   "source": [
    "***"
   ]
  },
  {
   "cell_type": "markdown",
   "id": "3ba431f3",
   "metadata": {},
   "source": [
    "**5. In C:\\bacon\\eggs\\spam.txt, which part is the dir name, and which part is the base name?**"
   ]
  },
  {
   "cell_type": "markdown",
   "id": "aebc58d6",
   "metadata": {},
   "source": [
    "    dir or directory name is C:\\bacon\\eggs\n",
    "    Base or file name is spam.txt"
   ]
  },
  {
   "cell_type": "markdown",
   "id": "d2340d5a",
   "metadata": {},
   "source": [
    "***"
   ]
  },
  {
   "cell_type": "markdown",
   "id": "96d2fdee",
   "metadata": {},
   "source": [
    "**6. What are the three “mode” arguments that can be passed to the open() function?**"
   ]
  },
  {
   "cell_type": "markdown",
   "id": "fdfab9f9",
   "metadata": {},
   "source": [
    "    We usually pass any one of the below \"mode\" arguments in the Open function.\n",
    "        Read mode (r)\n",
    "        Write mode (w)\n",
    "        Append mode (a)\n",
    "        \n",
    "    We will be using binary modes while issuing the open function for PDF. For example 'rb' is for read mode and 'wb' is for write mode."
   ]
  },
  {
   "cell_type": "markdown",
   "id": "327741db",
   "metadata": {},
   "source": [
    "***"
   ]
  },
  {
   "cell_type": "markdown",
   "id": "e805a4e5",
   "metadata": {},
   "source": [
    "**7. What happens if an existing file is opened in write mode?**"
   ]
  },
  {
   "cell_type": "markdown",
   "id": "a4bedad9",
   "metadata": {},
   "source": [
    "    If the existing file is openned in write mode (w), then the content will be erased and overwritten by the new content"
   ]
  },
  {
   "cell_type": "markdown",
   "id": "855dec58",
   "metadata": {},
   "source": [
    "***"
   ]
  },
  {
   "cell_type": "markdown",
   "id": "c3de9c75",
   "metadata": {},
   "source": [
    "**8. How do you tell the difference between read() and readlines()?**"
   ]
  },
  {
   "cell_type": "markdown",
   "id": "b2375e07",
   "metadata": {},
   "source": [
    "    read() method returns the entire content of the file as a single string value.\n",
    "    readline() method returns a list containing each line in the file as a list item."
   ]
  },
  {
   "cell_type": "markdown",
   "id": "d533da2c",
   "metadata": {},
   "source": [
    "***"
   ]
  },
  {
   "cell_type": "markdown",
   "id": "28e93d6c",
   "metadata": {},
   "source": [
    "**9. What data structure does a shelf value resemble?**"
   ]
  },
  {
   "cell_type": "markdown",
   "id": "7b8b559f",
   "metadata": {},
   "source": [
    "    A shelf value resembles a dictionary value; it has keys and values, along with keys() and values() methods that work similarly to the dictionary methods of the same names"
   ]
  },
  {
   "cell_type": "markdown",
   "id": "a98ea0db",
   "metadata": {},
   "source": [
    "***"
   ]
  }
 ],
 "metadata": {
  "kernelspec": {
   "display_name": "Python 3",
   "language": "python",
   "name": "python3"
  },
  "language_info": {
   "codemirror_mode": {
    "name": "ipython",
    "version": 3
   },
   "file_extension": ".py",
   "mimetype": "text/x-python",
   "name": "python",
   "nbconvert_exporter": "python",
   "pygments_lexer": "ipython3",
   "version": "3.8.8"
  }
 },
 "nbformat": 4,
 "nbformat_minor": 5
}
