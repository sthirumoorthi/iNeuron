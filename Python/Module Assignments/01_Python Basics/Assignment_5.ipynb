{
 "cells": [
  {
   "cell_type": "markdown",
   "id": "a7fdb4c0",
   "metadata": {},
   "source": [
    "**1. What does an empty dictionary's code look like?**"
   ]
  },
  {
   "cell_type": "markdown",
   "id": "586d9613",
   "metadata": {},
   "source": [
    "    Empty dictionary is denoted by {}"
   ]
  },
  {
   "cell_type": "markdown",
   "id": "1df3c8e2",
   "metadata": {},
   "source": [
    "***"
   ]
  },
  {
   "cell_type": "markdown",
   "id": "e5f27e1b",
   "metadata": {},
   "source": [
    "**2. What is the value of a dictionary value with the key 'foo' and the value 42?**"
   ]
  },
  {
   "cell_type": "markdown",
   "id": "6a7456f0",
   "metadata": {},
   "source": [
    "    It will be denoted as {key:value} which means {'foo':42}"
   ]
  },
  {
   "cell_type": "markdown",
   "id": "487c21fa",
   "metadata": {},
   "source": [
    "***"
   ]
  },
  {
   "cell_type": "markdown",
   "id": "d5979387",
   "metadata": {},
   "source": [
    "**3. What is the most significant distinction between a dictionary and a list?**"
   ]
  },
  {
   "cell_type": "markdown",
   "id": "9f29d712",
   "metadata": {},
   "source": [
    "    - A list is an ordered sequence of objects, whereas dictionaries are unordered sets\n",
    "    - The items in dictionaries are accessed via keys and not via their position.\n",
    "    - List is created using [] while the dictionary is being created using { } \n",
    "    - The indices of list are integers starting from 0, while the keys of dictionary can be of any type."
   ]
  },
  {
   "cell_type": "markdown",
   "id": "119e562d",
   "metadata": {},
   "source": [
    "***"
   ]
  },
  {
   "cell_type": "markdown",
   "id": "75ab4542",
   "metadata": {},
   "source": [
    "**4. What happens if you try to access spam['foo'] if spam is {'bar': 100}?**"
   ]
  },
  {
   "cell_type": "markdown",
   "id": "bac8b680",
   "metadata": {},
   "source": [
    "    The key 'foo' is not defined in the dictionary 'spam'. So it will generate the \"KeyError\""
   ]
  },
  {
   "cell_type": "markdown",
   "id": "027b4f3a",
   "metadata": {},
   "source": [
    "***"
   ]
  },
  {
   "cell_type": "markdown",
   "id": "43406c00",
   "metadata": {},
   "source": [
    "**5. If a dictionary is stored in spam, what is the difference between the expressions 'cat' in spam and 'cat' in spam.keys()?**"
   ]
  },
  {
   "cell_type": "markdown",
   "id": "6e22cb68",
   "metadata": {},
   "source": [
    "    Both the expressions would give the same result. It checks whether the key 'cat' in available in the dict 'spam'"
   ]
  },
  {
   "cell_type": "code",
   "execution_count": 4,
   "id": "897c7ad2",
   "metadata": {},
   "outputs": [
    {
     "name": "stdout",
     "output_type": "stream",
     "text": [
      "True\n",
      "True\n"
     ]
    }
   ],
   "source": [
    "spam = {'cat': 36}\n",
    "print('cat' in spam)\n",
    "print('cat' in spam.keys())"
   ]
  },
  {
   "cell_type": "markdown",
   "id": "11c903aa",
   "metadata": {},
   "source": [
    "***"
   ]
  },
  {
   "cell_type": "markdown",
   "id": "e8b16d0b",
   "metadata": {},
   "source": [
    "**6. If a dictionary is stored in spam, what is the difference between the expressions 'cat' in spam and 'cat' in spam.values()?**"
   ]
  },
  {
   "cell_type": "markdown",
   "id": "b8d965e2",
   "metadata": {},
   "source": [
    "    'cat' in spam - checks whether the key 'cat' is available in the dict 'spam'\n",
    "    'cat' in spam.values() - checks whether the value 'cat' is available in the dict 'spam'"
   ]
  },
  {
   "cell_type": "code",
   "execution_count": 5,
   "id": "52edf1b4",
   "metadata": {},
   "outputs": [
    {
     "name": "stdout",
     "output_type": "stream",
     "text": [
      "True\n",
      "False\n"
     ]
    }
   ],
   "source": [
    "spam = {'cat': 36}\n",
    "print('cat' in spam)\n",
    "print('cat' in spam.values())"
   ]
  },
  {
   "cell_type": "markdown",
   "id": "a4b77e9b",
   "metadata": {},
   "source": [
    "***"
   ]
  },
  {
   "cell_type": "markdown",
   "id": "9d016337",
   "metadata": {},
   "source": [
    "**7. What is a shortcut for the following code?**\n",
    "\n",
    "    if 'color' not in spam:\n",
    "        spam['color'] = 'black'"
   ]
  },
  {
   "cell_type": "markdown",
   "id": "0125a2d1",
   "metadata": {},
   "source": [
    "    spam.setdefault('color', 'black')"
   ]
  },
  {
   "cell_type": "markdown",
   "id": "cc151dc9",
   "metadata": {},
   "source": [
    "***"
   ]
  },
  {
   "cell_type": "markdown",
   "id": "91d8d597",
   "metadata": {},
   "source": [
    "**8. How do you \"pretty print\" dictionary values using which module and function?**"
   ]
  },
  {
   "cell_type": "markdown",
   "id": "d5f8e024",
   "metadata": {},
   "source": [
    "We will have to use below module and function for the pretty print the dictionary in python.\n",
    "\n",
    "    import pprint\n",
    "    pprint.pprint()"
   ]
  },
  {
   "cell_type": "code",
   "execution_count": 9,
   "id": "320a528d",
   "metadata": {},
   "outputs": [
    {
     "name": "stdout",
     "output_type": "stream",
     "text": [
      "[['spam', 'eggs', 'lumberjack', 'knights', 'ni'],\n",
      " 'spam',\n",
      " 'eggs',\n",
      " 'lumberjack',\n",
      " 'knights',\n",
      " 'ni']\n"
     ]
    }
   ],
   "source": [
    "import pprint\n",
    "stuff = ['spam', 'eggs', 'lumberjack', 'knights', 'ni']\n",
    "stuff.insert(0, stuff[:])\n",
    "pprint.pprint(stuff)"
   ]
  },
  {
   "cell_type": "markdown",
   "id": "722166fa",
   "metadata": {},
   "source": [
    "***"
   ]
  }
 ],
 "metadata": {
  "kernelspec": {
   "display_name": "Python 3",
   "language": "python",
   "name": "python3"
  },
  "language_info": {
   "codemirror_mode": {
    "name": "ipython",
    "version": 3
   },
   "file_extension": ".py",
   "mimetype": "text/x-python",
   "name": "python",
   "nbconvert_exporter": "python",
   "pygments_lexer": "ipython3",
   "version": "3.8.8"
  }
 },
 "nbformat": 4,
 "nbformat_minor": 5
}
