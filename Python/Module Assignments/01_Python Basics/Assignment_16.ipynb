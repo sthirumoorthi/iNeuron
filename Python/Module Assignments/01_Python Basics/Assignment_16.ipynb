{
 "cells": [
  {
   "cell_type": "markdown",
   "id": "5fde4e1c",
   "metadata": {},
   "source": [
    "**1. Create a list called years_list, starting with the year of your birth, and each year thereafter until the year of your fifth birthday.** \n",
    "        \n",
    "        For example, if you were born in 1980. the list would be years_list = [1980, 1981, 1982, 1983, 1984, 1985]."
   ]
  },
  {
   "cell_type": "code",
   "execution_count": 1,
   "id": "33023a1c",
   "metadata": {},
   "outputs": [
    {
     "name": "stdout",
     "output_type": "stream",
     "text": [
      "[1987, 1988, 1989, 1990, 1991, 1992]\n"
     ]
    }
   ],
   "source": [
    "years_list = [year for year in range(1987, 1987+6)]\n",
    "print(years_list)"
   ]
  },
  {
   "cell_type": "markdown",
   "id": "6662e829",
   "metadata": {},
   "source": [
    "***"
   ]
  },
  {
   "cell_type": "markdown",
   "id": "f2570e3b",
   "metadata": {},
   "source": [
    "**2. In which year in years_list was your third birthday? Remember, you were 0 years of age for your first year.**"
   ]
  },
  {
   "cell_type": "code",
   "execution_count": 2,
   "id": "0638fe93",
   "metadata": {},
   "outputs": [
    {
     "data": {
      "text/plain": [
       "1990"
      ]
     },
     "execution_count": 2,
     "metadata": {},
     "output_type": "execute_result"
    }
   ],
   "source": [
    "years_list[3]"
   ]
  },
  {
   "cell_type": "markdown",
   "id": "654c4115",
   "metadata": {},
   "source": [
    "***"
   ]
  },
  {
   "cell_type": "markdown",
   "id": "a053c34c",
   "metadata": {},
   "source": [
    "**3.In the years list, which year were you the oldest?**"
   ]
  },
  {
   "cell_type": "code",
   "execution_count": 3,
   "id": "43f80f41",
   "metadata": {},
   "outputs": [
    {
     "data": {
      "text/plain": [
       "1992"
      ]
     },
     "execution_count": 3,
     "metadata": {},
     "output_type": "execute_result"
    }
   ],
   "source": [
    "max(years_list)"
   ]
  },
  {
   "cell_type": "markdown",
   "id": "01852126",
   "metadata": {},
   "source": [
    "***"
   ]
  },
  {
   "cell_type": "markdown",
   "id": "b103db3d",
   "metadata": {},
   "source": [
    "**4. Make a list called things with these three strings as elements: &quot;mozzarella&quot;, &quot;cinderella&quot;, &quot;salmonella&quot;.**"
   ]
  },
  {
   "cell_type": "code",
   "execution_count": 4,
   "id": "635dab9c",
   "metadata": {},
   "outputs": [],
   "source": [
    "things = [\"mozzarella\", \"cinderella\", \"salmonella\"]"
   ]
  },
  {
   "cell_type": "markdown",
   "id": "08158435",
   "metadata": {},
   "source": [
    "***"
   ]
  },
  {
   "cell_type": "markdown",
   "id": "4dc183d6",
   "metadata": {},
   "source": [
    "**5. Capitalize the element in things that refers to a person and then print the list. Did it change the element in the list?**"
   ]
  },
  {
   "cell_type": "code",
   "execution_count": 5,
   "id": "c3f0aca2",
   "metadata": {},
   "outputs": [
    {
     "name": "stdout",
     "output_type": "stream",
     "text": [
      "Mozzarella\n",
      "Cinderella\n",
      "Salmonella\n",
      "['mozzarella', 'cinderella', 'salmonella']\n"
     ]
    }
   ],
   "source": [
    "for i in things:\n",
    "    print(i.capitalize())\n",
    "print(things)"
   ]
  },
  {
   "cell_type": "code",
   "execution_count": 6,
   "id": "44c11f6f",
   "metadata": {},
   "outputs": [
    {
     "name": "stdout",
     "output_type": "stream",
     "text": [
      "MOZZARELLA\n",
      "CINDERELLA\n",
      "SALMONELLA\n"
     ]
    }
   ],
   "source": [
    "for i in things:\n",
    "    print(i.upper())"
   ]
  },
  {
   "cell_type": "markdown",
   "id": "601c6673",
   "metadata": {},
   "source": [
    "    This doesn't affect the original list. We just capitalize the elements in the list and print them"
   ]
  },
  {
   "cell_type": "markdown",
   "id": "d2340d5a",
   "metadata": {},
   "source": [
    "***"
   ]
  },
  {
   "cell_type": "markdown",
   "id": "b31c3e23",
   "metadata": {},
   "source": [
    "**6. Make a surprise list with the elements &quot;Groucho,&quot; &quot;Chico,&quot; and &quot;Harpo.&quot;**"
   ]
  },
  {
   "cell_type": "code",
   "execution_count": 7,
   "id": "e62a7571",
   "metadata": {},
   "outputs": [],
   "source": [
    "surprise = ['Groucho', 'Chico', 'Harpo']"
   ]
  },
  {
   "cell_type": "markdown",
   "id": "327741db",
   "metadata": {},
   "source": [
    "***"
   ]
  },
  {
   "cell_type": "markdown",
   "id": "80e366db",
   "metadata": {},
   "source": [
    "**7. Lowercase the last element of the surprise list, reverse it, and then capitalize it.**"
   ]
  },
  {
   "cell_type": "code",
   "execution_count": 9,
   "id": "04898e1f",
   "metadata": {},
   "outputs": [
    {
     "name": "stdout",
     "output_type": "stream",
     "text": [
      "The last element of the list is : harpo\n",
      "Reversal of the last element: oprah\n",
      "Captitalize the last element: Harpo\n"
     ]
    }
   ],
   "source": [
    "print(f\"The last element of the list is : {surprise[-1].lower()}\")\n",
    "print(f\"Reversal of the last element: {s[::-1]}\")\n",
    "print(f\"Captitalize the last element: {s.capitalize()}\")"
   ]
  },
  {
   "cell_type": "markdown",
   "id": "855dec58",
   "metadata": {},
   "source": [
    "***"
   ]
  },
  {
   "cell_type": "markdown",
   "id": "aa3bebae",
   "metadata": {},
   "source": [
    "**8. Make an English-to-French dictionary called e2f and print it. Here are your starter words: dog is chien, cat is chat, and walrus is morse.**"
   ]
  },
  {
   "cell_type": "code",
   "execution_count": 10,
   "id": "d44b1f18",
   "metadata": {},
   "outputs": [
    {
     "name": "stdout",
     "output_type": "stream",
     "text": [
      "{'dog': 'chien', 'cat': 'chat', 'walrus': 'morse'}\n"
     ]
    }
   ],
   "source": [
    "e2f = {'dog':'chien', 'cat':'chat', 'walrus':'morse'}\n",
    "\n",
    "print(e2f)"
   ]
  },
  {
   "cell_type": "markdown",
   "id": "f4fa1110",
   "metadata": {},
   "source": [
    "***"
   ]
  },
  {
   "cell_type": "markdown",
   "id": "7533173c",
   "metadata": {},
   "source": [
    "**9. Write the French word for walrus in your three-word dictionary e2f.**"
   ]
  },
  {
   "cell_type": "code",
   "execution_count": 11,
   "id": "20d61b54",
   "metadata": {},
   "outputs": [
    {
     "data": {
      "text/plain": [
       "'morse'"
      ]
     },
     "execution_count": 11,
     "metadata": {},
     "output_type": "execute_result"
    }
   ],
   "source": [
    "e2f['walrus']"
   ]
  },
  {
   "cell_type": "markdown",
   "id": "e70c8240",
   "metadata": {},
   "source": [
    "***"
   ]
  },
  {
   "cell_type": "markdown",
   "id": "5c93a793",
   "metadata": {},
   "source": [
    "**10. Make a French-to-English dictionary called f2e from e2f. Use the items method.**"
   ]
  },
  {
   "cell_type": "code",
   "execution_count": 12,
   "id": "b59695c4",
   "metadata": {},
   "outputs": [
    {
     "name": "stdout",
     "output_type": "stream",
     "text": [
      "{'chien': 'dog', 'chat': 'cat', 'morse': 'walrus'}\n"
     ]
    }
   ],
   "source": [
    "f2e = dict((key,value) for value,key in e2f.items())\n",
    "print(f2e)"
   ]
  },
  {
   "cell_type": "markdown",
   "id": "d533da2c",
   "metadata": {},
   "source": [
    "***"
   ]
  },
  {
   "cell_type": "markdown",
   "id": "39c85334",
   "metadata": {},
   "source": [
    "**11. Print the English version of the French word chien using f2e.**"
   ]
  },
  {
   "cell_type": "code",
   "execution_count": 13,
   "id": "4d7d4f29",
   "metadata": {},
   "outputs": [
    {
     "data": {
      "text/plain": [
       "'dog'"
      ]
     },
     "execution_count": 13,
     "metadata": {},
     "output_type": "execute_result"
    }
   ],
   "source": [
    "f2e['chien']"
   ]
  },
  {
   "cell_type": "markdown",
   "id": "f089b4b3",
   "metadata": {},
   "source": [
    "***"
   ]
  },
  {
   "cell_type": "markdown",
   "id": "91e8c637",
   "metadata": {},
   "source": [
    "**12. Make and print a set of English words from the keys in e2f.**"
   ]
  },
  {
   "cell_type": "code",
   "execution_count": 14,
   "id": "9a313065",
   "metadata": {},
   "outputs": [
    {
     "data": {
      "text/plain": [
       "dict_keys(['dog', 'cat', 'walrus'])"
      ]
     },
     "execution_count": 14,
     "metadata": {},
     "output_type": "execute_result"
    }
   ],
   "source": [
    "e2f.keys()"
   ]
  },
  {
   "cell_type": "markdown",
   "id": "8b361190",
   "metadata": {},
   "source": [
    "***"
   ]
  },
  {
   "cell_type": "markdown",
   "id": "70c8b75a",
   "metadata": {},
   "source": [
    "**13. Make a multilevel dictionary called life. Use these strings for the topmost keys: &#39;animals&#39;, &#39;plants&#39;,\n",
    "and &#39;other&#39;. Make the &#39;animals&#39; key refer to another dictionary with the keys &#39;cats&#39;, &#39;octopi&#39;, and &#39;emus&#39;. Make the &#39;cats&#39; key refer to a list of strings with the values &#39;Henri&#39;, &#39;Grumpy&#39;, and &#39;Lucy&#39;. Make all the other keys refer to empty dictionaries.**"
   ]
  },
  {
   "cell_type": "code",
   "execution_count": 15,
   "id": "f60a761e",
   "metadata": {},
   "outputs": [],
   "source": [
    "animal ={'cats':['Henri','Grumpy','Lucy'],\n",
    "         'octopi':'',\n",
    "         'emus':''\n",
    "        }\n",
    "\n",
    "life ={'animal':animal,\n",
    "       'plants':'',\n",
    "       'other':''\n",
    "      }"
   ]
  },
  {
   "cell_type": "code",
   "execution_count": 16,
   "id": "d1d5dc92",
   "metadata": {},
   "outputs": [
    {
     "name": "stdout",
     "output_type": "stream",
     "text": [
      "{'animal': {'cats': ['Henri', 'Grumpy', 'Lucy'], 'octopi': '', 'emus': ''}, 'plants': '', 'other': ''}\n"
     ]
    }
   ],
   "source": [
    "print(life)"
   ]
  },
  {
   "cell_type": "markdown",
   "id": "4ae8e372",
   "metadata": {},
   "source": [
    "***"
   ]
  },
  {
   "cell_type": "markdown",
   "id": "25aee0c8",
   "metadata": {},
   "source": [
    "**14. Print the top-level keys of life.**"
   ]
  },
  {
   "cell_type": "code",
   "execution_count": 17,
   "id": "c01c07f3",
   "metadata": {},
   "outputs": [
    {
     "data": {
      "text/plain": [
       "dict_keys(['animal', 'plants', 'other'])"
      ]
     },
     "execution_count": 17,
     "metadata": {},
     "output_type": "execute_result"
    }
   ],
   "source": [
    "life.keys()"
   ]
  },
  {
   "cell_type": "markdown",
   "id": "0920e978",
   "metadata": {},
   "source": [
    "***"
   ]
  },
  {
   "cell_type": "markdown",
   "id": "d268cac5",
   "metadata": {},
   "source": [
    "**15. Print the keys for life[&#39;animals&#39;].**"
   ]
  },
  {
   "cell_type": "code",
   "execution_count": 18,
   "id": "cfd889f4",
   "metadata": {},
   "outputs": [
    {
     "data": {
      "text/plain": [
       "dict_keys(['cats', 'octopi', 'emus'])"
      ]
     },
     "execution_count": 18,
     "metadata": {},
     "output_type": "execute_result"
    }
   ],
   "source": [
    "life['animal'].keys()"
   ]
  },
  {
   "cell_type": "markdown",
   "id": "eb1e1c26",
   "metadata": {},
   "source": [
    "***"
   ]
  },
  {
   "cell_type": "markdown",
   "id": "fdbd3387",
   "metadata": {},
   "source": [
    "**16. Print the values for life[&#39;animals&#39;][&#39;cats&#39;]**"
   ]
  },
  {
   "cell_type": "code",
   "execution_count": 19,
   "id": "0f09c842",
   "metadata": {},
   "outputs": [
    {
     "data": {
      "text/plain": [
       "['Henri', 'Grumpy', 'Lucy']"
      ]
     },
     "execution_count": 19,
     "metadata": {},
     "output_type": "execute_result"
    }
   ],
   "source": [
    "life['animal']['cats']"
   ]
  },
  {
   "cell_type": "markdown",
   "id": "91ee930b",
   "metadata": {},
   "source": [
    "***"
   ]
  }
 ],
 "metadata": {
  "kernelspec": {
   "display_name": "Python 3",
   "language": "python",
   "name": "python3"
  },
  "language_info": {
   "codemirror_mode": {
    "name": "ipython",
    "version": 3
   },
   "file_extension": ".py",
   "mimetype": "text/x-python",
   "name": "python",
   "nbconvert_exporter": "python",
   "pygments_lexer": "ipython3",
   "version": "3.8.8"
  }
 },
 "nbformat": 4,
 "nbformat_minor": 5
}
