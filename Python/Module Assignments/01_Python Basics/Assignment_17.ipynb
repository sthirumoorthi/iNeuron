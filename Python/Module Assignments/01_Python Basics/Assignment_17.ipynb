{
 "cells": [
  {
   "cell_type": "markdown",
   "id": "5fde4e1c",
   "metadata": {},
   "source": [
    "**1. Assign the value 7 to the variable guess_me. Then, write the conditional tests (if, else, and elif) to print the string &#39;too low&#39; if guess_me is less than 7, &#39;too high&#39; if greater than 7, and &#39;just right&#39; if equal to 7.**"
   ]
  },
  {
   "cell_type": "code",
   "execution_count": 1,
   "id": "bcc620e0",
   "metadata": {},
   "outputs": [
    {
     "name": "stdout",
     "output_type": "stream",
     "text": [
      "Just right\n"
     ]
    }
   ],
   "source": [
    "guess_me = 7\n",
    "\n",
    "if guess_me < 7:\n",
    "    print('too low')\n",
    "elif guess_me > 7:\n",
    "    print('too high')\n",
    "else:\n",
    "    print('Just right')"
   ]
  },
  {
   "cell_type": "markdown",
   "id": "6662e829",
   "metadata": {},
   "source": [
    "***"
   ]
  },
  {
   "cell_type": "markdown",
   "id": "f2570e3b",
   "metadata": {},
   "source": [
    "**2. Assign the value 7 to the variable guess_me and the value 1 to the variable start. Write a while loop that compares start with guess_me. Print too low if start is less than guess me. If start equals guess_me, print &#39;found it!&#39; and exit the loop. If start is greater than guess_me, print &#39;oops&#39; and exit the loop. Increment start at the end of the loop.**"
   ]
  },
  {
   "cell_type": "code",
   "execution_count": 2,
   "id": "45a4ee0e",
   "metadata": {},
   "outputs": [
    {
     "name": "stdout",
     "output_type": "stream",
     "text": [
      "too low\n",
      "too low\n",
      "too low\n",
      "too low\n",
      "too low\n",
      "too low\n",
      "found it\n"
     ]
    }
   ],
   "source": [
    "guess_me = 7\n",
    "start =1\n",
    "while True:\n",
    "    if start < guess_me:\n",
    "        print ('too low')\n",
    "    elif start == guess_me:\n",
    "        print('found it')\n",
    "        break\n",
    "    else:\n",
    "        print ('oops')\n",
    "        break\n",
    "    start += 1"
   ]
  },
  {
   "cell_type": "markdown",
   "id": "654c4115",
   "metadata": {},
   "source": [
    "***"
   ]
  },
  {
   "cell_type": "markdown",
   "id": "a053c34c",
   "metadata": {},
   "source": [
    "**3. Print the following values of the list [3, 2, 1, 0] using a for loop.**"
   ]
  },
  {
   "cell_type": "code",
   "execution_count": 3,
   "id": "5afdd71e",
   "metadata": {},
   "outputs": [
    {
     "name": "stdout",
     "output_type": "stream",
     "text": [
      "3\n",
      "2\n",
      "1\n",
      "0\n"
     ]
    }
   ],
   "source": [
    "my_list = [3, 2, 1, 0]\n",
    "for item in my_list:\n",
    "    print(item)"
   ]
  },
  {
   "cell_type": "markdown",
   "id": "01852126",
   "metadata": {},
   "source": [
    "***"
   ]
  },
  {
   "cell_type": "markdown",
   "id": "b103db3d",
   "metadata": {},
   "source": [
    "**4. Use a list comprehension to make a list of the even numbers in range(10)**"
   ]
  },
  {
   "cell_type": "code",
   "execution_count": 4,
   "id": "9fc63fe4",
   "metadata": {},
   "outputs": [
    {
     "name": "stdout",
     "output_type": "stream",
     "text": [
      "[2, 4, 6, 8]\n"
     ]
    }
   ],
   "source": [
    "even_list = [i for i in range(1,10) if i%2 ==0]\n",
    "print(even_list)"
   ]
  },
  {
   "cell_type": "markdown",
   "id": "08158435",
   "metadata": {},
   "source": [
    "***"
   ]
  },
  {
   "cell_type": "markdown",
   "id": "4dc183d6",
   "metadata": {},
   "source": [
    "**5. Use a dictionary comprehension to create the dictionary squares. Use range(10) to return the keys, and use the square of each key as its value.**"
   ]
  },
  {
   "cell_type": "code",
   "execution_count": 5,
   "id": "c892e705",
   "metadata": {},
   "outputs": [
    {
     "name": "stdout",
     "output_type": "stream",
     "text": [
      "{0: 0, 1: 1, 2: 4, 3: 9, 4: 16, 5: 25, 6: 36, 7: 49, 8: 64, 9: 81}\n"
     ]
    }
   ],
   "source": [
    "square_dict = {x:x**2 for x in range(10)}\n",
    "print(square_dict)"
   ]
  },
  {
   "cell_type": "markdown",
   "id": "d2340d5a",
   "metadata": {},
   "source": [
    "***"
   ]
  },
  {
   "cell_type": "markdown",
   "id": "b31c3e23",
   "metadata": {},
   "source": [
    "**6. Construct the set odd from the odd numbers in the range using a set comprehension (10).**"
   ]
  },
  {
   "cell_type": "code",
   "execution_count": 6,
   "id": "8457cc97",
   "metadata": {},
   "outputs": [
    {
     "name": "stdout",
     "output_type": "stream",
     "text": [
      "{1, 3, 5, 7, 9}\n"
     ]
    }
   ],
   "source": [
    "square_set = {x for x in range(10) if x%2 !=0}\n",
    "print(square_set)"
   ]
  },
  {
   "cell_type": "markdown",
   "id": "327741db",
   "metadata": {},
   "source": [
    "***"
   ]
  },
  {
   "cell_type": "markdown",
   "id": "80e366db",
   "metadata": {},
   "source": [
    "**7. Use a generator comprehension to return the string &#39;Got &#39; and a number for the numbers in range(10). Iterate through this by using a for loop.**"
   ]
  },
  {
   "cell_type": "code",
   "execution_count": 9,
   "id": "6e62680d",
   "metadata": {},
   "outputs": [
    {
     "name": "stdout",
     "output_type": "stream",
     "text": [
      "('Got', 0)\n",
      "('Got', 1)\n",
      "('Got', 2)\n",
      "('Got', 3)\n",
      "('Got', 4)\n",
      "('Got', 5)\n",
      "('Got', 6)\n",
      "('Got', 7)\n",
      "('Got', 8)\n",
      "('Got', 9)\n"
     ]
    }
   ],
   "source": [
    "generator = (('Got',x) for x in range(10))\n",
    "for i in generator:\n",
    "    print(i)"
   ]
  },
  {
   "cell_type": "markdown",
   "id": "855dec58",
   "metadata": {},
   "source": [
    "***"
   ]
  },
  {
   "cell_type": "markdown",
   "id": "aa3bebae",
   "metadata": {},
   "source": [
    "**8. Define a function called good that returns the list [&#39;Harry&#39;, &#39;Ron&#39;, &#39;Hermione&#39;].**"
   ]
  },
  {
   "cell_type": "code",
   "execution_count": 10,
   "id": "35d0e4f7",
   "metadata": {},
   "outputs": [
    {
     "data": {
      "text/plain": [
       "['Harry', 'Ron', 'Hermione']"
      ]
     },
     "execution_count": 10,
     "metadata": {},
     "output_type": "execute_result"
    }
   ],
   "source": [
    "def good():\n",
    "    \"\"\"\n",
    "    This function returns a list with predefined string values.\n",
    "    \"\"\"\n",
    "    return ['Harry','Ron','Hermione']\n",
    "\n",
    "\n",
    "good()"
   ]
  },
  {
   "cell_type": "markdown",
   "id": "f4fa1110",
   "metadata": {},
   "source": [
    "***"
   ]
  },
  {
   "cell_type": "markdown",
   "id": "7533173c",
   "metadata": {},
   "source": [
    "**9. Define a generator function called get_odds that returns the odd numbers from range(10). Use a for loop to find and print the third value returned.**"
   ]
  },
  {
   "cell_type": "code",
   "execution_count": 11,
   "id": "697a0ce7",
   "metadata": {},
   "outputs": [
    {
     "name": "stdout",
     "output_type": "stream",
     "text": [
      "5\n"
     ]
    }
   ],
   "source": [
    "def get_odds():\n",
    "    a = (x for x in range(10) if x%2 !=0 )\n",
    "    lst=[]\n",
    "    for i in a:\n",
    "        lst.append(i)\n",
    "    print(lst[2])\n",
    "\n",
    "get_odds()"
   ]
  },
  {
   "cell_type": "markdown",
   "id": "e70c8240",
   "metadata": {},
   "source": [
    "***"
   ]
  },
  {
   "cell_type": "markdown",
   "id": "5c93a793",
   "metadata": {},
   "source": [
    "**10. Define an exception called OopsException. Raise this exception to see what happens. Then write the code to catch this exception and print &#39;Caught an oops&#39;.**"
   ]
  },
  {
   "cell_type": "code",
   "execution_count": 31,
   "id": "5497885d",
   "metadata": {},
   "outputs": [],
   "source": [
    "class OopsException(RuntimeError):\n",
    "    def __init__(self, m):\n",
    "        self.message = m\n",
    "    def __str__(self):\n",
    "        return self.message"
   ]
  },
  {
   "cell_type": "code",
   "execution_count": 35,
   "id": "adf6f058",
   "metadata": {},
   "outputs": [
    {
     "name": "stdout",
     "output_type": "stream",
     "text": [
      "Caught an oops. \n",
      "Age must be positive or zero.\n"
     ]
    }
   ],
   "source": [
    "class Person:\n",
    "    def __init__(self, name, age):\n",
    "        self.name = name\n",
    "        self.age = age\n",
    "    def show_details(self):\n",
    "        try:\n",
    "            if (self.age < 0):\n",
    "                raise OopsException(\"Age must be positive or zero.\")\n",
    "        except OopsException as err:\n",
    "            print(f\"Caught an oops. \\n{err}\")\n",
    "        except Exception as err1:\n",
    "            print(err1)\n",
    "\n",
    "person1 = Person(\"Thiru\", -2)\n",
    "person1.show_details()"
   ]
  },
  {
   "cell_type": "markdown",
   "id": "d533da2c",
   "metadata": {},
   "source": [
    "***"
   ]
  },
  {
   "cell_type": "markdown",
   "id": "2723bfd5",
   "metadata": {},
   "source": [
    "**11. Use zip() to make a dictionary called movies that pairs these lists: titles = [&#39;Creature of Habit&#39;, &#39;Crewel Fate&#39;] and plots = [&#39;A nun turns into a monster&#39;, &#39;A haunted yarn shop&#39;].**"
   ]
  },
  {
   "cell_type": "code",
   "execution_count": 36,
   "id": "a86dbc14",
   "metadata": {},
   "outputs": [
    {
     "name": "stdout",
     "output_type": "stream",
     "text": [
      "{'Creature of Habit': 'A nun turns into a monster', 'Crewel Fate': 'A haunted yarn shop'}\n"
     ]
    }
   ],
   "source": [
    "titles = ['Creature of Habit', 'Crewel Fate']\n",
    "plots = ['A nun turns into a monster', 'A haunted yarn shop']\n",
    "movies = {k:v for k,v in zip(titles,plots)}\n",
    "print(movies)"
   ]
  },
  {
   "cell_type": "markdown",
   "id": "4aff997e",
   "metadata": {},
   "source": [
    "***"
   ]
  }
 ],
 "metadata": {
  "kernelspec": {
   "display_name": "Python 3",
   "language": "python",
   "name": "python3"
  },
  "language_info": {
   "codemirror_mode": {
    "name": "ipython",
    "version": 3
   },
   "file_extension": ".py",
   "mimetype": "text/x-python",
   "name": "python",
   "nbconvert_exporter": "python",
   "pygments_lexer": "ipython3",
   "version": "3.8.8"
  }
 },
 "nbformat": 4,
 "nbformat_minor": 5
}
