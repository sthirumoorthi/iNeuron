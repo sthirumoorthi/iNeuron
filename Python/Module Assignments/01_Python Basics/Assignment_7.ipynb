{
 "cells": [
  {
   "cell_type": "markdown",
   "id": "5fde4e1c",
   "metadata": {},
   "source": [
    "**1. What is the name of the feature responsible for generating Regex objects?**"
   ]
  },
  {
   "cell_type": "markdown",
   "id": "131bf04d",
   "metadata": {},
   "source": [
    "    The re. compile() function returns Regex objects"
   ]
  },
  {
   "cell_type": "markdown",
   "id": "6662e829",
   "metadata": {},
   "source": [
    "***"
   ]
  },
  {
   "cell_type": "markdown",
   "id": "f2570e3b",
   "metadata": {},
   "source": [
    "**2. Why do raw strings often appear in Regex objects?**"
   ]
  },
  {
   "cell_type": "markdown",
   "id": "7e785e62",
   "metadata": {},
   "source": [
    "     Raw strings are used so that backslashes do not have to be escaped\n",
    "     \n",
    "     Raw string notation (r\"text\") keeps regular expressions meaningful and confusion-free. Without it, every backslash ('\\') in a regular expression would have to be prefixed with another one to escape it"
   ]
  },
  {
   "cell_type": "markdown",
   "id": "654c4115",
   "metadata": {},
   "source": [
    "***"
   ]
  },
  {
   "cell_type": "markdown",
   "id": "a053c34c",
   "metadata": {},
   "source": [
    "**3. What is the return value of the search() method?**"
   ]
  },
  {
   "cell_type": "markdown",
   "id": "5e80ac48",
   "metadata": {},
   "source": [
    "    search() would return the match objects"
   ]
  },
  {
   "cell_type": "markdown",
   "id": "01852126",
   "metadata": {},
   "source": [
    "***"
   ]
  },
  {
   "cell_type": "markdown",
   "id": "b103db3d",
   "metadata": {},
   "source": [
    "**4. From a Match item, how do you get the actual strings that match the pattern?**"
   ]
  },
  {
   "cell_type": "markdown",
   "id": "0733e055",
   "metadata": {},
   "source": [
    "Match objects have a **group()** method that will return the actual matched text from the searched string"
   ]
  },
  {
   "cell_type": "markdown",
   "id": "08158435",
   "metadata": {},
   "source": [
    "***"
   ]
  },
  {
   "cell_type": "markdown",
   "id": "4dc183d6",
   "metadata": {},
   "source": [
    "**5. In the regex which created from the r'(\\d\\d\\d)-(\\d\\d\\d-\\d\\d\\d\\d)', what does group 0 cover? Group 2? Group 1?**"
   ]
  },
  {
   "cell_type": "markdown",
   "id": "e4324e66",
   "metadata": {},
   "source": [
    "    Group 0 - It covers the entire match from the search '(\\d\\d\\d)-(\\d\\d\\d-\\d\\d\\d\\d)'\n",
    "    Group 1 - It refers the first set enclosed in paranthesis '(\\d\\d\\d)'\n",
    "    Group 2 - It refers the second set enclosed in paranthesis '(\\d\\d\\d-\\d\\d\\d\\d)'"
   ]
  },
  {
   "cell_type": "markdown",
   "id": "d2340d5a",
   "metadata": {},
   "source": [
    "***"
   ]
  },
  {
   "cell_type": "markdown",
   "id": "b31c3e23",
   "metadata": {},
   "source": [
    "**6. In standard expression syntax, parentheses and intervals have distinct meanings. How can you tell a regex that you want it to fit real parentheses and periods?**"
   ]
  },
  {
   "cell_type": "markdown",
   "id": "1ae96f1f",
   "metadata": {},
   "source": [
    "    They need to be enclosed with the backslash character.\n",
    "    \n",
    "    Period: \"\\.\"\n",
    "    Paranthesis: \"\\(\" and \"\\)\""
   ]
  },
  {
   "cell_type": "markdown",
   "id": "327741db",
   "metadata": {},
   "source": [
    "***"
   ]
  },
  {
   "cell_type": "markdown",
   "id": "80e366db",
   "metadata": {},
   "source": [
    "**7. The findall() method returns a string list or a list of string tuples. What causes it to return one of the two options?**"
   ]
  },
  {
   "cell_type": "markdown",
   "id": "a66d54e4",
   "metadata": {},
   "source": [
    "    If the regex has matching groups, then it will returns the list of string tuples of matched group.\n",
    "    If no match found, then it would return a string list."
   ]
  },
  {
   "cell_type": "markdown",
   "id": "855dec58",
   "metadata": {},
   "source": [
    "***"
   ]
  },
  {
   "cell_type": "markdown",
   "id": "aa3bebae",
   "metadata": {},
   "source": [
    "**8. In standard expressions, what does the | character mean?**"
   ]
  },
  {
   "cell_type": "markdown",
   "id": "a0dac011",
   "metadata": {},
   "source": [
    "    A pipe symbol (|) allows regular expression components to be logically OR 'ed between groups."
   ]
  },
  {
   "cell_type": "markdown",
   "id": "f4fa1110",
   "metadata": {},
   "source": [
    "***"
   ]
  },
  {
   "cell_type": "markdown",
   "id": "7533173c",
   "metadata": {},
   "source": [
    "**9. In regular expressions, what does the character ? stand for?**"
   ]
  },
  {
   "cell_type": "markdown",
   "id": "27ea80c9",
   "metadata": {},
   "source": [
    "    A question mark (?) immediately following a character means \"match zero or one instance of this character\". \n",
    "    This means that the regex \"Great!?\" will match \"Great\" or \"Great!\". It will not match a question mark;\n",
    "    \n",
    "    (?)  - Greedy qualifier\n",
    "    (??) - Non Greedy qualifier"
   ]
  },
  {
   "cell_type": "markdown",
   "id": "e70c8240",
   "metadata": {},
   "source": [
    "***"
   ]
  },
  {
   "cell_type": "markdown",
   "id": "5c93a793",
   "metadata": {},
   "source": [
    "**10.In regular expressions, what is the difference between the + and * characters?**"
   ]
  },
  {
   "cell_type": "markdown",
   "id": "58cbdbcc",
   "metadata": {},
   "source": [
    "    + means one or more match\n",
    "    * means zero or more match\n",
    "    \n",
    "    a+  ---> a{1,}  ---> Match a or aa or aaaa but not a string empty\n",
    "    a*  ---> a{0,}  ---> Match a or aa or aaaaa or an empty string"
   ]
  },
  {
   "cell_type": "markdown",
   "id": "d533da2c",
   "metadata": {},
   "source": [
    "***"
   ]
  },
  {
   "cell_type": "markdown",
   "id": "863fe389",
   "metadata": {},
   "source": [
    "**11. What is the difference between {4} and {4,5} in regular expression?**"
   ]
  },
  {
   "cell_type": "markdown",
   "id": "9dc3e62d",
   "metadata": {},
   "source": [
    "    {4} matches exactly four instances of the group. \n",
    "    {4,5} matches between four and five instances."
   ]
  },
  {
   "cell_type": "markdown",
   "id": "aef1cd55",
   "metadata": {},
   "source": [
    "***"
   ]
  },
  {
   "cell_type": "markdown",
   "id": "49d6d19a",
   "metadata": {},
   "source": [
    "**12. What do you mean by the \\d, \\w, and \\s shorthand character classes signify in regular expressions?**"
   ]
  },
  {
   "cell_type": "markdown",
   "id": "f9ac41f0",
   "metadata": {},
   "source": [
    "    \\d - matches single digit\n",
    "    \\w - matches single word\n",
    "    \\s - matches single space"
   ]
  },
  {
   "cell_type": "markdown",
   "id": "ff0f8339",
   "metadata": {},
   "source": [
    "***"
   ]
  },
  {
   "cell_type": "markdown",
   "id": "f15898ef",
   "metadata": {},
   "source": [
    "**13. What do means by \\D, \\W, and \\S shorthand character classes signify in regular expressions?**"
   ]
  },
  {
   "cell_type": "markdown",
   "id": "73b102ca",
   "metadata": {},
   "source": [
    "    \\D - matches single character that is NOT a digit\n",
    "    \\W - matches single character that is NOT a word\n",
    "    \\S - matches single character that is NOT a space"
   ]
  },
  {
   "cell_type": "markdown",
   "id": "2e034415",
   "metadata": {},
   "source": [
    "***"
   ]
  },
  {
   "cell_type": "markdown",
   "id": "a7e6da20",
   "metadata": {},
   "source": [
    "**14. What is the difference between '. * ?' and '. *' ?**"
   ]
  },
  {
   "cell_type": "markdown",
   "id": "19627e14",
   "metadata": {},
   "source": [
    "    .* performs a greedy match (match as much as it can and still allow the remainder of the regex to match)\n",
    "    .*? performs a nongreedy match (match the least amount of data while allowing the remainder of the regex to match)"
   ]
  },
  {
   "cell_type": "markdown",
   "id": "1dec11b5",
   "metadata": {},
   "source": [
    "***"
   ]
  },
  {
   "cell_type": "markdown",
   "id": "4f37ee6c",
   "metadata": {},
   "source": [
    "**15. What is the syntax for matching both numbers and lowercase letters with a character class?**"
   ]
  },
  {
   "cell_type": "markdown",
   "id": "bb7c2b41",
   "metadata": {},
   "source": [
    "    We can using one of the below character class\n",
    "    \n",
    "    [0-9a-z]\n",
    "    [a-z0-9]"
   ]
  },
  {
   "cell_type": "markdown",
   "id": "040c18e6",
   "metadata": {},
   "source": [
    "***"
   ]
  },
  {
   "cell_type": "markdown",
   "id": "df2b0e28",
   "metadata": {},
   "source": [
    "**16. What is the procedure for making a normal expression in regax case insensitive?**"
   ]
  },
  {
   "cell_type": "markdown",
   "id": "aeb37e7d",
   "metadata": {},
   "source": [
    "    We need to supply re.I or re.IGNORECASE as the second argument for re.compile() function. \n",
    "    It will make the matching pattern as case-insensitive."
   ]
  },
  {
   "cell_type": "markdown",
   "id": "f43756ea",
   "metadata": {},
   "source": [
    "***"
   ]
  },
  {
   "cell_type": "markdown",
   "id": "3e5b6e4f",
   "metadata": {},
   "source": [
    "**17. What does the . character normally match? What does it match if re.DOTALL is passed as 2nd argument in re.compile()?**"
   ]
  },
  {
   "cell_type": "markdown",
   "id": "47e7b7c0",
   "metadata": {},
   "source": [
    "    - The . character normally matches any character except the newline character. \n",
    "    - If re.DOTALL is passed as the second argument to re.compile(), then the dot will also match newline characters"
   ]
  },
  {
   "cell_type": "markdown",
   "id": "8cc76fb3",
   "metadata": {},
   "source": [
    "***"
   ]
  },
  {
   "cell_type": "markdown",
   "id": "9ebd7db9",
   "metadata": {},
   "source": [
    "**18. If numReg = re.compile(r'\\d+'), what will numRegex.sub('X', '11 drummers, 10 pipers, five rings, 4 hen') return?**"
   ]
  },
  {
   "cell_type": "markdown",
   "id": "40e9542c",
   "metadata": {},
   "source": [
    "    sub() function is used to replace occurrences of a particular sub-string with another sub-string. So in this case, it will replace the digits with 'X'. The result would be,\n",
    "    \n",
    "        X drummers, X pipers, five rings, X hen"
   ]
  },
  {
   "cell_type": "markdown",
   "id": "27f18cbf",
   "metadata": {},
   "source": [
    "***"
   ]
  },
  {
   "cell_type": "markdown",
   "id": "699fe3d0",
   "metadata": {},
   "source": [
    "**19. What does passing re.VERBOSE as the 2nd argument to re.compile() allow to do?**"
   ]
  },
  {
   "cell_type": "markdown",
   "id": "120e604b",
   "metadata": {},
   "source": [
    "    re.VERBOSE argument allows us to add whitespace and comments to the string passed to re.compile(). \n",
    "    It will make the regular expressions look nicer and are more readable."
   ]
  },
  {
   "cell_type": "code",
   "execution_count": 2,
   "id": "88574bf1",
   "metadata": {},
   "outputs": [],
   "source": [
    "import re\n",
    "# Without Using VERBOSE\n",
    "regex_email = re.compile(r'^([a-z0-9_\\.-]+)@([0-9a-z\\.-]+)\\.([a-z\\.]{2, 6})$',\n",
    "              re.IGNORECASE)\n",
    "   \n",
    "# Using VERBOSE\n",
    "regex_email = re.compile(r\"\"\"\n",
    "            ^([a-z0-9_\\.-]+)              # local Part\n",
    "            @                             # single @ sign\n",
    "            ([0-9a-z\\.-]+)                # Domain name\n",
    "            \\.                            # single Dot .\n",
    "            ([a-z]{2,6})$                 # Top level Domain  \n",
    "             \"\"\",re.VERBOSE | re.IGNORECASE)   "
   ]
  },
  {
   "cell_type": "markdown",
   "id": "2df7bccf",
   "metadata": {},
   "source": [
    "***"
   ]
  },
  {
   "cell_type": "markdown",
   "id": "5503602a",
   "metadata": {},
   "source": [
    "**20. How would you write a regex that match a number with comma for every three digits? It must match the given following:**\n",
    "\n",
    "    '42'\n",
    "    '1,234'\n",
    "    '6,368,745'\n",
    "\n",
    "**but not the following:**\n",
    "    \n",
    "    '12,34,567' (which has only two digits between the commas)\n",
    "    '1234' (which lacks commas)"
   ]
  },
  {
   "cell_type": "markdown",
   "id": "3f650ac9",
   "metadata": {},
   "source": [
    "    >>> re.compile(r'^\\d{1,3}(,\\d{3})*$')"
   ]
  },
  {
   "attachments": {
    "image.png": {
     "image/png": "[encoded data removed]"
    }
   },
   "cell_type": "markdown",
   "id": "08f5e218",
   "metadata": {},
   "source": [
    "![image.png](attachment:image.png)"
   ]
  },
  {
   "cell_type": "markdown",
   "id": "d9833442",
   "metadata": {},
   "source": [
    "***"
   ]
  },
  {
   "cell_type": "markdown",
   "id": "a8581ce8",
   "metadata": {},
   "source": [
    "**21. How would you write a regex that matches the full name of someone whose last name is Watanabe? You can assume that the first name that comes before it will always be one word that begins with a capital letter. The regex must match the following:**\n",
    "\n",
    "    'Haruto Watanabe'\n",
    "    'Alice Watanabe'\n",
    "    'RoboCop Watanabe'\n",
    "**but not the following:**\n",
    "\n",
    "    'haruto Watanabe' (where the first name is not capitalized)\n",
    "    'Mr. Watanabe' (where the preceding word has a nonletter character)\n",
    "    'Watanabe' (which has no first name)\n",
    "    'Haruto watanabe' (where Watanabe is not capitalized)"
   ]
  },
  {
   "cell_type": "markdown",
   "id": "7ccc98f5",
   "metadata": {},
   "source": [
    "    >>> re.compile(r'[A-Z][a-z]*\\sWatanabe')"
   ]
  },
  {
   "attachments": {
    "image.png": {
     "image/png": "[encoded data removed]"
    }
   },
   "cell_type": "markdown",
   "id": "146b58e5",
   "metadata": {},
   "source": [
    "![image.png](attachment:image.png)"
   ]
  },
  {
   "cell_type": "markdown",
   "id": "ff529bf4",
   "metadata": {},
   "source": [
    "***"
   ]
  },
  {
   "cell_type": "markdown",
   "id": "c1cf7025",
   "metadata": {},
   "source": [
    "**22. How would you write a regex that matches a sentence where the first word is either Alice, Bob, or Carol; the second word is either eats, pets, or throws; the third word is apples, cats, or baseballs; and the sentence ends with a period? This regex should be case-insensitive. It must match the following:**\n",
    "\n",
    "    'Alice eats apples.'\n",
    "    'Bob pets cats.'\n",
    "    'Carol throws baseballs.'\n",
    "    'Alice throws Apples.'\n",
    "    'BOB EATS CATS.'\n",
    "**but not the following:**\n",
    "    \n",
    "    'RoboCop eats apples.'\n",
    "    'ALICE THROWS FOOTBALLS.'\n",
    "    'Carol eats 7 cats.'"
   ]
  },
  {
   "cell_type": "markdown",
   "id": "6af46153",
   "metadata": {},
   "source": [
    "    >>> re.compile(r'(Alice|Bob|Carol)\\s(eats|pets|throws)\\s(apples|cats|baseballs)\\.', re.IGNORECASE)"
   ]
  },
  {
   "attachments": {
    "image.png": {
     "image/png": "[encoded data removed]"
    }
   },
   "cell_type": "markdown",
   "id": "3a6bf6a1",
   "metadata": {},
   "source": [
    "![image.png](attachment:image.png)"
   ]
  },
  {
   "cell_type": "markdown",
   "id": "e10a11f0",
   "metadata": {},
   "source": [
    "***"
   ]
  }
 ],
 "metadata": {
  "kernelspec": {
   "display_name": "Python 3",
   "language": "python",
   "name": "python3"
  },
  "language_info": {
   "codemirror_mode": {
    "name": "ipython",
    "version": 3
   },
   "file_extension": ".py",
   "mimetype": "text/x-python",
   "name": "python",
   "nbconvert_exporter": "python",
   "pygments_lexer": "ipython3",
   "version": "3.8.8"
  }
 },
 "nbformat": 4,
 "nbformat_minor": 5
}
