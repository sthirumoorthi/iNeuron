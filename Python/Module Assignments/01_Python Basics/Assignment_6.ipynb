{
 "cells": [
  {
   "cell_type": "markdown",
   "id": "4915ba56",
   "metadata": {},
   "source": [
    "**1. What are escape characters, and how do you use them?**"
   ]
  },
  {
   "cell_type": "markdown",
   "id": "bb8a14f8",
   "metadata": {},
   "source": [
    "    Escape characters represents certain whitespace characters and are used to insert the characters that are illegal in any string. An escape character is a backslash \\ followed by the character we want to insert."
   ]
  },
  {
   "cell_type": "markdown",
   "id": "6662e829",
   "metadata": {},
   "source": [
    "***"
   ]
  },
  {
   "cell_type": "markdown",
   "id": "87d0fe22",
   "metadata": {},
   "source": [
    "**2. What do the escape characters n and t stand for?**"
   ]
  },
  {
   "cell_type": "markdown",
   "id": "98e63c3a",
   "metadata": {},
   "source": [
    "    \\n - Newline\n",
    "    \\t - tab"
   ]
  },
  {
   "cell_type": "markdown",
   "id": "654c4115",
   "metadata": {},
   "source": [
    "***"
   ]
  },
  {
   "cell_type": "markdown",
   "id": "f1c3b51b",
   "metadata": {},
   "source": [
    "**3. What is the way to include backslash characters in a string?**"
   ]
  },
  {
   "cell_type": "markdown",
   "id": "cd3981c4",
   "metadata": {},
   "source": [
    "    The escape characted \\\\ can be used to include backslash character in a string"
   ]
  },
  {
   "cell_type": "code",
   "execution_count": 18,
   "id": "7ff19407",
   "metadata": {},
   "outputs": [
    {
     "name": "stdout",
     "output_type": "stream",
     "text": [
      "thiru\\s\n"
     ]
    }
   ],
   "source": [
    "s = \"thiru\\\\s\"\n",
    "print(s)"
   ]
  },
  {
   "cell_type": "markdown",
   "id": "01852126",
   "metadata": {},
   "source": [
    "***"
   ]
  },
  {
   "cell_type": "markdown",
   "id": "110620cc",
   "metadata": {},
   "source": [
    "**4. The string \"Howl's Moving Castle\" is a correct value. Why isn't the single quote character in the word Howl's not escaped a problem?**"
   ]
  },
  {
   "cell_type": "markdown",
   "id": "54e25724",
   "metadata": {},
   "source": [
    "    This will not be a problem in this case as the entire string is marked between the double quotes."
   ]
  },
  {
   "cell_type": "markdown",
   "id": "08158435",
   "metadata": {},
   "source": [
    "***"
   ]
  },
  {
   "cell_type": "markdown",
   "id": "3ba431f3",
   "metadata": {},
   "source": [
    "**5. How do you write a string of newlines if you don't want to use the n character?**"
   ]
  },
  {
   "cell_type": "markdown",
   "id": "7262dc15",
   "metadata": {},
   "source": [
    "    Multil-line string can be used to write a string of newlines and it needs to be entered within three quotes (single or double)"
   ]
  },
  {
   "cell_type": "code",
   "execution_count": 16,
   "id": "095a8966",
   "metadata": {},
   "outputs": [
    {
     "name": "stdout",
     "output_type": "stream",
     "text": [
      "Beautiful is better than ugly.\n",
      "Explicit is better than implicit.\n",
      "Simple is better than complex.\n",
      "Complex is better than complicated.\n",
      "Flat is better than nested.\n"
     ]
    }
   ],
   "source": [
    "my_str = \"\"\"Beautiful is better than ugly.\n",
    "Explicit is better than implicit.\n",
    "Simple is better than complex.\n",
    "Complex is better than complicated.\n",
    "Flat is better than nested.\"\"\"\n",
    "print(my_str)"
   ]
  },
  {
   "cell_type": "markdown",
   "id": "d2340d5a",
   "metadata": {},
   "source": [
    "***"
   ]
  },
  {
   "cell_type": "markdown",
   "id": "96d2fdee",
   "metadata": {},
   "source": [
    "**6. What are the values of the given expressions?**\n",
    "    \n",
    "    'Hello, world!'[1]\n",
    "    'Hello, world!'[0:5]\n",
    "    'Hello, world!'[:5]\n",
    "    'Hello, world!'[3:]"
   ]
  },
  {
   "cell_type": "markdown",
   "id": "a767e9b0",
   "metadata": {},
   "source": [
    "    'Hello, world!'[1]   -> 'e'\n",
    "    'Hello, world!'[0:5] -> 'Hello'\n",
    "    'Hello, world!'[:5]  -> 'Hello'\n",
    "    'Hello, world!'[3:]  -> 'lo, world!'"
   ]
  },
  {
   "cell_type": "markdown",
   "id": "327741db",
   "metadata": {},
   "source": [
    "***"
   ]
  },
  {
   "cell_type": "markdown",
   "id": "e805a4e5",
   "metadata": {},
   "source": [
    "**7. What are the values of the following expressions?**\n",
    "\n",
    "    'Hello'.upper()\n",
    "    'Hello'.upper().isupper()\n",
    "    'Hello'.upper().lower()"
   ]
  },
  {
   "cell_type": "markdown",
   "id": "42aebc00",
   "metadata": {},
   "source": [
    "    'HELLO'\n",
    "    True\n",
    "    'hello'"
   ]
  },
  {
   "cell_type": "markdown",
   "id": "855dec58",
   "metadata": {},
   "source": [
    "***"
   ]
  },
  {
   "cell_type": "markdown",
   "id": "c3de9c75",
   "metadata": {},
   "source": [
    "**8. What are the values of the following expressions?**\n",
    "\n",
    "    'Remember, remember, the fifth of July.'.split()\n",
    "    '-'.join('There can only one.'.split())"
   ]
  },
  {
   "cell_type": "markdown",
   "id": "a8f74f36",
   "metadata": {},
   "source": [
    "    ['Remember,', 'remember,', 'the', 'fifth', 'of', 'July.']\n",
    "    'There-can-only-one.'"
   ]
  },
  {
   "cell_type": "markdown",
   "id": "f4fa1110",
   "metadata": {},
   "source": [
    "***"
   ]
  },
  {
   "cell_type": "markdown",
   "id": "2449e832",
   "metadata": {},
   "source": [
    "**9. What are the methods for right-justifying, left-justifying, and centering a string?**"
   ]
  },
  {
   "cell_type": "markdown",
   "id": "df09ac43",
   "metadata": {},
   "source": [
    "    rjust(), ljust(), and center()"
   ]
  },
  {
   "cell_type": "markdown",
   "id": "e70c8240",
   "metadata": {},
   "source": [
    "***"
   ]
  },
  {
   "cell_type": "markdown",
   "id": "0fe193b5",
   "metadata": {},
   "source": [
    "**10. What is the best way to remove whitespace characters from the start or end?**"
   ]
  },
  {
   "cell_type": "markdown",
   "id": "aa7e4770",
   "metadata": {},
   "source": [
    "    lstrip() - removes the whitespace from the left\n",
    "    rstrip() - removes the whitespace from the right\n",
    "    strip()  - removes the whitespace at both the ends"
   ]
  },
  {
   "cell_type": "markdown",
   "id": "d533da2c",
   "metadata": {},
   "source": [
    "***"
   ]
  }
 ],
 "metadata": {
  "kernelspec": {
   "display_name": "Python 3",
   "language": "python",
   "name": "python3"
  },
  "language_info": {
   "codemirror_mode": {
    "name": "ipython",
    "version": 3
   },
   "file_extension": ".py",
   "mimetype": "text/x-python",
   "name": "python",
   "nbconvert_exporter": "python",
   "pygments_lexer": "ipython3",
   "version": "3.8.8"
  }
 },
 "nbformat": 4,
 "nbformat_minor": 5
}
