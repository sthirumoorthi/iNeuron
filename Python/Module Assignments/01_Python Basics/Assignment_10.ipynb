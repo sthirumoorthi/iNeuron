{
 "cells": [
  {
   "cell_type": "markdown",
   "id": "5fde4e1c",
   "metadata": {},
   "source": [
    "**1. How do you distinguish between shutil.copy() and shutil.copytree()?**"
   ]
  },
  {
   "cell_type": "markdown",
   "id": "131bf04d",
   "metadata": {},
   "source": [
    "    shutil.copy() will copy a single file\n",
    "    shutil.copytree() will copy an entire folder and every folder and file contained in it."
   ]
  },
  {
   "cell_type": "markdown",
   "id": "6662e829",
   "metadata": {},
   "source": [
    "***"
   ]
  },
  {
   "cell_type": "markdown",
   "id": "f2570e3b",
   "metadata": {},
   "source": [
    "**2. What function is used to rename files??**"
   ]
  },
  {
   "cell_type": "markdown",
   "id": "7e785e62",
   "metadata": {},
   "source": [
    "    The shutil.move() function can be used for moving and renaming files as well.\n",
    "    \n",
    "    Ex:\n",
    "    shutil.move('C:\\\\old_file.txt', 'C:\\\\folder\\\\new_file.txt')"
   ]
  },
  {
   "cell_type": "markdown",
   "id": "654c4115",
   "metadata": {},
   "source": [
    "***"
   ]
  },
  {
   "cell_type": "markdown",
   "id": "a053c34c",
   "metadata": {},
   "source": [
    "**3. What is the difference between the delete functions in the send2trash and shutil modules?**"
   ]
  },
  {
   "cell_type": "markdown",
   "id": "5e80ac48",
   "metadata": {},
   "source": [
    "    - send2trash functions will move a file or folder to the recycle bin\n",
    "    - shutil functions will permanently delete files and folders"
   ]
  },
  {
   "cell_type": "markdown",
   "id": "01852126",
   "metadata": {},
   "source": [
    "***"
   ]
  },
  {
   "cell_type": "markdown",
   "id": "b103db3d",
   "metadata": {},
   "source": [
    "**4. ZipFile objects have a close() method just like File objects’ close() method. What ZipFile method is equivalent to File objects’ open() method?**"
   ]
  },
  {
   "cell_type": "markdown",
   "id": "0733e055",
   "metadata": {},
   "source": [
    "    The zipfile.ZipFile() function is equivalent to the open() function; \n",
    "    - the first argument is the filename, and the second argument is the mode to open the ZIP file in (read, write, or append)."
   ]
  },
  {
   "cell_type": "markdown",
   "id": "08158435",
   "metadata": {},
   "source": [
    "***"
   ]
  },
  {
   "cell_type": "markdown",
   "id": "4dc183d6",
   "metadata": {},
   "source": [
    "**5. Create a programme that searches a folder tree for files with a certain file extension (such as .pdf or .jpg). Copy these files from whatever location they are in to a new folder.**"
   ]
  },
  {
   "cell_type": "code",
   "execution_count": 4,
   "id": "c1aa38c7",
   "metadata": {},
   "outputs": [
    {
     "name": "stdout",
     "output_type": "stream",
     "text": [
      "The current folder is C:\\Users\\KEERTHI\\Desktop\\ML Models\\iNueron\n",
      "SUBFOLDER OF C:\\Users\\KEERTHI\\Desktop\\ML Models\\iNueron: .ipynb_checkpoints\n",
      "SUBFOLDER OF C:\\Users\\KEERTHI\\Desktop\\ML Models\\iNueron: Assignments\n",
      "FILE INSIDE C:\\Users\\KEERTHI\\Desktop\\ML Models\\iNueron: Basics - Functions.ipynb\n",
      "FILE INSIDE C:\\Users\\KEERTHI\\Desktop\\ML Models\\iNueron: Basics of Dictionary.ipynb\n",
      "FILE INSIDE C:\\Users\\KEERTHI\\Desktop\\ML Models\\iNueron: Basics of Sets.ipynb\n",
      "FILE INSIDE C:\\Users\\KEERTHI\\Desktop\\ML Models\\iNueron: Basics of Tuples.ipynb\n",
      "FILE INSIDE C:\\Users\\KEERTHI\\Desktop\\ML Models\\iNueron: Exercises.ipynb\n",
      "\n",
      "The current folder is C:\\Users\\KEERTHI\\Desktop\\ML Models\\iNueron\\.ipynb_checkpoints\n",
      "FILE INSIDE C:\\Users\\KEERTHI\\Desktop\\ML Models\\iNueron\\.ipynb_checkpoints: Basics - Functions-checkpoint.ipynb\n",
      "FILE INSIDE C:\\Users\\KEERTHI\\Desktop\\ML Models\\iNueron\\.ipynb_checkpoints: Basics of Dictionary-checkpoint.ipynb\n",
      "FILE INSIDE C:\\Users\\KEERTHI\\Desktop\\ML Models\\iNueron\\.ipynb_checkpoints: Basics of Sets-checkpoint.ipynb\n",
      "FILE INSIDE C:\\Users\\KEERTHI\\Desktop\\ML Models\\iNueron\\.ipynb_checkpoints: Basics of Tuples-checkpoint.ipynb\n",
      "FILE INSIDE C:\\Users\\KEERTHI\\Desktop\\ML Models\\iNueron\\.ipynb_checkpoints: Exercises-checkpoint.ipynb\n",
      "\n",
      "The current folder is C:\\Users\\KEERTHI\\Desktop\\ML Models\\iNueron\\Assignments\n",
      "SUBFOLDER OF C:\\Users\\KEERTHI\\Desktop\\ML Models\\iNueron\\Assignments: .ipynb_checkpoints\n",
      "SUBFOLDER OF C:\\Users\\KEERTHI\\Desktop\\ML Models\\iNueron\\Assignments: Module Assignments\n",
      "SUBFOLDER OF C:\\Users\\KEERTHI\\Desktop\\ML Models\\iNueron\\Assignments: Sudhanshu\n",
      "\n",
      "The current folder is C:\\Users\\KEERTHI\\Desktop\\ML Models\\iNueron\\Assignments\\.ipynb_checkpoints\n",
      "\n",
      "The current folder is C:\\Users\\KEERTHI\\Desktop\\ML Models\\iNueron\\Assignments\\Module Assignments\n",
      "SUBFOLDER OF C:\\Users\\KEERTHI\\Desktop\\ML Models\\iNueron\\Assignments\\Module Assignments: .ipynb_checkpoints\n",
      "SUBFOLDER OF C:\\Users\\KEERTHI\\Desktop\\ML Models\\iNueron\\Assignments\\Module Assignments: 01_Python Basics\n",
      "SUBFOLDER OF C:\\Users\\KEERTHI\\Desktop\\ML Models\\iNueron\\Assignments\\Module Assignments: 02_Python Advanced\n",
      "SUBFOLDER OF C:\\Users\\KEERTHI\\Desktop\\ML Models\\iNueron\\Assignments\\Module Assignments: 03_Python Programming Basics\n",
      "SUBFOLDER OF C:\\Users\\KEERTHI\\Desktop\\ML Models\\iNueron\\Assignments\\Module Assignments: 04_Python Programming Advanced\n",
      "\n",
      "The current folder is C:\\Users\\KEERTHI\\Desktop\\ML Models\\iNueron\\Assignments\\Module Assignments\\.ipynb_checkpoints\n",
      "FILE INSIDE C:\\Users\\KEERTHI\\Desktop\\ML Models\\iNueron\\Assignments\\Module Assignments\\.ipynb_checkpoints: Assignment_1-checkpoint.ipynb\n",
      "FILE INSIDE C:\\Users\\KEERTHI\\Desktop\\ML Models\\iNueron\\Assignments\\Module Assignments\\.ipynb_checkpoints: Assignment_2-checkpoint.ipynb\n",
      "FILE INSIDE C:\\Users\\KEERTHI\\Desktop\\ML Models\\iNueron\\Assignments\\Module Assignments\\.ipynb_checkpoints: Assignment_3-checkpoint.ipynb\n",
      "FILE INSIDE C:\\Users\\KEERTHI\\Desktop\\ML Models\\iNueron\\Assignments\\Module Assignments\\.ipynb_checkpoints: Assignment_4-checkpoint.ipynb\n",
      "FILE INSIDE C:\\Users\\KEERTHI\\Desktop\\ML Models\\iNueron\\Assignments\\Module Assignments\\.ipynb_checkpoints: Assignment_5-checkpoint.ipynb\n",
      "FILE INSIDE C:\\Users\\KEERTHI\\Desktop\\ML Models\\iNueron\\Assignments\\Module Assignments\\.ipynb_checkpoints: Assignment_6-checkpoint.ipynb\n",
      "\n",
      "The current folder is C:\\Users\\KEERTHI\\Desktop\\ML Models\\iNueron\\Assignments\\Module Assignments\\01_Python Basics\n",
      "SUBFOLDER OF C:\\Users\\KEERTHI\\Desktop\\ML Models\\iNueron\\Assignments\\Module Assignments\\01_Python Basics: .ipynb_checkpoints\n",
      "FILE INSIDE C:\\Users\\KEERTHI\\Desktop\\ML Models\\iNueron\\Assignments\\Module Assignments\\01_Python Basics: Assignment_1.ipynb\n",
      "FILE INSIDE C:\\Users\\KEERTHI\\Desktop\\ML Models\\iNueron\\Assignments\\Module Assignments\\01_Python Basics: Assignment_10.ipynb\n",
      "FILE INSIDE C:\\Users\\KEERTHI\\Desktop\\ML Models\\iNueron\\Assignments\\Module Assignments\\01_Python Basics: Assignment_2.ipynb\n",
      "FILE INSIDE C:\\Users\\KEERTHI\\Desktop\\ML Models\\iNueron\\Assignments\\Module Assignments\\01_Python Basics: Assignment_3.ipynb\n",
      "FILE INSIDE C:\\Users\\KEERTHI\\Desktop\\ML Models\\iNueron\\Assignments\\Module Assignments\\01_Python Basics: Assignment_4.ipynb\n",
      "FILE INSIDE C:\\Users\\KEERTHI\\Desktop\\ML Models\\iNueron\\Assignments\\Module Assignments\\01_Python Basics: Assignment_5.ipynb\n",
      "FILE INSIDE C:\\Users\\KEERTHI\\Desktop\\ML Models\\iNueron\\Assignments\\Module Assignments\\01_Python Basics: Assignment_6.ipynb\n",
      "FILE INSIDE C:\\Users\\KEERTHI\\Desktop\\ML Models\\iNueron\\Assignments\\Module Assignments\\01_Python Basics: Assignment_7.ipynb\n",
      "FILE INSIDE C:\\Users\\KEERTHI\\Desktop\\ML Models\\iNueron\\Assignments\\Module Assignments\\01_Python Basics: Assignment_8.ipynb\n",
      "FILE INSIDE C:\\Users\\KEERTHI\\Desktop\\ML Models\\iNueron\\Assignments\\Module Assignments\\01_Python Basics: Assignment_9.ipynb\n",
      "FILE INSIDE C:\\Users\\KEERTHI\\Desktop\\ML Models\\iNueron\\Assignments\\Module Assignments\\01_Python Basics: Assignment_x.ipynb\n",
      "\n",
      "The current folder is C:\\Users\\KEERTHI\\Desktop\\ML Models\\iNueron\\Assignments\\Module Assignments\\01_Python Basics\\.ipynb_checkpoints\n",
      "FILE INSIDE C:\\Users\\KEERTHI\\Desktop\\ML Models\\iNueron\\Assignments\\Module Assignments\\01_Python Basics\\.ipynb_checkpoints: Assignment_10-checkpoint.ipynb\n",
      "FILE INSIDE C:\\Users\\KEERTHI\\Desktop\\ML Models\\iNueron\\Assignments\\Module Assignments\\01_Python Basics\\.ipynb_checkpoints: Assignment_7-checkpoint.ipynb\n",
      "FILE INSIDE C:\\Users\\KEERTHI\\Desktop\\ML Models\\iNueron\\Assignments\\Module Assignments\\01_Python Basics\\.ipynb_checkpoints: Assignment_8-checkpoint.ipynb\n",
      "FILE INSIDE C:\\Users\\KEERTHI\\Desktop\\ML Models\\iNueron\\Assignments\\Module Assignments\\01_Python Basics\\.ipynb_checkpoints: Assignment_9-checkpoint.ipynb\n",
      "FILE INSIDE C:\\Users\\KEERTHI\\Desktop\\ML Models\\iNueron\\Assignments\\Module Assignments\\01_Python Basics\\.ipynb_checkpoints: Assignment_x-checkpoint.ipynb\n",
      "\n",
      "The current folder is C:\\Users\\KEERTHI\\Desktop\\ML Models\\iNueron\\Assignments\\Module Assignments\\02_Python Advanced\n",
      "\n",
      "The current folder is C:\\Users\\KEERTHI\\Desktop\\ML Models\\iNueron\\Assignments\\Module Assignments\\03_Python Programming Basics\n",
      "SUBFOLDER OF C:\\Users\\KEERTHI\\Desktop\\ML Models\\iNueron\\Assignments\\Module Assignments\\03_Python Programming Basics: .ipynb_checkpoints\n",
      "FILE INSIDE C:\\Users\\KEERTHI\\Desktop\\ML Models\\iNueron\\Assignments\\Module Assignments\\03_Python Programming Basics: Programming_Assignment_1.ipynb\n",
      "FILE INSIDE C:\\Users\\KEERTHI\\Desktop\\ML Models\\iNueron\\Assignments\\Module Assignments\\03_Python Programming Basics: Programming_Assignment_2.ipynb\n",
      "FILE INSIDE C:\\Users\\KEERTHI\\Desktop\\ML Models\\iNueron\\Assignments\\Module Assignments\\03_Python Programming Basics: Programming_Assignment_3.ipynb\n",
      "FILE INSIDE C:\\Users\\KEERTHI\\Desktop\\ML Models\\iNueron\\Assignments\\Module Assignments\\03_Python Programming Basics: Programming_Assignment_4.ipynb\n",
      "FILE INSIDE C:\\Users\\KEERTHI\\Desktop\\ML Models\\iNueron\\Assignments\\Module Assignments\\03_Python Programming Basics: Programming_Assignment_5.ipynb\n",
      "\n",
      "The current folder is C:\\Users\\KEERTHI\\Desktop\\ML Models\\iNueron\\Assignments\\Module Assignments\\03_Python Programming Basics\\.ipynb_checkpoints\n",
      "FILE INSIDE C:\\Users\\KEERTHI\\Desktop\\ML Models\\iNueron\\Assignments\\Module Assignments\\03_Python Programming Basics\\.ipynb_checkpoints: Programming_Assignment_1-checkpoint.ipynb\n",
      "FILE INSIDE C:\\Users\\KEERTHI\\Desktop\\ML Models\\iNueron\\Assignments\\Module Assignments\\03_Python Programming Basics\\.ipynb_checkpoints: Programming_Assignment_2-checkpoint.ipynb\n",
      "FILE INSIDE C:\\Users\\KEERTHI\\Desktop\\ML Models\\iNueron\\Assignments\\Module Assignments\\03_Python Programming Basics\\.ipynb_checkpoints: Programming_Assignment_3-checkpoint.ipynb\n",
      "FILE INSIDE C:\\Users\\KEERTHI\\Desktop\\ML Models\\iNueron\\Assignments\\Module Assignments\\03_Python Programming Basics\\.ipynb_checkpoints: Programming_Assignment_4-checkpoint.ipynb\n",
      "FILE INSIDE C:\\Users\\KEERTHI\\Desktop\\ML Models\\iNueron\\Assignments\\Module Assignments\\03_Python Programming Basics\\.ipynb_checkpoints: Programming_Assignment_5-checkpoint.ipynb\n",
      "\n",
      "The current folder is C:\\Users\\KEERTHI\\Desktop\\ML Models\\iNueron\\Assignments\\Module Assignments\\04_Python Programming Advanced\n",
      "\n",
      "The current folder is C:\\Users\\KEERTHI\\Desktop\\ML Models\\iNueron\\Assignments\\Sudhanshu\n",
      "SUBFOLDER OF C:\\Users\\KEERTHI\\Desktop\\ML Models\\iNueron\\Assignments\\Sudhanshu: .ipynb_checkpoints\n",
      "SUBFOLDER OF C:\\Users\\KEERTHI\\Desktop\\ML Models\\iNueron\\Assignments\\Sudhanshu: Docs\n",
      "FILE INSIDE C:\\Users\\KEERTHI\\Desktop\\ML Models\\iNueron\\Assignments\\Sudhanshu: Class assignments.ipynb\n",
      "\n",
      "The current folder is C:\\Users\\KEERTHI\\Desktop\\ML Models\\iNueron\\Assignments\\Sudhanshu\\.ipynb_checkpoints\n",
      "FILE INSIDE C:\\Users\\KEERTHI\\Desktop\\ML Models\\iNueron\\Assignments\\Sudhanshu\\.ipynb_checkpoints: Class assignments-checkpoint.ipynb\n",
      "\n",
      "The current folder is C:\\Users\\KEERTHI\\Desktop\\ML Models\\iNueron\\Assignments\\Sudhanshu\\Docs\n",
      "FILE INSIDE C:\\Users\\KEERTHI\\Desktop\\ML Models\\iNueron\\Assignments\\Sudhanshu\\Docs: 1.jpg\n",
      "FILE INSIDE C:\\Users\\KEERTHI\\Desktop\\ML Models\\iNueron\\Assignments\\Sudhanshu\\Docs: 2.jpg\n",
      "FILE INSIDE C:\\Users\\KEERTHI\\Desktop\\ML Models\\iNueron\\Assignments\\Sudhanshu\\Docs: 3.jpg\n",
      "FILE INSIDE C:\\Users\\KEERTHI\\Desktop\\ML Models\\iNueron\\Assignments\\Sudhanshu\\Docs: new.jpg\n",
      "FILE INSIDE C:\\Users\\KEERTHI\\Desktop\\ML Models\\iNueron\\Assignments\\Sudhanshu\\Docs: result.pdf\n",
      "FILE INSIDE C:\\Users\\KEERTHI\\Desktop\\ML Models\\iNueron\\Assignments\\Sudhanshu\\Docs: sample.docx\n",
      "FILE INSIDE C:\\Users\\KEERTHI\\Desktop\\ML Models\\iNueron\\Assignments\\Sudhanshu\\Docs: sample.pdf\n",
      "FILE INSIDE C:\\Users\\KEERTHI\\Desktop\\ML Models\\iNueron\\Assignments\\Sudhanshu\\Docs: sample1.pdf\n",
      "FILE INSIDE C:\\Users\\KEERTHI\\Desktop\\ML Models\\iNueron\\Assignments\\Sudhanshu\\Docs: sample2.pdf\n",
      "FILE INSIDE C:\\Users\\KEERTHI\\Desktop\\ML Models\\iNueron\\Assignments\\Sudhanshu\\Docs: video.mp4\n",
      "\n"
     ]
    },
    {
     "data": {
      "text/plain": [
       "'E:\\\\Thiru\\\\iNeuron\\\\Docs'"
      ]
     },
     "execution_count": 4,
     "metadata": {},
     "output_type": "execute_result"
    }
   ],
   "source": [
    "import os\n",
    "import shutil\n",
    "\n",
    "source_file = \"C:\\\\Users\\KEERTHI\\Desktop\\ML Models\\iNueron\\Assignments\\Sudhanshu\\Docs\"\n",
    "target_path = \"E:\\\\Thiru\\iNeuron\"\n",
    "\n",
    "# Display the folder, subfolder and file names in the input path\n",
    "for folderName, subfolders, filenames in os.walk('C:\\\\Users\\KEERTHI\\Desktop\\ML Models\\iNueron'):\n",
    "    print('The current folder is ' + folderName)\n",
    "    for subfolder in subfolders:\n",
    "        print('SUBFOLDER OF ' + folderName + ': ' + subfolder)\n",
    "    for filename in filenames:\n",
    "        print('FILE INSIDE ' + folderName + ': '+ filename)\n",
    "    print('')\n",
    "\n",
    "# Move the files from one directory to another directory\n",
    "shutil.move(source_file, target_path)"
   ]
  },
  {
   "cell_type": "markdown",
   "id": "d2340d5a",
   "metadata": {},
   "source": [
    "***"
   ]
  }
 ],
 "metadata": {
  "kernelspec": {
   "display_name": "Python 3",
   "language": "python",
   "name": "python3"
  },
  "language_info": {
   "codemirror_mode": {
    "name": "ipython",
    "version": 3
   },
   "file_extension": ".py",
   "mimetype": "text/x-python",
   "name": "python",
   "nbconvert_exporter": "python",
   "pygments_lexer": "ipython3",
   "version": "3.8.8"
  }
 },
 "nbformat": 4,
 "nbformat_minor": 5
}
