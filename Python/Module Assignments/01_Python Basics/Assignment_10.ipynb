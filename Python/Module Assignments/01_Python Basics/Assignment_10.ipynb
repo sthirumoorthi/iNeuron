{
 "cells": [
  {
   "cell_type": "markdown",
   "id": "5fde4e1c",
   "metadata": {},
   "source": [
    "**1. How do you distinguish between shutil.copy() and shutil.copytree()?**"
   ]
  },
  {
   "cell_type": "markdown",
   "id": "131bf04d",
   "metadata": {},
   "source": [
    "    shutil.copy() will copy a single file\n",
    "    shutil.copytree() will copy an entire folder and every folder and file contained in it."
   ]
  },
  {
   "cell_type": "markdown",
   "id": "6662e829",
   "metadata": {},
   "source": [
    "***"
   ]
  },
  {
   "cell_type": "markdown",
   "id": "f2570e3b",
   "metadata": {},
   "source": [
    "**2. What function is used to rename files??**"
   ]
  },
  {
   "cell_type": "markdown",
   "id": "7e785e62",
   "metadata": {},
   "source": [
    "    The shutil.move() function can be used for moving and renaming files as well.\n",
    "    \n",
    "    Ex:\n",
    "    shutil.move('C:\\\\old_file.txt', 'C:\\\\folder\\\\new_file.txt')"
   ]
  },
  {
   "cell_type": "markdown",
   "id": "654c4115",
   "metadata": {},
   "source": [
    "***"
   ]
  },
  {
   "cell_type": "markdown",
   "id": "a053c34c",
   "metadata": {},
   "source": [
    "**3. What is the difference between the delete functions in the send2trash and shutil modules?**"
   ]
  },
  {
   "cell_type": "markdown",
   "id": "5e80ac48",
   "metadata": {},
   "source": [
    "    - send2trash functions will move a file or folder to the recycle bin\n",
    "    - shutil functions will permanently delete files and folders"
   ]
  },
  {
   "cell_type": "markdown",
   "id": "01852126",
   "metadata": {},
   "source": [
    "***"
   ]
  },
  {
   "cell_type": "markdown",
   "id": "b103db3d",
   "metadata": {},
   "source": [
    "**4. ZipFile objects have a close() method just like File objects’ close() method. What ZipFile method is equivalent to File objects’ open() method?**"
   ]
  },
  {
   "cell_type": "markdown",
   "id": "0733e055",
   "metadata": {},
   "source": [
    "    The zipfile.ZipFile() function is equivalent to the open() function; \n",
    "    - the first argument is the filename, and the second argument is the mode to open the ZIP file in (read, write, or append)."
   ]
  },
  {
   "cell_type": "markdown",
   "id": "08158435",
   "metadata": {},
   "source": [
    "***"
   ]
  },
  {
   "cell_type": "markdown",
   "id": "4dc183d6",
   "metadata": {},
   "source": [
    "**5. Create a programme that searches a folder tree for files with a certain file extension (such as .pdf or .jpg). Copy these files from whatever location they are in to a new folder.**"
   ]
  },
  {
   "cell_type": "code",
   "execution_count": 7,
   "id": "c1aa38c7",
   "metadata": {},
   "outputs": [
    {
     "name": "stdout",
     "output_type": "stream",
     "text": [
      "Location:  C:\\Users\\KEERTHI\\Desktop\\ML Models\\DBSCAN and HDBSCAN.pptx\n",
      "Location:  C:\\Users\\KEERTHI\\Desktop\\ML Models\\Jupyter CheatSheet.pptx\n"
     ]
    }
   ],
   "source": [
    "import os\n",
    "import shutil\n",
    "\n",
    "source_path = \"C:\\\\Users\\KEERTHI\\Desktop\\ML Models\"\n",
    "target_path = \"E:\\\\Thiru\\iNeuron\"\n",
    "\n",
    "# Search the folder, subfolder and file names in the input path\n",
    "for folderName, subfolders, filenames in os.walk(source_path):\n",
    "    for filename in filenames:\n",
    "        if filename.endswith('.pptx'):\n",
    "            doc_path=os.path.join(folderName,filename)\n",
    "            print('Location: ',doc_path)\n",
    "            shutil.copy(doc_path,target_path)"
   ]
  },
  {
   "cell_type": "markdown",
   "id": "d2340d5a",
   "metadata": {},
   "source": [
    "***"
   ]
  }
 ],
 "metadata": {
  "kernelspec": {
   "display_name": "Python 3",
   "language": "python",
   "name": "python3"
  },
  "language_info": {
   "codemirror_mode": {
    "name": "ipython",
    "version": 3
   },
   "file_extension": ".py",
   "mimetype": "text/x-python",
   "name": "python",
   "nbconvert_exporter": "python",
   "pygments_lexer": "ipython3",
   "version": "3.8.8"
  }
 },
 "nbformat": 4,
 "nbformat_minor": 5
}
