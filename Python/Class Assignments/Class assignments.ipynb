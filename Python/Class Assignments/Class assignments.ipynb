{
 "cells": [
  {
   "cell_type": "code",
   "execution_count": 1,
   "id": "513864b1",
   "metadata": {},
   "outputs": [],
   "source": [
    "# 1. you have to write a fun which will take string and return a len of it without using a inbuilt fun len\n",
    "# 2. write a fun which will be able to print an index of all premitive element which you will pass \n",
    "# 3. Write a fun which will take input as a dict and give me out as a list of all the values even in case of 2 level nesting it should work . \n",
    "# 4. write a fun which will take another function as an input and return me an output \n",
    "# 5. write a function whihc will take multiple list as a input and give me concatnation of all the element as and output \n",
    "# 6. write a function which will be able to take a list as an input return an index of each element like a inbuilt index function but even if we have repetative element it should return index \n",
    "# 7. Write a function which will whould return list of all the file name from a directory . \n",
    "# 8. write a function which will be able to show your system configuration . \n",
    "# 9. write a function which will be able to show date and time  . \n",
    "# 10. write a function whihc will be able to read a image file and show it to you .\n",
    "# 11. write a function which can read video file and play for you . \n",
    "# 12. write a function whihc can move a file from one directory to another directory . \n",
    "# 13. write a function which will be able to shutdonw your system . \n",
    "# 14. write a function whihc will be able to access your mail . \n",
    "# 15. write a func bywhcih i can send a mail to anyone \n",
    "# 16. write a func to read a complete PDf file . \n",
    "# 17. write a function to read a word file . \n",
    "# 18. write a function which can help you to filter only word file from a directory . \n",
    "# 19. write a function by which you can print an ip address of your system . \n",
    "# 20. write a function by whihc you will be able to append two PDF files . "
   ]
  },
  {
   "cell_type": "markdown",
   "id": "a2bef511",
   "metadata": {},
   "source": [
    "**1. Write a fun which will take string and return a len of it without using a in-built function (len)**"
   ]
  },
  {
   "cell_type": "code",
   "execution_count": 1,
   "id": "8c7776b0",
   "metadata": {},
   "outputs": [],
   "source": [
    "def findStrLength(inp_str):\n",
    "    \"\"\" Returns the length of the input string without using any in-build functions\"\"\"\n",
    "    if type(inp_str) == str:\n",
    "        strlen = 0\n",
    "        for _ in inp_str:\n",
    "            strlen += 1\n",
    "    \n",
    "    return strlen"
   ]
  },
  {
   "cell_type": "code",
   "execution_count": 2,
   "id": "454f0bd2",
   "metadata": {},
   "outputs": [
    {
     "data": {
      "text/plain": [
       "11"
      ]
     },
     "execution_count": 2,
     "metadata": {},
     "output_type": "execute_result"
    }
   ],
   "source": [
    "findStrLength(\"Hello World\")"
   ]
  },
  {
   "cell_type": "markdown",
   "id": "4ecf0f70",
   "metadata": {},
   "source": [
    "**2. Write a fun which will be able to print an index of all premitive element which you will pass**"
   ]
  },
  {
   "cell_type": "code",
   "execution_count": 20,
   "id": "81682f9b",
   "metadata": {},
   "outputs": [],
   "source": [
    "def findIndex(pass_element):\n",
    "    \"\"\" Prints the index of all premitive elements passed from main\n",
    "    The input for this method includes list, tuple or string\"\"\"\n",
    "    \n",
    "    for (i, item) in enumerate(pass_element):\n",
    "        print(f\"The index of '{item}' is {i}\")"
   ]
  },
  {
   "cell_type": "code",
   "execution_count": 22,
   "id": "7b8de476",
   "metadata": {},
   "outputs": [
    {
     "name": "stdout",
     "output_type": "stream",
     "text": [
      "The index of 'thiru' is 0\n",
      "The index of '40' is 1\n",
      "The index of '85.5' is 2\n",
      "The index of '28' is 3\n"
     ]
    }
   ],
   "source": [
    "findIndex([\"thiru\", 40, 85.5, 28])"
   ]
  },
  {
   "cell_type": "markdown",
   "id": "1dab92e2",
   "metadata": {},
   "source": [
    "**3. Write a fun which will take input as a dict and give the output as a list of all the values. Even in case of 2 level nesting it should work**"
   ]
  },
  {
   "cell_type": "markdown",
   "id": "45b4c9fe",
   "metadata": {},
   "source": [
    "**4. write a fun which will take another function as an input and return me an output**"
   ]
  },
  {
   "cell_type": "code",
   "execution_count": 9,
   "id": "a6b5ee74",
   "metadata": {},
   "outputs": [],
   "source": [
    "def convDictToList(inp_dict):\n",
    "    \"\"\" This function takes nested dictionaries (at any level) as an input and retrieves the dictionary values\n",
    "    and give them in a single list\"\"\"\n",
    "    \n",
    "    result=[]\n",
    "    for item in inp_dict.values():\n",
    "        if type(item) == dict:\n",
    "            result.extend(convDictToList(item))\n",
    "        elif type(item) == int or float or str:\n",
    "            result.append(item)\n",
    "        else:\n",
    "            print(\"Invalid premitive type found in input dictionary\")\n",
    "    return result"
   ]
  },
  {
   "cell_type": "code",
   "execution_count": 10,
   "id": "9b212114",
   "metadata": {},
   "outputs": [
    {
     "name": "stdout",
     "output_type": "stream",
     "text": [
      "['Emil', 60, 'Joe', 52, 'ravi', 32, 'goms', 29, 'suhi', 5, 'thiru', 6]\n"
     ]
    }
   ],
   "source": [
    "myfamily = {\n",
    "    \"dad\" : {\"name\" : \"Emil\", \"age\" : 60},\n",
    "    \"mom\" : {\"name\" : \"Joe\", \"age\": 52},\n",
    "    \"bro\" : {\"name\" : \"ravi\", \"age\": 32,\n",
    "            \"wife\" : {\"name\": \"goms\", \"age\":29},\n",
    "             \"daughter\" : {\"name\": \"suhi\", \"age\": 5}\n",
    "            },\n",
    "    \"myself\": \"thiru\",\n",
    "    \"total_persons\" : 6\n",
    "}\n",
    "\n",
    "result_list = convDictToList(myfamily)\n",
    "print(result_list)"
   ]
  },
  {
   "cell_type": "markdown",
   "id": "6eaacd52",
   "metadata": {},
   "source": [
    "**5. write a function whihc will take multiple list as a input and give me concatnation of all the element as an output**"
   ]
  },
  {
   "cell_type": "code",
   "execution_count": 67,
   "id": "3bf4c681",
   "metadata": {},
   "outputs": [],
   "source": [
    "def listConcatenate(list1, list2, list3):\n",
    "    \"\"\" This is a simple function which takes exactly 3 arguments as inputs (only lists) and \n",
    "    returns the concatenated list\"\"\"\n",
    "    \n",
    "    return list1 + list2 + list3"
   ]
  },
  {
   "cell_type": "code",
   "execution_count": 68,
   "id": "3f164bd6",
   "metadata": {},
   "outputs": [
    {
     "name": "stdout",
     "output_type": "stream",
     "text": [
      "['Scores:', 10, 20, 30, 40, 50, 60, 70, 80, 90, 100]\n"
     ]
    }
   ],
   "source": [
    "list1 = [\"Scores:\"]\n",
    "list2 = [10, 20, 30, 40, 50, 60, 70]\n",
    "list3 = [80, 90, 100]\n",
    "print(listConcatenate(list1, list2, list3))"
   ]
  },
  {
   "cell_type": "markdown",
   "id": "b9926102",
   "metadata": {},
   "source": [
    "**6. write a function which will be able to take a list as an input and return an index of each element like a in-built index function but even if we have repetative element it should return index**"
   ]
  },
  {
   "cell_type": "code",
   "execution_count": 71,
   "id": "54b0b5c4",
   "metadata": {},
   "outputs": [],
   "source": [
    "def printListIndex(inp_list):\n",
    "    \"\"\" Prints the index of all elements in a list even if there is repetative element in it.\n",
    "    The input for this method is list\"\"\"\n",
    "    \n",
    "    for (i, item) in enumerate(inp_list):\n",
    "        print(f\"The index of '{item}' is {i}\")"
   ]
  },
  {
   "cell_type": "code",
   "execution_count": 72,
   "id": "f2719997",
   "metadata": {},
   "outputs": [
    {
     "name": "stdout",
     "output_type": "stream",
     "text": [
      "The index of '10' is 0\n",
      "The index of '20' is 1\n",
      "The index of '10' is 2\n",
      "The index of '30' is 3\n"
     ]
    }
   ],
   "source": [
    "list1 = [10, 20, 10, 30]\n",
    "printListIndex(list1)"
   ]
  },
  {
   "cell_type": "markdown",
   "id": "929c329f",
   "metadata": {},
   "source": [
    "**7. Write a function which would return list of all the file name from a directory**"
   ]
  },
  {
   "cell_type": "code",
   "execution_count": 78,
   "id": "f96a2c03",
   "metadata": {},
   "outputs": [],
   "source": [
    "def findFilesInDirectory(path):\n",
    "    \"\"\" This function is related to Windows OS which takes certain directory/path as an argument and \n",
    "    returns the list of file names under that directory/path\"\"\"\n",
    "    \n",
    "    import os\n",
    "    return os.listdir(path)"
   ]
  },
  {
   "cell_type": "code",
   "execution_count": 82,
   "id": "2166a218",
   "metadata": {},
   "outputs": [
    {
     "name": "stdout",
     "output_type": "stream",
     "text": [
      "Files and directories in C:\\Users\\KEERTHI\\Desktop\\ML Models\\iNueron:\n",
      " ['.ipynb_checkpoints', 'Assignments', 'Basics - Functions.ipynb', 'Basics of Dictionary.ipynb', 'Basics of Sets.ipynb', 'Basics of Tuples.ipynb', 'Exercises.ipynb']\n"
     ]
    }
   ],
   "source": [
    "path = \"C:\\\\Users\\KEERTHI\\Desktop\\ML Models\\iNueron\"\n",
    "print(f\"Files and directories in {path}:\\n {findFilesInDirectory(path)}\")"
   ]
  },
  {
   "cell_type": "markdown",
   "id": "76165ab6",
   "metadata": {},
   "source": [
    "**8. write a function which will be able to show your system configuration.**"
   ]
  },
  {
   "cell_type": "code",
   "execution_count": 90,
   "id": "3b72d0c0",
   "metadata": {},
   "outputs": [],
   "source": [
    "def getSystemConfig():\n",
    "    \"\"\" This function will return the system configuration details and takes no argument\"\"\"\n",
    "    \n",
    "    import platform\n",
    "\n",
    "    print(\"=\"*20, \"System Information\", \"=\"*20)\n",
    "    uname = platform.uname()\n",
    "    print(f\"System: {uname.system}\")\n",
    "    print(f\"Node Name: {uname.node}\")\n",
    "    print(f\"Release: {uname.release}\")\n",
    "    print(f\"Version: {uname.version}\")\n",
    "    print(f\"Machine: {uname.machine}\")\n",
    "    print(f\"Processor: {uname.processor}\")\n",
    "    print(f\"Architecture: {platform.architecture()}\")"
   ]
  },
  {
   "cell_type": "code",
   "execution_count": 91,
   "id": "1d54624b",
   "metadata": {},
   "outputs": [
    {
     "name": "stdout",
     "output_type": "stream",
     "text": [
      "==================== System Information ====================\n",
      "System: Windows\n",
      "Node Name: KEERTHI-PC\n",
      "Release: 7\n",
      "Version: 6.1.7601\n",
      "Machine: AMD64\n",
      "Processor: Intel64 Family 6 Model 58 Stepping 9, GenuineIntel\n",
      "Architecture: ('64bit', 'WindowsPE')\n"
     ]
    }
   ],
   "source": [
    "getSystemConfig()"
   ]
  },
  {
   "cell_type": "markdown",
   "id": "64d068de",
   "metadata": {},
   "source": [
    "**9. write a function which will be able to show date and time**"
   ]
  },
  {
   "cell_type": "code",
   "execution_count": 6,
   "id": "9f8d3644",
   "metadata": {},
   "outputs": [],
   "source": [
    "def getDateTime():\n",
    "    \"\"\" Prints the current date and time and takes no argument\"\"\"\n",
    "    from datetime import datetime\n",
    "    print(datetime.now())"
   ]
  },
  {
   "cell_type": "code",
   "execution_count": 7,
   "id": "dae387d6",
   "metadata": {},
   "outputs": [
    {
     "name": "stdout",
     "output_type": "stream",
     "text": [
      "2022-01-03 19:25:53.349926\n"
     ]
    }
   ],
   "source": [
    "getDateTime()"
   ]
  },
  {
   "cell_type": "markdown",
   "id": "f58970d6",
   "metadata": {},
   "source": [
    "**10. write a function whihc will be able to read a image file and show it to you.**"
   ]
  },
  {
   "cell_type": "code",
   "execution_count": 38,
   "id": "f89a3c45",
   "metadata": {},
   "outputs": [],
   "source": [
    "def dispSingleImages(path):\n",
    "    \"\"\" This function will display the image which is located in the input path/location \"\"\"\n",
    "    \n",
    "    from PIL import Image\n",
    "    img = Image.open(path)\n",
    "    img.show()\n",
    "    \n",
    "def dispMultiImages(path):\n",
    "    \"\"\" This function will display all the images which are located in the input path/location \"\"\"\n",
    "    \n",
    "    from PIL import Image\n",
    "    from os import listdir\n",
    "    \n",
    "    image_list = listdir(path)\n",
    "    loaded_images = []\n",
    "    for image in image_list:\n",
    "        if image.endswith(\".jpg\" or \".jpeg\" or \".png\"):\n",
    "            img = Image.open(path + image)\n",
    "            img.show()"
   ]
  },
  {
   "cell_type": "code",
   "execution_count": 30,
   "id": "fd5ade38",
   "metadata": {},
   "outputs": [],
   "source": [
    "path='D:\\\\Photos\\Camera\\\\20160822_164424.jpg'\n",
    "dispSingleImages(path)"
   ]
  },
  {
   "cell_type": "code",
   "execution_count": 41,
   "id": "0b65b623",
   "metadata": {},
   "outputs": [],
   "source": [
    "path = 'C:\\\\Users\\KEERTHI\\Desktop\\ML Models\\iNueron\\Assignments\\Sudhanshu\\Docs\\\\'\n",
    "dispMultiImages(path)"
   ]
  },
  {
   "cell_type": "markdown",
   "id": "43eaa331",
   "metadata": {},
   "source": [
    "**11. Write a function which can read video file and play for you**"
   ]
  },
  {
   "cell_type": "code",
   "execution_count": 7,
   "id": "d760d486",
   "metadata": {},
   "outputs": [],
   "source": [
    "def playSingleVideo(path):\n",
    "    \"\"\" This function will play the video file which is located in the input path/location \"\"\"\n",
    "    \n",
    "    from os import startfile\n",
    "    startfile(path)"
   ]
  },
  {
   "cell_type": "code",
   "execution_count": 8,
   "id": "5954af62",
   "metadata": {},
   "outputs": [],
   "source": [
    "path = 'C:\\\\Users\\KEERTHI\\Desktop\\ML Models\\iNueron\\Assignments\\Sudhanshu\\Docs\\\\video.mp4'\n",
    "playSingleVideo(path)"
   ]
  },
  {
   "cell_type": "markdown",
   "id": "9353b238",
   "metadata": {},
   "source": [
    "**12. write a function which can move a file from one directory to another directory**"
   ]
  },
  {
   "cell_type": "code",
   "execution_count": 46,
   "id": "562d27fe",
   "metadata": {},
   "outputs": [],
   "source": [
    "def moveFileToTarget(source_file, target_path):\n",
    "    \"\"\" This function will move the file from one location/directory to target location/directory \n",
    "    It takes source file path and target directory as arguments\"\"\"\n",
    "    \n",
    "    import shutil\n",
    "    shutil.move(source_file, target_path)"
   ]
  },
  {
   "cell_type": "code",
   "execution_count": 49,
   "id": "0789ff62",
   "metadata": {},
   "outputs": [],
   "source": [
    "source_file = \"D:\\\\Photos\\Camera\\\\new.jpg\"\n",
    "target_path = \"C:\\\\Users\\KEERTHI\\Desktop\\ML Models\\iNueron\\Assignments\\Sudhanshu\\Docs\"\n",
    "moveFileToTarget(source_file, target_path)"
   ]
  },
  {
   "cell_type": "markdown",
   "id": "86ab214b",
   "metadata": {},
   "source": [
    "**13. Write a function which will be able to shutdown your system.**"
   ]
  },
  {
   "cell_type": "code",
   "execution_count": 33,
   "id": "257ae75f",
   "metadata": {},
   "outputs": [],
   "source": [
    "def shutdownSystemNow():\n",
    "    \"\"\" This function will shutdown the computer immediately \"\"\"\n",
    "    \n",
    "    import subprocess\n",
    "    subprocess.run([\"shutdown\", \"-s\"])"
   ]
  },
  {
   "cell_type": "code",
   "execution_count": null,
   "id": "6b2810dc",
   "metadata": {},
   "outputs": [],
   "source": [
    "shutdownSystemNow()"
   ]
  },
  {
   "cell_type": "markdown",
   "id": "29dc7ff8",
   "metadata": {},
   "source": [
    "**14. write a function which will be able to access your mail**"
   ]
  },
  {
   "cell_type": "code",
   "execution_count": 70,
   "id": "e8e159ed",
   "metadata": {},
   "outputs": [],
   "source": [
    "def accessMail(imap_user, imap_pass):\n",
    "    \"\"\" This function will access the gmail account using IMAP protocol. \"\"\"\n",
    "    import imaplib\n",
    "    import email\n",
    "\n",
    "    imap_host = 'imap.gmail.com'\n",
    "\n",
    "    mail = imaplib.IMAP4_SSL(imap_host)\n",
    "    mail.login(imap_user , imap_pass)\n",
    "\n",
    "    status, response = mail.status('INBOX', \"(UNSEEN)\")\n",
    "    if status == 'OK':\n",
    "        print(\"Gmail authendication success\")\n",
    "        mail.select('inbox')\n",
    "        \n",
    "        _, selected_mails = mail.search(None, '(FROM \"noreply@analyticsvidhya.com\")')\n",
    "    \n",
    "        for num in selected_mails[0].split():\n",
    "            _, data = mail.fetch(num , '(RFC822)')\n",
    "            _, bytes_data = data[0]\n",
    "            \n",
    "            #convert the byte data to message\n",
    "            email_message = email.message_from_bytes(bytes_data)\n",
    "    \n",
    "            print(\"\\n===========================================\")\n",
    "            \n",
    "            #access data\n",
    "            print(\"Subject: \",email_message[\"subject\"])\n",
    "            print(\"To:\", email_message[\"to\"])\n",
    "            print(\"From: \",email_message[\"from\"])\n",
    "            print(\"Date: \",email_message[\"date\"])\n",
    "#             for part in email_message.walk():\n",
    "#                 if part.get_content_type()==\"text/plain\" or part.get_content_type()==\"text/html\":\n",
    "#                     message = part.get_payload(decode=True)\n",
    "#                     print(\"Message: \\n\", message.decode())\n",
    "#                     print(\"==========================================\\n\")\n",
    "#                     break\n",
    "    else:\n",
    "        print(\"There is a problem in accessing the gmail. Please check the credentials\")"
   ]
  },
  {
   "cell_type": "code",
   "execution_count": 71,
   "id": "dcacb09b",
   "metadata": {},
   "outputs": [
    {
     "name": "stdout",
     "output_type": "stream",
     "text": [
      "Gmail authendication success\n",
      "\n",
      "===========================================\n",
      "Subject:  Analytics Vidhya | Thank you for registering in Time Series\n",
      " Forecasting\n",
      "To: thirumoorthiksr@gmail.com\n",
      "From:  noreply@analyticsvidhya.com\n",
      "Date:  Wed, 1 Sep 2021 15:36:55 +0000\n"
     ]
    }
   ],
   "source": [
    "mail_user = 'thirumoorthiksr@gmail.com'\n",
    "mail_pass = '******'\n",
    "\n",
    "accessMail(mail_user, mail_pass)"
   ]
  },
  {
   "cell_type": "markdown",
   "id": "e28b2c9f",
   "metadata": {},
   "source": [
    "**15. Write a function by whcih i can send a mail to anyone**"
   ]
  },
  {
   "cell_type": "code",
   "execution_count": 20,
   "id": "bc446708",
   "metadata": {},
   "outputs": [],
   "source": [
    "def sendMail(smtp_recv, subject, message):\n",
    "    \"\"\" This function will send the email message to the recepient using SMTP protocol with port# 587\"\"\"\n",
    "\n",
    "    import smtplib\n",
    "    \n",
    "    smtp_user = 'thirumoorthiksr@gmail.com'\n",
    "    smtp_pass = '*******'\n",
    "    smtp_host = 'smtp.gmail.com'\n",
    "    smtp_port = 587\n",
    "\n",
    "    smtp_obj = smtplib.SMTP(smtp_host, smtp_port)\n",
    "    smtp_obj.starttls()\n",
    "    smtp_obj.login(smtp_user, smtp_pass)\n",
    "\n",
    "    email_content = f\"Subject:{subject}\\n\\n {message}\"\n",
    "    smtp_obj.sendmail(smtp_user, smtp_recv, email_content)\n",
    "    smtp_obj.quit()\n",
    "    print(\"Mail send!!\")"
   ]
  },
  {
   "cell_type": "code",
   "execution_count": 22,
   "id": "e5c1abe1",
   "metadata": {},
   "outputs": [
    {
     "name": "stdout",
     "output_type": "stream",
     "text": [
      "Mail send!!\n"
     ]
    }
   ],
   "source": [
    "smtp_recv = 'mvkirthi2091@gmail.com'\n",
    "message = \"Hey.. This is a test email to check my new Python program\"\n",
    "subject = \"TEST EMAIL\"\n",
    "\n",
    "sendMail(smtp_recv, subject, message)"
   ]
  },
  {
   "attachments": {
    "image.png": {
     "image/png": "[encoded data removed]"
    }
   },
   "cell_type": "markdown",
   "id": "b0857888",
   "metadata": {},
   "source": [
    "![image.png](attachment:image.png)"
   ]
  },
  {
   "cell_type": "markdown",
   "id": "08360ae3",
   "metadata": {},
   "source": [
    "**16. Write a function to read a complete PDf file.**"
   ]
  },
  {
   "cell_type": "code",
   "execution_count": 18,
   "id": "a05b1091",
   "metadata": {},
   "outputs": [],
   "source": [
    "def readSimplePDF(PATH):\n",
    "    \"\"\" This function reads the simple PDF file and extract the Text information and prints them in the console.\n",
    "    Each page is displayed in a new line. Images and Table data are not be supported in this function.\n",
    "    \"\"\"\n",
    "    \n",
    "    import PyPDF2 as pdf\n",
    "    file=open(PATH, 'rb')\n",
    "    reader = pdf.PdfFileReader(file)\n",
    "    for page in range(reader.numPages):\n",
    "        page_read = reader.getPage(page)\n",
    "        page_content = page_read.extractText()\n",
    "        print(f\"Page: {page+1} \\n {page_content}\")"
   ]
  },
  {
   "cell_type": "code",
   "execution_count": 19,
   "id": "6cc26b6e",
   "metadata": {},
   "outputs": [
    {
     "name": "stdout",
     "output_type": "stream",
     "text": [
      "Page: 1 \n",
      "  A Simple PDF File  This is a small demonstration .pdf file -  just for use in the Virtual Mechanics tutorials. More text. And more  text. And more text. And more text. And more text.  And more text. And more text. And more text. And more text. And more  text. And more text. Boring, zzzzz. And more text. And more text. And  more text. And more text. And more text. And more text. And more text.  And more text. And more text.  And more text. And more text. And more text. And more text. And more  text. And more text. And more text. Even more. Continued on page 2 ...\n",
      "Page: 2 \n",
      "  Simple PDF File 2  ...continued from page 1. Yet more text. And more text. And more text.  And more text. And more text. And more text. And more text. And more  text. Oh, how boring typing this stuff. But not as boring as watching  paint dry. And more text. And more text. And more text. And more text.  Boring.  More, a little more text. The end, and just as well. \n"
     ]
    }
   ],
   "source": [
    "PATH = \"C:\\\\Users\\KEERTHI\\Desktop\\ML Models\\iNueron\\Assignments\\Sudhanshu\\Photos\\sample.pdf\"\n",
    "readSimplePDF(PATH)"
   ]
  },
  {
   "cell_type": "markdown",
   "id": "102e5f0a",
   "metadata": {},
   "source": [
    "**17. Write a function to read a word file**"
   ]
  },
  {
   "cell_type": "code",
   "execution_count": 5,
   "id": "158e3d02",
   "metadata": {},
   "outputs": [],
   "source": [
    "def readSimpleWordDoc(PATH):\n",
    "    \"\"\" This function reads the simple word document and extract the Text information and prints them in the console.\n",
    "    Each page is displayed in a new line. Images and Table data are not be supported in this function. It cannot read .doc files\n",
    "    \"\"\"\n",
    "    \n",
    "    import docx2txt\n",
    "    my_text = docx2txt.process(PATH)\n",
    "    print(my_text)"
   ]
  },
  {
   "cell_type": "code",
   "execution_count": 6,
   "id": "8837f31f",
   "metadata": {},
   "outputs": [
    {
     "name": "stdout",
     "output_type": "stream",
     "text": [
      "Beautiful is better than ugly.\n",
      "\n",
      "Explicit is better than implicit.\n",
      "\n",
      "Simple is better than complex.\n",
      "\n",
      "Complex is better than complicated.\n",
      "\n",
      "Flat is better than nested.\n",
      "\n",
      "Sparse is better than dense.\n",
      "\n",
      "Readability counts.\n",
      "\n",
      "Special cases aren't special enough to break the rules.\n",
      "\n",
      "Although practicality beats purity.\n",
      "\n",
      "Errors should never pass silently.\n",
      "\n",
      "Unless explicitly silenced.\n",
      "\n",
      "In the face of ambiguity, refuse the temptation to guess.\n",
      "\n",
      "There should be one-- and preferably only one --obvious way to do it.\n",
      "\n",
      "Although that way may not be obvious at first unless you're Dutch.\n",
      "\n",
      "Now is better than never.\n",
      "\n",
      "Although never is often better than *right* now.\n",
      "\n",
      "If the implementation is hard to explain, it's a bad idea.\n",
      "\n",
      "If the implementation is easy to explain, it may be a good idea.\n",
      "\n",
      "Namespaces are one honking great idea -- let's do more of those!\n"
     ]
    }
   ],
   "source": [
    "PATH = \"C:\\\\Users\\KEERTHI\\Desktop\\ML Models\\iNueron\\Assignments\\Sudhanshu\\Photos\\sample.docx\"\n",
    "readSimpleWordDoc(PATH)"
   ]
  },
  {
   "cell_type": "markdown",
   "id": "98fb8e7f",
   "metadata": {},
   "source": [
    "**18. Write a function which can help you to filter only word file from a directory**"
   ]
  },
  {
   "cell_type": "code",
   "execution_count": 11,
   "id": "0bc5b830",
   "metadata": {},
   "outputs": [],
   "source": [
    "def listDocFilesInDirectory(PATH):\n",
    "    \"\"\" This function will list down all the word documents in the input directory \"\"\"\n",
    "    \n",
    "    import os\n",
    "    for file in os.listdir(PATH):\n",
    "        if file.endswith(\".docx\"):\n",
    "            print(file)"
   ]
  },
  {
   "cell_type": "code",
   "execution_count": 12,
   "id": "40f88b17",
   "metadata": {},
   "outputs": [
    {
     "name": "stdout",
     "output_type": "stream",
     "text": [
      "sample.docx\n"
     ]
    }
   ],
   "source": [
    "dir = \"C:\\\\Users\\KEERTHI\\Desktop\\ML Models\\iNueron\\Assignments\\Sudhanshu\\Photos\\\\\" \n",
    "listDocFilesInDirectory(dir)"
   ]
  },
  {
   "cell_type": "markdown",
   "id": "b5210822",
   "metadata": {},
   "source": [
    "**19. Write a function by which you can print an ip address of your system.**"
   ]
  },
  {
   "cell_type": "code",
   "execution_count": 3,
   "id": "55f31604",
   "metadata": {},
   "outputs": [],
   "source": [
    "def printIpAddress():\n",
    "    \"\"\" This function prints the Host name and IP address of the client from where it is being called \"\"\"\n",
    "\n",
    "    import socket\n",
    "    hostname = socket.gethostname()\n",
    "    ip_address = socket.gethostbyname(hostname)\n",
    "     \n",
    "    print(f\"Hostname: {hostname}\")\n",
    "    print(f\"IP Address: {ip_address}\")"
   ]
  },
  {
   "cell_type": "code",
   "execution_count": 4,
   "id": "754485f1",
   "metadata": {},
   "outputs": [
    {
     "name": "stdout",
     "output_type": "stream",
     "text": [
      "Hostname: KEERTHI-PC\n",
      "IP Address: 192.168.225.241\n"
     ]
    }
   ],
   "source": [
    "printIpAddress()"
   ]
  },
  {
   "cell_type": "markdown",
   "id": "b72e99bc",
   "metadata": {},
   "source": [
    "**20. Write a function by which you will be able to append two PDF files**"
   ]
  },
  {
   "cell_type": "code",
   "execution_count": 20,
   "id": "4a07f1df",
   "metadata": {},
   "outputs": [],
   "source": [
    "def mergeTwoPDF(pdf1_path, pdf2_path, outfile_path):\n",
    "    \"\"\" This function will take 3 arguments out of which first 2 specifies the \n",
    "    location of 2 PDF file locations and the third one represents the result file or merged file location\"\"\"\n",
    "    \n",
    "    from PyPDF2 import PdfFileMerger\n",
    "    files = [pdf1_path, pdf2_path]\n",
    "    merger = PdfFileMerger()\n",
    "    for pdf in files:\n",
    "        merger.append(open(pdf, 'rb'))\n",
    "    with open(outfile_path, \"wb\") as fileout:\n",
    "        merger.write(fileout)"
   ]
  },
  {
   "cell_type": "code",
   "execution_count": 23,
   "id": "330584be",
   "metadata": {},
   "outputs": [],
   "source": [
    "pdf1_path = \"C:\\\\Users\\KEERTHI\\Desktop\\ML Models\\iNueron\\Assignments\\Sudhanshu\\Docs\\sample1.pdf\"\n",
    "pdf2_path = \"C:\\\\Users\\KEERTHI\\Desktop\\ML Models\\iNueron\\Assignments\\Sudhanshu\\Docs\\sample2.pdf\"\n",
    "outfile_path = \"C:\\\\Users\\KEERTHI\\Desktop\\ML Models\\iNueron\\Assignments\\Sudhanshu\\Docs\\\\result.pdf\"\n",
    "\n",
    "mergeTwoPDF(pdf1_path, pdf2_path, outfile_path)"
   ]
  },
  {
   "cell_type": "code",
   "execution_count": null,
   "id": "4f836c4f",
   "metadata": {},
   "outputs": [],
   "source": []
  }
 ],
 "metadata": {
  "kernelspec": {
   "display_name": "Python 3",
   "language": "python",
   "name": "python3"
  },
  "language_info": {
   "codemirror_mode": {
    "name": "ipython",
    "version": 3
   },
   "file_extension": ".py",
   "mimetype": "text/x-python",
   "name": "python",
   "nbconvert_exporter": "python",
   "pygments_lexer": "ipython3",
   "version": "3.8.8"
  }
 },
 "nbformat": 4,
 "nbformat_minor": 5
}
